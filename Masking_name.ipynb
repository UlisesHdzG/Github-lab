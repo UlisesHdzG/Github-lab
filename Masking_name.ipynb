{
  "cells": [
    {
      "cell_type": "code",
      "execution_count": 1,
      "metadata": {
        "colab": {
          "base_uri": "https://localhost:8080/"
        },
        "id": "onnn9jCZYVym",
        "outputId": "ad7cfb2b-f741-4ee3-eb9a-6f3ec7dae1a6"
      },
      "outputs": [
        {
          "output_type": "stream",
          "name": "stdout",
          "text": [
            "Mounted at /content/drive\n"
          ]
        }
      ],
      "source": [
        "from google.colab import drive\n",
        "drive.mount('/content/drive')"
      ]
    },
    {
      "cell_type": "code",
      "execution_count": 2,
      "metadata": {
        "id": "xS-EWERFYrRU"
      },
      "outputs": [],
      "source": [
        "data_path = \"/content/drive/MyDrive/Capstone/Table/\""
      ]
    },
    {
      "cell_type": "code",
      "execution_count": 3,
      "metadata": {
        "id": "7T2Xrje_qkjc"
      },
      "outputs": [],
      "source": [
        "import pandas as pd\n",
        "import numpy as np\n",
        "import matplotlib.pyplot as plt\n",
        "%matplotlib inline\n",
        "from nltk.corpus import stopwords\n",
        "from wordcloud import WordCloud\n",
        "from nltk import word_tokenize, sent_tokenize\n",
        "from nltk.tokenize import word_tokenize\n",
        "from nltk.tokenize import sent_tokenize\n",
        "from nltk.stem import WordNetLemmatizer \n",
        "import string\n",
        "import re\n",
        "import nltk\n",
        "\n",
        "import spacy"
      ]
    },
    {
      "cell_type": "code",
      "execution_count": 4,
      "metadata": {
        "id": "Xt80ucFpY6NS"
      },
      "outputs": [],
      "source": [
        "df = pd.read_csv(data_path+\"LDA3_emails_assignments.csv\")\n",
        "df1 = pd.read_csv(data_path+\"data_splited_3.csv\")"
      ]
    },
    {
      "cell_type": "markdown",
      "source": [
        "## Sample"
      ],
      "metadata": {
        "id": "35RkqxNYqkzZ"
      }
    },
    {
      "cell_type": "code",
      "source": [
        "df1"
      ],
      "metadata": {
        "colab": {
          "base_uri": "https://localhost:8080/",
          "height": 485
        },
        "id": "zQ5de6q0_jEi",
        "outputId": "371a3cf1-c9cd-40f7-c083-0fde9196e0e5"
      },
      "execution_count": null,
      "outputs": [
        {
          "output_type": "execute_result",
          "data": {
            "text/plain": [
              "        Unnamed: 0  Unnamed: 0.1                     email_id  \\\n",
              "0                0             0    allen-p\\all_documents\\1#1   \n",
              "1                1             1   allen-p\\all_documents\\10#1   \n",
              "2                2             2  allen-p\\all_documents\\100#1   \n",
              "3                4             4  allen-p\\all_documents\\100#3   \n",
              "4               11            11  allen-p\\all_documents\\104#2   \n",
              "...            ...           ...                          ...   \n",
              "364181      123313        123313   zufferli-j\\sent_items\\85#1   \n",
              "364182      123314        123314   zufferli-j\\sent_items\\86#3   \n",
              "364183      123317        123317   zufferli-j\\sent_items\\93#1   \n",
              "364184      123318        123318   zufferli-j\\sent_items\\95#1   \n",
              "364185      123319        123319   zufferli-j\\sent_items\\98#1   \n",
              "\n",
              "                                                  subject  \\\n",
              "0       December 14, 2000 - Bear Stearns' predictions ...   \n",
              "1                            Bloomberg Power Lines Report   \n",
              "2             Consolidated positions: Issues & To Do list   \n",
              "3             Consolidated positions: Issues & To Do list   \n",
              "4                    Var, Reporting and Resources Meeting   \n",
              "...                                                   ...   \n",
              "364181  Generation Maintenance Planning and Related Is...   \n",
              "364182                                          RE: hello   \n",
              "364183                                              Hello   \n",
              "364184                           Trade with John Lavorato   \n",
              "364185                          Calgary Analyst/Associate   \n",
              "\n",
              "                                                    email  \\\n",
              "0       In today's Daily Update you'll find free repor...   \n",
              "1       Here is today's copy of Bloomberg Power Lines....   \n",
              "2       From our initial set of meetings with the trad...   \n",
              "3                                                           \n",
              "4                                                           \n",
              "...                                                   ...   \n",
              "364181  \\t\\t>                 You, or a representative...   \n",
              "364182  going great.  Even the weather has been record...   \n",
              "364183  Good to hear your voice again, old buddy.  I'm...   \n",
              "364184  This is a trade with OIL-SPEC-HEDGE-NG (John L...   \n",
              "364185  Analyst\\t\\t\\t\\t\\tRank\\n\\nStephane Brodeur\\t\\t\\...   \n",
              "\n",
              "                                               clean_body  \\\n",
              "0       today daily update find free report america on...   \n",
              "1       today copy bloomberg power lines adobe acrobat...   \n",
              "2       initial set meeting trader regarding consolida...   \n",
              "3                                                     NaN   \n",
              "4                                                     NaN   \n",
              "...                                                   ...   \n",
              "364181  representative organization invited attend mee...   \n",
              "364182  going great even weather record warm think hap...   \n",
              "364183  good hear voice old buddy happy hear jessica b...   \n",
              "364184  trade oilspechedgeng john lavorato book john z...   \n",
              "364185  analyst rank stephane brodeur chad clark ian c...   \n",
              "\n",
              "                                            clean_subject  \n",
              "0       december 2000 bear stearns prediction telecom ...  \n",
              "1                            bloomberg power lines report  \n",
              "2                       consolidated position issues list  \n",
              "3                       consolidated position issues list  \n",
              "4                         var reporting resources meeting  \n",
              "...                                                   ...  \n",
              "364181  generation maintenance planning related issues...  \n",
              "364182                                              hello  \n",
              "364183                                              hello  \n",
              "364184                                trade john lavorato  \n",
              "364185                           calgary analystassociate  \n",
              "\n",
              "[364186 rows x 7 columns]"
            ],
            "text/html": [
              "\n",
              "  <div id=\"df-59ed5933-e083-4ffc-9579-310155092dbf\">\n",
              "    <div class=\"colab-df-container\">\n",
              "      <div>\n",
              "<style scoped>\n",
              "    .dataframe tbody tr th:only-of-type {\n",
              "        vertical-align: middle;\n",
              "    }\n",
              "\n",
              "    .dataframe tbody tr th {\n",
              "        vertical-align: top;\n",
              "    }\n",
              "\n",
              "    .dataframe thead th {\n",
              "        text-align: right;\n",
              "    }\n",
              "</style>\n",
              "<table border=\"1\" class=\"dataframe\">\n",
              "  <thead>\n",
              "    <tr style=\"text-align: right;\">\n",
              "      <th></th>\n",
              "      <th>Unnamed: 0</th>\n",
              "      <th>Unnamed: 0.1</th>\n",
              "      <th>email_id</th>\n",
              "      <th>subject</th>\n",
              "      <th>email</th>\n",
              "      <th>clean_body</th>\n",
              "      <th>clean_subject</th>\n",
              "    </tr>\n",
              "  </thead>\n",
              "  <tbody>\n",
              "    <tr>\n",
              "      <th>0</th>\n",
              "      <td>0</td>\n",
              "      <td>0</td>\n",
              "      <td>allen-p\\all_documents\\1#1</td>\n",
              "      <td>December 14, 2000 - Bear Stearns' predictions ...</td>\n",
              "      <td>In today's Daily Update you'll find free repor...</td>\n",
              "      <td>today daily update find free report america on...</td>\n",
              "      <td>december 2000 bear stearns prediction telecom ...</td>\n",
              "    </tr>\n",
              "    <tr>\n",
              "      <th>1</th>\n",
              "      <td>1</td>\n",
              "      <td>1</td>\n",
              "      <td>allen-p\\all_documents\\10#1</td>\n",
              "      <td>Bloomberg Power Lines Report</td>\n",
              "      <td>Here is today's copy of Bloomberg Power Lines....</td>\n",
              "      <td>today copy bloomberg power lines adobe acrobat...</td>\n",
              "      <td>bloomberg power lines report</td>\n",
              "    </tr>\n",
              "    <tr>\n",
              "      <th>2</th>\n",
              "      <td>2</td>\n",
              "      <td>2</td>\n",
              "      <td>allen-p\\all_documents\\100#1</td>\n",
              "      <td>Consolidated positions: Issues &amp; To Do list</td>\n",
              "      <td>From our initial set of meetings with the trad...</td>\n",
              "      <td>initial set meeting trader regarding consolida...</td>\n",
              "      <td>consolidated position issues list</td>\n",
              "    </tr>\n",
              "    <tr>\n",
              "      <th>3</th>\n",
              "      <td>4</td>\n",
              "      <td>4</td>\n",
              "      <td>allen-p\\all_documents\\100#3</td>\n",
              "      <td>Consolidated positions: Issues &amp; To Do list</td>\n",
              "      <td></td>\n",
              "      <td>NaN</td>\n",
              "      <td>consolidated position issues list</td>\n",
              "    </tr>\n",
              "    <tr>\n",
              "      <th>4</th>\n",
              "      <td>11</td>\n",
              "      <td>11</td>\n",
              "      <td>allen-p\\all_documents\\104#2</td>\n",
              "      <td>Var, Reporting and Resources Meeting</td>\n",
              "      <td></td>\n",
              "      <td>NaN</td>\n",
              "      <td>var reporting resources meeting</td>\n",
              "    </tr>\n",
              "    <tr>\n",
              "      <th>...</th>\n",
              "      <td>...</td>\n",
              "      <td>...</td>\n",
              "      <td>...</td>\n",
              "      <td>...</td>\n",
              "      <td>...</td>\n",
              "      <td>...</td>\n",
              "      <td>...</td>\n",
              "    </tr>\n",
              "    <tr>\n",
              "      <th>364181</th>\n",
              "      <td>123313</td>\n",
              "      <td>123313</td>\n",
              "      <td>zufferli-j\\sent_items\\85#1</td>\n",
              "      <td>Generation Maintenance Planning and Related Is...</td>\n",
              "      <td>\\t\\t&gt;                 You, or a representative...</td>\n",
              "      <td>representative organization invited attend mee...</td>\n",
              "      <td>generation maintenance planning related issues...</td>\n",
              "    </tr>\n",
              "    <tr>\n",
              "      <th>364182</th>\n",
              "      <td>123314</td>\n",
              "      <td>123314</td>\n",
              "      <td>zufferli-j\\sent_items\\86#3</td>\n",
              "      <td>RE: hello</td>\n",
              "      <td>going great.  Even the weather has been record...</td>\n",
              "      <td>going great even weather record warm think hap...</td>\n",
              "      <td>hello</td>\n",
              "    </tr>\n",
              "    <tr>\n",
              "      <th>364183</th>\n",
              "      <td>123317</td>\n",
              "      <td>123317</td>\n",
              "      <td>zufferli-j\\sent_items\\93#1</td>\n",
              "      <td>Hello</td>\n",
              "      <td>Good to hear your voice again, old buddy.  I'm...</td>\n",
              "      <td>good hear voice old buddy happy hear jessica b...</td>\n",
              "      <td>hello</td>\n",
              "    </tr>\n",
              "    <tr>\n",
              "      <th>364184</th>\n",
              "      <td>123318</td>\n",
              "      <td>123318</td>\n",
              "      <td>zufferli-j\\sent_items\\95#1</td>\n",
              "      <td>Trade with John Lavorato</td>\n",
              "      <td>This is a trade with OIL-SPEC-HEDGE-NG (John L...</td>\n",
              "      <td>trade oilspechedgeng john lavorato book john z...</td>\n",
              "      <td>trade john lavorato</td>\n",
              "    </tr>\n",
              "    <tr>\n",
              "      <th>364185</th>\n",
              "      <td>123319</td>\n",
              "      <td>123319</td>\n",
              "      <td>zufferli-j\\sent_items\\98#1</td>\n",
              "      <td>Calgary Analyst/Associate</td>\n",
              "      <td>Analyst\\t\\t\\t\\t\\tRank\\n\\nStephane Brodeur\\t\\t\\...</td>\n",
              "      <td>analyst rank stephane brodeur chad clark ian c...</td>\n",
              "      <td>calgary analystassociate</td>\n",
              "    </tr>\n",
              "  </tbody>\n",
              "</table>\n",
              "<p>364186 rows × 7 columns</p>\n",
              "</div>\n",
              "      <button class=\"colab-df-convert\" onclick=\"convertToInteractive('df-59ed5933-e083-4ffc-9579-310155092dbf')\"\n",
              "              title=\"Convert this dataframe to an interactive table.\"\n",
              "              style=\"display:none;\">\n",
              "        \n",
              "  <svg xmlns=\"http://www.w3.org/2000/svg\" height=\"24px\"viewBox=\"0 0 24 24\"\n",
              "       width=\"24px\">\n",
              "    <path d=\"M0 0h24v24H0V0z\" fill=\"none\"/>\n",
              "    <path d=\"M18.56 5.44l.94 2.06.94-2.06 2.06-.94-2.06-.94-.94-2.06-.94 2.06-2.06.94zm-11 1L8.5 8.5l.94-2.06 2.06-.94-2.06-.94L8.5 2.5l-.94 2.06-2.06.94zm10 10l.94 2.06.94-2.06 2.06-.94-2.06-.94-.94-2.06-.94 2.06-2.06.94z\"/><path d=\"M17.41 7.96l-1.37-1.37c-.4-.4-.92-.59-1.43-.59-.52 0-1.04.2-1.43.59L10.3 9.45l-7.72 7.72c-.78.78-.78 2.05 0 2.83L4 21.41c.39.39.9.59 1.41.59.51 0 1.02-.2 1.41-.59l7.78-7.78 2.81-2.81c.8-.78.8-2.07 0-2.86zM5.41 20L4 18.59l7.72-7.72 1.47 1.35L5.41 20z\"/>\n",
              "  </svg>\n",
              "      </button>\n",
              "      \n",
              "  <style>\n",
              "    .colab-df-container {\n",
              "      display:flex;\n",
              "      flex-wrap:wrap;\n",
              "      gap: 12px;\n",
              "    }\n",
              "\n",
              "    .colab-df-convert {\n",
              "      background-color: #E8F0FE;\n",
              "      border: none;\n",
              "      border-radius: 50%;\n",
              "      cursor: pointer;\n",
              "      display: none;\n",
              "      fill: #1967D2;\n",
              "      height: 32px;\n",
              "      padding: 0 0 0 0;\n",
              "      width: 32px;\n",
              "    }\n",
              "\n",
              "    .colab-df-convert:hover {\n",
              "      background-color: #E2EBFA;\n",
              "      box-shadow: 0px 1px 2px rgba(60, 64, 67, 0.3), 0px 1px 3px 1px rgba(60, 64, 67, 0.15);\n",
              "      fill: #174EA6;\n",
              "    }\n",
              "\n",
              "    [theme=dark] .colab-df-convert {\n",
              "      background-color: #3B4455;\n",
              "      fill: #D2E3FC;\n",
              "    }\n",
              "\n",
              "    [theme=dark] .colab-df-convert:hover {\n",
              "      background-color: #434B5C;\n",
              "      box-shadow: 0px 1px 3px 1px rgba(0, 0, 0, 0.15);\n",
              "      filter: drop-shadow(0px 1px 2px rgba(0, 0, 0, 0.3));\n",
              "      fill: #FFFFFF;\n",
              "    }\n",
              "  </style>\n",
              "\n",
              "      <script>\n",
              "        const buttonEl =\n",
              "          document.querySelector('#df-59ed5933-e083-4ffc-9579-310155092dbf button.colab-df-convert');\n",
              "        buttonEl.style.display =\n",
              "          google.colab.kernel.accessAllowed ? 'block' : 'none';\n",
              "\n",
              "        async function convertToInteractive(key) {\n",
              "          const element = document.querySelector('#df-59ed5933-e083-4ffc-9579-310155092dbf');\n",
              "          const dataTable =\n",
              "            await google.colab.kernel.invokeFunction('convertToInteractive',\n",
              "                                                     [key], {});\n",
              "          if (!dataTable) return;\n",
              "\n",
              "          const docLinkHtml = 'Like what you see? Visit the ' +\n",
              "            '<a target=\"_blank\" href=https://colab.research.google.com/notebooks/data_table.ipynb>data table notebook</a>'\n",
              "            + ' to learn more about interactive tables.';\n",
              "          element.innerHTML = '';\n",
              "          dataTable['output_type'] = 'display_data';\n",
              "          await google.colab.output.renderOutput(dataTable, element);\n",
              "          const docLink = document.createElement('div');\n",
              "          docLink.innerHTML = docLinkHtml;\n",
              "          element.appendChild(docLink);\n",
              "        }\n",
              "      </script>\n",
              "    </div>\n",
              "  </div>\n",
              "  "
            ]
          },
          "metadata": {},
          "execution_count": 17
        }
      ]
    },
    {
      "cell_type": "code",
      "execution_count": null,
      "metadata": {
        "id": "xnnFiS5_ZIEh"
      },
      "outputs": [],
      "source": [
        "df = df.merge(df1, left_on = 'document', right_on = 'email_id', how = 'left')[['email_id','clean_body']]"
      ]
    },
    {
      "cell_type": "code",
      "execution_count": null,
      "metadata": {
        "id": "XzvTG_cevB6Q"
      },
      "outputs": [],
      "source": [
        "nlp = spacy.load('en_core_web_sm')\n",
        "nlp.add_pipe(\"merge_entities\")\n",
        "\n",
        "def get_ner(text):\n",
        "    doc = nlp(text)\n",
        "    # for ent in doc.ents:\n",
        "    #   if ent.label_ == 'PERSON':\n",
        "    #     s = ent.start_char\n",
        "    #     e = ent.end_char\n",
        "    #     text = text[:s] + 'PERSON' + text[e:]\n",
        "    # return text\n",
        "\n",
        "    return \" \".join(['person' if t.ent_type_ and t.ent_type_ == 'PERSON' else t.text for t in doc])\n",
        "\n",
        "#"
      ]
    },
    {
      "cell_type": "code",
      "execution_count": null,
      "metadata": {
        "id": "xuqOOVVnAq4_"
      },
      "outputs": [],
      "source": [
        "df['email'] = df['clean_body'].apply(get_ner)"
      ]
    },
    {
      "cell_type": "code",
      "source": [
        "df = df[['email_id','email']]"
      ],
      "metadata": {
        "id": "abLvMtlqNQaQ"
      },
      "execution_count": null,
      "outputs": []
    },
    {
      "cell_type": "code",
      "source": [
        "df.to_csv(data_path+\"mask_name.csv\")"
      ],
      "metadata": {
        "id": "ey_d9yVcgbZ6"
      },
      "execution_count": null,
      "outputs": []
    },
    {
      "cell_type": "markdown",
      "source": [
        "## complete data"
      ],
      "metadata": {
        "id": "A-I7-Wrqq5Qf"
      }
    },
    {
      "cell_type": "code",
      "source": [
        "df1 = df1[['email_id','clean_subject','clean_body']]\n",
        "df1"
      ],
      "metadata": {
        "colab": {
          "base_uri": "https://localhost:8080/",
          "height": 424
        },
        "id": "uu5yzRSthSEm",
        "outputId": "bc069ebf-e461-4cb7-8072-4f4bcd350796"
      },
      "execution_count": 7,
      "outputs": [
        {
          "output_type": "execute_result",
          "data": {
            "text/plain": [
              "                           email_id  \\\n",
              "0         allen-p\\all_documents\\1#1   \n",
              "1        allen-p\\all_documents\\10#1   \n",
              "2       allen-p\\all_documents\\100#1   \n",
              "3       allen-p\\all_documents\\100#3   \n",
              "4       allen-p\\all_documents\\104#2   \n",
              "...                             ...   \n",
              "364181   zufferli-j\\sent_items\\85#1   \n",
              "364182   zufferli-j\\sent_items\\86#3   \n",
              "364183   zufferli-j\\sent_items\\93#1   \n",
              "364184   zufferli-j\\sent_items\\95#1   \n",
              "364185   zufferli-j\\sent_items\\98#1   \n",
              "\n",
              "                                            clean_subject  \\\n",
              "0       december 2000 bear stearns prediction telecom ...   \n",
              "1                            bloomberg power lines report   \n",
              "2                       consolidated position issues list   \n",
              "3                       consolidated position issues list   \n",
              "4                         var reporting resources meeting   \n",
              "...                                                   ...   \n",
              "364181  generation maintenance planning related issues...   \n",
              "364182                                              hello   \n",
              "364183                                              hello   \n",
              "364184                                trade john lavorato   \n",
              "364185                           calgary analystassociate   \n",
              "\n",
              "                                               clean_body  \n",
              "0       today daily update find free report america on...  \n",
              "1       today copy bloomberg power lines adobe acrobat...  \n",
              "2       initial set meeting trader regarding consolida...  \n",
              "3                                                     NaN  \n",
              "4                                                     NaN  \n",
              "...                                                   ...  \n",
              "364181  representative organization invited attend mee...  \n",
              "364182  going great even weather record warm think hap...  \n",
              "364183  good hear voice old buddy happy hear jessica b...  \n",
              "364184  trade oilspechedgeng john lavorato book john z...  \n",
              "364185  analyst rank stephane brodeur chad clark ian c...  \n",
              "\n",
              "[364186 rows x 3 columns]"
            ],
            "text/html": [
              "\n",
              "  <div id=\"df-62e8871e-4925-4342-b69f-3543ab59b2d6\">\n",
              "    <div class=\"colab-df-container\">\n",
              "      <div>\n",
              "<style scoped>\n",
              "    .dataframe tbody tr th:only-of-type {\n",
              "        vertical-align: middle;\n",
              "    }\n",
              "\n",
              "    .dataframe tbody tr th {\n",
              "        vertical-align: top;\n",
              "    }\n",
              "\n",
              "    .dataframe thead th {\n",
              "        text-align: right;\n",
              "    }\n",
              "</style>\n",
              "<table border=\"1\" class=\"dataframe\">\n",
              "  <thead>\n",
              "    <tr style=\"text-align: right;\">\n",
              "      <th></th>\n",
              "      <th>email_id</th>\n",
              "      <th>clean_subject</th>\n",
              "      <th>clean_body</th>\n",
              "    </tr>\n",
              "  </thead>\n",
              "  <tbody>\n",
              "    <tr>\n",
              "      <th>0</th>\n",
              "      <td>allen-p\\all_documents\\1#1</td>\n",
              "      <td>december 2000 bear stearns prediction telecom ...</td>\n",
              "      <td>today daily update find free report america on...</td>\n",
              "    </tr>\n",
              "    <tr>\n",
              "      <th>1</th>\n",
              "      <td>allen-p\\all_documents\\10#1</td>\n",
              "      <td>bloomberg power lines report</td>\n",
              "      <td>today copy bloomberg power lines adobe acrobat...</td>\n",
              "    </tr>\n",
              "    <tr>\n",
              "      <th>2</th>\n",
              "      <td>allen-p\\all_documents\\100#1</td>\n",
              "      <td>consolidated position issues list</td>\n",
              "      <td>initial set meeting trader regarding consolida...</td>\n",
              "    </tr>\n",
              "    <tr>\n",
              "      <th>3</th>\n",
              "      <td>allen-p\\all_documents\\100#3</td>\n",
              "      <td>consolidated position issues list</td>\n",
              "      <td>NaN</td>\n",
              "    </tr>\n",
              "    <tr>\n",
              "      <th>4</th>\n",
              "      <td>allen-p\\all_documents\\104#2</td>\n",
              "      <td>var reporting resources meeting</td>\n",
              "      <td>NaN</td>\n",
              "    </tr>\n",
              "    <tr>\n",
              "      <th>...</th>\n",
              "      <td>...</td>\n",
              "      <td>...</td>\n",
              "      <td>...</td>\n",
              "    </tr>\n",
              "    <tr>\n",
              "      <th>364181</th>\n",
              "      <td>zufferli-j\\sent_items\\85#1</td>\n",
              "      <td>generation maintenance planning related issues...</td>\n",
              "      <td>representative organization invited attend mee...</td>\n",
              "    </tr>\n",
              "    <tr>\n",
              "      <th>364182</th>\n",
              "      <td>zufferli-j\\sent_items\\86#3</td>\n",
              "      <td>hello</td>\n",
              "      <td>going great even weather record warm think hap...</td>\n",
              "    </tr>\n",
              "    <tr>\n",
              "      <th>364183</th>\n",
              "      <td>zufferli-j\\sent_items\\93#1</td>\n",
              "      <td>hello</td>\n",
              "      <td>good hear voice old buddy happy hear jessica b...</td>\n",
              "    </tr>\n",
              "    <tr>\n",
              "      <th>364184</th>\n",
              "      <td>zufferli-j\\sent_items\\95#1</td>\n",
              "      <td>trade john lavorato</td>\n",
              "      <td>trade oilspechedgeng john lavorato book john z...</td>\n",
              "    </tr>\n",
              "    <tr>\n",
              "      <th>364185</th>\n",
              "      <td>zufferli-j\\sent_items\\98#1</td>\n",
              "      <td>calgary analystassociate</td>\n",
              "      <td>analyst rank stephane brodeur chad clark ian c...</td>\n",
              "    </tr>\n",
              "  </tbody>\n",
              "</table>\n",
              "<p>364186 rows × 3 columns</p>\n",
              "</div>\n",
              "      <button class=\"colab-df-convert\" onclick=\"convertToInteractive('df-62e8871e-4925-4342-b69f-3543ab59b2d6')\"\n",
              "              title=\"Convert this dataframe to an interactive table.\"\n",
              "              style=\"display:none;\">\n",
              "        \n",
              "  <svg xmlns=\"http://www.w3.org/2000/svg\" height=\"24px\"viewBox=\"0 0 24 24\"\n",
              "       width=\"24px\">\n",
              "    <path d=\"M0 0h24v24H0V0z\" fill=\"none\"/>\n",
              "    <path d=\"M18.56 5.44l.94 2.06.94-2.06 2.06-.94-2.06-.94-.94-2.06-.94 2.06-2.06.94zm-11 1L8.5 8.5l.94-2.06 2.06-.94-2.06-.94L8.5 2.5l-.94 2.06-2.06.94zm10 10l.94 2.06.94-2.06 2.06-.94-2.06-.94-.94-2.06-.94 2.06-2.06.94z\"/><path d=\"M17.41 7.96l-1.37-1.37c-.4-.4-.92-.59-1.43-.59-.52 0-1.04.2-1.43.59L10.3 9.45l-7.72 7.72c-.78.78-.78 2.05 0 2.83L4 21.41c.39.39.9.59 1.41.59.51 0 1.02-.2 1.41-.59l7.78-7.78 2.81-2.81c.8-.78.8-2.07 0-2.86zM5.41 20L4 18.59l7.72-7.72 1.47 1.35L5.41 20z\"/>\n",
              "  </svg>\n",
              "      </button>\n",
              "      \n",
              "  <style>\n",
              "    .colab-df-container {\n",
              "      display:flex;\n",
              "      flex-wrap:wrap;\n",
              "      gap: 12px;\n",
              "    }\n",
              "\n",
              "    .colab-df-convert {\n",
              "      background-color: #E8F0FE;\n",
              "      border: none;\n",
              "      border-radius: 50%;\n",
              "      cursor: pointer;\n",
              "      display: none;\n",
              "      fill: #1967D2;\n",
              "      height: 32px;\n",
              "      padding: 0 0 0 0;\n",
              "      width: 32px;\n",
              "    }\n",
              "\n",
              "    .colab-df-convert:hover {\n",
              "      background-color: #E2EBFA;\n",
              "      box-shadow: 0px 1px 2px rgba(60, 64, 67, 0.3), 0px 1px 3px 1px rgba(60, 64, 67, 0.15);\n",
              "      fill: #174EA6;\n",
              "    }\n",
              "\n",
              "    [theme=dark] .colab-df-convert {\n",
              "      background-color: #3B4455;\n",
              "      fill: #D2E3FC;\n",
              "    }\n",
              "\n",
              "    [theme=dark] .colab-df-convert:hover {\n",
              "      background-color: #434B5C;\n",
              "      box-shadow: 0px 1px 3px 1px rgba(0, 0, 0, 0.15);\n",
              "      filter: drop-shadow(0px 1px 2px rgba(0, 0, 0, 0.3));\n",
              "      fill: #FFFFFF;\n",
              "    }\n",
              "  </style>\n",
              "\n",
              "      <script>\n",
              "        const buttonEl =\n",
              "          document.querySelector('#df-62e8871e-4925-4342-b69f-3543ab59b2d6 button.colab-df-convert');\n",
              "        buttonEl.style.display =\n",
              "          google.colab.kernel.accessAllowed ? 'block' : 'none';\n",
              "\n",
              "        async function convertToInteractive(key) {\n",
              "          const element = document.querySelector('#df-62e8871e-4925-4342-b69f-3543ab59b2d6');\n",
              "          const dataTable =\n",
              "            await google.colab.kernel.invokeFunction('convertToInteractive',\n",
              "                                                     [key], {});\n",
              "          if (!dataTable) return;\n",
              "\n",
              "          const docLinkHtml = 'Like what you see? Visit the ' +\n",
              "            '<a target=\"_blank\" href=https://colab.research.google.com/notebooks/data_table.ipynb>data table notebook</a>'\n",
              "            + ' to learn more about interactive tables.';\n",
              "          element.innerHTML = '';\n",
              "          dataTable['output_type'] = 'display_data';\n",
              "          await google.colab.output.renderOutput(dataTable, element);\n",
              "          const docLink = document.createElement('div');\n",
              "          docLink.innerHTML = docLinkHtml;\n",
              "          element.appendChild(docLink);\n",
              "        }\n",
              "      </script>\n",
              "    </div>\n",
              "  </div>\n",
              "  "
            ]
          },
          "metadata": {},
          "execution_count": 7
        }
      ]
    },
    {
      "cell_type": "code",
      "source": [
        "# drop empty subject\n",
        "# df1[~((df1['clean_subject']==' ' ) | (df1['clean_subject'].isna()))]\n",
        "df1 = df1.dropna()"
      ],
      "metadata": {
        "id": "EJFLnhJR3pW1"
      },
      "execution_count": 15,
      "outputs": []
    },
    {
      "cell_type": "code",
      "source": [
        "df1['email_mask_name'] = df1['clean_body'].apply(get_ner)"
      ],
      "metadata": {
        "id": "D0DCXWrkkkH4"
      },
      "execution_count": null,
      "outputs": []
    },
    {
      "cell_type": "code",
      "source": [
        "df1['subject_mask_name'] = df1['clean_subject'].apply(get_ner)"
      ],
      "metadata": {
        "colab": {
          "base_uri": "https://localhost:8080/"
        },
        "id": "uCh1rzV63cT6",
        "outputId": "db0f4ed1-b321-4a3e-bf45-51a39d001596"
      },
      "execution_count": null,
      "outputs": [
        {
          "output_type": "stream",
          "name": "stderr",
          "text": [
            "/usr/local/lib/python3.7/dist-packages/ipykernel_launcher.py:1: SettingWithCopyWarning: \n",
            "A value is trying to be set on a copy of a slice from a DataFrame.\n",
            "Try using .loc[row_indexer,col_indexer] = value instead\n",
            "\n",
            "See the caveats in the documentation: https://pandas.pydata.org/pandas-docs/stable/user_guide/indexing.html#returning-a-view-versus-a-copy\n",
            "  \"\"\"Entry point for launching an IPython kernel.\n"
          ]
        }
      ]
    },
    {
      "cell_type": "code",
      "source": [
        "df1 = df1[['email_id','subject_mask_name','email_mask_name']].rename(columns = {'email_mask_name':'email', 'subject_mask_name':'subject'})"
      ],
      "metadata": {
        "id": "cxUmy-787Rne"
      },
      "execution_count": null,
      "outputs": []
    },
    {
      "cell_type": "code",
      "source": [
        "df1.to_csv(data_path+\"emails_mask_name.csv\")"
      ],
      "metadata": {
        "id": "xdTk85S77wnn"
      },
      "execution_count": null,
      "outputs": []
    }
  ],
  "metadata": {
    "colab": {
      "provenance": []
    },
    "kernelspec": {
      "display_name": "Python 3",
      "name": "python3"
    },
    "language_info": {
      "name": "python"
    }
  },
  "nbformat": 4,
  "nbformat_minor": 0
}