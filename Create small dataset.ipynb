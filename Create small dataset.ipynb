{
 "cells": [
  {
   "cell_type": "code",
   "execution_count": 1,
   "id": "992def2a",
   "metadata": {},
   "outputs": [],
   "source": [
    "import os\n",
    "import pandas as pd\n"
   ]
  },
  {
   "cell_type": "code",
   "execution_count": 2,
   "id": "270651e3",
   "metadata": {},
   "outputs": [],
   "source": [
    "directory=r'C:\\Users\\p_uli\\Desktop\\Columbia University\\Cursos\\Fall 22\\Capstone\\Data\\maildir'\n",
    "\n",
    "subset=['taylor-m','fischer-m','buy-r','ybarbo-p','geaccone-t','allen-p']\n",
    "\n",
    "msg_id= list()\n",
    "msg_txt= list()\n",
    "\n",
    "for folder in subset:\n",
    "    for roots, dirs, files in os.walk(directory+\"\\\\\"+folder):\n",
    "        for file in files:\n",
    "            with open(roots+'\\\\'+file) as f:\n",
    "                x= f.readlines()\n",
    "                x=''.join(x)\n",
    "                msg_txt.append(x)\n",
    "                msg_id.append(roots[roots.index(folder):] + '\\\\'+file)\n"
   ]
  },
  {
   "cell_type": "code",
   "execution_count": 3,
   "id": "d0faba0e",
   "metadata": {},
   "outputs": [
    {
     "data": {
      "text/html": [
       "<div>\n",
       "<style scoped>\n",
       "    .dataframe tbody tr th:only-of-type {\n",
       "        vertical-align: middle;\n",
       "    }\n",
       "\n",
       "    .dataframe tbody tr th {\n",
       "        vertical-align: top;\n",
       "    }\n",
       "\n",
       "    .dataframe thead th {\n",
       "        text-align: right;\n",
       "    }\n",
       "</style>\n",
       "<table border=\"1\" class=\"dataframe\">\n",
       "  <thead>\n",
       "    <tr style=\"text-align: right;\">\n",
       "      <th></th>\n",
       "      <th>message_id</th>\n",
       "      <th>message_text</th>\n",
       "    </tr>\n",
       "  </thead>\n",
       "  <tbody>\n",
       "    <tr>\n",
       "      <th>0</th>\n",
       "      <td>taylor-m\\all_documents\\1</td>\n",
       "      <td>Message-ID: &lt;25895411.1075859874878.JavaMail.e...</td>\n",
       "    </tr>\n",
       "    <tr>\n",
       "      <th>1</th>\n",
       "      <td>taylor-m\\all_documents\\10</td>\n",
       "      <td>Message-ID: &lt;23416266.1075859875079.JavaMail.e...</td>\n",
       "    </tr>\n",
       "    <tr>\n",
       "      <th>2</th>\n",
       "      <td>taylor-m\\all_documents\\100</td>\n",
       "      <td>Message-ID: &lt;20401126.1075859877231.JavaMail.e...</td>\n",
       "    </tr>\n",
       "    <tr>\n",
       "      <th>3</th>\n",
       "      <td>taylor-m\\all_documents\\1000</td>\n",
       "      <td>Message-ID: &lt;9557191.1075859900977.JavaMail.ev...</td>\n",
       "    </tr>\n",
       "    <tr>\n",
       "      <th>4</th>\n",
       "      <td>taylor-m\\all_documents\\1001</td>\n",
       "      <td>Message-ID: &lt;2650318.1075859901001.JavaMail.ev...</td>\n",
       "    </tr>\n",
       "  </tbody>\n",
       "</table>\n",
       "</div>"
      ],
      "text/plain": [
       "                    message_id  \\\n",
       "0     taylor-m\\all_documents\\1   \n",
       "1    taylor-m\\all_documents\\10   \n",
       "2   taylor-m\\all_documents\\100   \n",
       "3  taylor-m\\all_documents\\1000   \n",
       "4  taylor-m\\all_documents\\1001   \n",
       "\n",
       "                                        message_text  \n",
       "0  Message-ID: <25895411.1075859874878.JavaMail.e...  \n",
       "1  Message-ID: <23416266.1075859875079.JavaMail.e...  \n",
       "2  Message-ID: <20401126.1075859877231.JavaMail.e...  \n",
       "3  Message-ID: <9557191.1075859900977.JavaMail.ev...  \n",
       "4  Message-ID: <2650318.1075859901001.JavaMail.ev...  "
      ]
     },
     "execution_count": 3,
     "metadata": {},
     "output_type": "execute_result"
    }
   ],
   "source": [
    "data=pd.DataFrame(zip(msg_id,msg_txt),columns=['message_id','message_text'])\n",
    "data.head()"
   ]
  },
  {
   "cell_type": "code",
   "execution_count": 6,
   "id": "9c9d0256",
   "metadata": {},
   "outputs": [
    {
     "data": {
      "text/plain": [
       "(23719, 2)"
      ]
     },
     "execution_count": 6,
     "metadata": {},
     "output_type": "execute_result"
    }
   ],
   "source": [
    "#data.to_csv(r'C:\\Users\\p_uli\\Desktop\\Columbia University\\Cursos\\Fall 22\\Capstone\\Data\\subset.csv',index=False)\n",
    "import pickle\n"
   ]
  }
 ],
 "metadata": {
  "kernelspec": {
   "display_name": "Python 3 (ipykernel)",
   "language": "python",
   "name": "python3"
  },
  "language_info": {
   "codemirror_mode": {
    "name": "ipython",
    "version": 3
   },
   "file_extension": ".py",
   "mimetype": "text/x-python",
   "name": "python",
   "nbconvert_exporter": "python",
   "pygments_lexer": "ipython3",
   "version": "3.9.7"
  }
 },
 "nbformat": 4,
 "nbformat_minor": 5
}
