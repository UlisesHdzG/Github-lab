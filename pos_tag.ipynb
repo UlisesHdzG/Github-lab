{
  "nbformat": 4,
  "nbformat_minor": 0,
  "metadata": {
    "colab": {
      "provenance": [],
      "collapsed_sections": []
    },
    "kernelspec": {
      "name": "python3",
      "display_name": "Python 3"
    },
    "language_info": {
      "name": "python"
    }
  },
  "cells": [
    {
      "cell_type": "code",
      "execution_count": 1,
      "metadata": {
        "id": "ql26M0hSP-cd"
      },
      "outputs": [],
      "source": [
        "import pandas as pd\n",
        "import os\n",
        "import glob\n",
        "import email\n",
        "import time\n",
        "import numpy as np\n",
        "import matplotlib.pyplot as plt\n",
        "%matplotlib inline\n",
        "import nltk\n",
        "from nltk.corpus import stopwords\n",
        "from nltk import word_tokenize, sent_tokenize, pos_tag\n",
        "from nltk.tokenize import word_tokenize\n",
        "from nltk.tokenize import sent_tokenize\n",
        "from nltk.stem import WordNetLemmatizer \n",
        "import string\n",
        "import re\n",
        "import datetime as dt\n",
        "from PIL import Image\n",
        "from tqdm import tqdm\n",
        "from string import digits\n",
        "from bs4 import BeautifulSoup\n",
        "import warnings\n",
        "warnings.filterwarnings(\"ignore\", category=UserWarning, module='bs4')"
      ]
    },
    {
      "cell_type": "code",
      "source": [
        "nltk.download('all')"
      ],
      "metadata": {
        "id": "YX_KFl3xi3Ng"
      },
      "execution_count": null,
      "outputs": []
    },
    {
      "cell_type": "code",
      "source": [
        "from google.colab import drive\n",
        "drive.mount('/content/drive')"
      ],
      "metadata": {
        "id": "8rLpua5zQBAX",
        "colab": {
          "base_uri": "https://localhost:8080/"
        },
        "outputId": "592fe838-4a9b-4112-d2e3-682ef2c4cd45"
      },
      "execution_count": 4,
      "outputs": [
        {
          "output_type": "stream",
          "name": "stdout",
          "text": [
            "Mounted at /content/drive\n"
          ]
        }
      ]
    },
    {
      "cell_type": "code",
      "source": [
        "data_path = \"/content/drive/MyDrive/split_data/\""
      ],
      "metadata": {
        "id": "QUDnzCjzQCtO"
      },
      "execution_count": 5,
      "outputs": []
    },
    {
      "cell_type": "code",
      "source": [
        "df = pd.read_csv(data_path+\"split_threads.csv\")"
      ],
      "metadata": {
        "id": "QiAYdSzoQEPo"
      },
      "execution_count": 6,
      "outputs": []
    },
    {
      "cell_type": "code",
      "source": [
        "def word_gramma(a):\n",
        "  res = []\n",
        "  words = pos_tag(a)  \n",
        "  for word, tag in words:\n",
        "    if tag.startswith('NN') or tag.startswith('VB') or tag=='.':\n",
        "      res.append(word)\n",
        "  return ' '.join(res)"
      ],
      "metadata": {
        "id": "c1M9wKT3QVnA"
      },
      "execution_count": 7,
      "outputs": []
    },
    {
      "cell_type": "code",
      "source": [
        "new_email = []\n",
        "for email in tqdm(df['email']):\n",
        "  a = word_tokenize(str(email).lower())\n",
        "  new_email.append(word_gramma(a))"
      ],
      "metadata": {
        "id": "MRvKXBiTQXGX"
      },
      "execution_count": null,
      "outputs": []
    },
    {
      "cell_type": "code",
      "source": [
        "df_new = df\n",
        "df_new['email'] = new_email\n",
        "# df_new = df[['email_id','subject','email']]"
      ],
      "metadata": {
        "id": "Hg5Lu_KHQY2O"
      },
      "execution_count": null,
      "outputs": []
    },
    {
      "cell_type": "code",
      "source": [
        "pos_tag(word_tokenize(str(new_email[0]).lower()))"
      ],
      "metadata": {
        "id": "eZwv_Nu7__NR"
      },
      "execution_count": null,
      "outputs": []
    },
    {
      "cell_type": "code",
      "source": [
        "df_new.to_csv(data_path+\"pos_cleaned.csv\")"
      ],
      "metadata": {
        "id": "9QGesPrkQccU"
      },
      "execution_count": null,
      "outputs": []
    },
    {
      "cell_type": "code",
      "source": [
        "df_pos = pd.read_csv(data_path+'pos_cleaned.csv')"
      ],
      "metadata": {
        "id": "SExjVaqtmiOg"
      },
      "execution_count": 12,
      "outputs": []
    },
    {
      "cell_type": "code",
      "source": [],
      "metadata": {
        "id": "PD1CZf9QoTkk"
      },
      "execution_count": null,
      "outputs": []
    }
  ]
}