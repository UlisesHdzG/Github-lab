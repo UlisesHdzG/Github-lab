{
 "cells": [
  {
   "cell_type": "code",
   "execution_count": 1,
   "id": "101c58a0",
   "metadata": {},
   "outputs": [
    {
     "name": "stderr",
     "output_type": "stream",
     "text": [
      "[nltk_data] Downloading package stopwords to\n",
      "[nltk_data]     C:\\Users\\p_uli\\AppData\\Roaming\\nltk_data...\n",
      "[nltk_data]   Package stopwords is already up-to-date!\n",
      "[nltk_data] Downloading package punkt to\n",
      "[nltk_data]     C:\\Users\\p_uli\\AppData\\Roaming\\nltk_data...\n",
      "[nltk_data]   Package punkt is already up-to-date!\n",
      "[nltk_data] Downloading package wordnet to\n",
      "[nltk_data]     C:\\Users\\p_uli\\AppData\\Roaming\\nltk_data...\n",
      "[nltk_data]   Package wordnet is already up-to-date!\n"
     ]
    }
   ],
   "source": [
    "import pandas as pd\n",
    "import numpy as np\n",
    "from bertopic import BERTopic\n",
    "from umap import UMAP\n",
    "from hdbscan import HDBSCAN\n",
    "\n",
    "\n",
    "import matplotlib.pyplot as plt\n",
    "import tensorflow as tf\n",
    "# from cuml.cluster import HDBSCAN\n",
    "# from cuml.manifold import UMAP\n",
    "# from cuml.preprocessing import normalize\n",
    "\n",
    "from sklearn.feature_extraction.text import CountVectorizer\n",
    "from sentence_transformers import SentenceTransformer\n",
    "from nltk.corpus import stopwords\n",
    "from nltk import word_tokenize, sent_tokenize\n",
    "from nltk.stem import WordNetLemmatizer \n",
    "import string\n",
    "import re\n",
    "import nltk\n",
    "from bs4 import BeautifulSoup   \n",
    "import contractions,unicodedata\n",
    "\n",
    "\n",
    "nltk.download('stopwords')                              # Download Stopwords.\n",
    "nltk.download('punkt')\n",
    "nltk.download('wordnet')\n",
    "from nltk.tokenize import word_tokenize, sent_tokenize  # Import Tokenizer.\n",
    "\n",
    "\n",
    "import spacy\n",
    "from sklearn.cluster import KMeans\n",
    "import plotly.express as px"
   ]
  },
  {
   "cell_type": "code",
   "execution_count": 20,
   "id": "a5c9eda5",
   "metadata": {},
   "outputs": [
    {
     "data": {
      "text/html": [
       "<div>\n",
       "<style scoped>\n",
       "    .dataframe tbody tr th:only-of-type {\n",
       "        vertical-align: middle;\n",
       "    }\n",
       "\n",
       "    .dataframe tbody tr th {\n",
       "        vertical-align: top;\n",
       "    }\n",
       "\n",
       "    .dataframe thead th {\n",
       "        text-align: right;\n",
       "    }\n",
       "</style>\n",
       "<table border=\"1\" class=\"dataframe\">\n",
       "  <thead>\n",
       "    <tr style=\"text-align: right;\">\n",
       "      <th></th>\n",
       "      <th>email_id</th>\n",
       "      <th>subject</th>\n",
       "      <th>email</th>\n",
       "      <th>bow</th>\n",
       "      <th>embeddings</th>\n",
       "    </tr>\n",
       "  </thead>\n",
       "  <tbody>\n",
       "    <tr>\n",
       "      <th>0</th>\n",
       "      <td>saibi-e\\inbox\\612#1</td>\n",
       "      <td>WSCC (Mahave 02) (San Juan 03)</td>\n",
       "      <td>Dear Power Outage Database Customer,\\n\\nAttach...</td>\n",
       "      <td>dear power outage database customer attached f...</td>\n",
       "      <td>dear power outage database customer, attached ...</td>\n",
       "    </tr>\n",
       "    <tr>\n",
       "      <th>1</th>\n",
       "      <td>kitchen-l\\_americas\\netco_restart\\28#2</td>\n",
       "      <td>RE:</td>\n",
       "      <td>Ryan is waffling.  I talked to him this weeken...</td>\n",
       "      <td>ryan waffling talked weekend said wife want mo...</td>\n",
       "      <td>ryan waffling. talked weekend said wife want m...</td>\n",
       "    </tr>\n",
       "    <tr>\n",
       "      <th>2</th>\n",
       "      <td>motley-m\\sent_items\\1#1</td>\n",
       "      <td>SSARR Update Available Now</td>\n",
       "      <td>&lt;center&gt;&lt;LI&gt;&lt;a Href=\"http://www.nwrfc.noaa.gov...</td>\n",
       "      <td>columbia river basin lower snake updated mar</td>\n",
       "      <td>columbia river basin lower snake.....updated: mar</td>\n",
       "    </tr>\n",
       "    <tr>\n",
       "      <th>3</th>\n",
       "      <td>kaminski-v\\all_documents\\577#1</td>\n",
       "      <td>Credit Risk Model Comments - at this point.</td>\n",
       "      <td>Hi everyone,\\n\\nI have run the model and, alon...</td>\n",
       "      <td>everyone run model along contract brief questi...</td>\n",
       "      <td>everyone, run model and, along contract brief ...</td>\n",
       "    </tr>\n",
       "    <tr>\n",
       "      <th>4</th>\n",
       "      <td>quigley-d\\sent_items\\480#1</td>\n",
       "      <td>Confirmation: Risk Management Simulation Mee...</td>\n",
       "      <td>Hi Dutch,     This message is to confirm ou...</td>\n",
       "      <td>dutch message confirm meeting thursday novembe...</td>\n",
       "      <td>dutch, message confirm meeting on, thursday, n...</td>\n",
       "    </tr>\n",
       "  </tbody>\n",
       "</table>\n",
       "</div>"
      ],
      "text/plain": [
       "                                 email_id  \\\n",
       "0                     saibi-e\\inbox\\612#1   \n",
       "1  kitchen-l\\_americas\\netco_restart\\28#2   \n",
       "2                 motley-m\\sent_items\\1#1   \n",
       "3          kaminski-v\\all_documents\\577#1   \n",
       "4              quigley-d\\sent_items\\480#1   \n",
       "\n",
       "                                             subject  \\\n",
       "0                     WSCC (Mahave 02) (San Juan 03)   \n",
       "1                                                RE:   \n",
       "2                         SSARR Update Available Now   \n",
       "3        Credit Risk Model Comments - at this point.   \n",
       "4    Confirmation: Risk Management Simulation Mee...   \n",
       "\n",
       "                                               email  \\\n",
       "0  Dear Power Outage Database Customer,\\n\\nAttach...   \n",
       "1  Ryan is waffling.  I talked to him this weeken...   \n",
       "2  <center><LI><a Href=\"http://www.nwrfc.noaa.gov...   \n",
       "3  Hi everyone,\\n\\nI have run the model and, alon...   \n",
       "4     Hi Dutch,     This message is to confirm ou...   \n",
       "\n",
       "                                                 bow  \\\n",
       "0  dear power outage database customer attached f...   \n",
       "1  ryan waffling talked weekend said wife want mo...   \n",
       "2       columbia river basin lower snake updated mar   \n",
       "3  everyone run model along contract brief questi...   \n",
       "4  dutch message confirm meeting thursday novembe...   \n",
       "\n",
       "                                          embeddings  \n",
       "0  dear power outage database customer, attached ...  \n",
       "1  ryan waffling. talked weekend said wife want m...  \n",
       "2  columbia river basin lower snake.....updated: mar  \n",
       "3  everyone, run model and, along contract brief ...  \n",
       "4  dutch, message confirm meeting on, thursday, n...  "
      ]
     },
     "execution_count": 20,
     "metadata": {},
     "output_type": "execute_result"
    }
   ],
   "source": [
    "data= pd.read_csv(r'C:\\Users\\p_uli\\Desktop\\Columbia University\\Cursos\\Fall 22\\Capstone\\Data\\data_clean_processed_sample.csv')\n",
    "data.head()"
   ]
  },
  {
   "cell_type": "code",
   "execution_count": 21,
   "id": "8284cc93",
   "metadata": {},
   "outputs": [],
   "source": [
    "if type(data['embeddings']) is list:\n",
    "    text = data['embeddings']\n",
    "else:\n",
    "    text = data['embeddings'].tolist()\n",
    "\n",
    "text=[str(x) for x in text]"
   ]
  },
  {
   "cell_type": "markdown",
   "id": "62964f78",
   "metadata": {},
   "source": [
    "### Embedding"
   ]
  },
  {
   "cell_type": "code",
   "execution_count": 22,
   "id": "c99481fa",
   "metadata": {},
   "outputs": [],
   "source": [
    "# %%time\n",
    "# with tf.device('/GPU:0'):\n",
    "#     # embedding\n",
    "#     sentence_model = SentenceTransformer('all-MiniLM-L6-v2')\n",
    "#     #sentence_model = SentenceTransformer('all-MiniLM-L12-v2')\n",
    "#     embeddings = sentence_model.encode(text, show_progress_bar=True)\n",
    "\n",
    "# all_embeddings = np.array(embeddings)\n",
    "# np.save('embeddings_L6-v2.npy', all_embeddings)\n",
    "embeddings= np.load('embeddings_L6-v2.npy')\n",
    "#embeddings= np.load('embeddings.npy')"
   ]
  },
  {
   "cell_type": "markdown",
   "id": "bddcc0ce",
   "metadata": {},
   "source": [
    "### Model"
   ]
  },
  {
   "cell_type": "code",
   "execution_count": 12,
   "id": "57b21d46",
   "metadata": {},
   "outputs": [],
   "source": [
    "def create_model(topwords,n_gram,min_top ):\n",
    "    nn=10\n",
    "    min_cluster=10\n",
    "    from nltk.corpus import stopwords\n",
    "    stop_w = stopwords.words('english')\n",
    "#     stop_w = stop_w+['imagemasker','urlmasker','tofrom','namemasker','im','smith','john','pm']\n",
    "    stop_w = stop_w+['tofrom','namemasker','im','smith','john','pm']\n",
    "    \n",
    "    # ngrams\n",
    "    vectorizer_model = CountVectorizer(ngram_range=n_gram, stop_words=stop_w)\n",
    "    \n",
    "    # UMAP: dimensionality reduction\n",
    "    umap_model = UMAP(n_neighbors=nn, min_dist=0.0, metric='cosine', random_state=42)\n",
    "    \n",
    "    # HDBSCAN: clustering\n",
    "    hdbscan_model = HDBSCAN(min_cluster_size=min_cluster, metric='euclidean', \n",
    "                            cluster_selection_method='eom', prediction_data=True, min_samples=5)\n",
    "    \n",
    "#     cluster_model = KMeans(n_clusters=min_top)\n",
    "    \n",
    "    # BERTopic\n",
    "    model = BERTopic(\n",
    "        top_n_words=topwords,\n",
    "#         min_topic_size=min_top,\n",
    "        nr_topics=min_top,\n",
    "        vectorizer_model=vectorizer_model,\n",
    "        language='english', calculate_probabilities=True,\n",
    "        verbose=True,\n",
    "        umap_model=umap_model,\n",
    "        hdbscan_model=hdbscan_model,\n",
    "    )\n",
    "    \n",
    "    return model"
   ]
  },
  {
   "cell_type": "markdown",
   "id": "2b7ca1c8",
   "metadata": {},
   "source": [
    "### Trying different number of topics"
   ]
  },
  {
   "cell_type": "code",
   "execution_count": 126,
   "id": "111954f5",
   "metadata": {},
   "outputs": [
    {
     "data": {
      "text/plain": [
       "[1, 5, 10, 20, 40, 80, 160, 320, 'auto', 400, 450, 500, 550, 600]"
      ]
     },
     "execution_count": 126,
     "metadata": {},
     "output_type": "execute_result"
    }
   ],
   "source": [
    "# number of topics to try\n",
    "n_topics=[1] + [5*2**x for x in range(7)] + ['auto',400,450,500,550,600]\n",
    "n_topics"
   ]
  },
  {
   "cell_type": "code",
   "execution_count": 125,
   "id": "a070beea",
   "metadata": {},
   "outputs": [],
   "source": [
    "# will store probas, topics and frequencies\n",
    "probas={}\n",
    "topics_dic={}\n",
    "frequencies={}\n"
   ]
  },
  {
   "cell_type": "code",
   "execution_count": 121,
   "id": "2f2cc25d",
   "metadata": {},
   "outputs": [],
   "source": [
    "# %%time\n",
    "# # run all the topics\n",
    "# for i in n_topics:\n",
    "#     model=create_model(10,(1,2),i)\n",
    "#     with tf.device('/GPU:0'):\n",
    "#         topics, probs = model.fit_transform(text,embeddings)\n",
    "\n",
    "#     file_name='all-MiniLM-L6-v2_10_(1,2)_' + str(i)\n",
    "#     # save the model\n",
    "#     model.save(file_name)\n",
    "    \n",
    "#     # save results\n",
    "#     probas[i]=model.probabilities_\n",
    "#     topics_dic[i]=model.topics_\n",
    "#     frequencies[i]=model.get_topic_info()"
   ]
  },
  {
   "cell_type": "code",
   "execution_count": 127,
   "id": "ce5322b9",
   "metadata": {},
   "outputs": [],
   "source": [
    "# load all results\n",
    "for i in n_topics:\n",
    "    file_name='all-MiniLM-L6-v2_10_(1,2)_' + str(i)\n",
    "    model= BERTopic.load(file_name)\n",
    "    \n",
    "    probas[i]=model.probabilities_\n",
    "    topics_dic[i]=model.topics_\n",
    "    frequencies[i]=model.get_topic_info()\n",
    "    \n"
   ]
  },
  {
   "cell_type": "code",
   "execution_count": 129,
   "id": "be97dbe0",
   "metadata": {},
   "outputs": [],
   "source": [
    "import pickle\n",
    "with open('probas.pkl', 'wb') as f:\n",
    "    pickle.dump(probas, f)\n",
    "with open('topics.pkl', 'wb') as f:\n",
    "    pickle.dump(topics_dic, f)\n",
    "with open('frequencies.pkl', 'wb') as f:\n",
    "    pickle.dump(frequencies, f)\n",
    "    \n",
    "# with open('saved_dictionary.pkl', 'rb') as f:\n",
    "#     loaded_dict = pickle.load(f)"
   ]
  },
  {
   "cell_type": "markdown",
   "id": "4541d26a",
   "metadata": {},
   "source": [
    "### plot of number of outliers"
   ]
  },
  {
   "cell_type": "code",
   "execution_count": 130,
   "id": "3e0a1ef9",
   "metadata": {},
   "outputs": [],
   "source": [
    "n_outliers=[]\n",
    "for i in n_topics:\n",
    "    n_outliers.append(frequencies[i]['Count'][0])"
   ]
  },
  {
   "cell_type": "code",
   "execution_count": 131,
   "id": "2f9c2480",
   "metadata": {},
   "outputs": [],
   "source": [
    "# number of topcis in 'auto'\n",
    "n_topcis_auto=len(frequencies['auto']['Count'])-1"
   ]
  },
  {
   "cell_type": "code",
   "execution_count": 132,
   "id": "4791383e",
   "metadata": {},
   "outputs": [
    {
     "data": {
      "text/plain": [
       "[19450,\n",
       " 17713,\n",
       " 16727,\n",
       " 15152,\n",
       " 13544,\n",
       " 11742,\n",
       " 9296,\n",
       " 7239,\n",
       " 6601,\n",
       " 6742,\n",
       " 6601,\n",
       " 6601,\n",
       " 6601,\n",
       " 6601]"
      ]
     },
     "execution_count": 132,
     "metadata": {},
     "output_type": "execute_result"
    }
   ],
   "source": [
    "n_outliers"
   ]
  },
  {
   "cell_type": "code",
   "execution_count": 183,
   "id": "1a2066fc",
   "metadata": {},
   "outputs": [
    {
     "data": {
      "image/png": "[encoded data removed]",
      "text/plain": [
       "<Figure size 720x576 with 1 Axes>"
      ]
     },
     "metadata": {
      "needs_background": "light"
     },
     "output_type": "display_data"
    }
   ],
   "source": [
    "plt.figure(figsize=(10,8))\n",
    "#adding text inside the plot\n",
    "# plt.text(5, 7000, '$auto = 351$', fontsize = 22)\n",
    "plt.ylabel('Number of outliers');\n",
    "plt.xlabel('Number of topics');\n",
    "plt.title('Outliers distribution');\n",
    "#plt.plot(n_topics[:-1]+[n_topcis_auto],n_outliers,'o-');\n",
    "plt.plot(n_topics,n_outliers,'o-');\n"
   ]
  },
  {
   "cell_type": "code",
   "execution_count": 184,
   "id": "71b258bc",
   "metadata": {},
   "outputs": [
    {
     "name": "stdout",
     "output_type": "stream",
     "text": [
      "Number of topics using parameter 'auto': 352\n"
     ]
    }
   ],
   "source": [
    "print(\"Number of topics using parameter 'auto': {}\".format(1+max(topics_dic['auto'])))"
   ]
  },
  {
   "cell_type": "code",
   "execution_count": 185,
   "id": "38a6613c",
   "metadata": {},
   "outputs": [
    {
     "name": "stdout",
     "output_type": "stream",
     "text": [
      "Number of topics without specifying the parameter: 422\n"
     ]
    }
   ],
   "source": [
    "print(\"Number of topics without specifying the parameter: 422\")"
   ]
  },
  {
   "cell_type": "code",
   "execution_count": 186,
   "id": "6ebfc86e",
   "metadata": {},
   "outputs": [
    {
     "data": {
      "text/html": [
       "<div>\n",
       "<style scoped>\n",
       "    .dataframe tbody tr th:only-of-type {\n",
       "        vertical-align: middle;\n",
       "    }\n",
       "\n",
       "    .dataframe tbody tr th {\n",
       "        vertical-align: top;\n",
       "    }\n",
       "\n",
       "    .dataframe thead th {\n",
       "        text-align: right;\n",
       "    }\n",
       "</style>\n",
       "<table border=\"1\" class=\"dataframe\">\n",
       "  <thead>\n",
       "    <tr style=\"text-align: right;\">\n",
       "      <th></th>\n",
       "      <th>Number of topics</th>\n",
       "      <th>Number of outliers</th>\n",
       "    </tr>\n",
       "  </thead>\n",
       "  <tbody>\n",
       "    <tr>\n",
       "      <th>0</th>\n",
       "      <td>1</td>\n",
       "      <td>19450</td>\n",
       "    </tr>\n",
       "    <tr>\n",
       "      <th>1</th>\n",
       "      <td>5</td>\n",
       "      <td>17713</td>\n",
       "    </tr>\n",
       "    <tr>\n",
       "      <th>2</th>\n",
       "      <td>10</td>\n",
       "      <td>16727</td>\n",
       "    </tr>\n",
       "    <tr>\n",
       "      <th>3</th>\n",
       "      <td>20</td>\n",
       "      <td>15152</td>\n",
       "    </tr>\n",
       "    <tr>\n",
       "      <th>4</th>\n",
       "      <td>40</td>\n",
       "      <td>13544</td>\n",
       "    </tr>\n",
       "    <tr>\n",
       "      <th>5</th>\n",
       "      <td>80</td>\n",
       "      <td>11742</td>\n",
       "    </tr>\n",
       "    <tr>\n",
       "      <th>6</th>\n",
       "      <td>160</td>\n",
       "      <td>9296</td>\n",
       "    </tr>\n",
       "    <tr>\n",
       "      <th>7</th>\n",
       "      <td>320</td>\n",
       "      <td>7239</td>\n",
       "    </tr>\n",
       "    <tr>\n",
       "      <th>8</th>\n",
       "      <td>auto</td>\n",
       "      <td>6601</td>\n",
       "    </tr>\n",
       "    <tr>\n",
       "      <th>9</th>\n",
       "      <td>400</td>\n",
       "      <td>6742</td>\n",
       "    </tr>\n",
       "    <tr>\n",
       "      <th>10</th>\n",
       "      <td>450</td>\n",
       "      <td>6601</td>\n",
       "    </tr>\n",
       "    <tr>\n",
       "      <th>11</th>\n",
       "      <td>500</td>\n",
       "      <td>6601</td>\n",
       "    </tr>\n",
       "    <tr>\n",
       "      <th>12</th>\n",
       "      <td>550</td>\n",
       "      <td>6601</td>\n",
       "    </tr>\n",
       "    <tr>\n",
       "      <th>13</th>\n",
       "      <td>600</td>\n",
       "      <td>6601</td>\n",
       "    </tr>\n",
       "  </tbody>\n",
       "</table>\n",
       "</div>"
      ],
      "text/plain": [
       "   Number of topics  Number of outliers\n",
       "0                 1               19450\n",
       "1                 5               17713\n",
       "2                10               16727\n",
       "3                20               15152\n",
       "4                40               13544\n",
       "5                80               11742\n",
       "6               160                9296\n",
       "7               320                7239\n",
       "8              auto                6601\n",
       "9               400                6742\n",
       "10              450                6601\n",
       "11              500                6601\n",
       "12              550                6601\n",
       "13              600                6601"
      ]
     },
     "execution_count": 186,
     "metadata": {},
     "output_type": "execute_result"
    }
   ],
   "source": [
    "pd.DataFrame(zip(n_topics,n_outliers),columns=['Number of topics','Number of outliers'])"
   ]
  },
  {
   "cell_type": "code",
   "execution_count": 187,
   "id": "fc9dd678",
   "metadata": {},
   "outputs": [
    {
     "data": {
      "text/html": [
       "<div>\n",
       "<style scoped>\n",
       "    .dataframe tbody tr th:only-of-type {\n",
       "        vertical-align: middle;\n",
       "    }\n",
       "\n",
       "    .dataframe tbody tr th {\n",
       "        vertical-align: top;\n",
       "    }\n",
       "\n",
       "    .dataframe thead th {\n",
       "        text-align: right;\n",
       "    }\n",
       "</style>\n",
       "<table border=\"1\" class=\"dataframe\">\n",
       "  <thead>\n",
       "    <tr style=\"text-align: right;\">\n",
       "      <th></th>\n",
       "      <th>Method</th>\n",
       "      <th>Number of topics</th>\n",
       "    </tr>\n",
       "  </thead>\n",
       "  <tbody>\n",
       "    <tr>\n",
       "      <th>0</th>\n",
       "      <td>Auto</td>\n",
       "      <td>351</td>\n",
       "    </tr>\n",
       "    <tr>\n",
       "      <th>1</th>\n",
       "      <td>Default</td>\n",
       "      <td>423</td>\n",
       "    </tr>\n",
       "  </tbody>\n",
       "</table>\n",
       "</div>"
      ],
      "text/plain": [
       "    Method  Number of topics\n",
       "0     Auto               351\n",
       "1  Default               423"
      ]
     },
     "execution_count": 187,
     "metadata": {},
     "output_type": "execute_result"
    }
   ],
   "source": [
    "pd.DataFrame.from_dict({'Method':['Auto','Default'],'Number of topics':[351,423]})"
   ]
  },
  {
   "cell_type": "code",
   "execution_count": null,
   "id": "9f0a7fe0",
   "metadata": {},
   "outputs": [],
   "source": []
  }
 ],
 "metadata": {
  "kernelspec": {
   "display_name": "Python 3 (ipykernel)",
   "language": "python",
   "name": "python3"
  },
  "language_info": {
   "codemirror_mode": {
    "name": "ipython",
    "version": 3
   },
   "file_extension": ".py",
   "mimetype": "text/x-python",
   "name": "python",
   "nbconvert_exporter": "python",
   "pygments_lexer": "ipython3",
   "version": "3.9.7"
  }
 },
 "nbformat": 4,
 "nbformat_minor": 5
}
