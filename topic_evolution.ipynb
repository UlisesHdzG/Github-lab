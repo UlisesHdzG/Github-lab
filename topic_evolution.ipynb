{
  "cells": [
    {
      "cell_type": "code",
      "source": [
        "!pip install bertopic\n",
        "!pip install contractions"
      ],
      "metadata": {
        "id": "c61zkxFlvp3C"
      },
      "id": "c61zkxFlvp3C",
      "execution_count": null,
      "outputs": []
    },
    {
      "cell_type": "code",
      "execution_count": null,
      "id": "9fe6728d",
      "metadata": {
        "id": "9fe6728d"
      },
      "outputs": [],
      "source": [
        "import pandas as pd\n",
        "import numpy as np\n",
        "from bertopic import BERTopic\n",
        "from umap import UMAP\n",
        "from hdbscan import HDBSCAN\n",
        "\n",
        "import tensorflow as tf\n",
        "# from cuml.cluster import HDBSCAN\n",
        "# from cuml.manifold import UMAP\n",
        "# from cuml.preprocessing import normalize\n",
        "\n",
        "from sklearn.feature_extraction.text import CountVectorizer\n",
        "from sentence_transformers import SentenceTransformer\n",
        "from nltk.corpus import stopwords\n",
        "from nltk import word_tokenize, sent_tokenize\n",
        "from nltk.stem import WordNetLemmatizer \n",
        "import string\n",
        "import re\n",
        "import nltk\n",
        "from bs4 import BeautifulSoup   \n",
        "import contractions,unicodedata\n",
        "nltk.download('all')\n",
        "from nltk.util import bigrams\n",
        "from nltk.book import FreqDist\n",
        "# nltk.download('stopwords')                              # Download Stopwords.\n",
        "# nltk.download('punkt')\n",
        "# nltk.download('wordnet')\n",
        "from nltk.tokenize import word_tokenize, sent_tokenize  # Import Tokenizer.\n",
        "\n",
        "\n",
        "import spacy\n",
        "from sklearn.cluster import KMeans\n",
        "import plotly.express as px"
      ]
    },
    {
      "cell_type": "code",
      "source": [
        "from google.colab import drive\n",
        "drive.mount('/content/drive')"
      ],
      "metadata": {
        "colab": {
          "base_uri": "https://localhost:8080/"
        },
        "id": "ClwKuq_cvx4q",
        "outputId": "3ff96baf-b69c-4c7d-8649-0f737852fd79"
      },
      "id": "ClwKuq_cvx4q",
      "execution_count": null,
      "outputs": [
        {
          "output_type": "stream",
          "name": "stdout",
          "text": [
            "Mounted at /content/drive\n"
          ]
        }
      ]
    },
    {
      "cell_type": "code",
      "source": [
        "data_path = \"/content/drive/MyDrive/Data/\"\n",
        "data = pd.read_csv(data_path+\"Data_clean_processed_sample.csv\")"
      ],
      "metadata": {
        "id": "KLRKiKX0v5db"
      },
      "id": "KLRKiKX0v5db",
      "execution_count": null,
      "outputs": []
    },
    {
      "cell_type": "code",
      "source": [
        "np.random.seed(10)"
      ],
      "metadata": {
        "id": "2QwqeoMegX0C"
      },
      "id": "2QwqeoMegX0C",
      "execution_count": null,
      "outputs": []
    },
    {
      "cell_type": "code",
      "execution_count": null,
      "id": "e8f54759",
      "metadata": {
        "id": "e8f54759",
        "outputId": "831cc32b-abc2-4bf3-af7a-a00d41a3bc95"
      },
      "outputs": [
        {
          "data": {
            "text/html": [
              "<div>\n",
              "<style scoped>\n",
              "    .dataframe tbody tr th:only-of-type {\n",
              "        vertical-align: middle;\n",
              "    }\n",
              "\n",
              "    .dataframe tbody tr th {\n",
              "        vertical-align: top;\n",
              "    }\n",
              "\n",
              "    .dataframe thead th {\n",
              "        text-align: right;\n",
              "    }\n",
              "</style>\n",
              "<table border=\"1\" class=\"dataframe\">\n",
              "  <thead>\n",
              "    <tr style=\"text-align: right;\">\n",
              "      <th></th>\n",
              "      <th>email_id</th>\n",
              "      <th>subject</th>\n",
              "      <th>email</th>\n",
              "      <th>bow</th>\n",
              "      <th>embeddings</th>\n",
              "    </tr>\n",
              "  </thead>\n",
              "  <tbody>\n",
              "    <tr>\n",
              "      <th>0</th>\n",
              "      <td>saibi-e\\inbox\\612#1</td>\n",
              "      <td>WSCC (Mahave 02) (San Juan 03)</td>\n",
              "      <td>Dear Power Outage Database Customer,\\n\\nAttach...</td>\n",
              "      <td>dear power outage database customer attached f...</td>\n",
              "      <td>dear power outage database customer, attached ...</td>\n",
              "    </tr>\n",
              "    <tr>\n",
              "      <th>1</th>\n",
              "      <td>kitchen-l\\_americas\\netco_restart\\28#2</td>\n",
              "      <td>RE:</td>\n",
              "      <td>Ryan is waffling.  I talked to him this weeken...</td>\n",
              "      <td>ryan waffling talked weekend said wife want mo...</td>\n",
              "      <td>ryan waffling. talked weekend said wife want m...</td>\n",
              "    </tr>\n",
              "    <tr>\n",
              "      <th>2</th>\n",
              "      <td>motley-m\\sent_items\\1#1</td>\n",
              "      <td>SSARR Update Available Now</td>\n",
              "      <td>&lt;center&gt;&lt;LI&gt;&lt;a Href=\"http://www.nwrfc.noaa.gov...</td>\n",
              "      <td>columbia river basin lower snake updated mar</td>\n",
              "      <td>columbia river basin lower snake.....updated: mar</td>\n",
              "    </tr>\n",
              "    <tr>\n",
              "      <th>3</th>\n",
              "      <td>kaminski-v\\all_documents\\577#1</td>\n",
              "      <td>Credit Risk Model Comments - at this point.</td>\n",
              "      <td>Hi everyone,\\n\\nI have run the model and, alon...</td>\n",
              "      <td>everyone run model along contract brief questi...</td>\n",
              "      <td>everyone, run model and, along contract brief ...</td>\n",
              "    </tr>\n",
              "    <tr>\n",
              "      <th>4</th>\n",
              "      <td>quigley-d\\sent_items\\480#1</td>\n",
              "      <td>Confirmation: Risk Management Simulation Mee...</td>\n",
              "      <td>Hi Dutch,     This message is to confirm ou...</td>\n",
              "      <td>dutch message confirm meeting thursday novembe...</td>\n",
              "      <td>dutch, message confirm meeting on, thursday, n...</td>\n",
              "    </tr>\n",
              "  </tbody>\n",
              "</table>\n",
              "</div>"
            ],
            "text/plain": [
              "                                 email_id  \\\n",
              "0                     saibi-e\\inbox\\612#1   \n",
              "1  kitchen-l\\_americas\\netco_restart\\28#2   \n",
              "2                 motley-m\\sent_items\\1#1   \n",
              "3          kaminski-v\\all_documents\\577#1   \n",
              "4              quigley-d\\sent_items\\480#1   \n",
              "\n",
              "                                             subject  \\\n",
              "0                     WSCC (Mahave 02) (San Juan 03)   \n",
              "1                                                RE:   \n",
              "2                         SSARR Update Available Now   \n",
              "3        Credit Risk Model Comments - at this point.   \n",
              "4    Confirmation: Risk Management Simulation Mee...   \n",
              "\n",
              "                                               email  \\\n",
              "0  Dear Power Outage Database Customer,\\n\\nAttach...   \n",
              "1  Ryan is waffling.  I talked to him this weeken...   \n",
              "2  <center><LI><a Href=\"http://www.nwrfc.noaa.gov...   \n",
              "3  Hi everyone,\\n\\nI have run the model and, alon...   \n",
              "4     Hi Dutch,     This message is to confirm ou...   \n",
              "\n",
              "                                                 bow  \\\n",
              "0  dear power outage database customer attached f...   \n",
              "1  ryan waffling talked weekend said wife want mo...   \n",
              "2       columbia river basin lower snake updated mar   \n",
              "3  everyone run model along contract brief questi...   \n",
              "4  dutch message confirm meeting thursday novembe...   \n",
              "\n",
              "                                          embeddings  \n",
              "0  dear power outage database customer, attached ...  \n",
              "1  ryan waffling. talked weekend said wife want m...  \n",
              "2  columbia river basin lower snake.....updated: mar  \n",
              "3  everyone, run model and, along contract brief ...  \n",
              "4  dutch, message confirm meeting on, thursday, n...  "
            ]
          },
          "execution_count": 2,
          "metadata": {},
          "output_type": "execute_result"
        }
      ],
      "source": [
        "# data.head()"
      ]
    },
    {
      "cell_type": "code",
      "execution_count": null,
      "id": "f30434e8",
      "metadata": {
        "id": "f30434e8"
      },
      "outputs": [],
      "source": [
        "if type(data['embeddings']) is list:\n",
        "    text = data['embeddings']\n",
        "else:\n",
        "    text = data['embeddings'].tolist()\n",
        "\n",
        "text=[str(x) for x in text]"
      ]
    },
    {
      "cell_type": "code",
      "execution_count": null,
      "id": "4a4dd9dd",
      "metadata": {
        "id": "4a4dd9dd"
      },
      "outputs": [],
      "source": [
        "# # %%time\n",
        "# with tf.device('GPU'):\n",
        "#     # embedding\n",
        "#     sentence_model = SentenceTransformer('all-MiniLM-L6-v2')\n",
        "#     #sentence_model = SentenceTransformer('all-MiniLM-L12-v2')\n",
        "#     embeddings = sentence_model.encode(text, show_progress_bar=True)\n",
        "\n",
        "# all_embeddings = np.array(embeddings)\n",
        "# # np.save('embeddings_L6-v2.npy', all_embeddings)\n",
        "# # embeddings= np.load('embeddings_L6-v2.npy')\n",
        "# #embeddings= np.load('embeddings.npy')"
      ]
    },
    {
      "cell_type": "code",
      "source": [
        "# np.save(\"/content/drive/MyDrive/Capstone/embeddings_L6-v2_all.npy\", all_embeddings)\n",
        "embeddings= np.load(\"/content/drive/MyDrive/Capstone/embeddings_L6-v2.npy\")"
      ],
      "metadata": {
        "id": "I71Vgbhnx8kv"
      },
      "id": "I71Vgbhnx8kv",
      "execution_count": null,
      "outputs": []
    },
    {
      "cell_type": "markdown",
      "id": "138ca5e0",
      "metadata": {
        "id": "138ca5e0"
      },
      "source": [
        "# Model"
      ]
    },
    {
      "cell_type": "code",
      "source": [
        "from sklearn.cluster import AgglomerativeClustering"
      ],
      "metadata": {
        "id": "cvRXlkWg3st8"
      },
      "id": "cvRXlkWg3st8",
      "execution_count": null,
      "outputs": []
    },
    {
      "cell_type": "code",
      "execution_count": null,
      "id": "163d2244",
      "metadata": {
        "id": "163d2244"
      },
      "outputs": [],
      "source": [
        "def create_model(topwords,n_gram, nn, min_cluster):\n",
        "    from nltk.corpus import stopwords\n",
        "    stop_w = stopwords.words('english')\n",
        "#     stop_w = stop_w+['imagemasker','urlmasker','tofrom','namemasker','im','smith','john','pm']\n",
        "    stop_w = stop_w+['tofrom','namemasker','im','smith','john','pm']\n",
        "    \n",
        "    # ngrams\n",
        "    vectorizer_model = CountVectorizer(ngram_range=n_gram, stop_words=stop_w)\n",
        "    \n",
        "    # UMAP: dimensionality reduction\n",
        "    umap_model = UMAP(n_neighbors=nn, min_dist=0.0, metric='cosine', random_state=42)\n",
        "    \n",
        "    # HDBSCAN: clustering\n",
        "    hdbscan_model = HDBSCAN(min_cluster_size=min_cluster, metric='euclidean', \n",
        "                            cluster_selection_method='eom', prediction_data=True, min_samples=5)\n",
        "    # hier_model = AgglomerativeClustering(n_clusters=min_cluster)\n",
        "    # cluster_model = KMeans(n_clusters=min_cluster)\n",
        "    \n",
        "    # BERTopic\n",
        "    model = BERTopic(\n",
        "        top_n_words=topwords,\n",
        "        # min_topic_size=min_cluster,\n",
        "#         nr_topics=min_top,\n",
        "        vectorizer_model=vectorizer_model,\n",
        "        language='english', calculate_probabilities=True,\n",
        "        #embedding_model=sentence_model,\n",
        "        verbose=True,\n",
        "        umap_model=umap_model,\n",
        "        hdbscan_model=hdbscan_model,\n",
        "    )\n",
        "    \n",
        "    return model"
      ]
    },
    {
      "cell_type": "code",
      "execution_count": null,
      "id": "a91bc90b",
      "metadata": {
        "colab": {
          "base_uri": "https://localhost:8080/"
        },
        "id": "a91bc90b",
        "outputId": "f0251fee-fc4d-4703-ce5d-5e9fa138c56d"
      },
      "outputs": [
        {
          "output_type": "execute_result",
          "data": {
            "text/plain": [
              "<bertopic._bertopic.BERTopic at 0x7f1bc516d8d0>"
            ]
          },
          "metadata": {},
          "execution_count": 10
        }
      ],
      "source": [
        "model=create_model(10,(1,2),10,10)\n",
        "model"
      ]
    },
    {
      "cell_type": "code",
      "execution_count": null,
      "id": "3a022e12",
      "metadata": {
        "colab": {
          "base_uri": "https://localhost:8080/"
        },
        "id": "3a022e12",
        "outputId": "cfe57cfb-7a2d-46b7-9c46-b27361ef2fdc"
      },
      "outputs": [
        {
          "output_type": "stream",
          "name": "stderr",
          "text": [
            "2022-11-20 19:38:21,737 - BERTopic - Reduced dimensionality\n",
            "2022-11-20 19:42:45,577 - BERTopic - Clustered reduced embeddings\n"
          ]
        },
        {
          "output_type": "stream",
          "name": "stdout",
          "text": [
            "CPU times: user 5min 7s, sys: 2.6 s, total: 5min 9s\n",
            "Wall time: 5min 25s\n"
          ]
        }
      ],
      "source": [
        "%%time\n",
        "with tf.device('GPU'):\n",
        "    topics, probs = model.fit_transform(text,embeddings)\n"
      ]
    },
    {
      "cell_type": "code",
      "execution_count": null,
      "id": "b2cabcd0",
      "metadata": {
        "colab": {
          "base_uri": "https://localhost:8080/"
        },
        "id": "b2cabcd0",
        "outputId": "3e593706-c442-4fe3-f3d7-f3e3c4cc22f8"
      },
      "outputs": [
        {
          "output_type": "stream",
          "name": "stderr",
          "text": [
            "/usr/local/lib/python3.7/dist-packages/scipy/sparse/_index.py:125: SparseEfficiencyWarning: Changing the sparsity structure of a csr_matrix is expensive. lil_matrix is more efficient.\n",
            "  self._set_arrayXarray(i, j, x)\n"
          ]
        }
      ],
      "source": [
        "# save the model\n",
        "# file_name='/content/drive/MyDrive/Capstone/all-MiniLM-L6-v2_10_(1,2)_10_50_all'\n",
        "# model.save(file_name)\n",
        "#model=BERTopic.load(\"_\".join(aux))"
      ]
    },
    {
      "cell_type": "markdown",
      "source": [
        "### Hierarchical topic modeling"
      ],
      "metadata": {
        "id": "UlXukuJIjAWY"
      },
      "id": "UlXukuJIjAWY"
    },
    {
      "cell_type": "code",
      "source": [
        "from scipy.cluster import hierarchy as sch\n",
        "# from bertopic import BERTopic\n",
        "# topic_model = BERTopic()\n",
        "# topics, probs = topic_model.fit_transform(docs)\n",
        "\n",
        "# Hierarchical topics\n",
        "linkage_function = lambda x: sch.linkage(x, 'single', optimal_ordering=True)\n",
        "hierarchical_topics = model.hierarchical_topics(text, linkage_function=linkage_function)"
      ],
      "metadata": {
        "colab": {
          "base_uri": "https://localhost:8080/"
        },
        "id": "3DV6Yu6Dymm_",
        "outputId": "f0994693-0b27-41cc-fa3e-7641a1a24d14"
      },
      "id": "3DV6Yu6Dymm_",
      "execution_count": null,
      "outputs": [
        {
          "output_type": "stream",
          "name": "stderr",
          "text": [
            "100%|██████████| 432/432 [00:23<00:00, 18.10it/s]\n"
          ]
        }
      ]
    },
    {
      "cell_type": "markdown",
      "source": [
        "### Get an email with threads"
      ],
      "metadata": {
        "id": "-fXup6cCjJUk"
      },
      "id": "-fXup6cCjJUk"
    },
    {
      "cell_type": "code",
      "source": [
        "data[['email','id']] = data['email_id'].str.split('#',1,expand = True)"
      ],
      "metadata": {
        "id": "ckxkRpdi1lPu"
      },
      "id": "ckxkRpdi1lPu",
      "execution_count": null,
      "outputs": []
    },
    {
      "cell_type": "code",
      "source": [
        "len(data['email'])"
      ],
      "metadata": {
        "colab": {
          "base_uri": "https://localhost:8080/"
        },
        "id": "9BPHdVWL3EDM",
        "outputId": "22e9c915-c428-400a-b085-91a22d24adb0"
      },
      "id": "9BPHdVWL3EDM",
      "execution_count": null,
      "outputs": [
        {
          "output_type": "execute_result",
          "data": {
            "text/plain": [
              "20000"
            ]
          },
          "metadata": {},
          "execution_count": 14
        }
      ]
    },
    {
      "cell_type": "code",
      "source": [
        "df = data['email'].value_counts()\n",
        "df = df.reset_index()"
      ],
      "metadata": {
        "id": "N-UplLiz3hfP"
      },
      "id": "N-UplLiz3hfP",
      "execution_count": null,
      "outputs": []
    },
    {
      "cell_type": "code",
      "source": [
        "thread = data.merge(df,left_on = 'email',right_on = 'index')\n",
        "thread = thread[thread['email_y']>1]\n",
        "len(thread)"
      ],
      "metadata": {
        "id": "F-7vRB5M5s7W",
        "colab": {
          "base_uri": "https://localhost:8080/"
        },
        "outputId": "4c1a1d6c-db35-43f6-d61e-2dcc2c43b0e6"
      },
      "id": "F-7vRB5M5s7W",
      "execution_count": null,
      "outputs": [
        {
          "output_type": "execute_result",
          "data": {
            "text/plain": [
              "1706"
            ]
          },
          "metadata": {},
          "execution_count": 16
        }
      ]
    },
    {
      "cell_type": "code",
      "source": [
        "thread = thread.sort_values('email_y')"
      ],
      "metadata": {
        "id": "CeO99Wz4DDT6"
      },
      "id": "CeO99Wz4DDT6",
      "execution_count": null,
      "outputs": []
    },
    {
      "cell_type": "code",
      "source": [
        "# for i in threads['bow']:\n",
        "#   print(i)"
      ],
      "metadata": {
        "id": "_vH7XDDzMQ58",
        "colab": {
          "base_uri": "https://localhost:8080/"
        },
        "outputId": "a4580509-d903-4658-f051-16d0438ade73"
      },
      "id": "_vH7XDDzMQ58",
      "execution_count": null,
      "outputs": [
        {
          "output_type": "stream",
          "name": "stdout",
          "text": [
            "believe conf call andy zipper jay web tomorrow chris dennis bring alternative adding min increment attribute xml dtds duration would another one add stewart\n",
            "brett glass enform technology llc enterprise transformation technology phone\n",
            "maria please confirm david partial fill refers transaction attempt fully expect enron send potentially large volume via price posting interface may execute multiple transaction attempt eol product enron via transaction attempt interface individual transaction attempt could much smaller volume volume posted via price posting interface basically way understand individual transaction attempt nothing however break large price post transmit multiple smaller transaction attempt large price post volume believe agreement never hurt absolutely sure concerning something magnitude importance\n",
            "chris wayne reviewed transcript conversation enron conversation several item worked offline detailed listed worked offline exhibit would like enform participate discussion enron feel item strategically sensitive enough conversation without enform involvement worked offline issue important additional technical question would best addressed technical enron contact could begin process establishing technical relationship individual enron soon possible would speed development lower cost project wayne next typed note regard maria following question discussed telephone conference call enron september 26th inserted enron answer blue highlighted follow ups offline discussion red question enron answer regarding true quote interface high priority question need addressed exhibit product enron transmitting specifically identify product offering including commodity deal type region location tradable term fully qualified begin end date product fully transactable item product location date product fully qualified instrument excluding price volume counterparty product next day balance month however next last day month product offer either next day bom reason redundancy product anything except rolling tokenized product date example spot month product expire first day spot month currency unit measure implied part product attribute exhibit confirm transaction attempt enron enron product fill kill transaction meaning transaction attempt submitted enron would stay system immediately filled deal confirmed enron order immediately removed enron system could filled later market condition made order viable transaction attempt truequote fill kill stay eol system deal confirmed enron due non availability volume volume need expired true quote system transaction attempt fails reason enron immediately rebroadcast product true quote system doe true quote need design functionality partial fill deal transaction outside entity enron partial fill true quote system need design functionality accept partial fill outside entity time threshold waiting enron response transaction attempt enron accept whatever true quote determines acceptable threshold waiting estimated delivery date enron dtds enrononline exchange external interface document received monday october exhibit enron price interface enron sends concerning enron price interface enron stated eol currently handle price volume update rate update per second growing potentially per second across eol product offering given level update activity transmission update accomplished question clarify concern expected rate update sub set eol product transmitted true quote platform expected product also endure update activity rate update per second although communicated often xml document sent clarified xml document sent certain time interval update contain information since last time polled includes change change since last transmission need clarify true quote polling eol update eol send automatically certain time interval one xml document interface transmission enron product update one xml document interface contain update multiple enron product implication follows true quote need handle xml document per second true quote receive one xml document determined interval update enron product xml document contains update enron product often enron send document one xml document per enron product true quote expected handle xml document submission per second xml document contain update multiple product one product changed eol since last transmission one product sent true quote update confirm enron submit one price volume offering per enron product meaning enron never multiple price quantity offering enron product true quote platform enron never send market depth product see eol exactly transmitted true quote one offering per enron product however product update contain bid offer interface currently doe field define duration order given assume price interface submits product price volume update true quote platform order loaded duration good canceled true quote mark order gtc enron submits new xml document enron product change status suspended case true quote would cancel order true quote system order remain true quote system eol trader pull deal time eol would send suspended status product term related enron product example given enron commodity deal type location traded october would new product created product offering month roll november yes product include direct relationship specific tradable term price interface xml document submitted true quote platform true quote know trade term product associated product direct relationship specific tradable term currently assuming enron product specifically identifies product offering including commodity deal type region location tradable term assumption correct confirm enron order transmitted true quote platform cancelled end day product loaded true quote system following morning assumed good canceled duration product remain active status changed suspended eol order removed trader end day removed true quote run nightly batch job remove eol order left system morning true quote authenticate eol time order eol transmitted true quote exhibit transaction interface enron field across interface need clearly defined data type precision range length space byte take information still need provided assume bid ask flag integer perhaps bit character character indicator information still need provided confirm data type volume integer information still need provided across interface defined unit measure price volume enron product part xml dtd specify unit measure price volume assume enron product power dollar megawatt enron product natural gas dollar mmbtu currency unit measure implied part product attribute price many decimal place precision number information still need provided volume price doe enron min max default increment value established price volume increment range enron product example within true quote default volume increment natural gas price increment price volume increment min max range vary region location eol trader determine minimal tradable increment minimal tradable amount minimum could low worked offline handle increment increment enron side display increment volume submitted enron trader minimum greater entity willing participate display doe minimum increment come across order confirm transaction attempt enron enron product fill kill transaction meaning transaction attempt submitted enron would stay system immediately filled deal confirmed enron order immediately removed enron system could filled later market condition made order viable deal confirmed enron due non availability volume volume need expired true quote system already answered enron allow partial fill transaction example enron price interface submits offer mmbtu available true quote submit transaction bid attempt take mmbtu enron offer valid assumption submit transaction attempt lift entire enron offer mmbtu enron allow partial fill exhibit true quote price interface sends enron doe enron expect true quote submit single price point offering enron product aggregate total volume order available product true quote platform best available price would allow enron submit transaction attempt true quote platform submitting volume request would potentially sweep multiple counter party creating deal entity necessary satisfy transaction attempt alternative doe enron expect true quote submit best individual order best price volume enron product one counterparty identified true quote order true quote would transmit counter party however sending xml interface enron counterparty would pas credit rule maintained counterparty credit matrix true quote platform alternative would enron expect true quote submit multiple price offering per enron product market depth various price volume offering scenario volume associated price point aggregate multiple true quote order shown true quote market screen xml interface could potentially transmit individual true quote order associated volume aggregate volume multiple order however giving enron ability pick choose individual order could potentially violate true quote customer service agreement require deal executed chronological sequence order request received true quote platform enron want see granularity true quote product order enron expects true quote submit multiple price offering per enron product example true quote order system mmbtu comprised individual order enron want true quote send individual order worked offline fair equitable treatment price sent enron proper processing order without bias need discus detail handle eol price interface transaction enron trader transaction need clarify enron whether want receive best price market given product want see given product market depth concern true quote transmits individual true quote order associated volume aggregate volume multiple order giving enron ability pick choose individual order could potentially violate true quote customer service agreement require deal executed chronological sequence order request received true quote platform exhibit sponsor transaction interface correct assuming transaction posted enron trader true quote deal executed true quote system duration order attempt sent true quote fill kill duration worked offline trader want transact true quote directly without adjusting market position eol accomplished discussed exhibit counterparty interface general need detail enron sending part daily counterparty credit term interface well intra day counterparty credit term interface currently exhibit doe specific field data type within xml dtd term participant trade enron example level restriction include volumetric limit financial limit tradable date range limit number day month future enron product assuming product specifically defines commodity deal type region location tradable term enron send yes flag turn counterparty ability trade enron enron product worked offline credit term counterparty interface detail addressed teleconference detail granularity need addressed better understand responsibility true quote handling enron credit structure question true quote answer exhibit doe sponsor transaction interface enron proposing transaction true quote platform still invoke enron transaction interface discussion internal enron trader proposed transaction true quote platform point transaction would true quote platform true quote would invoke transaction eol platform true quote would simply confirm whether enron transaction attempt succeeded failed succeeded true quote would send confirmation xml interface confirm deal executed transmit true quote deal enron time threshold waiting enron response transaction attempt example second true quote platform alert system operator enron transaction attempt failed return either confirmation failure please respond question\n",
            "david thanks sending answer technical question carefully reviewing answer follow question appear green please let know anything need clarification looking forward meeting next week tentatively planning people attend include three really technical people couple lead including user true quote business side understands product traded true quote new true quote cio mainly interested hearing said actively participating discussion next tuesday plan send proposed agenda meeting different agenda mind meeting let discus phone wednesday jointly priortize item discussion flexible term agenda thanks advance additional information send nice contact able correspond great day\n"
          ]
        }
      ]
    },
    {
      "cell_type": "code",
      "source": [
        "thread['id'] = thread['id'].map(int)"
      ],
      "metadata": {
        "id": "55GvWcuUNz97"
      },
      "id": "55GvWcuUNz97",
      "execution_count": null,
      "outputs": []
    },
    {
      "cell_type": "code",
      "source": [
        "# email_id = thread['index'].iloc[1650]\n",
        "# threads = thread[thread['email_x'] == email_id].sort_values('id')\n",
        "# result = []\n",
        "# prob_origin = []\n",
        "# topic_evolv = []\n",
        "# topic_origin = []\n",
        "# for i in range(len(threads)):\n",
        "#   topic_evolv.append(str(topics[threads.index[i]]))\n",
        "#   topic_origin.append(str(topics[threads.index[i]]))\n",
        "\n",
        "                  \n",
        "# print(topic_evolv)\n",
        "# print(topic_origin)"
      ],
      "metadata": {
        "id": "0DegErdv6eR2"
      },
      "id": "0DegErdv6eR2",
      "execution_count": null,
      "outputs": []
    },
    {
      "cell_type": "markdown",
      "source": [
        "### Averaged topic probabilities"
      ],
      "metadata": {
        "id": "xNcGndwtjWn4"
      },
      "id": "xNcGndwtjWn4"
    },
    {
      "cell_type": "code",
      "source": [
        "email_id = thread['index'].iloc[1650]\n",
        "threads = thread[thread['email_x'] == email_id].sort_values('id')\n",
        "result = []\n",
        "prob_origin = []\n",
        "topic_evolv = []\n",
        "topic_origin = []\n",
        "for i in range(len(threads)):\n",
        "  body = threads['bow'].iloc[i].split()\n",
        "  weight = min(1,1/(np.log(len(body)+1)+1)*3)\n",
        "  if i==0:\n",
        "    topic_evolv.append(str(np.argmax(probs[threads.index[i]])))\n",
        "    topic_origin.append(str(np.argmax(probs[threads.index[i]])))\n",
        "    result.append(probs[threads.index[i]])\n",
        "    prob_origin.append(probs[threads.index[i]])\n",
        "  else:\n",
        "    result.append((weight)*result[-1]+(1-weight)*probs[threads.index[i]])\n",
        "    topic_evolv.append(str(np.argmax(result[-1])))\n",
        "    topic_origin.append(str(np.argmax(probs[threads.index[i]])))\n",
        "    prob_origin.append(probs[threads.index[i]])\n",
        "                  \n",
        "print(topic_evolv)\n",
        "print(topic_origin)"
      ],
      "metadata": {
        "colab": {
          "base_uri": "https://localhost:8080/"
        },
        "id": "HdvUy8cK0qR-",
        "outputId": "c8b0378f-45ce-4ec4-a39d-2f1efb7c91c6"
      },
      "id": "HdvUy8cK0qR-",
      "execution_count": null,
      "outputs": [
        {
          "output_type": "stream",
          "name": "stdout",
          "text": [
            "['40', '40', '16', '16', '29']\n",
            "['40', '6', '16', '16', '29']\n"
          ]
        }
      ]
    },
    {
      "cell_type": "markdown",
      "source": [
        "### Topic changes over threads"
      ],
      "metadata": {
        "id": "WQUUc8wUxI8Y"
      },
      "id": "WQUUc8wUxI8Y"
    },
    {
      "cell_type": "code",
      "source": [
        "x = list(range(len(topic_evolv)))\n",
        "plt.plot(x,list(map(int,topic_evolv)))\n",
        "plt.xticks(x)\n",
        "plt.xlabel('Thread')\n",
        "plt.ylabel('Topic')\n",
        "plt.title('Topic changes over threads');"
      ],
      "metadata": {
        "colab": {
          "base_uri": "https://localhost:8080/",
          "height": 301
        },
        "id": "rwf2R9BixLGG",
        "outputId": "6b9ebfb1-cbf4-4b33-8e88-1e4db6587b2c"
      },
      "id": "rwf2R9BixLGG",
      "execution_count": null,
      "outputs": [
        {
          "output_type": "display_data",
          "data": {
            "text/plain": [
              "<Figure size 432x288 with 1 Axes>"
            ],
            "image/png": "[encoded data removed]"
          },
          "metadata": {}
        }
      ]
    },
    {
      "cell_type": "markdown",
      "source": [
        "### Domain topic change"
      ],
      "metadata": {
        "id": "r2El_bWjpgvv"
      },
      "id": "r2El_bWjpgvv"
    },
    {
      "cell_type": "code",
      "source": [
        "from collections import Counter\n",
        "counts = Counter(topic_evolv)\n",
        "domain_topic = sorted(counts.items(),key = lambda x:x[1],reverse = True)[:2]\n"
      ],
      "metadata": {
        "id": "GX6TOrMhpfWN"
      },
      "id": "GX6TOrMhpfWN",
      "execution_count": null,
      "outputs": []
    },
    {
      "cell_type": "code",
      "source": [
        "nltk.download('all')"
      ],
      "metadata": {
        "id": "8LpWOBswsLnw"
      },
      "id": "8LpWOBswsLnw",
      "execution_count": null,
      "outputs": []
    },
    {
      "cell_type": "code",
      "source": [
        "import matplotlib.pyplot as plt\n",
        "import seaborn as sns\n",
        "sns. set (style= \"darkgrid\")"
      ],
      "metadata": {
        "id": "hsNneZX5udyX"
      },
      "id": "hsNneZX5udyX",
      "execution_count": null,
      "outputs": []
    },
    {
      "cell_type": "code",
      "source": [
        "freq = ['_'.join(i) for i in list(bigrams(topic_evolv))]\n",
        "counts = FreqDist(freq)\n",
        "# counts.plot(10)\n",
        "x, y = zip (*sorted(counts.items(),key = lambda x:x[1],reverse = True)[:2])\n",
        "plt.bar(x,y)\n",
        "plt.title('Frequency of topic changes')\n",
        "plt.ylabel('Frequency')\n",
        "plt.xlabel('Topic change');"
      ],
      "metadata": {
        "colab": {
          "base_uri": "https://localhost:8080/",
          "height": 302
        },
        "id": "TLDzq3haq8_S",
        "outputId": "0c22b5ed-8eca-4df5-a499-d0cc2c370c8a"
      },
      "id": "TLDzq3haq8_S",
      "execution_count": null,
      "outputs": [
        {
          "output_type": "display_data",
          "data": {
            "text/plain": [
              "<Figure size 432x288 with 1 Axes>"
            ],
            "image/png": "[encoded data removed]"
          },
          "metadata": {}
        }
      ]
    },
    {
      "cell_type": "markdown",
      "source": [
        "### Hierarchical result"
      ],
      "metadata": {
        "id": "9APPlNpApqn0"
      },
      "id": "9APPlNpApqn0"
    },
    {
      "cell_type": "code",
      "source": [
        "for i in range(len(hierarchical_topics['Topics'])):\n",
        "  if 364 in hierarchical_topics['Topics'].iloc[i]:\n",
        "    print(hierarchical_topics['Parent_ID'].iloc[i],hierarchical_topics['Parent_Name'].iloc[i],hierarchical_topics['Topics'].iloc[i])"
      ],
      "metadata": {
        "id": "FdvXSkhHEyRQ"
      },
      "id": "FdvXSkhHEyRQ",
      "execution_count": null,
      "outputs": []
    },
    {
      "cell_type": "code",
      "source": [
        "for i in range(len(hierarchical_topics['Topics'])):\n",
        "  if 14 in hierarchical_topics['Topics'].iloc[i]:\n",
        "    print(hierarchical_topics['Parent_ID'].iloc[i],hierarchical_topics['Parent_Name'].iloc[i],hierarchical_topics['Topics'].iloc[i])"
      ],
      "metadata": {
        "id": "o-1n7eYxBJ9M"
      },
      "id": "o-1n7eYxBJ9M",
      "execution_count": null,
      "outputs": []
    },
    {
      "cell_type": "code",
      "source": [
        "parent_id = list(hierarchical_topics[(hierarchical_topics['Child_Left_ID'].isin(topic_origin) ) | (hierarchical_topics['Child_Right_ID'].isin(topic_origin))]['Parent_ID'])\n",
        "new = hierarchical_topics[hierarchical_topics['Parent_ID'].isin(parent_id)]"
      ],
      "metadata": {
        "id": "s9y6HrGBFIgI"
      },
      "id": "s9y6HrGBFIgI",
      "execution_count": null,
      "outputs": []
    },
    {
      "cell_type": "code",
      "source": [
        "new_topic = []\n",
        "for i in range(len(new)):\n",
        "  # print(i)\n",
        "  new_topic+=new['Topics'].iloc[i]"
      ],
      "metadata": {
        "id": "cUuyqIpWJW8O"
      },
      "id": "cUuyqIpWJW8O",
      "execution_count": null,
      "outputs": []
    },
    {
      "cell_type": "code",
      "source": [
        "model.visualize_hierarchy(hierarchical_topics=hierarchical_topics,topics = map(int,list(set(topic_origin))))"
      ],
      "metadata": {
        "colab": {
          "base_uri": "https://localhost:8080/",
          "height": 277
        },
        "id": "hOimRkIwK2de",
        "outputId": "1cf0e402-abf4-4cdd-d759-14c803c51131"
      },
      "id": "hOimRkIwK2de",
      "execution_count": null,
      "outputs": [
        {
          "output_type": "display_data",
          "data": {
            "text/html": [
              "<html>\n",
              "<head><meta charset=\"utf-8\" /></head>\n",
              "<body>\n",
              "    <div>            <script src=\"https://cdnjs.cloudflare.com/ajax/libs/mathjax/2.7.5/MathJax.js?config=TeX-AMS-MML_SVG\"></script><script type=\"text/javascript\">if (window.MathJax) {MathJax.Hub.Config({SVG: {font: \"STIX-Web\"}});}</script>                <script type=\"text/javascript\">window.PlotlyConfig = {MathJaxConfig: 'local'};</script>\n",
              "        <script src=\"https://cdn.plot.ly/plotly-2.8.3.min.js\"></script>                <div id=\"353169db-b471-4312-ada6-0c5baf0133a3\" class=\"plotly-graph-div\" style=\"height:260px; width:1000px;\"></div>            <script type=\"text/javascript\">                                    window.PLOTLYENV=window.PLOTLYENV || {};                                    if (document.getElementById(\"353169db-b471-4312-ada6-0c5baf0133a3\")) {                    Plotly.newPlot(                        \"353169db-b471-4312-ada6-0c5baf0133a3\",                        [{\"hoverinfo\":\"text\",\"marker\":{\"color\":\"rgb(0,116,217)\"},\"mode\":\"lines\",\"x\":[0.0,1.206708601935885,1.206708601935885,0.0],\"xaxis\":\"x\",\"y\":[-15.0,-15.0,-25.0,-25.0],\"yaxis\":\"y\",\"type\":\"scatter\"},{\"hoverinfo\":\"text\",\"marker\":{\"color\":\"rgb(0,116,217)\"},\"mode\":\"lines\",\"x\":[1.206708601935885,1.3681240194472812,1.3681240194472812,0.0],\"xaxis\":\"x\",\"y\":[-20.0,-20.0,-35.0,-35.0],\"yaxis\":\"y\",\"type\":\"scatter\"},{\"hoverinfo\":\"text\",\"marker\":{\"color\":\"rgb(0,116,217)\"},\"mode\":\"lines\",\"x\":[0.0,1.3979493693433962,1.3979493693433962,1.3681240194472812],\"xaxis\":\"x\",\"y\":[-5.0,-5.0,-27.5,-27.5],\"yaxis\":\"y\",\"type\":\"scatter\"},{\"hoverinfo\":\"text\",\"hovertext\":[],\"marker\":{\"color\":\"black\"},\"mode\":\"markers\",\"showlegend\":false,\"x\":[],\"y\":[],\"type\":\"scatter\"},{\"hoverinfo\":\"text\",\"hovertext\":[],\"marker\":{\"color\":\"black\"},\"mode\":\"markers\",\"showlegend\":false,\"x\":[],\"y\":[],\"type\":\"scatter\"}],                        {\"autosize\":false,\"height\":260,\"hovermode\":\"closest\",\"showlegend\":false,\"width\":1000,\"xaxis\":{\"mirror\":\"allticks\",\"rangemode\":\"tozero\",\"showgrid\":false,\"showline\":true,\"showticklabels\":true,\"ticks\":\"outside\",\"type\":\"linear\",\"zeroline\":false},\"yaxis\":{\"mirror\":\"allticks\",\"rangemode\":\"tozero\",\"showgrid\":false,\"showline\":true,\"showticklabels\":true,\"tickmode\":\"array\",\"ticks\":\"outside\",\"ticktext\":[\"29_sara_erik one_like erik\",\"6_agreement_exhibit_language\",\"16_sap_credit_risk\",\"40_club_ticket_camp\"],\"tickvals\":[-5.0,-15.0,-25.0,-35.0],\"type\":\"linear\",\"zeroline\":false,\"range\":[-40.0,0.0]},\"template\":{\"data\":{\"barpolar\":[{\"marker\":{\"line\":{\"color\":\"white\",\"width\":0.5},\"pattern\":{\"fillmode\":\"overlay\",\"size\":10,\"solidity\":0.2}},\"type\":\"barpolar\"}],\"bar\":[{\"error_x\":{\"color\":\"#2a3f5f\"},\"error_y\":{\"color\":\"#2a3f5f\"},\"marker\":{\"line\":{\"color\":\"white\",\"width\":0.5},\"pattern\":{\"fillmode\":\"overlay\",\"size\":10,\"solidity\":0.2}},\"type\":\"bar\"}],\"carpet\":[{\"aaxis\":{\"endlinecolor\":\"#2a3f5f\",\"gridcolor\":\"#C8D4E3\",\"linecolor\":\"#C8D4E3\",\"minorgridcolor\":\"#C8D4E3\",\"startlinecolor\":\"#2a3f5f\"},\"baxis\":{\"endlinecolor\":\"#2a3f5f\",\"gridcolor\":\"#C8D4E3\",\"linecolor\":\"#C8D4E3\",\"minorgridcolor\":\"#C8D4E3\",\"startlinecolor\":\"#2a3f5f\"},\"type\":\"carpet\"}],\"choropleth\":[{\"colorbar\":{\"outlinewidth\":0,\"ticks\":\"\"},\"type\":\"choropleth\"}],\"contourcarpet\":[{\"colorbar\":{\"outlinewidth\":0,\"ticks\":\"\"},\"type\":\"contourcarpet\"}],\"contour\":[{\"colorbar\":{\"outlinewidth\":0,\"ticks\":\"\"},\"colorscale\":[[0.0,\"#0d0887\"],[0.1111111111111111,\"#46039f\"],[0.2222222222222222,\"#7201a8\"],[0.3333333333333333,\"#9c179e\"],[0.4444444444444444,\"#bd3786\"],[0.5555555555555556,\"#d8576b\"],[0.6666666666666666,\"#ed7953\"],[0.7777777777777778,\"#fb9f3a\"],[0.8888888888888888,\"#fdca26\"],[1.0,\"#f0f921\"]],\"type\":\"contour\"}],\"heatmapgl\":[{\"colorbar\":{\"outlinewidth\":0,\"ticks\":\"\"},\"colorscale\":[[0.0,\"#0d0887\"],[0.1111111111111111,\"#46039f\"],[0.2222222222222222,\"#7201a8\"],[0.3333333333333333,\"#9c179e\"],[0.4444444444444444,\"#bd3786\"],[0.5555555555555556,\"#d8576b\"],[0.6666666666666666,\"#ed7953\"],[0.7777777777777778,\"#fb9f3a\"],[0.8888888888888888,\"#fdca26\"],[1.0,\"#f0f921\"]],\"type\":\"heatmapgl\"}],\"heatmap\":[{\"colorbar\":{\"outlinewidth\":0,\"ticks\":\"\"},\"colorscale\":[[0.0,\"#0d0887\"],[0.1111111111111111,\"#46039f\"],[0.2222222222222222,\"#7201a8\"],[0.3333333333333333,\"#9c179e\"],[0.4444444444444444,\"#bd3786\"],[0.5555555555555556,\"#d8576b\"],[0.6666666666666666,\"#ed7953\"],[0.7777777777777778,\"#fb9f3a\"],[0.8888888888888888,\"#fdca26\"],[1.0,\"#f0f921\"]],\"type\":\"heatmap\"}],\"histogram2dcontour\":[{\"colorbar\":{\"outlinewidth\":0,\"ticks\":\"\"},\"colorscale\":[[0.0,\"#0d0887\"],[0.1111111111111111,\"#46039f\"],[0.2222222222222222,\"#7201a8\"],[0.3333333333333333,\"#9c179e\"],[0.4444444444444444,\"#bd3786\"],[0.5555555555555556,\"#d8576b\"],[0.6666666666666666,\"#ed7953\"],[0.7777777777777778,\"#fb9f3a\"],[0.8888888888888888,\"#fdca26\"],[1.0,\"#f0f921\"]],\"type\":\"histogram2dcontour\"}],\"histogram2d\":[{\"colorbar\":{\"outlinewidth\":0,\"ticks\":\"\"},\"colorscale\":[[0.0,\"#0d0887\"],[0.1111111111111111,\"#46039f\"],[0.2222222222222222,\"#7201a8\"],[0.3333333333333333,\"#9c179e\"],[0.4444444444444444,\"#bd3786\"],[0.5555555555555556,\"#d8576b\"],[0.6666666666666666,\"#ed7953\"],[0.7777777777777778,\"#fb9f3a\"],[0.8888888888888888,\"#fdca26\"],[1.0,\"#f0f921\"]],\"type\":\"histogram2d\"}],\"histogram\":[{\"marker\":{\"pattern\":{\"fillmode\":\"overlay\",\"size\":10,\"solidity\":0.2}},\"type\":\"histogram\"}],\"mesh3d\":[{\"colorbar\":{\"outlinewidth\":0,\"ticks\":\"\"},\"type\":\"mesh3d\"}],\"parcoords\":[{\"line\":{\"colorbar\":{\"outlinewidth\":0,\"ticks\":\"\"}},\"type\":\"parcoords\"}],\"pie\":[{\"automargin\":true,\"type\":\"pie\"}],\"scatter3d\":[{\"line\":{\"colorbar\":{\"outlinewidth\":0,\"ticks\":\"\"}},\"marker\":{\"colorbar\":{\"outlinewidth\":0,\"ticks\":\"\"}},\"type\":\"scatter3d\"}],\"scattercarpet\":[{\"marker\":{\"colorbar\":{\"outlinewidth\":0,\"ticks\":\"\"}},\"type\":\"scattercarpet\"}],\"scattergeo\":[{\"marker\":{\"colorbar\":{\"outlinewidth\":0,\"ticks\":\"\"}},\"type\":\"scattergeo\"}],\"scattergl\":[{\"marker\":{\"colorbar\":{\"outlinewidth\":0,\"ticks\":\"\"}},\"type\":\"scattergl\"}],\"scattermapbox\":[{\"marker\":{\"colorbar\":{\"outlinewidth\":0,\"ticks\":\"\"}},\"type\":\"scattermapbox\"}],\"scatterpolargl\":[{\"marker\":{\"colorbar\":{\"outlinewidth\":0,\"ticks\":\"\"}},\"type\":\"scatterpolargl\"}],\"scatterpolar\":[{\"marker\":{\"colorbar\":{\"outlinewidth\":0,\"ticks\":\"\"}},\"type\":\"scatterpolar\"}],\"scatter\":[{\"marker\":{\"colorbar\":{\"outlinewidth\":0,\"ticks\":\"\"}},\"type\":\"scatter\"}],\"scatterternary\":[{\"marker\":{\"colorbar\":{\"outlinewidth\":0,\"ticks\":\"\"}},\"type\":\"scatterternary\"}],\"surface\":[{\"colorbar\":{\"outlinewidth\":0,\"ticks\":\"\"},\"colorscale\":[[0.0,\"#0d0887\"],[0.1111111111111111,\"#46039f\"],[0.2222222222222222,\"#7201a8\"],[0.3333333333333333,\"#9c179e\"],[0.4444444444444444,\"#bd3786\"],[0.5555555555555556,\"#d8576b\"],[0.6666666666666666,\"#ed7953\"],[0.7777777777777778,\"#fb9f3a\"],[0.8888888888888888,\"#fdca26\"],[1.0,\"#f0f921\"]],\"type\":\"surface\"}],\"table\":[{\"cells\":{\"fill\":{\"color\":\"#EBF0F8\"},\"line\":{\"color\":\"white\"}},\"header\":{\"fill\":{\"color\":\"#C8D4E3\"},\"line\":{\"color\":\"white\"}},\"type\":\"table\"}]},\"layout\":{\"annotationdefaults\":{\"arrowcolor\":\"#2a3f5f\",\"arrowhead\":0,\"arrowwidth\":1},\"autotypenumbers\":\"strict\",\"coloraxis\":{\"colorbar\":{\"outlinewidth\":0,\"ticks\":\"\"}},\"colorscale\":{\"diverging\":[[0,\"#8e0152\"],[0.1,\"#c51b7d\"],[0.2,\"#de77ae\"],[0.3,\"#f1b6da\"],[0.4,\"#fde0ef\"],[0.5,\"#f7f7f7\"],[0.6,\"#e6f5d0\"],[0.7,\"#b8e186\"],[0.8,\"#7fbc41\"],[0.9,\"#4d9221\"],[1,\"#276419\"]],\"sequential\":[[0.0,\"#0d0887\"],[0.1111111111111111,\"#46039f\"],[0.2222222222222222,\"#7201a8\"],[0.3333333333333333,\"#9c179e\"],[0.4444444444444444,\"#bd3786\"],[0.5555555555555556,\"#d8576b\"],[0.6666666666666666,\"#ed7953\"],[0.7777777777777778,\"#fb9f3a\"],[0.8888888888888888,\"#fdca26\"],[1.0,\"#f0f921\"]],\"sequentialminus\":[[0.0,\"#0d0887\"],[0.1111111111111111,\"#46039f\"],[0.2222222222222222,\"#7201a8\"],[0.3333333333333333,\"#9c179e\"],[0.4444444444444444,\"#bd3786\"],[0.5555555555555556,\"#d8576b\"],[0.6666666666666666,\"#ed7953\"],[0.7777777777777778,\"#fb9f3a\"],[0.8888888888888888,\"#fdca26\"],[1.0,\"#f0f921\"]]},\"colorway\":[\"#636efa\",\"#EF553B\",\"#00cc96\",\"#ab63fa\",\"#FFA15A\",\"#19d3f3\",\"#FF6692\",\"#B6E880\",\"#FF97FF\",\"#FECB52\"],\"font\":{\"color\":\"#2a3f5f\"},\"geo\":{\"bgcolor\":\"white\",\"lakecolor\":\"white\",\"landcolor\":\"white\",\"showlakes\":true,\"showland\":true,\"subunitcolor\":\"#C8D4E3\"},\"hoverlabel\":{\"align\":\"left\"},\"hovermode\":\"closest\",\"mapbox\":{\"style\":\"light\"},\"paper_bgcolor\":\"white\",\"plot_bgcolor\":\"white\",\"polar\":{\"angularaxis\":{\"gridcolor\":\"#EBF0F8\",\"linecolor\":\"#EBF0F8\",\"ticks\":\"\"},\"bgcolor\":\"white\",\"radialaxis\":{\"gridcolor\":\"#EBF0F8\",\"linecolor\":\"#EBF0F8\",\"ticks\":\"\"}},\"scene\":{\"xaxis\":{\"backgroundcolor\":\"white\",\"gridcolor\":\"#DFE8F3\",\"gridwidth\":2,\"linecolor\":\"#EBF0F8\",\"showbackground\":true,\"ticks\":\"\",\"zerolinecolor\":\"#EBF0F8\"},\"yaxis\":{\"backgroundcolor\":\"white\",\"gridcolor\":\"#DFE8F3\",\"gridwidth\":2,\"linecolor\":\"#EBF0F8\",\"showbackground\":true,\"ticks\":\"\",\"zerolinecolor\":\"#EBF0F8\"},\"zaxis\":{\"backgroundcolor\":\"white\",\"gridcolor\":\"#DFE8F3\",\"gridwidth\":2,\"linecolor\":\"#EBF0F8\",\"showbackground\":true,\"ticks\":\"\",\"zerolinecolor\":\"#EBF0F8\"}},\"shapedefaults\":{\"line\":{\"color\":\"#2a3f5f\"}},\"ternary\":{\"aaxis\":{\"gridcolor\":\"#DFE8F3\",\"linecolor\":\"#A2B1C6\",\"ticks\":\"\"},\"baxis\":{\"gridcolor\":\"#DFE8F3\",\"linecolor\":\"#A2B1C6\",\"ticks\":\"\"},\"bgcolor\":\"white\",\"caxis\":{\"gridcolor\":\"#DFE8F3\",\"linecolor\":\"#A2B1C6\",\"ticks\":\"\"}},\"title\":{\"x\":0.05},\"xaxis\":{\"automargin\":true,\"gridcolor\":\"#EBF0F8\",\"linecolor\":\"#EBF0F8\",\"ticks\":\"\",\"title\":{\"standoff\":15},\"zerolinecolor\":\"#EBF0F8\",\"zerolinewidth\":2},\"yaxis\":{\"automargin\":true,\"gridcolor\":\"#EBF0F8\",\"linecolor\":\"#EBF0F8\",\"ticks\":\"\",\"title\":{\"standoff\":15},\"zerolinecolor\":\"#EBF0F8\",\"zerolinewidth\":2}}},\"title\":{\"font\":{\"size\":22,\"color\":\"Black\"},\"text\":\"<b>Hierarchical Clustering\",\"x\":0.5,\"xanchor\":\"center\",\"yanchor\":\"top\"},\"hoverlabel\":{\"font\":{\"size\":16,\"family\":\"Rockwell\"},\"bgcolor\":\"white\"},\"plot_bgcolor\":\"#ECEFF1\"},                        {\"responsive\": true}                    ).then(function(){\n",
              "                            \n",
              "var gd = document.getElementById('353169db-b471-4312-ada6-0c5baf0133a3');\n",
              "var x = new MutationObserver(function (mutations, observer) {{\n",
              "        var display = window.getComputedStyle(gd).display;\n",
              "        if (!display || display === 'none') {{\n",
              "            console.log([gd, 'removed!']);\n",
              "            Plotly.purge(gd);\n",
              "            observer.disconnect();\n",
              "        }}\n",
              "}});\n",
              "\n",
              "// Listen for the removal of the full notebook cells\n",
              "var notebookContainer = gd.closest('#notebook-container');\n",
              "if (notebookContainer) {{\n",
              "    x.observe(notebookContainer, {childList: true});\n",
              "}}\n",
              "\n",
              "// Listen for the clearing of the current output cell\n",
              "var outputEl = gd.closest('.output');\n",
              "if (outputEl) {{\n",
              "    x.observe(outputEl, {childList: true});\n",
              "}}\n",
              "\n",
              "                        })                };                            </script>        </div>\n",
              "</body>\n",
              "</html>"
            ]
          },
          "metadata": {}
        }
      ]
    },
    {
      "cell_type": "code",
      "source": [
        "model.visualize_hierarchy(hierarchical_topics=hierarchical_topics,topics = map(int,list(set(topic_evolv))))"
      ],
      "metadata": {
        "colab": {
          "base_uri": "https://localhost:8080/",
          "height": 262
        },
        "id": "_Edopk4IzqBJ",
        "outputId": "07f391d8-7619-4188-89d6-b4059aef3b1b"
      },
      "id": "_Edopk4IzqBJ",
      "execution_count": null,
      "outputs": [
        {
          "output_type": "display_data",
          "data": {
            "text/html": [
              "<html>\n",
              "<head><meta charset=\"utf-8\" /></head>\n",
              "<body>\n",
              "    <div>            <script src=\"https://cdnjs.cloudflare.com/ajax/libs/mathjax/2.7.5/MathJax.js?config=TeX-AMS-MML_SVG\"></script><script type=\"text/javascript\">if (window.MathJax) {MathJax.Hub.Config({SVG: {font: \"STIX-Web\"}});}</script>                <script type=\"text/javascript\">window.PlotlyConfig = {MathJaxConfig: 'local'};</script>\n",
              "        <script src=\"https://cdn.plot.ly/plotly-2.8.3.min.js\"></script>                <div id=\"22a71d78-087d-4c7d-a14f-67ca123475a0\" class=\"plotly-graph-div\" style=\"height:245px; width:1000px;\"></div>            <script type=\"text/javascript\">                                    window.PLOTLYENV=window.PLOTLYENV || {};                                    if (document.getElementById(\"22a71d78-087d-4c7d-a14f-67ca123475a0\")) {                    Plotly.newPlot(                        \"22a71d78-087d-4c7d-a14f-67ca123475a0\",                        [{\"hoverinfo\":\"text\",\"marker\":{\"color\":\"rgb(0,116,217)\"},\"mode\":\"lines\",\"x\":[0.0,1.3080098025243632,1.3080098025243632,0.0],\"xaxis\":\"x\",\"y\":[-15.0,-15.0,-25.0,-25.0],\"yaxis\":\"y\",\"type\":\"scatter\"},{\"hoverinfo\":\"text\",\"marker\":{\"color\":\"rgb(0,116,217)\"},\"mode\":\"lines\",\"x\":[0.0,1.3874213335302261,1.3874213335302261,1.3080098025243632],\"xaxis\":\"x\",\"y\":[-5.0,-5.0,-20.0,-20.0],\"yaxis\":\"y\",\"type\":\"scatter\"},{\"hoverinfo\":\"text\",\"hovertext\":[],\"marker\":{\"color\":\"black\"},\"mode\":\"markers\",\"showlegend\":false,\"x\":[],\"y\":[],\"type\":\"scatter\"},{\"hoverinfo\":\"text\",\"hovertext\":[],\"marker\":{\"color\":\"black\"},\"mode\":\"markers\",\"showlegend\":false,\"x\":[],\"y\":[],\"type\":\"scatter\"}],                        {\"autosize\":false,\"height\":245,\"hovermode\":\"closest\",\"showlegend\":false,\"width\":1000,\"xaxis\":{\"mirror\":\"allticks\",\"rangemode\":\"tozero\",\"showgrid\":false,\"showline\":true,\"showticklabels\":true,\"ticks\":\"outside\",\"type\":\"linear\",\"zeroline\":false},\"yaxis\":{\"mirror\":\"allticks\",\"rangemode\":\"tozero\",\"showgrid\":false,\"showline\":true,\"showticklabels\":true,\"tickmode\":\"array\",\"ticks\":\"outside\",\"ticktext\":[\"29_sara_erik one_like erik\",\"16_sap_credit_risk\",\"40_club_ticket_camp\"],\"tickvals\":[-5.0,-15.0,-25.0],\"type\":\"linear\",\"zeroline\":false,\"range\":[-30.0,0.0]},\"template\":{\"data\":{\"barpolar\":[{\"marker\":{\"line\":{\"color\":\"white\",\"width\":0.5},\"pattern\":{\"fillmode\":\"overlay\",\"size\":10,\"solidity\":0.2}},\"type\":\"barpolar\"}],\"bar\":[{\"error_x\":{\"color\":\"#2a3f5f\"},\"error_y\":{\"color\":\"#2a3f5f\"},\"marker\":{\"line\":{\"color\":\"white\",\"width\":0.5},\"pattern\":{\"fillmode\":\"overlay\",\"size\":10,\"solidity\":0.2}},\"type\":\"bar\"}],\"carpet\":[{\"aaxis\":{\"endlinecolor\":\"#2a3f5f\",\"gridcolor\":\"#C8D4E3\",\"linecolor\":\"#C8D4E3\",\"minorgridcolor\":\"#C8D4E3\",\"startlinecolor\":\"#2a3f5f\"},\"baxis\":{\"endlinecolor\":\"#2a3f5f\",\"gridcolor\":\"#C8D4E3\",\"linecolor\":\"#C8D4E3\",\"minorgridcolor\":\"#C8D4E3\",\"startlinecolor\":\"#2a3f5f\"},\"type\":\"carpet\"}],\"choropleth\":[{\"colorbar\":{\"outlinewidth\":0,\"ticks\":\"\"},\"type\":\"choropleth\"}],\"contourcarpet\":[{\"colorbar\":{\"outlinewidth\":0,\"ticks\":\"\"},\"type\":\"contourcarpet\"}],\"contour\":[{\"colorbar\":{\"outlinewidth\":0,\"ticks\":\"\"},\"colorscale\":[[0.0,\"#0d0887\"],[0.1111111111111111,\"#46039f\"],[0.2222222222222222,\"#7201a8\"],[0.3333333333333333,\"#9c179e\"],[0.4444444444444444,\"#bd3786\"],[0.5555555555555556,\"#d8576b\"],[0.6666666666666666,\"#ed7953\"],[0.7777777777777778,\"#fb9f3a\"],[0.8888888888888888,\"#fdca26\"],[1.0,\"#f0f921\"]],\"type\":\"contour\"}],\"heatmapgl\":[{\"colorbar\":{\"outlinewidth\":0,\"ticks\":\"\"},\"colorscale\":[[0.0,\"#0d0887\"],[0.1111111111111111,\"#46039f\"],[0.2222222222222222,\"#7201a8\"],[0.3333333333333333,\"#9c179e\"],[0.4444444444444444,\"#bd3786\"],[0.5555555555555556,\"#d8576b\"],[0.6666666666666666,\"#ed7953\"],[0.7777777777777778,\"#fb9f3a\"],[0.8888888888888888,\"#fdca26\"],[1.0,\"#f0f921\"]],\"type\":\"heatmapgl\"}],\"heatmap\":[{\"colorbar\":{\"outlinewidth\":0,\"ticks\":\"\"},\"colorscale\":[[0.0,\"#0d0887\"],[0.1111111111111111,\"#46039f\"],[0.2222222222222222,\"#7201a8\"],[0.3333333333333333,\"#9c179e\"],[0.4444444444444444,\"#bd3786\"],[0.5555555555555556,\"#d8576b\"],[0.6666666666666666,\"#ed7953\"],[0.7777777777777778,\"#fb9f3a\"],[0.8888888888888888,\"#fdca26\"],[1.0,\"#f0f921\"]],\"type\":\"heatmap\"}],\"histogram2dcontour\":[{\"colorbar\":{\"outlinewidth\":0,\"ticks\":\"\"},\"colorscale\":[[0.0,\"#0d0887\"],[0.1111111111111111,\"#46039f\"],[0.2222222222222222,\"#7201a8\"],[0.3333333333333333,\"#9c179e\"],[0.4444444444444444,\"#bd3786\"],[0.5555555555555556,\"#d8576b\"],[0.6666666666666666,\"#ed7953\"],[0.7777777777777778,\"#fb9f3a\"],[0.8888888888888888,\"#fdca26\"],[1.0,\"#f0f921\"]],\"type\":\"histogram2dcontour\"}],\"histogram2d\":[{\"colorbar\":{\"outlinewidth\":0,\"ticks\":\"\"},\"colorscale\":[[0.0,\"#0d0887\"],[0.1111111111111111,\"#46039f\"],[0.2222222222222222,\"#7201a8\"],[0.3333333333333333,\"#9c179e\"],[0.4444444444444444,\"#bd3786\"],[0.5555555555555556,\"#d8576b\"],[0.6666666666666666,\"#ed7953\"],[0.7777777777777778,\"#fb9f3a\"],[0.8888888888888888,\"#fdca26\"],[1.0,\"#f0f921\"]],\"type\":\"histogram2d\"}],\"histogram\":[{\"marker\":{\"pattern\":{\"fillmode\":\"overlay\",\"size\":10,\"solidity\":0.2}},\"type\":\"histogram\"}],\"mesh3d\":[{\"colorbar\":{\"outlinewidth\":0,\"ticks\":\"\"},\"type\":\"mesh3d\"}],\"parcoords\":[{\"line\":{\"colorbar\":{\"outlinewidth\":0,\"ticks\":\"\"}},\"type\":\"parcoords\"}],\"pie\":[{\"automargin\":true,\"type\":\"pie\"}],\"scatter3d\":[{\"line\":{\"colorbar\":{\"outlinewidth\":0,\"ticks\":\"\"}},\"marker\":{\"colorbar\":{\"outlinewidth\":0,\"ticks\":\"\"}},\"type\":\"scatter3d\"}],\"scattercarpet\":[{\"marker\":{\"colorbar\":{\"outlinewidth\":0,\"ticks\":\"\"}},\"type\":\"scattercarpet\"}],\"scattergeo\":[{\"marker\":{\"colorbar\":{\"outlinewidth\":0,\"ticks\":\"\"}},\"type\":\"scattergeo\"}],\"scattergl\":[{\"marker\":{\"colorbar\":{\"outlinewidth\":0,\"ticks\":\"\"}},\"type\":\"scattergl\"}],\"scattermapbox\":[{\"marker\":{\"colorbar\":{\"outlinewidth\":0,\"ticks\":\"\"}},\"type\":\"scattermapbox\"}],\"scatterpolargl\":[{\"marker\":{\"colorbar\":{\"outlinewidth\":0,\"ticks\":\"\"}},\"type\":\"scatterpolargl\"}],\"scatterpolar\":[{\"marker\":{\"colorbar\":{\"outlinewidth\":0,\"ticks\":\"\"}},\"type\":\"scatterpolar\"}],\"scatter\":[{\"marker\":{\"colorbar\":{\"outlinewidth\":0,\"ticks\":\"\"}},\"type\":\"scatter\"}],\"scatterternary\":[{\"marker\":{\"colorbar\":{\"outlinewidth\":0,\"ticks\":\"\"}},\"type\":\"scatterternary\"}],\"surface\":[{\"colorbar\":{\"outlinewidth\":0,\"ticks\":\"\"},\"colorscale\":[[0.0,\"#0d0887\"],[0.1111111111111111,\"#46039f\"],[0.2222222222222222,\"#7201a8\"],[0.3333333333333333,\"#9c179e\"],[0.4444444444444444,\"#bd3786\"],[0.5555555555555556,\"#d8576b\"],[0.6666666666666666,\"#ed7953\"],[0.7777777777777778,\"#fb9f3a\"],[0.8888888888888888,\"#fdca26\"],[1.0,\"#f0f921\"]],\"type\":\"surface\"}],\"table\":[{\"cells\":{\"fill\":{\"color\":\"#EBF0F8\"},\"line\":{\"color\":\"white\"}},\"header\":{\"fill\":{\"color\":\"#C8D4E3\"},\"line\":{\"color\":\"white\"}},\"type\":\"table\"}]},\"layout\":{\"annotationdefaults\":{\"arrowcolor\":\"#2a3f5f\",\"arrowhead\":0,\"arrowwidth\":1},\"autotypenumbers\":\"strict\",\"coloraxis\":{\"colorbar\":{\"outlinewidth\":0,\"ticks\":\"\"}},\"colorscale\":{\"diverging\":[[0,\"#8e0152\"],[0.1,\"#c51b7d\"],[0.2,\"#de77ae\"],[0.3,\"#f1b6da\"],[0.4,\"#fde0ef\"],[0.5,\"#f7f7f7\"],[0.6,\"#e6f5d0\"],[0.7,\"#b8e186\"],[0.8,\"#7fbc41\"],[0.9,\"#4d9221\"],[1,\"#276419\"]],\"sequential\":[[0.0,\"#0d0887\"],[0.1111111111111111,\"#46039f\"],[0.2222222222222222,\"#7201a8\"],[0.3333333333333333,\"#9c179e\"],[0.4444444444444444,\"#bd3786\"],[0.5555555555555556,\"#d8576b\"],[0.6666666666666666,\"#ed7953\"],[0.7777777777777778,\"#fb9f3a\"],[0.8888888888888888,\"#fdca26\"],[1.0,\"#f0f921\"]],\"sequentialminus\":[[0.0,\"#0d0887\"],[0.1111111111111111,\"#46039f\"],[0.2222222222222222,\"#7201a8\"],[0.3333333333333333,\"#9c179e\"],[0.4444444444444444,\"#bd3786\"],[0.5555555555555556,\"#d8576b\"],[0.6666666666666666,\"#ed7953\"],[0.7777777777777778,\"#fb9f3a\"],[0.8888888888888888,\"#fdca26\"],[1.0,\"#f0f921\"]]},\"colorway\":[\"#636efa\",\"#EF553B\",\"#00cc96\",\"#ab63fa\",\"#FFA15A\",\"#19d3f3\",\"#FF6692\",\"#B6E880\",\"#FF97FF\",\"#FECB52\"],\"font\":{\"color\":\"#2a3f5f\"},\"geo\":{\"bgcolor\":\"white\",\"lakecolor\":\"white\",\"landcolor\":\"white\",\"showlakes\":true,\"showland\":true,\"subunitcolor\":\"#C8D4E3\"},\"hoverlabel\":{\"align\":\"left\"},\"hovermode\":\"closest\",\"mapbox\":{\"style\":\"light\"},\"paper_bgcolor\":\"white\",\"plot_bgcolor\":\"white\",\"polar\":{\"angularaxis\":{\"gridcolor\":\"#EBF0F8\",\"linecolor\":\"#EBF0F8\",\"ticks\":\"\"},\"bgcolor\":\"white\",\"radialaxis\":{\"gridcolor\":\"#EBF0F8\",\"linecolor\":\"#EBF0F8\",\"ticks\":\"\"}},\"scene\":{\"xaxis\":{\"backgroundcolor\":\"white\",\"gridcolor\":\"#DFE8F3\",\"gridwidth\":2,\"linecolor\":\"#EBF0F8\",\"showbackground\":true,\"ticks\":\"\",\"zerolinecolor\":\"#EBF0F8\"},\"yaxis\":{\"backgroundcolor\":\"white\",\"gridcolor\":\"#DFE8F3\",\"gridwidth\":2,\"linecolor\":\"#EBF0F8\",\"showbackground\":true,\"ticks\":\"\",\"zerolinecolor\":\"#EBF0F8\"},\"zaxis\":{\"backgroundcolor\":\"white\",\"gridcolor\":\"#DFE8F3\",\"gridwidth\":2,\"linecolor\":\"#EBF0F8\",\"showbackground\":true,\"ticks\":\"\",\"zerolinecolor\":\"#EBF0F8\"}},\"shapedefaults\":{\"line\":{\"color\":\"#2a3f5f\"}},\"ternary\":{\"aaxis\":{\"gridcolor\":\"#DFE8F3\",\"linecolor\":\"#A2B1C6\",\"ticks\":\"\"},\"baxis\":{\"gridcolor\":\"#DFE8F3\",\"linecolor\":\"#A2B1C6\",\"ticks\":\"\"},\"bgcolor\":\"white\",\"caxis\":{\"gridcolor\":\"#DFE8F3\",\"linecolor\":\"#A2B1C6\",\"ticks\":\"\"}},\"title\":{\"x\":0.05},\"xaxis\":{\"automargin\":true,\"gridcolor\":\"#EBF0F8\",\"linecolor\":\"#EBF0F8\",\"ticks\":\"\",\"title\":{\"standoff\":15},\"zerolinecolor\":\"#EBF0F8\",\"zerolinewidth\":2},\"yaxis\":{\"automargin\":true,\"gridcolor\":\"#EBF0F8\",\"linecolor\":\"#EBF0F8\",\"ticks\":\"\",\"title\":{\"standoff\":15},\"zerolinecolor\":\"#EBF0F8\",\"zerolinewidth\":2}}},\"title\":{\"font\":{\"size\":22,\"color\":\"Black\"},\"text\":\"<b>Hierarchical Clustering\",\"x\":0.5,\"xanchor\":\"center\",\"yanchor\":\"top\"},\"hoverlabel\":{\"font\":{\"size\":16,\"family\":\"Rockwell\"},\"bgcolor\":\"white\"},\"plot_bgcolor\":\"#ECEFF1\"},                        {\"responsive\": true}                    ).then(function(){\n",
              "                            \n",
              "var gd = document.getElementById('22a71d78-087d-4c7d-a14f-67ca123475a0');\n",
              "var x = new MutationObserver(function (mutations, observer) {{\n",
              "        var display = window.getComputedStyle(gd).display;\n",
              "        if (!display || display === 'none') {{\n",
              "            console.log([gd, 'removed!']);\n",
              "            Plotly.purge(gd);\n",
              "            observer.disconnect();\n",
              "        }}\n",
              "}});\n",
              "\n",
              "// Listen for the removal of the full notebook cells\n",
              "var notebookContainer = gd.closest('#notebook-container');\n",
              "if (notebookContainer) {{\n",
              "    x.observe(notebookContainer, {childList: true});\n",
              "}}\n",
              "\n",
              "// Listen for the clearing of the current output cell\n",
              "var outputEl = gd.closest('.output');\n",
              "if (outputEl) {{\n",
              "    x.observe(outputEl, {childList: true});\n",
              "}}\n",
              "\n",
              "                        })                };                            </script>        </div>\n",
              "</body>\n",
              "</html>"
            ]
          },
          "metadata": {}
        }
      ]
    },
    {
      "cell_type": "code",
      "source": [
        "tree = model.get_topic_tree(new)\n",
        "print(tree)"
      ],
      "metadata": {
        "colab": {
          "base_uri": "https://localhost:8080/"
        },
        "id": "opK0ImO4GK5Q",
        "outputId": "36758927-908d-44be-b3e4-e9b92ccd616b"
      },
      "id": "opK0ImO4GK5Q",
      "execution_count": null,
      "outputs": [
        {
          "output_type": "stream",
          "name": "stdout",
          "text": [
            ".\n",
            "├─■──sara_erik one_like erik_lisa_one answer ── Topic: 29\n",
            "└─urlmasker_power_new_energy_please\n",
            "\n"
          ]
        }
      ]
    },
    {
      "cell_type": "code",
      "source": [
        "model.visualize_hierarchy(hierarchical_topics=hierarchical_topics,topics = list(set(new_topic)))"
      ],
      "metadata": {
        "colab": {
          "base_uri": "https://localhost:8080/",
          "height": 1000
        },
        "id": "SIfkrKIpzyFl",
        "outputId": "60a2bd4e-083a-4eaf-e0b6-3d95b227a94a"
      },
      "id": "SIfkrKIpzyFl",
      "execution_count": null,
      "outputs": [
        {
          "output_type": "display_data",
          "data": {
            "text/html": [
              "<html>\n",
              "<head><meta charset=\"utf-8\" /></head>\n",
              "<body>\n",
              "    <div>            <script src=\"https://cdnjs.cloudflare.com/ajax/libs/mathjax/2.7.5/MathJax.js?config=TeX-AMS-MML_SVG\"></script><script type=\"text/javascript\">if (window.MathJax) {MathJax.Hub.Config({SVG: {font: \"STIX-Web\"}});}</script>                <script type=\"text/javascript\">window.PlotlyConfig = {MathJaxConfig: 'local'};</script>\n",
              "        <script src=\"https://cdn.plot.ly/plotly-2.8.3.min.js\"></script>                <div id=\"5d2cf944-f1a0-4649-ad6c-a25f16f3fd3d\" class=\"plotly-graph-div\" style=\"height:3800px; width:1000px;\"></div>            <script type=\"text/javascript\">                                    window.PLOTLYENV=window.PLOTLYENV || {};                                    if (document.getElementById(\"5d2cf944-f1a0-4649-ad6c-a25f16f3fd3d\")) {                    Plotly.newPlot(                        \"5d2cf944-f1a0-4649-ad6c-a25f16f3fd3d\",                        [{\"hoverinfo\":\"text\",\"marker\":{\"color\":\"rgb(0,116,217)\"},\"mode\":\"lines\",\"x\":[0.0,1.1972041923640104,1.1972041923640104,0.0],\"xaxis\":\"x\",\"y\":[-5.0,-5.0,-15.0,-15.0],\"yaxis\":\"y\",\"type\":\"scatter\"},{\"hoverinfo\":\"text\",\"marker\":{\"color\":\"rgb(0,116,217)\"},\"mode\":\"lines\",\"x\":[0.0,1.2250729119247405,1.2250729119247405,0.0],\"xaxis\":\"x\",\"y\":[-35.0,-35.0,-45.0,-45.0],\"yaxis\":\"y\",\"type\":\"scatter\"},{\"hoverinfo\":\"text\",\"marker\":{\"color\":\"rgb(0,116,217)\"},\"mode\":\"lines\",\"x\":[0.0,1.337904667981034,1.337904667981034,1.2250729119247405],\"xaxis\":\"x\",\"y\":[-25.0,-25.0,-40.0,-40.0],\"yaxis\":\"y\",\"type\":\"scatter\"},{\"hoverinfo\":\"text\",\"marker\":{\"color\":\"rgb(0,116,217)\"},\"mode\":\"lines\",\"x\":[0.0,1.3106034681060843,1.3106034681060843,0.0],\"xaxis\":\"x\",\"y\":[-55.0,-55.0,-65.0,-65.0],\"yaxis\":\"y\",\"type\":\"scatter\"},{\"hoverinfo\":\"text\",\"marker\":{\"color\":\"rgb(0,116,217)\"},\"mode\":\"lines\",\"x\":[1.337904667981034,1.3655413637126352,1.3655413637126352,1.3106034681060843],\"xaxis\":\"x\",\"y\":[-32.5,-32.5,-60.0,-60.0],\"yaxis\":\"y\",\"type\":\"scatter\"},{\"hoverinfo\":\"text\",\"marker\":{\"color\":\"rgb(0,116,217)\"},\"mode\":\"lines\",\"x\":[1.1972041923640104,1.491472892522648,1.491472892522648,1.3655413637126352],\"xaxis\":\"x\",\"y\":[-10.0,-10.0,-46.25,-46.25],\"yaxis\":\"y\",\"type\":\"scatter\"},{\"hoverinfo\":\"text\",\"marker\":{\"color\":\"rgb(0,116,217)\"},\"mode\":\"lines\",\"x\":[0.0,1.219368065950655,1.219368065950655,0.0],\"xaxis\":\"x\",\"y\":[-75.0,-75.0,-85.0,-85.0],\"yaxis\":\"y\",\"type\":\"scatter\"},{\"hoverinfo\":\"text\",\"marker\":{\"color\":\"rgb(0,116,217)\"},\"mode\":\"lines\",\"x\":[0.0,1.16364848224791,1.16364848224791,0.0],\"xaxis\":\"x\",\"y\":[-95.0,-95.0,-105.0,-105.0],\"yaxis\":\"y\",\"type\":\"scatter\"},{\"hoverinfo\":\"text\",\"marker\":{\"color\":\"rgb(0,116,217)\"},\"mode\":\"lines\",\"x\":[1.16364848224791,1.2122279114395178,1.2122279114395178,0.0],\"xaxis\":\"x\",\"y\":[-100.0,-100.0,-115.0,-115.0],\"yaxis\":\"y\",\"type\":\"scatter\"},{\"hoverinfo\":\"text\",\"marker\":{\"color\":\"rgb(0,116,217)\"},\"mode\":\"lines\",\"x\":[1.219368065950655,1.3677614071643593,1.3677614071643593,1.2122279114395178],\"xaxis\":\"x\",\"y\":[-80.0,-80.0,-107.5,-107.5],\"yaxis\":\"y\",\"type\":\"scatter\"},{\"hoverinfo\":\"text\",\"marker\":{\"color\":\"rgb(0,116,217)\"},\"mode\":\"lines\",\"x\":[1.3677614071643593,1.3806737945243879,1.3806737945243879,0.0],\"xaxis\":\"x\",\"y\":[-93.75,-93.75,-125.0,-125.0],\"yaxis\":\"y\",\"type\":\"scatter\"},{\"hoverinfo\":\"text\",\"marker\":{\"color\":\"rgb(0,116,217)\"},\"mode\":\"lines\",\"x\":[0.0,1.0047350290277204,1.0047350290277204,0.0],\"xaxis\":\"x\",\"y\":[-145.0,-145.0,-155.0,-155.0],\"yaxis\":\"y\",\"type\":\"scatter\"},{\"hoverinfo\":\"text\",\"marker\":{\"color\":\"rgb(0,116,217)\"},\"mode\":\"lines\",\"x\":[0.0,1.2838025457049038,1.2838025457049038,1.0047350290277204],\"xaxis\":\"x\",\"y\":[-135.0,-135.0,-150.0,-150.0],\"yaxis\":\"y\",\"type\":\"scatter\"},{\"hoverinfo\":\"text\",\"marker\":{\"color\":\"rgb(0,116,217)\"},\"mode\":\"lines\",\"x\":[1.3806737945243879,1.6589566019332982,1.6589566019332982,1.2838025457049038],\"xaxis\":\"x\",\"y\":[-109.375,-109.375,-142.5,-142.5],\"yaxis\":\"y\",\"type\":\"scatter\"},{\"hoverinfo\":\"text\",\"marker\":{\"color\":\"rgb(0,116,217)\"},\"mode\":\"lines\",\"x\":[1.491472892522648,1.7443614280006021,1.7443614280006021,1.6589566019332982],\"xaxis\":\"x\",\"y\":[-28.125,-28.125,-125.9375,-125.9375],\"yaxis\":\"y\",\"type\":\"scatter\"},{\"hoverinfo\":\"text\",\"marker\":{\"color\":\"rgb(61,153,112)\"},\"mode\":\"lines\",\"x\":[0.0,0.93000531437987,0.93000531437987,0.0],\"xaxis\":\"x\",\"y\":[-165.0,-165.0,-175.0,-175.0],\"yaxis\":\"y\",\"type\":\"scatter\"},{\"hoverinfo\":\"text\",\"marker\":{\"color\":\"rgb(0,116,217)\"},\"mode\":\"lines\",\"x\":[0.0,1.1013662031167004,1.1013662031167004,0.0],\"xaxis\":\"x\",\"y\":[-185.0,-185.0,-195.0,-195.0],\"yaxis\":\"y\",\"type\":\"scatter\"},{\"hoverinfo\":\"text\",\"marker\":{\"color\":\"rgb(0,116,217)\"},\"mode\":\"lines\",\"x\":[0.93000531437987,1.2725878420131254,1.2725878420131254,1.1013662031167004],\"xaxis\":\"x\",\"y\":[-170.0,-170.0,-190.0,-190.0],\"yaxis\":\"y\",\"type\":\"scatter\"},{\"hoverinfo\":\"text\",\"marker\":{\"color\":\"rgb(255,65,54)\"},\"mode\":\"lines\",\"x\":[0.0,0.8453697399132619,0.8453697399132619,0.0],\"xaxis\":\"x\",\"y\":[-205.0,-205.0,-215.0,-215.0],\"yaxis\":\"y\",\"type\":\"scatter\"},{\"hoverinfo\":\"text\",\"marker\":{\"color\":\"rgb(0,116,217)\"},\"mode\":\"lines\",\"x\":[1.2725878420131254,1.4989947362318845,1.4989947362318845,0.8453697399132619],\"xaxis\":\"x\",\"y\":[-180.0,-180.0,-210.0,-210.0],\"yaxis\":\"y\",\"type\":\"scatter\"},{\"hoverinfo\":\"text\",\"marker\":{\"color\":\"rgb(0,116,217)\"},\"mode\":\"lines\",\"x\":[0.0,1.1503188208207822,1.1503188208207822,0.0],\"xaxis\":\"x\",\"y\":[-225.0,-225.0,-235.0,-235.0],\"yaxis\":\"y\",\"type\":\"scatter\"},{\"hoverinfo\":\"text\",\"marker\":{\"color\":\"rgb(0,116,217)\"},\"mode\":\"lines\",\"x\":[0.0,1.221137363110877,1.221137363110877,0.0],\"xaxis\":\"x\",\"y\":[-245.0,-245.0,-255.0,-255.0],\"yaxis\":\"y\",\"type\":\"scatter\"},{\"hoverinfo\":\"text\",\"marker\":{\"color\":\"rgb(0,116,217)\"},\"mode\":\"lines\",\"x\":[1.221137363110877,1.2845097868959396,1.2845097868959396,0.0],\"xaxis\":\"x\",\"y\":[-250.0,-250.0,-265.0,-265.0],\"yaxis\":\"y\",\"type\":\"scatter\"},{\"hoverinfo\":\"text\",\"marker\":{\"color\":\"rgb(0,116,217)\"},\"mode\":\"lines\",\"x\":[1.1503188208207822,1.354093881976464,1.354093881976464,1.2845097868959396],\"xaxis\":\"x\",\"y\":[-230.0,-230.0,-257.5,-257.5],\"yaxis\":\"y\",\"type\":\"scatter\"},{\"hoverinfo\":\"text\",\"marker\":{\"color\":\"rgb(0,116,217)\"},\"mode\":\"lines\",\"x\":[1.4989947362318845,1.744297538784948,1.744297538784948,1.354093881976464],\"xaxis\":\"x\",\"y\":[-195.0,-195.0,-243.75,-243.75],\"yaxis\":\"y\",\"type\":\"scatter\"},{\"hoverinfo\":\"text\",\"marker\":{\"color\":\"rgb(0,116,217)\"},\"mode\":\"lines\",\"x\":[1.7443614280006021,2.0381127056499477,2.0381127056499477,1.744297538784948],\"xaxis\":\"x\",\"y\":[-77.03125,-77.03125,-219.375,-219.375],\"yaxis\":\"y\",\"type\":\"scatter\"},{\"hoverinfo\":\"text\",\"marker\":{\"color\":\"rgb(35,205,205)\"},\"mode\":\"lines\",\"x\":[0.0,0.8960897345892144,0.8960897345892144,0.0],\"xaxis\":\"x\",\"y\":[-275.0,-275.0,-285.0,-285.0],\"yaxis\":\"y\",\"type\":\"scatter\"},{\"hoverinfo\":\"text\",\"marker\":{\"color\":\"rgb(0,116,217)\"},\"mode\":\"lines\",\"x\":[0.0,1.2364026442150133,1.2364026442150133,0.0],\"xaxis\":\"x\",\"y\":[-295.0,-295.0,-305.0,-305.0],\"yaxis\":\"y\",\"type\":\"scatter\"},{\"hoverinfo\":\"text\",\"marker\":{\"color\":\"rgb(0,116,217)\"},\"mode\":\"lines\",\"x\":[0.0,1.1207307245633618,1.1207307245633618,0.0],\"xaxis\":\"x\",\"y\":[-315.0,-315.0,-325.0,-325.0],\"yaxis\":\"y\",\"type\":\"scatter\"},{\"hoverinfo\":\"text\",\"marker\":{\"color\":\"rgb(0,116,217)\"},\"mode\":\"lines\",\"x\":[1.1207307245633618,1.2023786223210062,1.2023786223210062,0.0],\"xaxis\":\"x\",\"y\":[-320.0,-320.0,-335.0,-335.0],\"yaxis\":\"y\",\"type\":\"scatter\"},{\"hoverinfo\":\"text\",\"marker\":{\"color\":\"rgb(0,116,217)\"},\"mode\":\"lines\",\"x\":[1.2364026442150133,1.4638764523383727,1.4638764523383727,1.2023786223210062],\"xaxis\":\"x\",\"y\":[-300.0,-300.0,-327.5,-327.5],\"yaxis\":\"y\",\"type\":\"scatter\"},{\"hoverinfo\":\"text\",\"marker\":{\"color\":\"rgb(0,116,217)\"},\"mode\":\"lines\",\"x\":[0.8960897345892144,1.7706490604270908,1.7706490604270908,1.4638764523383727],\"xaxis\":\"x\",\"y\":[-280.0,-280.0,-313.75,-313.75],\"yaxis\":\"y\",\"type\":\"scatter\"},{\"hoverinfo\":\"text\",\"marker\":{\"color\":\"rgb(0,116,217)\"},\"mode\":\"lines\",\"x\":[0.0,1.287981753836839,1.287981753836839,0.0],\"xaxis\":\"x\",\"y\":[-355.0,-355.0,-365.0,-365.0],\"yaxis\":\"y\",\"type\":\"scatter\"},{\"hoverinfo\":\"text\",\"marker\":{\"color\":\"rgb(0,116,217)\"},\"mode\":\"lines\",\"x\":[0.0,1.3424890227548398,1.3424890227548398,1.287981753836839],\"xaxis\":\"x\",\"y\":[-345.0,-345.0,-360.0,-360.0],\"yaxis\":\"y\",\"type\":\"scatter\"},{\"hoverinfo\":\"text\",\"marker\":{\"color\":\"rgb(0,116,217)\"},\"mode\":\"lines\",\"x\":[0.0,1.175059958574571,1.175059958574571,0.0],\"xaxis\":\"x\",\"y\":[-375.0,-375.0,-385.0,-385.0],\"yaxis\":\"y\",\"type\":\"scatter\"},{\"hoverinfo\":\"text\",\"marker\":{\"color\":\"rgb(0,116,217)\"},\"mode\":\"lines\",\"x\":[1.175059958574571,1.2583453392967627,1.2583453392967627,0.0],\"xaxis\":\"x\",\"y\":[-380.0,-380.0,-395.0,-395.0],\"yaxis\":\"y\",\"type\":\"scatter\"},{\"hoverinfo\":\"text\",\"marker\":{\"color\":\"rgb(0,116,217)\"},\"mode\":\"lines\",\"x\":[1.3424890227548398,1.4468591455194773,1.4468591455194773,1.2583453392967627],\"xaxis\":\"x\",\"y\":[-352.5,-352.5,-387.5,-387.5],\"yaxis\":\"y\",\"type\":\"scatter\"},{\"hoverinfo\":\"text\",\"marker\":{\"color\":\"rgb(0,116,217)\"},\"mode\":\"lines\",\"x\":[0.0,1.3102900237998067,1.3102900237998067,0.0],\"xaxis\":\"x\",\"y\":[-405.0,-405.0,-415.0,-415.0],\"yaxis\":\"y\",\"type\":\"scatter\"},{\"hoverinfo\":\"text\",\"marker\":{\"color\":\"rgb(0,116,217)\"},\"mode\":\"lines\",\"x\":[0.0,1.3198935019444695,1.3198935019444695,0.0],\"xaxis\":\"x\",\"y\":[-425.0,-425.0,-435.0,-435.0],\"yaxis\":\"y\",\"type\":\"scatter\"},{\"hoverinfo\":\"text\",\"marker\":{\"color\":\"rgb(0,116,217)\"},\"mode\":\"lines\",\"x\":[0.0,1.3020339715450935,1.3020339715450935,0.0],\"xaxis\":\"x\",\"y\":[-455.0,-455.0,-465.0,-465.0],\"yaxis\":\"y\",\"type\":\"scatter\"},{\"hoverinfo\":\"text\",\"marker\":{\"color\":\"rgb(0,116,217)\"},\"mode\":\"lines\",\"x\":[0.0,1.3257084877532435,1.3257084877532435,1.3020339715450935],\"xaxis\":\"x\",\"y\":[-445.0,-445.0,-460.0,-460.0],\"yaxis\":\"y\",\"type\":\"scatter\"},{\"hoverinfo\":\"text\",\"marker\":{\"color\":\"rgb(0,116,217)\"},\"mode\":\"lines\",\"x\":[1.3257084877532435,1.3458443223611452,1.3458443223611452,0.0],\"xaxis\":\"x\",\"y\":[-452.5,-452.5,-475.0,-475.0],\"yaxis\":\"y\",\"type\":\"scatter\"},{\"hoverinfo\":\"text\",\"marker\":{\"color\":\"rgb(0,116,217)\"},\"mode\":\"lines\",\"x\":[1.3198935019444695,1.3753880734730688,1.3753880734730688,1.3458443223611452],\"xaxis\":\"x\",\"y\":[-430.0,-430.0,-463.75,-463.75],\"yaxis\":\"y\",\"type\":\"scatter\"},{\"hoverinfo\":\"text\",\"marker\":{\"color\":\"rgb(0,116,217)\"},\"mode\":\"lines\",\"x\":[1.3102900237998067,1.406070802194688,1.406070802194688,1.3753880734730688],\"xaxis\":\"x\",\"y\":[-410.0,-410.0,-446.875,-446.875],\"yaxis\":\"y\",\"type\":\"scatter\"},{\"hoverinfo\":\"text\",\"marker\":{\"color\":\"rgb(0,116,217)\"},\"mode\":\"lines\",\"x\":[0.0,1.339931923457375,1.339931923457375,0.0],\"xaxis\":\"x\",\"y\":[-485.0,-485.0,-495.0,-495.0],\"yaxis\":\"y\",\"type\":\"scatter\"},{\"hoverinfo\":\"text\",\"marker\":{\"color\":\"rgb(0,116,217)\"},\"mode\":\"lines\",\"x\":[0.0,1.3382235329938441,1.3382235329938441,0.0],\"xaxis\":\"x\",\"y\":[-515.0,-515.0,-525.0,-525.0],\"yaxis\":\"y\",\"type\":\"scatter\"},{\"hoverinfo\":\"text\",\"marker\":{\"color\":\"rgb(0,116,217)\"},\"mode\":\"lines\",\"x\":[0.0,1.3622839462379766,1.3622839462379766,1.3382235329938441],\"xaxis\":\"x\",\"y\":[-505.0,-505.0,-520.0,-520.0],\"yaxis\":\"y\",\"type\":\"scatter\"},{\"hoverinfo\":\"text\",\"marker\":{\"color\":\"rgb(0,116,217)\"},\"mode\":\"lines\",\"x\":[1.339931923457375,1.4086635742288465,1.4086635742288465,1.3622839462379766],\"xaxis\":\"x\",\"y\":[-490.0,-490.0,-512.5,-512.5],\"yaxis\":\"y\",\"type\":\"scatter\"},{\"hoverinfo\":\"text\",\"marker\":{\"color\":\"rgb(0,116,217)\"},\"mode\":\"lines\",\"x\":[0.0,1.3296444983749365,1.3296444983749365,0.0],\"xaxis\":\"x\",\"y\":[-535.0,-535.0,-545.0,-545.0],\"yaxis\":\"y\",\"type\":\"scatter\"},{\"hoverinfo\":\"text\",\"marker\":{\"color\":\"rgb(0,116,217)\"},\"mode\":\"lines\",\"x\":[0.0,1.3210727651978282,1.3210727651978282,0.0],\"xaxis\":\"x\",\"y\":[-565.0,-565.0,-575.0,-575.0],\"yaxis\":\"y\",\"type\":\"scatter\"},{\"hoverinfo\":\"text\",\"marker\":{\"color\":\"rgb(0,116,217)\"},\"mode\":\"lines\",\"x\":[0.0,1.3542687727360034,1.3542687727360034,1.3210727651978282],\"xaxis\":\"x\",\"y\":[-555.0,-555.0,-570.0,-570.0],\"yaxis\":\"y\",\"type\":\"scatter\"},{\"hoverinfo\":\"text\",\"marker\":{\"color\":\"rgb(0,116,217)\"},\"mode\":\"lines\",\"x\":[1.3542687727360034,1.3645416548625375,1.3645416548625375,0.0],\"xaxis\":\"x\",\"y\":[-562.5,-562.5,-585.0,-585.0],\"yaxis\":\"y\",\"type\":\"scatter\"},{\"hoverinfo\":\"text\",\"marker\":{\"color\":\"rgb(0,116,217)\"},\"mode\":\"lines\",\"x\":[1.3645416548625375,1.3786275304040039,1.3786275304040039,0.0],\"xaxis\":\"x\",\"y\":[-573.75,-573.75,-595.0,-595.0],\"yaxis\":\"y\",\"type\":\"scatter\"},{\"hoverinfo\":\"text\",\"marker\":{\"color\":\"rgb(0,116,217)\"},\"mode\":\"lines\",\"x\":[1.3296444983749365,1.423667868863152,1.423667868863152,1.3786275304040039],\"xaxis\":\"x\",\"y\":[-540.0,-540.0,-584.375,-584.375],\"yaxis\":\"y\",\"type\":\"scatter\"},{\"hoverinfo\":\"text\",\"marker\":{\"color\":\"rgb(0,116,217)\"},\"mode\":\"lines\",\"x\":[1.4086635742288465,1.4444299085395067,1.4444299085395067,1.423667868863152],\"xaxis\":\"x\",\"y\":[-501.25,-501.25,-562.1875,-562.1875],\"yaxis\":\"y\",\"type\":\"scatter\"},{\"hoverinfo\":\"text\",\"marker\":{\"color\":\"rgb(0,116,217)\"},\"mode\":\"lines\",\"x\":[1.406070802194688,1.5068531608367806,1.5068531608367806,1.4444299085395067],\"xaxis\":\"x\",\"y\":[-428.4375,-428.4375,-531.71875,-531.71875],\"yaxis\":\"y\",\"type\":\"scatter\"},{\"hoverinfo\":\"text\",\"marker\":{\"color\":\"rgb(0,116,217)\"},\"mode\":\"lines\",\"x\":[0.0,1.2303942591646275,1.2303942591646275,0.0],\"xaxis\":\"x\",\"y\":[-605.0,-605.0,-615.0,-615.0],\"yaxis\":\"y\",\"type\":\"scatter\"},{\"hoverinfo\":\"text\",\"marker\":{\"color\":\"rgb(0,116,217)\"},\"mode\":\"lines\",\"x\":[1.2303942591646275,1.3746381180145222,1.3746381180145222,0.0],\"xaxis\":\"x\",\"y\":[-610.0,-610.0,-625.0,-625.0],\"yaxis\":\"y\",\"type\":\"scatter\"},{\"hoverinfo\":\"text\",\"marker\":{\"color\":\"rgb(0,116,217)\"},\"mode\":\"lines\",\"x\":[1.5068531608367806,1.5383162979016185,1.5383162979016185,1.3746381180145222],\"xaxis\":\"x\",\"y\":[-480.078125,-480.078125,-617.5,-617.5],\"yaxis\":\"y\",\"type\":\"scatter\"},{\"hoverinfo\":\"text\",\"marker\":{\"color\":\"rgb(0,116,217)\"},\"mode\":\"lines\",\"x\":[1.4468591455194773,1.695786860355611,1.695786860355611,1.5383162979016185],\"xaxis\":\"x\",\"y\":[-370.0,-370.0,-548.7890625,-548.7890625],\"yaxis\":\"y\",\"type\":\"scatter\"},{\"hoverinfo\":\"text\",\"marker\":{\"color\":\"rgb(0,116,217)\"},\"mode\":\"lines\",\"x\":[1.7706490604270908,2.085040750009758,2.085040750009758,1.695786860355611],\"xaxis\":\"x\",\"y\":[-296.875,-296.875,-459.39453125,-459.39453125],\"yaxis\":\"y\",\"type\":\"scatter\"},{\"hoverinfo\":\"text\",\"marker\":{\"color\":\"rgb(0,116,217)\"},\"mode\":\"lines\",\"x\":[0.0,1.2629965279900273,1.2629965279900273,0.0],\"xaxis\":\"x\",\"y\":[-635.0,-635.0,-645.0,-645.0],\"yaxis\":\"y\",\"type\":\"scatter\"},{\"hoverinfo\":\"text\",\"marker\":{\"color\":\"rgb(0,116,217)\"},\"mode\":\"lines\",\"x\":[0.0,1.1007306981552645,1.1007306981552645,0.0],\"xaxis\":\"x\",\"y\":[-665.0,-665.0,-675.0,-675.0],\"yaxis\":\"y\",\"type\":\"scatter\"},{\"hoverinfo\":\"text\",\"marker\":{\"color\":\"rgb(0,116,217)\"},\"mode\":\"lines\",\"x\":[0.0,1.1890263065115936,1.1890263065115936,1.1007306981552645],\"xaxis\":\"x\",\"y\":[-655.0,-655.0,-670.0,-670.0],\"yaxis\":\"y\",\"type\":\"scatter\"},{\"hoverinfo\":\"text\",\"marker\":{\"color\":\"rgb(0,116,217)\"},\"mode\":\"lines\",\"x\":[1.2629965279900273,1.4402242052505543,1.4402242052505543,1.1890263065115936],\"xaxis\":\"x\",\"y\":[-640.0,-640.0,-662.5,-662.5],\"yaxis\":\"y\",\"type\":\"scatter\"},{\"hoverinfo\":\"text\",\"marker\":{\"color\":\"rgb(0,116,217)\"},\"mode\":\"lines\",\"x\":[0.0,1.1252283008355963,1.1252283008355963,0.0],\"xaxis\":\"x\",\"y\":[-685.0,-685.0,-695.0,-695.0],\"yaxis\":\"y\",\"type\":\"scatter\"},{\"hoverinfo\":\"text\",\"marker\":{\"color\":\"rgb(0,116,217)\"},\"mode\":\"lines\",\"x\":[0.0,1.2018888070312286,1.2018888070312286,0.0],\"xaxis\":\"x\",\"y\":[-705.0,-705.0,-715.0,-715.0],\"yaxis\":\"y\",\"type\":\"scatter\"},{\"hoverinfo\":\"text\",\"marker\":{\"color\":\"rgb(0,116,217)\"},\"mode\":\"lines\",\"x\":[1.1252283008355963,1.526580038292745,1.526580038292745,1.2018888070312286],\"xaxis\":\"x\",\"y\":[-690.0,-690.0,-710.0,-710.0],\"yaxis\":\"y\",\"type\":\"scatter\"},{\"hoverinfo\":\"text\",\"marker\":{\"color\":\"rgb(0,116,217)\"},\"mode\":\"lines\",\"x\":[0.0,1.236436543872248,1.236436543872248,0.0],\"xaxis\":\"x\",\"y\":[-725.0,-725.0,-735.0,-735.0],\"yaxis\":\"y\",\"type\":\"scatter\"},{\"hoverinfo\":\"text\",\"marker\":{\"color\":\"rgb(0,116,217)\"},\"mode\":\"lines\",\"x\":[0.0,1.26878945071473,1.26878945071473,0.0],\"xaxis\":\"x\",\"y\":[-755.0,-755.0,-765.0,-765.0],\"yaxis\":\"y\",\"type\":\"scatter\"},{\"hoverinfo\":\"text\",\"marker\":{\"color\":\"rgb(0,116,217)\"},\"mode\":\"lines\",\"x\":[0.0,1.2761696906272941,1.2761696906272941,1.26878945071473],\"xaxis\":\"x\",\"y\":[-745.0,-745.0,-760.0,-760.0],\"yaxis\":\"y\",\"type\":\"scatter\"},{\"hoverinfo\":\"text\",\"marker\":{\"color\":\"rgb(0,116,217)\"},\"mode\":\"lines\",\"x\":[0.0,1.2901795738978807,1.2901795738978807,0.0],\"xaxis\":\"x\",\"y\":[-775.0,-775.0,-785.0,-785.0],\"yaxis\":\"y\",\"type\":\"scatter\"},{\"hoverinfo\":\"text\",\"marker\":{\"color\":\"rgb(0,116,217)\"},\"mode\":\"lines\",\"x\":[1.2761696906272941,1.3364852049971778,1.3364852049971778,1.2901795738978807],\"xaxis\":\"x\",\"y\":[-752.5,-752.5,-780.0,-780.0],\"yaxis\":\"y\",\"type\":\"scatter\"},{\"hoverinfo\":\"text\",\"marker\":{\"color\":\"rgb(0,116,217)\"},\"mode\":\"lines\",\"x\":[1.236436543872248,1.346307911076732,1.346307911076732,1.3364852049971778],\"xaxis\":\"x\",\"y\":[-730.0,-730.0,-766.25,-766.25],\"yaxis\":\"y\",\"type\":\"scatter\"},{\"hoverinfo\":\"text\",\"marker\":{\"color\":\"rgb(0,116,217)\"},\"mode\":\"lines\",\"x\":[0.0,1.2846421407699067,1.2846421407699067,0.0],\"xaxis\":\"x\",\"y\":[-795.0,-795.0,-805.0,-805.0],\"yaxis\":\"y\",\"type\":\"scatter\"},{\"hoverinfo\":\"text\",\"marker\":{\"color\":\"rgb(0,116,217)\"},\"mode\":\"lines\",\"x\":[1.2846421407699067,1.3129112605826128,1.3129112605826128,0.0],\"xaxis\":\"x\",\"y\":[-800.0,-800.0,-815.0,-815.0],\"yaxis\":\"y\",\"type\":\"scatter\"},{\"hoverinfo\":\"text\",\"marker\":{\"color\":\"rgb(0,116,217)\"},\"mode\":\"lines\",\"x\":[1.346307911076732,1.3761676556567795,1.3761676556567795,1.3129112605826128],\"xaxis\":\"x\",\"y\":[-748.125,-748.125,-807.5,-807.5],\"yaxis\":\"y\",\"type\":\"scatter\"},{\"hoverinfo\":\"text\",\"marker\":{\"color\":\"rgb(0,116,217)\"},\"mode\":\"lines\",\"x\":[1.526580038292745,1.6056152742754382,1.6056152742754382,1.3761676556567795],\"xaxis\":\"x\",\"y\":[-700.0,-700.0,-777.8125,-777.8125],\"yaxis\":\"y\",\"type\":\"scatter\"},{\"hoverinfo\":\"text\",\"marker\":{\"color\":\"rgb(0,116,217)\"},\"mode\":\"lines\",\"x\":[1.4402242052505543,1.749789067457502,1.749789067457502,1.6056152742754382],\"xaxis\":\"x\",\"y\":[-651.25,-651.25,-738.90625,-738.90625],\"yaxis\":\"y\",\"type\":\"scatter\"},{\"hoverinfo\":\"text\",\"marker\":{\"color\":\"rgb(0,116,217)\"},\"mode\":\"lines\",\"x\":[0.0,1.2521896077645587,1.2521896077645587,0.0],\"xaxis\":\"x\",\"y\":[-835.0,-835.0,-845.0,-845.0],\"yaxis\":\"y\",\"type\":\"scatter\"},{\"hoverinfo\":\"text\",\"marker\":{\"color\":\"rgb(0,116,217)\"},\"mode\":\"lines\",\"x\":[0.0,1.4130542485969635,1.4130542485969635,1.2521896077645587],\"xaxis\":\"x\",\"y\":[-825.0,-825.0,-840.0,-840.0],\"yaxis\":\"y\",\"type\":\"scatter\"},{\"hoverinfo\":\"text\",\"marker\":{\"color\":\"rgb(0,116,217)\"},\"mode\":\"lines\",\"x\":[0.0,1.3350965805573738,1.3350965805573738,0.0],\"xaxis\":\"x\",\"y\":[-865.0,-865.0,-875.0,-875.0],\"yaxis\":\"y\",\"type\":\"scatter\"},{\"hoverinfo\":\"text\",\"marker\":{\"color\":\"rgb(0,116,217)\"},\"mode\":\"lines\",\"x\":[1.3350965805573738,1.3574449521686245,1.3574449521686245,0.0],\"xaxis\":\"x\",\"y\":[-870.0,-870.0,-885.0,-885.0],\"yaxis\":\"y\",\"type\":\"scatter\"},{\"hoverinfo\":\"text\",\"marker\":{\"color\":\"rgb(0,116,217)\"},\"mode\":\"lines\",\"x\":[0.0,1.3670709807724997,1.3670709807724997,1.3574449521686245],\"xaxis\":\"x\",\"y\":[-855.0,-855.0,-877.5,-877.5],\"yaxis\":\"y\",\"type\":\"scatter\"},{\"hoverinfo\":\"text\",\"marker\":{\"color\":\"rgb(0,116,217)\"},\"mode\":\"lines\",\"x\":[0.0,1.3321199286163818,1.3321199286163818,0.0],\"xaxis\":\"x\",\"y\":[-895.0,-895.0,-905.0,-905.0],\"yaxis\":\"y\",\"type\":\"scatter\"},{\"hoverinfo\":\"text\",\"marker\":{\"color\":\"rgb(0,116,217)\"},\"mode\":\"lines\",\"x\":[0.0,1.3665518420698268,1.3665518420698268,0.0],\"xaxis\":\"x\",\"y\":[-925.0,-925.0,-935.0,-935.0],\"yaxis\":\"y\",\"type\":\"scatter\"},{\"hoverinfo\":\"text\",\"marker\":{\"color\":\"rgb(0,116,217)\"},\"mode\":\"lines\",\"x\":[0.0,1.3810023195224657,1.3810023195224657,1.3665518420698268],\"xaxis\":\"x\",\"y\":[-915.0,-915.0,-930.0,-930.0],\"yaxis\":\"y\",\"type\":\"scatter\"},{\"hoverinfo\":\"text\",\"marker\":{\"color\":\"rgb(0,116,217)\"},\"mode\":\"lines\",\"x\":[1.3321199286163818,1.4022745865400317,1.4022745865400317,1.3810023195224657],\"xaxis\":\"x\",\"y\":[-900.0,-900.0,-922.5,-922.5],\"yaxis\":\"y\",\"type\":\"scatter\"},{\"hoverinfo\":\"text\",\"marker\":{\"color\":\"rgb(0,116,217)\"},\"mode\":\"lines\",\"x\":[0.0,1.3305954252006331,1.3305954252006331,0.0],\"xaxis\":\"x\",\"y\":[-955.0,-955.0,-965.0,-965.0],\"yaxis\":\"y\",\"type\":\"scatter\"},{\"hoverinfo\":\"text\",\"marker\":{\"color\":\"rgb(0,116,217)\"},\"mode\":\"lines\",\"x\":[0.0,1.3458843783224268,1.3458843783224268,1.3305954252006331],\"xaxis\":\"x\",\"y\":[-945.0,-945.0,-960.0,-960.0],\"yaxis\":\"y\",\"type\":\"scatter\"},{\"hoverinfo\":\"text\",\"marker\":{\"color\":\"rgb(0,116,217)\"},\"mode\":\"lines\",\"x\":[1.4022745865400317,1.4188725659433208,1.4188725659433208,1.3458843783224268],\"xaxis\":\"x\",\"y\":[-911.25,-911.25,-952.5,-952.5],\"yaxis\":\"y\",\"type\":\"scatter\"},{\"hoverinfo\":\"text\",\"marker\":{\"color\":\"rgb(0,116,217)\"},\"mode\":\"lines\",\"x\":[1.3670709807724997,1.4340928426676813,1.4340928426676813,1.4188725659433208],\"xaxis\":\"x\",\"y\":[-866.25,-866.25,-931.875,-931.875],\"yaxis\":\"y\",\"type\":\"scatter\"},{\"hoverinfo\":\"text\",\"marker\":{\"color\":\"rgb(0,116,217)\"},\"mode\":\"lines\",\"x\":[0.0,1.3096452558843918,1.3096452558843918,0.0],\"xaxis\":\"x\",\"y\":[-975.0,-975.0,-985.0,-985.0],\"yaxis\":\"y\",\"type\":\"scatter\"},{\"hoverinfo\":\"text\",\"marker\":{\"color\":\"rgb(0,116,217)\"},\"mode\":\"lines\",\"x\":[1.3096452558843918,1.3521599883374893,1.3521599883374893,0.0],\"xaxis\":\"x\",\"y\":[-980.0,-980.0,-995.0,-995.0],\"yaxis\":\"y\",\"type\":\"scatter\"},{\"hoverinfo\":\"text\",\"marker\":{\"color\":\"rgb(0,116,217)\"},\"mode\":\"lines\",\"x\":[1.4340928426676813,1.5160656405819686,1.5160656405819686,1.3521599883374893],\"xaxis\":\"x\",\"y\":[-899.0625,-899.0625,-987.5,-987.5],\"yaxis\":\"y\",\"type\":\"scatter\"},{\"hoverinfo\":\"text\",\"marker\":{\"color\":\"rgb(0,116,217)\"},\"mode\":\"lines\",\"x\":[1.4130542485969635,1.5360482115165446,1.5360482115165446,1.5160656405819686],\"xaxis\":\"x\",\"y\":[-832.5,-832.5,-943.28125,-943.28125],\"yaxis\":\"y\",\"type\":\"scatter\"},{\"hoverinfo\":\"text\",\"marker\":{\"color\":\"rgb(0,116,217)\"},\"mode\":\"lines\",\"x\":[0.0,1.1705767524291688,1.1705767524291688,0.0],\"xaxis\":\"x\",\"y\":[-1015.0,-1015.0,-1025.0,-1025.0],\"yaxis\":\"y\",\"type\":\"scatter\"},{\"hoverinfo\":\"text\",\"marker\":{\"color\":\"rgb(0,116,217)\"},\"mode\":\"lines\",\"x\":[0.0,1.37303061376743,1.37303061376743,1.1705767524291688],\"xaxis\":\"x\",\"y\":[-1005.0,-1005.0,-1020.0,-1020.0],\"yaxis\":\"y\",\"type\":\"scatter\"},{\"hoverinfo\":\"text\",\"marker\":{\"color\":\"rgb(0,116,217)\"},\"mode\":\"lines\",\"x\":[1.5360482115165446,1.643110091673945,1.643110091673945,1.37303061376743],\"xaxis\":\"x\",\"y\":[-887.890625,-887.890625,-1012.5,-1012.5],\"yaxis\":\"y\",\"type\":\"scatter\"},{\"hoverinfo\":\"text\",\"marker\":{\"color\":\"rgb(0,116,217)\"},\"mode\":\"lines\",\"x\":[0.0,1.356932553839929,1.356932553839929,0.0],\"xaxis\":\"x\",\"y\":[-1035.0,-1035.0,-1045.0,-1045.0],\"yaxis\":\"y\",\"type\":\"scatter\"},{\"hoverinfo\":\"text\",\"marker\":{\"color\":\"rgb(0,116,217)\"},\"mode\":\"lines\",\"x\":[0.0,1.3394012006346705,1.3394012006346705,0.0],\"xaxis\":\"x\",\"y\":[-1055.0,-1055.0,-1065.0,-1065.0],\"yaxis\":\"y\",\"type\":\"scatter\"},{\"hoverinfo\":\"text\",\"marker\":{\"color\":\"rgb(0,116,217)\"},\"mode\":\"lines\",\"x\":[0.0,1.2038866569464441,1.2038866569464441,0.0],\"xaxis\":\"x\",\"y\":[-1075.0,-1075.0,-1085.0,-1085.0],\"yaxis\":\"y\",\"type\":\"scatter\"},{\"hoverinfo\":\"text\",\"marker\":{\"color\":\"rgb(0,116,217)\"},\"mode\":\"lines\",\"x\":[1.3394012006346705,1.3540620255064257,1.3540620255064257,1.2038866569464441],\"xaxis\":\"x\",\"y\":[-1060.0,-1060.0,-1080.0,-1080.0],\"yaxis\":\"y\",\"type\":\"scatter\"},{\"hoverinfo\":\"text\",\"marker\":{\"color\":\"rgb(0,116,217)\"},\"mode\":\"lines\",\"x\":[0.0,1.2711048165728671,1.2711048165728671,0.0],\"xaxis\":\"x\",\"y\":[-1095.0,-1095.0,-1105.0,-1105.0],\"yaxis\":\"y\",\"type\":\"scatter\"},{\"hoverinfo\":\"text\",\"marker\":{\"color\":\"rgb(0,116,217)\"},\"mode\":\"lines\",\"x\":[1.2711048165728671,1.3536444878525349,1.3536444878525349,0.0],\"xaxis\":\"x\",\"y\":[-1100.0,-1100.0,-1115.0,-1115.0],\"yaxis\":\"y\",\"type\":\"scatter\"},{\"hoverinfo\":\"text\",\"marker\":{\"color\":\"rgb(0,116,217)\"},\"mode\":\"lines\",\"x\":[1.3540620255064257,1.4165134394421746,1.4165134394421746,1.3536444878525349],\"xaxis\":\"x\",\"y\":[-1070.0,-1070.0,-1107.5,-1107.5],\"yaxis\":\"y\",\"type\":\"scatter\"},{\"hoverinfo\":\"text\",\"marker\":{\"color\":\"rgb(0,116,217)\"},\"mode\":\"lines\",\"x\":[1.356932553839929,1.4336252820409152,1.4336252820409152,1.4165134394421746],\"xaxis\":\"x\",\"y\":[-1040.0,-1040.0,-1088.75,-1088.75],\"yaxis\":\"y\",\"type\":\"scatter\"},{\"hoverinfo\":\"text\",\"marker\":{\"color\":\"rgb(0,116,217)\"},\"mode\":\"lines\",\"x\":[0.0,1.2211503241728248,1.2211503241728248,0.0],\"xaxis\":\"x\",\"y\":[-1125.0,-1125.0,-1135.0,-1135.0],\"yaxis\":\"y\",\"type\":\"scatter\"},{\"hoverinfo\":\"text\",\"marker\":{\"color\":\"rgb(0,116,217)\"},\"mode\":\"lines\",\"x\":[1.4336252820409152,1.4958556101367433,1.4958556101367433,1.2211503241728248],\"xaxis\":\"x\",\"y\":[-1064.375,-1064.375,-1130.0,-1130.0],\"yaxis\":\"y\",\"type\":\"scatter\"},{\"hoverinfo\":\"text\",\"marker\":{\"color\":\"rgb(0,116,217)\"},\"mode\":\"lines\",\"x\":[1.643110091673945,1.6725918951205065,1.6725918951205065,1.4958556101367433],\"xaxis\":\"x\",\"y\":[-950.1953125,-950.1953125,-1097.1875,-1097.1875],\"yaxis\":\"y\",\"type\":\"scatter\"},{\"hoverinfo\":\"text\",\"marker\":{\"color\":\"rgb(0,116,217)\"},\"mode\":\"lines\",\"x\":[1.749789067457502,2.29022669891623,2.29022669891623,1.6725918951205065],\"xaxis\":\"x\",\"y\":[-695.078125,-695.078125,-1023.69140625,-1023.69140625],\"yaxis\":\"y\",\"type\":\"scatter\"},{\"hoverinfo\":\"text\",\"marker\":{\"color\":\"rgb(0,116,217)\"},\"mode\":\"lines\",\"x\":[2.085040750009758,2.70594944966905,2.70594944966905,2.29022669891623],\"xaxis\":\"x\",\"y\":[-378.134765625,-378.134765625,-859.384765625,-859.384765625],\"yaxis\":\"y\",\"type\":\"scatter\"},{\"hoverinfo\":\"text\",\"marker\":{\"color\":\"rgb(133,20,75)\"},\"mode\":\"lines\",\"x\":[0.0,0.8761550729121588,0.8761550729121588,0.0],\"xaxis\":\"x\",\"y\":[-1145.0,-1145.0,-1155.0,-1155.0],\"yaxis\":\"y\",\"type\":\"scatter\"},{\"hoverinfo\":\"text\",\"marker\":{\"color\":\"rgb(0,116,217)\"},\"mode\":\"lines\",\"x\":[0.0,1.0556350541242878,1.0556350541242878,0.0],\"xaxis\":\"x\",\"y\":[-1175.0,-1175.0,-1185.0,-1185.0],\"yaxis\":\"y\",\"type\":\"scatter\"},{\"hoverinfo\":\"text\",\"marker\":{\"color\":\"rgb(0,116,217)\"},\"mode\":\"lines\",\"x\":[0.0,1.2944411304458692,1.2944411304458692,1.0556350541242878],\"xaxis\":\"x\",\"y\":[-1165.0,-1165.0,-1180.0,-1180.0],\"yaxis\":\"y\",\"type\":\"scatter\"},{\"hoverinfo\":\"text\",\"marker\":{\"color\":\"rgb(0,116,217)\"},\"mode\":\"lines\",\"x\":[1.2944411304458692,1.4218519261925993,1.4218519261925993,0.0],\"xaxis\":\"x\",\"y\":[-1172.5,-1172.5,-1195.0,-1195.0],\"yaxis\":\"y\",\"type\":\"scatter\"},{\"hoverinfo\":\"text\",\"marker\":{\"color\":\"rgb(0,116,217)\"},\"mode\":\"lines\",\"x\":[0.8761550729121588,1.5181556619952352,1.5181556619952352,1.4218519261925993],\"xaxis\":\"x\",\"y\":[-1150.0,-1150.0,-1183.75,-1183.75],\"yaxis\":\"y\",\"type\":\"scatter\"},{\"hoverinfo\":\"text\",\"marker\":{\"color\":\"rgb(0,116,217)\"},\"mode\":\"lines\",\"x\":[0.0,1.24685320725537,1.24685320725537,0.0],\"xaxis\":\"x\",\"y\":[-1235.0,-1235.0,-1245.0,-1245.0],\"yaxis\":\"y\",\"type\":\"scatter\"},{\"hoverinfo\":\"text\",\"marker\":{\"color\":\"rgb(0,116,217)\"},\"mode\":\"lines\",\"x\":[0.0,1.3060699323389016,1.3060699323389016,1.24685320725537],\"xaxis\":\"x\",\"y\":[-1225.0,-1225.0,-1240.0,-1240.0],\"yaxis\":\"y\",\"type\":\"scatter\"},{\"hoverinfo\":\"text\",\"marker\":{\"color\":\"rgb(0,116,217)\"},\"mode\":\"lines\",\"x\":[0.0,1.3742510806388448,1.3742510806388448,1.3060699323389016],\"xaxis\":\"x\",\"y\":[-1215.0,-1215.0,-1232.5,-1232.5],\"yaxis\":\"y\",\"type\":\"scatter\"},{\"hoverinfo\":\"text\",\"marker\":{\"color\":\"rgb(0,116,217)\"},\"mode\":\"lines\",\"x\":[0.0,1.3976681780016218,1.3976681780016218,1.3742510806388448],\"xaxis\":\"x\",\"y\":[-1205.0,-1205.0,-1223.75,-1223.75],\"yaxis\":\"y\",\"type\":\"scatter\"},{\"hoverinfo\":\"text\",\"marker\":{\"color\":\"rgb(0,116,217)\"},\"mode\":\"lines\",\"x\":[0.0,1.2610770488574758,1.2610770488574758,0.0],\"xaxis\":\"x\",\"y\":[-1255.0,-1255.0,-1265.0,-1265.0],\"yaxis\":\"y\",\"type\":\"scatter\"},{\"hoverinfo\":\"text\",\"marker\":{\"color\":\"rgb(0,116,217)\"},\"mode\":\"lines\",\"x\":[1.2610770488574758,1.3234370376329936,1.3234370376329936,0.0],\"xaxis\":\"x\",\"y\":[-1260.0,-1260.0,-1275.0,-1275.0],\"yaxis\":\"y\",\"type\":\"scatter\"},{\"hoverinfo\":\"text\",\"marker\":{\"color\":\"rgb(0,116,217)\"},\"mode\":\"lines\",\"x\":[0.0,1.235835089113985,1.235835089113985,0.0],\"xaxis\":\"x\",\"y\":[-1295.0,-1295.0,-1305.0,-1305.0],\"yaxis\":\"y\",\"type\":\"scatter\"},{\"hoverinfo\":\"text\",\"marker\":{\"color\":\"rgb(0,116,217)\"},\"mode\":\"lines\",\"x\":[0.0,1.371058047105407,1.371058047105407,1.235835089113985],\"xaxis\":\"x\",\"y\":[-1285.0,-1285.0,-1300.0,-1300.0],\"yaxis\":\"y\",\"type\":\"scatter\"},{\"hoverinfo\":\"text\",\"marker\":{\"color\":\"rgb(0,116,217)\"},\"mode\":\"lines\",\"x\":[0.0,1.339943118873362,1.339943118873362,0.0],\"xaxis\":\"x\",\"y\":[-1315.0,-1315.0,-1325.0,-1325.0],\"yaxis\":\"y\",\"type\":\"scatter\"},{\"hoverinfo\":\"text\",\"marker\":{\"color\":\"rgb(0,116,217)\"},\"mode\":\"lines\",\"x\":[1.371058047105407,1.4024327286919687,1.4024327286919687,1.339943118873362],\"xaxis\":\"x\",\"y\":[-1292.5,-1292.5,-1320.0,-1320.0],\"yaxis\":\"y\",\"type\":\"scatter\"},{\"hoverinfo\":\"text\",\"marker\":{\"color\":\"rgb(0,116,217)\"},\"mode\":\"lines\",\"x\":[1.3234370376329936,1.4678755233021694,1.4678755233021694,1.4024327286919687],\"xaxis\":\"x\",\"y\":[-1267.5,-1267.5,-1306.25,-1306.25],\"yaxis\":\"y\",\"type\":\"scatter\"},{\"hoverinfo\":\"text\",\"marker\":{\"color\":\"rgb(0,116,217)\"},\"mode\":\"lines\",\"x\":[0.0,1.070209343303685,1.070209343303685,0.0],\"xaxis\":\"x\",\"y\":[-1335.0,-1335.0,-1345.0,-1345.0],\"yaxis\":\"y\",\"type\":\"scatter\"},{\"hoverinfo\":\"text\",\"marker\":{\"color\":\"rgb(0,116,217)\"},\"mode\":\"lines\",\"x\":[0.0,1.1991249401165023,1.1991249401165023,0.0],\"xaxis\":\"x\",\"y\":[-1355.0,-1355.0,-1365.0,-1365.0],\"yaxis\":\"y\",\"type\":\"scatter\"},{\"hoverinfo\":\"text\",\"marker\":{\"color\":\"rgb(0,116,217)\"},\"mode\":\"lines\",\"x\":[1.1991249401165023,1.3802067263565154,1.3802067263565154,0.0],\"xaxis\":\"x\",\"y\":[-1360.0,-1360.0,-1375.0,-1375.0],\"yaxis\":\"y\",\"type\":\"scatter\"},{\"hoverinfo\":\"text\",\"marker\":{\"color\":\"rgb(0,116,217)\"},\"mode\":\"lines\",\"x\":[1.070209343303685,1.5552421588248604,1.5552421588248604,1.3802067263565154],\"xaxis\":\"x\",\"y\":[-1340.0,-1340.0,-1367.5,-1367.5],\"yaxis\":\"y\",\"type\":\"scatter\"},{\"hoverinfo\":\"text\",\"marker\":{\"color\":\"rgb(0,116,217)\"},\"mode\":\"lines\",\"x\":[1.4678755233021694,1.6078860874211045,1.6078860874211045,1.5552421588248604],\"xaxis\":\"x\",\"y\":[-1286.875,-1286.875,-1353.75,-1353.75],\"yaxis\":\"y\",\"type\":\"scatter\"},{\"hoverinfo\":\"text\",\"marker\":{\"color\":\"rgb(0,116,217)\"},\"mode\":\"lines\",\"x\":[1.3976681780016218,1.7397219734487939,1.7397219734487939,1.6078860874211045],\"xaxis\":\"x\",\"y\":[-1214.375,-1214.375,-1320.3125,-1320.3125],\"yaxis\":\"y\",\"type\":\"scatter\"},{\"hoverinfo\":\"text\",\"marker\":{\"color\":\"rgb(0,116,217)\"},\"mode\":\"lines\",\"x\":[0.0,1.2079210588776663,1.2079210588776663,0.0],\"xaxis\":\"x\",\"y\":[-1385.0,-1385.0,-1395.0,-1395.0],\"yaxis\":\"y\",\"type\":\"scatter\"},{\"hoverinfo\":\"text\",\"marker\":{\"color\":\"rgb(0,116,217)\"},\"mode\":\"lines\",\"x\":[0.0,1.2589825772134047,1.2589825772134047,0.0],\"xaxis\":\"x\",\"y\":[-1405.0,-1405.0,-1415.0,-1415.0],\"yaxis\":\"y\",\"type\":\"scatter\"},{\"hoverinfo\":\"text\",\"marker\":{\"color\":\"rgb(0,116,217)\"},\"mode\":\"lines\",\"x\":[1.2589825772134047,1.3219160856500325,1.3219160856500325,0.0],\"xaxis\":\"x\",\"y\":[-1410.0,-1410.0,-1425.0,-1425.0],\"yaxis\":\"y\",\"type\":\"scatter\"},{\"hoverinfo\":\"text\",\"marker\":{\"color\":\"rgb(0,116,217)\"},\"mode\":\"lines\",\"x\":[1.2079210588776663,1.5038563156917077,1.5038563156917077,1.3219160856500325],\"xaxis\":\"x\",\"y\":[-1390.0,-1390.0,-1417.5,-1417.5],\"yaxis\":\"y\",\"type\":\"scatter\"},{\"hoverinfo\":\"text\",\"marker\":{\"color\":\"rgb(0,116,217)\"},\"mode\":\"lines\",\"x\":[0.0,1.2200675050686742,1.2200675050686742,0.0],\"xaxis\":\"x\",\"y\":[-1435.0,-1435.0,-1445.0,-1445.0],\"yaxis\":\"y\",\"type\":\"scatter\"},{\"hoverinfo\":\"text\",\"marker\":{\"color\":\"rgb(0,116,217)\"},\"mode\":\"lines\",\"x\":[0.0,1.3311470039018072,1.3311470039018072,0.0],\"xaxis\":\"x\",\"y\":[-1455.0,-1455.0,-1465.0,-1465.0],\"yaxis\":\"y\",\"type\":\"scatter\"},{\"hoverinfo\":\"text\",\"marker\":{\"color\":\"rgb(0,116,217)\"},\"mode\":\"lines\",\"x\":[1.2200675050686742,1.3765025337665502,1.3765025337665502,1.3311470039018072],\"xaxis\":\"x\",\"y\":[-1440.0,-1440.0,-1460.0,-1460.0],\"yaxis\":\"y\",\"type\":\"scatter\"},{\"hoverinfo\":\"text\",\"marker\":{\"color\":\"rgb(0,116,217)\"},\"mode\":\"lines\",\"x\":[0.0,1.3442262529444504,1.3442262529444504,0.0],\"xaxis\":\"x\",\"y\":[-1475.0,-1475.0,-1485.0,-1485.0],\"yaxis\":\"y\",\"type\":\"scatter\"},{\"hoverinfo\":\"text\",\"marker\":{\"color\":\"rgb(0,116,217)\"},\"mode\":\"lines\",\"x\":[0.0,1.311118878747532,1.311118878747532,0.0],\"xaxis\":\"x\",\"y\":[-1495.0,-1495.0,-1505.0,-1505.0],\"yaxis\":\"y\",\"type\":\"scatter\"},{\"hoverinfo\":\"text\",\"marker\":{\"color\":\"rgb(0,116,217)\"},\"mode\":\"lines\",\"x\":[1.3442262529444504,1.375646066347266,1.375646066347266,1.311118878747532],\"xaxis\":\"x\",\"y\":[-1480.0,-1480.0,-1500.0,-1500.0],\"yaxis\":\"y\",\"type\":\"scatter\"},{\"hoverinfo\":\"text\",\"marker\":{\"color\":\"rgb(0,116,217)\"},\"mode\":\"lines\",\"x\":[0.0,1.3110776893025846,1.3110776893025846,0.0],\"xaxis\":\"x\",\"y\":[-1515.0,-1515.0,-1525.0,-1525.0],\"yaxis\":\"y\",\"type\":\"scatter\"},{\"hoverinfo\":\"text\",\"marker\":{\"color\":\"rgb(0,116,217)\"},\"mode\":\"lines\",\"x\":[1.375646066347266,1.4169818406058048,1.4169818406058048,1.3110776893025846],\"xaxis\":\"x\",\"y\":[-1490.0,-1490.0,-1520.0,-1520.0],\"yaxis\":\"y\",\"type\":\"scatter\"},{\"hoverinfo\":\"text\",\"marker\":{\"color\":\"rgb(0,116,217)\"},\"mode\":\"lines\",\"x\":[0.0,1.3016718413281416,1.3016718413281416,0.0],\"xaxis\":\"x\",\"y\":[-1535.0,-1535.0,-1545.0,-1545.0],\"yaxis\":\"y\",\"type\":\"scatter\"},{\"hoverinfo\":\"text\",\"marker\":{\"color\":\"rgb(0,116,217)\"},\"mode\":\"lines\",\"x\":[1.4169818406058048,1.474873657172708,1.474873657172708,1.3016718413281416],\"xaxis\":\"x\",\"y\":[-1505.0,-1505.0,-1540.0,-1540.0],\"yaxis\":\"y\",\"type\":\"scatter\"},{\"hoverinfo\":\"text\",\"marker\":{\"color\":\"rgb(0,116,217)\"},\"mode\":\"lines\",\"x\":[0.0,1.344842887966183,1.344842887966183,0.0],\"xaxis\":\"x\",\"y\":[-1565.0,-1565.0,-1575.0,-1575.0],\"yaxis\":\"y\",\"type\":\"scatter\"},{\"hoverinfo\":\"text\",\"marker\":{\"color\":\"rgb(0,116,217)\"},\"mode\":\"lines\",\"x\":[0.0,1.4059506033443556,1.4059506033443556,1.344842887966183],\"xaxis\":\"x\",\"y\":[-1555.0,-1555.0,-1570.0,-1570.0],\"yaxis\":\"y\",\"type\":\"scatter\"},{\"hoverinfo\":\"text\",\"marker\":{\"color\":\"rgb(0,116,217)\"},\"mode\":\"lines\",\"x\":[0.0,1.343202547381184,1.343202547381184,0.0],\"xaxis\":\"x\",\"y\":[-1585.0,-1585.0,-1595.0,-1595.0],\"yaxis\":\"y\",\"type\":\"scatter\"},{\"hoverinfo\":\"text\",\"marker\":{\"color\":\"rgb(0,116,217)\"},\"mode\":\"lines\",\"x\":[0.0,1.352731790683839,1.352731790683839,0.0],\"xaxis\":\"x\",\"y\":[-1605.0,-1605.0,-1615.0,-1615.0],\"yaxis\":\"y\",\"type\":\"scatter\"},{\"hoverinfo\":\"text\",\"marker\":{\"color\":\"rgb(0,116,217)\"},\"mode\":\"lines\",\"x\":[1.352731790683839,1.3821968000147802,1.3821968000147802,0.0],\"xaxis\":\"x\",\"y\":[-1610.0,-1610.0,-1625.0,-1625.0],\"yaxis\":\"y\",\"type\":\"scatter\"},{\"hoverinfo\":\"text\",\"marker\":{\"color\":\"rgb(0,116,217)\"},\"mode\":\"lines\",\"x\":[1.343202547381184,1.389112804234306,1.389112804234306,1.3821968000147802],\"xaxis\":\"x\",\"y\":[-1590.0,-1590.0,-1617.5,-1617.5],\"yaxis\":\"y\",\"type\":\"scatter\"},{\"hoverinfo\":\"text\",\"marker\":{\"color\":\"rgb(0,116,217)\"},\"mode\":\"lines\",\"x\":[1.4059506033443556,1.4364573680419597,1.4364573680419597,1.389112804234306],\"xaxis\":\"x\",\"y\":[-1562.5,-1562.5,-1603.75,-1603.75],\"yaxis\":\"y\",\"type\":\"scatter\"},{\"hoverinfo\":\"text\",\"marker\":{\"color\":\"rgb(0,116,217)\"},\"mode\":\"lines\",\"x\":[0.0,1.3570851547982292,1.3570851547982292,0.0],\"xaxis\":\"x\",\"y\":[-1635.0,-1635.0,-1645.0,-1645.0],\"yaxis\":\"y\",\"type\":\"scatter\"},{\"hoverinfo\":\"text\",\"marker\":{\"color\":\"rgb(0,116,217)\"},\"mode\":\"lines\",\"x\":[0.0,1.3569011451610231,1.3569011451610231,0.0],\"xaxis\":\"x\",\"y\":[-1655.0,-1655.0,-1665.0,-1665.0],\"yaxis\":\"y\",\"type\":\"scatter\"},{\"hoverinfo\":\"text\",\"marker\":{\"color\":\"rgb(0,116,217)\"},\"mode\":\"lines\",\"x\":[1.3570851547982292,1.4218678708473573,1.4218678708473573,1.3569011451610231],\"xaxis\":\"x\",\"y\":[-1640.0,-1640.0,-1660.0,-1660.0],\"yaxis\":\"y\",\"type\":\"scatter\"},{\"hoverinfo\":\"text\",\"marker\":{\"color\":\"rgb(0,116,217)\"},\"mode\":\"lines\",\"x\":[1.4364573680419597,1.447860047274629,1.447860047274629,1.4218678708473573],\"xaxis\":\"x\",\"y\":[-1583.125,-1583.125,-1650.0,-1650.0],\"yaxis\":\"y\",\"type\":\"scatter\"},{\"hoverinfo\":\"text\",\"marker\":{\"color\":\"rgb(0,116,217)\"},\"mode\":\"lines\",\"x\":[0.0,1.3265486635437802,1.3265486635437802,0.0],\"xaxis\":\"x\",\"y\":[-1675.0,-1675.0,-1685.0,-1685.0],\"yaxis\":\"y\",\"type\":\"scatter\"},{\"hoverinfo\":\"text\",\"marker\":{\"color\":\"rgb(0,116,217)\"},\"mode\":\"lines\",\"x\":[0.0,1.3172291821800646,1.3172291821800646,0.0],\"xaxis\":\"x\",\"y\":[-1695.0,-1695.0,-1705.0,-1705.0],\"yaxis\":\"y\",\"type\":\"scatter\"},{\"hoverinfo\":\"text\",\"marker\":{\"color\":\"rgb(0,116,217)\"},\"mode\":\"lines\",\"x\":[1.3172291821800646,1.3548103802544817,1.3548103802544817,0.0],\"xaxis\":\"x\",\"y\":[-1700.0,-1700.0,-1715.0,-1715.0],\"yaxis\":\"y\",\"type\":\"scatter\"},{\"hoverinfo\":\"text\",\"marker\":{\"color\":\"rgb(0,116,217)\"},\"mode\":\"lines\",\"x\":[1.3265486635437802,1.423304655681407,1.423304655681407,1.3548103802544817],\"xaxis\":\"x\",\"y\":[-1680.0,-1680.0,-1707.5,-1707.5],\"yaxis\":\"y\",\"type\":\"scatter\"},{\"hoverinfo\":\"text\",\"marker\":{\"color\":\"rgb(0,116,217)\"},\"mode\":\"lines\",\"x\":[0.0,1.3540395193048291,1.3540395193048291,0.0],\"xaxis\":\"x\",\"y\":[-1735.0,-1735.0,-1745.0,-1745.0],\"yaxis\":\"y\",\"type\":\"scatter\"},{\"hoverinfo\":\"text\",\"marker\":{\"color\":\"rgb(0,116,217)\"},\"mode\":\"lines\",\"x\":[0.0,1.3899931857027066,1.3899931857027066,1.3540395193048291],\"xaxis\":\"x\",\"y\":[-1725.0,-1725.0,-1740.0,-1740.0],\"yaxis\":\"y\",\"type\":\"scatter\"},{\"hoverinfo\":\"text\",\"marker\":{\"color\":\"rgb(0,116,217)\"},\"mode\":\"lines\",\"x\":[0.0,1.3250001807254572,1.3250001807254572,0.0],\"xaxis\":\"x\",\"y\":[-1755.0,-1755.0,-1765.0,-1765.0],\"yaxis\":\"y\",\"type\":\"scatter\"},{\"hoverinfo\":\"text\",\"marker\":{\"color\":\"rgb(0,116,217)\"},\"mode\":\"lines\",\"x\":[1.3899931857027066,1.4286920932811022,1.4286920932811022,1.3250001807254572],\"xaxis\":\"x\",\"y\":[-1732.5,-1732.5,-1760.0,-1760.0],\"yaxis\":\"y\",\"type\":\"scatter\"},{\"hoverinfo\":\"text\",\"marker\":{\"color\":\"rgb(0,116,217)\"},\"mode\":\"lines\",\"x\":[1.423304655681407,1.5019390507809245,1.5019390507809245,1.4286920932811022],\"xaxis\":\"x\",\"y\":[-1693.75,-1693.75,-1746.25,-1746.25],\"yaxis\":\"y\",\"type\":\"scatter\"},{\"hoverinfo\":\"text\",\"marker\":{\"color\":\"rgb(0,116,217)\"},\"mode\":\"lines\",\"x\":[1.447860047274629,1.5148097046750384,1.5148097046750384,1.5019390507809245],\"xaxis\":\"x\",\"y\":[-1616.5625,-1616.5625,-1720.0,-1720.0],\"yaxis\":\"y\",\"type\":\"scatter\"},{\"hoverinfo\":\"text\",\"marker\":{\"color\":\"rgb(0,116,217)\"},\"mode\":\"lines\",\"x\":[1.474873657172708,1.6378740413935822,1.6378740413935822,1.5148097046750384],\"xaxis\":\"x\",\"y\":[-1522.5,-1522.5,-1668.28125,-1668.28125],\"yaxis\":\"y\",\"type\":\"scatter\"},{\"hoverinfo\":\"text\",\"marker\":{\"color\":\"rgb(0,116,217)\"},\"mode\":\"lines\",\"x\":[0.0,1.3157460436971715,1.3157460436971715,0.0],\"xaxis\":\"x\",\"y\":[-1775.0,-1775.0,-1785.0,-1785.0],\"yaxis\":\"y\",\"type\":\"scatter\"},{\"hoverinfo\":\"text\",\"marker\":{\"color\":\"rgb(0,116,217)\"},\"mode\":\"lines\",\"x\":[0.0,1.3664588085003864,1.3664588085003864,0.0],\"xaxis\":\"x\",\"y\":[-1805.0,-1805.0,-1815.0,-1815.0],\"yaxis\":\"y\",\"type\":\"scatter\"},{\"hoverinfo\":\"text\",\"marker\":{\"color\":\"rgb(0,116,217)\"},\"mode\":\"lines\",\"x\":[0.0,1.370520193373165,1.370520193373165,1.3664588085003864],\"xaxis\":\"x\",\"y\":[-1795.0,-1795.0,-1810.0,-1810.0],\"yaxis\":\"y\",\"type\":\"scatter\"},{\"hoverinfo\":\"text\",\"marker\":{\"color\":\"rgb(0,116,217)\"},\"mode\":\"lines\",\"x\":[1.3157460436971715,1.4441306591941332,1.4441306591941332,1.370520193373165],\"xaxis\":\"x\",\"y\":[-1780.0,-1780.0,-1802.5,-1802.5],\"yaxis\":\"y\",\"type\":\"scatter\"},{\"hoverinfo\":\"text\",\"marker\":{\"color\":\"rgb(0,116,217)\"},\"mode\":\"lines\",\"x\":[0.0,1.294613461117254,1.294613461117254,0.0],\"xaxis\":\"x\",\"y\":[-1835.0,-1835.0,-1845.0,-1845.0],\"yaxis\":\"y\",\"type\":\"scatter\"},{\"hoverinfo\":\"text\",\"marker\":{\"color\":\"rgb(0,116,217)\"},\"mode\":\"lines\",\"x\":[0.0,1.3871326880607637,1.3871326880607637,1.294613461117254],\"xaxis\":\"x\",\"y\":[-1825.0,-1825.0,-1840.0,-1840.0],\"yaxis\":\"y\",\"type\":\"scatter\"},{\"hoverinfo\":\"text\",\"marker\":{\"color\":\"rgb(0,116,217)\"},\"mode\":\"lines\",\"x\":[1.3871326880607637,1.4066691305181862,1.4066691305181862,0.0],\"xaxis\":\"x\",\"y\":[-1832.5,-1832.5,-1855.0,-1855.0],\"yaxis\":\"y\",\"type\":\"scatter\"},{\"hoverinfo\":\"text\",\"marker\":{\"color\":\"rgb(0,116,217)\"},\"mode\":\"lines\",\"x\":[1.4441306591941332,1.5275965422867444,1.5275965422867444,1.4066691305181862],\"xaxis\":\"x\",\"y\":[-1791.25,-1791.25,-1843.75,-1843.75],\"yaxis\":\"y\",\"type\":\"scatter\"},{\"hoverinfo\":\"text\",\"marker\":{\"color\":\"rgb(0,116,217)\"},\"mode\":\"lines\",\"x\":[1.6378740413935822,1.6915940488020287,1.6915940488020287,1.5275965422867444],\"xaxis\":\"x\",\"y\":[-1595.390625,-1595.390625,-1817.5,-1817.5],\"yaxis\":\"y\",\"type\":\"scatter\"},{\"hoverinfo\":\"text\",\"marker\":{\"color\":\"rgb(0,116,217)\"},\"mode\":\"lines\",\"x\":[0.0,1.2895757922234754,1.2895757922234754,0.0],\"xaxis\":\"x\",\"y\":[-1865.0,-1865.0,-1875.0,-1875.0],\"yaxis\":\"y\",\"type\":\"scatter\"},{\"hoverinfo\":\"text\",\"marker\":{\"color\":\"rgb(0,116,217)\"},\"mode\":\"lines\",\"x\":[0.0,1.1552958269606557,1.1552958269606557,0.0],\"xaxis\":\"x\",\"y\":[-1885.0,-1885.0,-1895.0,-1895.0],\"yaxis\":\"y\",\"type\":\"scatter\"},{\"hoverinfo\":\"text\",\"marker\":{\"color\":\"rgb(0,116,217)\"},\"mode\":\"lines\",\"x\":[1.2895757922234754,1.4372280100230417,1.4372280100230417,1.1552958269606557],\"xaxis\":\"x\",\"y\":[-1870.0,-1870.0,-1890.0,-1890.0],\"yaxis\":\"y\",\"type\":\"scatter\"},{\"hoverinfo\":\"text\",\"marker\":{\"color\":\"rgb(0,116,217)\"},\"mode\":\"lines\",\"x\":[1.6915940488020287,1.7713912636520501,1.7713912636520501,1.4372280100230417],\"xaxis\":\"x\",\"y\":[-1706.4453125,-1706.4453125,-1880.0,-1880.0],\"yaxis\":\"y\",\"type\":\"scatter\"},{\"hoverinfo\":\"text\",\"marker\":{\"color\":\"rgb(0,116,217)\"},\"mode\":\"lines\",\"x\":[1.3765025337665502,1.788422504639524,1.788422504639524,1.7713912636520501],\"xaxis\":\"x\",\"y\":[-1450.0,-1450.0,-1793.22265625,-1793.22265625],\"yaxis\":\"y\",\"type\":\"scatter\"},{\"hoverinfo\":\"text\",\"marker\":{\"color\":\"rgb(0,116,217)\"},\"mode\":\"lines\",\"x\":[1.5038563156917077,1.8269717626032675,1.8269717626032675,1.788422504639524],\"xaxis\":\"x\",\"y\":[-1403.75,-1403.75,-1621.611328125,-1621.611328125],\"yaxis\":\"y\",\"type\":\"scatter\"},{\"hoverinfo\":\"text\",\"marker\":{\"color\":\"rgb(0,116,217)\"},\"mode\":\"lines\",\"x\":[0.0,1.0849393369318263,1.0849393369318263,0.0],\"xaxis\":\"x\",\"y\":[-1915.0,-1915.0,-1925.0,-1925.0],\"yaxis\":\"y\",\"type\":\"scatter\"},{\"hoverinfo\":\"text\",\"marker\":{\"color\":\"rgb(0,116,217)\"},\"mode\":\"lines\",\"x\":[0.0,1.3718125993126005,1.3718125993126005,1.0849393369318263],\"xaxis\":\"x\",\"y\":[-1905.0,-1905.0,-1920.0,-1920.0],\"yaxis\":\"y\",\"type\":\"scatter\"},{\"hoverinfo\":\"text\",\"marker\":{\"color\":\"rgb(0,116,217)\"},\"mode\":\"lines\",\"x\":[0.0,1.3322812073448367,1.3322812073448367,0.0],\"xaxis\":\"x\",\"y\":[-1945.0,-1945.0,-1955.0,-1955.0],\"yaxis\":\"y\",\"type\":\"scatter\"},{\"hoverinfo\":\"text\",\"marker\":{\"color\":\"rgb(0,116,217)\"},\"mode\":\"lines\",\"x\":[0.0,1.3492619088774909,1.3492619088774909,1.3322812073448367],\"xaxis\":\"x\",\"y\":[-1935.0,-1935.0,-1950.0,-1950.0],\"yaxis\":\"y\",\"type\":\"scatter\"},{\"hoverinfo\":\"text\",\"marker\":{\"color\":\"rgb(0,116,217)\"},\"mode\":\"lines\",\"x\":[0.0,1.321385040288785,1.321385040288785,0.0],\"xaxis\":\"x\",\"y\":[-1975.0,-1975.0,-1985.0,-1985.0],\"yaxis\":\"y\",\"type\":\"scatter\"},{\"hoverinfo\":\"text\",\"marker\":{\"color\":\"rgb(0,116,217)\"},\"mode\":\"lines\",\"x\":[1.321385040288785,1.3362800184300268,1.3362800184300268,0.0],\"xaxis\":\"x\",\"y\":[-1980.0,-1980.0,-1995.0,-1995.0],\"yaxis\":\"y\",\"type\":\"scatter\"},{\"hoverinfo\":\"text\",\"marker\":{\"color\":\"rgb(0,116,217)\"},\"mode\":\"lines\",\"x\":[0.0,1.354090079116874,1.354090079116874,1.3362800184300268],\"xaxis\":\"x\",\"y\":[-1965.0,-1965.0,-1987.5,-1987.5],\"yaxis\":\"y\",\"type\":\"scatter\"},{\"hoverinfo\":\"text\",\"marker\":{\"color\":\"rgb(0,116,217)\"},\"mode\":\"lines\",\"x\":[0.0,1.2799580458503688,1.2799580458503688,0.0],\"xaxis\":\"x\",\"y\":[-2005.0,-2005.0,-2015.0,-2015.0],\"yaxis\":\"y\",\"type\":\"scatter\"},{\"hoverinfo\":\"text\",\"marker\":{\"color\":\"rgb(0,116,217)\"},\"mode\":\"lines\",\"x\":[1.2799580458503688,1.3079159689159419,1.3079159689159419,0.0],\"xaxis\":\"x\",\"y\":[-2010.0,-2010.0,-2025.0,-2025.0],\"yaxis\":\"y\",\"type\":\"scatter\"},{\"hoverinfo\":\"text\",\"marker\":{\"color\":\"rgb(0,116,217)\"},\"mode\":\"lines\",\"x\":[1.354090079116874,1.3800284456037675,1.3800284456037675,1.3079159689159419],\"xaxis\":\"x\",\"y\":[-1976.25,-1976.25,-2017.5,-2017.5],\"yaxis\":\"y\",\"type\":\"scatter\"},{\"hoverinfo\":\"text\",\"marker\":{\"color\":\"rgb(0,116,217)\"},\"mode\":\"lines\",\"x\":[1.3492619088774909,1.47330401497872,1.47330401497872,1.3800284456037675],\"xaxis\":\"x\",\"y\":[-1942.5,-1942.5,-1996.875,-1996.875],\"yaxis\":\"y\",\"type\":\"scatter\"},{\"hoverinfo\":\"text\",\"marker\":{\"color\":\"rgb(0,116,217)\"},\"mode\":\"lines\",\"x\":[0.0,1.3805929212597619,1.3805929212597619,0.0],\"xaxis\":\"x\",\"y\":[-2045.0,-2045.0,-2055.0,-2055.0],\"yaxis\":\"y\",\"type\":\"scatter\"},{\"hoverinfo\":\"text\",\"marker\":{\"color\":\"rgb(0,116,217)\"},\"mode\":\"lines\",\"x\":[0.0,1.4321607900607083,1.4321607900607083,1.3805929212597619],\"xaxis\":\"x\",\"y\":[-2035.0,-2035.0,-2050.0,-2050.0],\"yaxis\":\"y\",\"type\":\"scatter\"},{\"hoverinfo\":\"text\",\"marker\":{\"color\":\"rgb(0,116,217)\"},\"mode\":\"lines\",\"x\":[0.0,1.3492828942296027,1.3492828942296027,0.0],\"xaxis\":\"x\",\"y\":[-2065.0,-2065.0,-2075.0,-2075.0],\"yaxis\":\"y\",\"type\":\"scatter\"},{\"hoverinfo\":\"text\",\"marker\":{\"color\":\"rgb(0,116,217)\"},\"mode\":\"lines\",\"x\":[0.0,1.347656683350571,1.347656683350571,0.0],\"xaxis\":\"x\",\"y\":[-2085.0,-2085.0,-2095.0,-2095.0],\"yaxis\":\"y\",\"type\":\"scatter\"},{\"hoverinfo\":\"text\",\"marker\":{\"color\":\"rgb(0,116,217)\"},\"mode\":\"lines\",\"x\":[1.3492828942296027,1.4034166388221163,1.4034166388221163,1.347656683350571],\"xaxis\":\"x\",\"y\":[-2070.0,-2070.0,-2090.0,-2090.0],\"yaxis\":\"y\",\"type\":\"scatter\"},{\"hoverinfo\":\"text\",\"marker\":{\"color\":\"rgb(0,116,217)\"},\"mode\":\"lines\",\"x\":[1.4321607900607083,1.4563376506384833,1.4563376506384833,1.4034166388221163],\"xaxis\":\"x\",\"y\":[-2042.5,-2042.5,-2080.0,-2080.0],\"yaxis\":\"y\",\"type\":\"scatter\"},{\"hoverinfo\":\"text\",\"marker\":{\"color\":\"rgb(0,116,217)\"},\"mode\":\"lines\",\"x\":[0.0,1.316502544124158,1.316502544124158,0.0],\"xaxis\":\"x\",\"y\":[-2105.0,-2105.0,-2115.0,-2115.0],\"yaxis\":\"y\",\"type\":\"scatter\"},{\"hoverinfo\":\"text\",\"marker\":{\"color\":\"rgb(0,116,217)\"},\"mode\":\"lines\",\"x\":[0.0,1.3105162553985528,1.3105162553985528,0.0],\"xaxis\":\"x\",\"y\":[-2135.0,-2135.0,-2145.0,-2145.0],\"yaxis\":\"y\",\"type\":\"scatter\"},{\"hoverinfo\":\"text\",\"marker\":{\"color\":\"rgb(0,116,217)\"},\"mode\":\"lines\",\"x\":[0.0,1.3336921011417409,1.3336921011417409,1.3105162553985528],\"xaxis\":\"x\",\"y\":[-2125.0,-2125.0,-2140.0,-2140.0],\"yaxis\":\"y\",\"type\":\"scatter\"},{\"hoverinfo\":\"text\",\"marker\":{\"color\":\"rgb(0,116,217)\"},\"mode\":\"lines\",\"x\":[1.3336921011417409,1.3721530951596492,1.3721530951596492,0.0],\"xaxis\":\"x\",\"y\":[-2132.5,-2132.5,-2155.0,-2155.0],\"yaxis\":\"y\",\"type\":\"scatter\"},{\"hoverinfo\":\"text\",\"marker\":{\"color\":\"rgb(0,116,217)\"},\"mode\":\"lines\",\"x\":[1.316502544124158,1.4056942199784106,1.4056942199784106,1.3721530951596492],\"xaxis\":\"x\",\"y\":[-2110.0,-2110.0,-2143.75,-2143.75],\"yaxis\":\"y\",\"type\":\"scatter\"},{\"hoverinfo\":\"text\",\"marker\":{\"color\":\"rgb(0,116,217)\"},\"mode\":\"lines\",\"x\":[1.4563376506384833,1.5207969368069785,1.5207969368069785,1.4056942199784106],\"xaxis\":\"x\",\"y\":[-2061.25,-2061.25,-2126.875,-2126.875],\"yaxis\":\"y\",\"type\":\"scatter\"},{\"hoverinfo\":\"text\",\"marker\":{\"color\":\"rgb(0,116,217)\"},\"mode\":\"lines\",\"x\":[1.47330401497872,1.612847538580816,1.612847538580816,1.5207969368069785],\"xaxis\":\"x\",\"y\":[-1969.6875,-1969.6875,-2094.0625,-2094.0625],\"yaxis\":\"y\",\"type\":\"scatter\"},{\"hoverinfo\":\"text\",\"marker\":{\"color\":\"rgb(0,116,217)\"},\"mode\":\"lines\",\"x\":[0.0,1.2279355451937823,1.2279355451937823,0.0],\"xaxis\":\"x\",\"y\":[-2175.0,-2175.0,-2185.0,-2185.0],\"yaxis\":\"y\",\"type\":\"scatter\"},{\"hoverinfo\":\"text\",\"marker\":{\"color\":\"rgb(0,116,217)\"},\"mode\":\"lines\",\"x\":[0.0,1.2416554821975647,1.2416554821975647,1.2279355451937823],\"xaxis\":\"x\",\"y\":[-2165.0,-2165.0,-2180.0,-2180.0],\"yaxis\":\"y\",\"type\":\"scatter\"},{\"hoverinfo\":\"text\",\"marker\":{\"color\":\"rgb(0,116,217)\"},\"mode\":\"lines\",\"x\":[1.612847538580816,1.8542575118124827,1.8542575118124827,1.2416554821975647],\"xaxis\":\"x\",\"y\":[-2031.875,-2031.875,-2172.5,-2172.5],\"yaxis\":\"y\",\"type\":\"scatter\"},{\"hoverinfo\":\"text\",\"marker\":{\"color\":\"rgb(0,116,217)\"},\"mode\":\"lines\",\"x\":[1.3718125993126005,1.872942544599704,1.872942544599704,1.8542575118124827],\"xaxis\":\"x\",\"y\":[-1912.5,-1912.5,-2102.1875,-2102.1875],\"yaxis\":\"y\",\"type\":\"scatter\"},{\"hoverinfo\":\"text\",\"marker\":{\"color\":\"rgb(0,116,217)\"},\"mode\":\"lines\",\"x\":[1.8269717626032675,2.06300934074662,2.06300934074662,1.872942544599704],\"xaxis\":\"x\",\"y\":[-1512.6806640625,-1512.6806640625,-2007.34375,-2007.34375],\"yaxis\":\"y\",\"type\":\"scatter\"},{\"hoverinfo\":\"text\",\"marker\":{\"color\":\"rgb(0,116,217)\"},\"mode\":\"lines\",\"x\":[1.7397219734487939,2.463693403845726,2.463693403845726,2.06300934074662],\"xaxis\":\"x\",\"y\":[-1267.34375,-1267.34375,-1760.01220703125,-1760.01220703125],\"yaxis\":\"y\",\"type\":\"scatter\"},{\"hoverinfo\":\"text\",\"marker\":{\"color\":\"rgb(0,116,217)\"},\"mode\":\"lines\",\"x\":[1.5181556619952352,2.5097134584425698,2.5097134584425698,2.463693403845726],\"xaxis\":\"x\",\"y\":[-1166.875,-1166.875,-1513.677978515625,-1513.677978515625],\"yaxis\":\"y\",\"type\":\"scatter\"},{\"hoverinfo\":\"text\",\"marker\":{\"color\":\"rgb(0,116,217)\"},\"mode\":\"lines\",\"x\":[0.0,1.271768827485638,1.271768827485638,0.0],\"xaxis\":\"x\",\"y\":[-2205.0,-2205.0,-2215.0,-2215.0],\"yaxis\":\"y\",\"type\":\"scatter\"},{\"hoverinfo\":\"text\",\"marker\":{\"color\":\"rgb(0,116,217)\"},\"mode\":\"lines\",\"x\":[0.0,1.3140464337171043,1.3140464337171043,1.271768827485638],\"xaxis\":\"x\",\"y\":[-2195.0,-2195.0,-2210.0,-2210.0],\"yaxis\":\"y\",\"type\":\"scatter\"},{\"hoverinfo\":\"text\",\"marker\":{\"color\":\"rgb(0,116,217)\"},\"mode\":\"lines\",\"x\":[0.0,1.2798313960629888,1.2798313960629888,0.0],\"xaxis\":\"x\",\"y\":[-2225.0,-2225.0,-2235.0,-2235.0],\"yaxis\":\"y\",\"type\":\"scatter\"},{\"hoverinfo\":\"text\",\"marker\":{\"color\":\"rgb(0,116,217)\"},\"mode\":\"lines\",\"x\":[1.2798313960629888,1.361691857722424,1.361691857722424,0.0],\"xaxis\":\"x\",\"y\":[-2230.0,-2230.0,-2245.0,-2245.0],\"yaxis\":\"y\",\"type\":\"scatter\"},{\"hoverinfo\":\"text\",\"marker\":{\"color\":\"rgb(0,116,217)\"},\"mode\":\"lines\",\"x\":[1.3140464337171043,1.4541661626875257,1.4541661626875257,1.361691857722424],\"xaxis\":\"x\",\"y\":[-2202.5,-2202.5,-2237.5,-2237.5],\"yaxis\":\"y\",\"type\":\"scatter\"},{\"hoverinfo\":\"text\",\"marker\":{\"color\":\"rgb(0,116,217)\"},\"mode\":\"lines\",\"x\":[0.0,1.1524491950101268,1.1524491950101268,0.0],\"xaxis\":\"x\",\"y\":[-2255.0,-2255.0,-2265.0,-2265.0],\"yaxis\":\"y\",\"type\":\"scatter\"},{\"hoverinfo\":\"text\",\"marker\":{\"color\":\"rgb(0,116,217)\"},\"mode\":\"lines\",\"x\":[0.0,1.2413147872641552,1.2413147872641552,0.0],\"xaxis\":\"x\",\"y\":[-2275.0,-2275.0,-2285.0,-2285.0],\"yaxis\":\"y\",\"type\":\"scatter\"},{\"hoverinfo\":\"text\",\"marker\":{\"color\":\"rgb(0,116,217)\"},\"mode\":\"lines\",\"x\":[1.2413147872641552,1.297983197856498,1.297983197856498,0.0],\"xaxis\":\"x\",\"y\":[-2280.0,-2280.0,-2295.0,-2295.0],\"yaxis\":\"y\",\"type\":\"scatter\"},{\"hoverinfo\":\"text\",\"marker\":{\"color\":\"rgb(0,116,217)\"},\"mode\":\"lines\",\"x\":[0.0,1.32930246660815,1.32930246660815,0.0],\"xaxis\":\"x\",\"y\":[-2305.0,-2305.0,-2315.0,-2315.0],\"yaxis\":\"y\",\"type\":\"scatter\"},{\"hoverinfo\":\"text\",\"marker\":{\"color\":\"rgb(0,116,217)\"},\"mode\":\"lines\",\"x\":[1.297983197856498,1.3696407966834314,1.3696407966834314,1.32930246660815],\"xaxis\":\"x\",\"y\":[-2287.5,-2287.5,-2310.0,-2310.0],\"yaxis\":\"y\",\"type\":\"scatter\"},{\"hoverinfo\":\"text\",\"marker\":{\"color\":\"rgb(0,116,217)\"},\"mode\":\"lines\",\"x\":[1.1524491950101268,1.5168361437451563,1.5168361437451563,1.3696407966834314],\"xaxis\":\"x\",\"y\":[-2260.0,-2260.0,-2298.75,-2298.75],\"yaxis\":\"y\",\"type\":\"scatter\"},{\"hoverinfo\":\"text\",\"marker\":{\"color\":\"rgb(0,116,217)\"},\"mode\":\"lines\",\"x\":[1.4541661626875257,1.593525725256754,1.593525725256754,1.5168361437451563],\"xaxis\":\"x\",\"y\":[-2220.0,-2220.0,-2279.375,-2279.375],\"yaxis\":\"y\",\"type\":\"scatter\"},{\"hoverinfo\":\"text\",\"marker\":{\"color\":\"rgb(255,220,0)\"},\"mode\":\"lines\",\"x\":[0.0,0.6906172489484748,0.6906172489484748,0.0],\"xaxis\":\"x\",\"y\":[-2335.0,-2335.0,-2345.0,-2345.0],\"yaxis\":\"y\",\"type\":\"scatter\"},{\"hoverinfo\":\"text\",\"marker\":{\"color\":\"rgb(0,116,217)\"},\"mode\":\"lines\",\"x\":[0.0,1.1661192379847984,1.1661192379847984,0.6906172489484748],\"xaxis\":\"x\",\"y\":[-2325.0,-2325.0,-2340.0,-2340.0],\"yaxis\":\"y\",\"type\":\"scatter\"},{\"hoverinfo\":\"text\",\"marker\":{\"color\":\"rgb(0,116,217)\"},\"mode\":\"lines\",\"x\":[1.1661192379847984,1.3009739710279296,1.3009739710279296,0.0],\"xaxis\":\"x\",\"y\":[-2332.5,-2332.5,-2355.0,-2355.0],\"yaxis\":\"y\",\"type\":\"scatter\"},{\"hoverinfo\":\"text\",\"marker\":{\"color\":\"rgb(0,116,217)\"},\"mode\":\"lines\",\"x\":[1.593525725256754,2.1660330531295626,2.1660330531295626,1.3009739710279296],\"xaxis\":\"x\",\"y\":[-2249.6875,-2249.6875,-2343.75,-2343.75],\"yaxis\":\"y\",\"type\":\"scatter\"},{\"hoverinfo\":\"text\",\"marker\":{\"color\":\"rgb(0,116,217)\"},\"mode\":\"lines\",\"x\":[2.5097134584425698,2.7945502279838297,2.7945502279838297,2.1660330531295626],\"xaxis\":\"x\",\"y\":[-1340.2764892578125,-1340.2764892578125,-2296.71875,-2296.71875],\"yaxis\":\"y\",\"type\":\"scatter\"},{\"hoverinfo\":\"text\",\"marker\":{\"color\":\"rgb(0,116,217)\"},\"mode\":\"lines\",\"x\":[0.0,1.1587919447852253,1.1587919447852253,0.0],\"xaxis\":\"x\",\"y\":[-2365.0,-2365.0,-2375.0,-2375.0],\"yaxis\":\"y\",\"type\":\"scatter\"},{\"hoverinfo\":\"text\",\"marker\":{\"color\":\"rgb(40,35,35)\"},\"mode\":\"lines\",\"x\":[0.0,0.24464828678153946,0.24464828678153946,0.0],\"xaxis\":\"x\",\"y\":[-2385.0,-2385.0,-2395.0,-2395.0],\"yaxis\":\"y\",\"type\":\"scatter\"},{\"hoverinfo\":\"text\",\"marker\":{\"color\":\"rgb(0,116,217)\"},\"mode\":\"lines\",\"x\":[1.1587919447852253,1.4790242634848192,1.4790242634848192,0.24464828678153946],\"xaxis\":\"x\",\"y\":[-2370.0,-2370.0,-2390.0,-2390.0],\"yaxis\":\"y\",\"type\":\"scatter\"},{\"hoverinfo\":\"text\",\"marker\":{\"color\":\"rgb(0,116,217)\"},\"mode\":\"lines\",\"x\":[2.7945502279838297,2.949526310443669,2.949526310443669,1.4790242634848192],\"xaxis\":\"x\",\"y\":[-1818.4976196289062,-1818.4976196289062,-2380.0,-2380.0],\"yaxis\":\"y\",\"type\":\"scatter\"},{\"hoverinfo\":\"text\",\"marker\":{\"color\":\"rgb(0,116,217)\"},\"mode\":\"lines\",\"x\":[2.70594944966905,3.0090363433021055,3.0090363433021055,2.949526310443669],\"xaxis\":\"x\",\"y\":[-618.759765625,-618.759765625,-2099.248809814453,-2099.248809814453],\"yaxis\":\"y\",\"type\":\"scatter\"},{\"hoverinfo\":\"text\",\"marker\":{\"color\":\"rgb(0,116,217)\"},\"mode\":\"lines\",\"x\":[2.0381127056499477,4.007662938950184,4.007662938950184,3.0090363433021055],\"xaxis\":\"x\",\"y\":[-148.203125,-148.203125,-1359.0042877197266,-1359.0042877197266],\"yaxis\":\"y\",\"type\":\"scatter\"},{\"hoverinfo\":\"text\",\"hovertext\":[],\"marker\":{\"color\":\"black\"},\"mode\":\"markers\",\"showlegend\":false,\"x\":[],\"y\":[],\"type\":\"scatter\"},{\"hoverinfo\":\"text\",\"hovertext\":[],\"marker\":{\"color\":\"black\"},\"mode\":\"markers\",\"showlegend\":false,\"x\":[],\"y\":[],\"type\":\"scatter\"}],                        {\"autosize\":false,\"height\":3800,\"hovermode\":\"closest\",\"showlegend\":false,\"width\":1000,\"xaxis\":{\"mirror\":\"allticks\",\"rangemode\":\"tozero\",\"showgrid\":false,\"showline\":true,\"showticklabels\":true,\"ticks\":\"outside\",\"type\":\"linear\",\"zeroline\":false},\"yaxis\":{\"mirror\":\"allticks\",\"rangemode\":\"tozero\",\"showgrid\":false,\"showline\":true,\"showticklabels\":true,\"tickmode\":\"array\",\"ticks\":\"outside\",\"ticktext\":[\"177_round_million_funding\",\"155_pulp_rabbi_paper\",\"212_bureau_newscast_houston...\",\"167_aurlmasker_page aurlmas...\",\"77_bush_news_urlmasker\",\"269_vote_supreme court_supr...\",\"184_assembly_senate_bill\",\"199_rto_spp_filing\",\"123_direct access_suspensio...\",\"72_pjm_commission_maac\",\"30_negative_capacity_transm...\",\"51_amp_iso_nyiso\",\"332_coal_plant_tva\",\"115_bcf_cera_bcfd\",\"19_pipeline_station_oil\",\"406_natural_natural gas_risk\",\"73_stock_crossing_urlmasker\",\"239_yen_stock_overnight\",\"260_dow jones_dow_jones\",\"242_dpc_mseb_india\",\"9_california_davis_power\",\"10_energy_power_electric\",\"16_sap_credit_risk\",\"27_risk_business_operationa...\",\"1_enron_enrononline_enron b...\",\"2_resume_mba_career\",\"82_move_team_move team\",\"413_fantasy_allowed_pts\",\"75_updated_free agent_agent...\",\"79_longhorn_texas_ut\",\"37_golf_game_play\",\"17_god_learnedthat_friend\",\"0_going_bone_marrow\",\"7_ride_houston_hijacker\",\"104_calgary_call_glen\",\"210_dial_conference_present...\",\"337_conference call_telecon...\",\"15_conference call_conferen...\",\"4_meeting_room_attend\",\"12_meeting_cancelled_00p\",\"25_scheduled outages_outage...\",\"130_netcel360_mkm_crosscomm...\",\"182_houston_back houston_dpc\",\"176_narg_fernley_marketpoint\",\"122_meeting_eei_agenda\",\"34_ercot_training_nysrc\",\"170_espeak_floor_committee\",\"134_group_aceves_next assig...\",\"24_jeff_heres daily_jeff mi...\",\"126_woodside_jeff_idea\",\"302_avaya_meetings_saturday...\",\"272_attorney financial_meet...\",\"127_meeting_deb_notify tina\",\"344_requestor_training_hand...\",\"399_course_training_web event\",\"270_career_seminar_interested\",\"62_interview_superscript_re...\",\"213_conference_milken_globa...\",\"431_wharton_insead_wharton ...\",\"394_netathome2001_antipolis...\",\"339_contribution_mayor_club\",\"40_club_ticket_camp\",\"203_pledge_team enron_ticket\",\"266_nda_nui_draft\",\"196_isda_nda_draft isda\",\"234_isda_support annex_cred...\",\"31_isda_sect_annex\",\"58_master agreement_dated_m...\",\"181_wpa_executed_suisse\",\"74_tahiti_bora_bali\",\"6_agreement_exhibit_language\",\"39_draft_amendment_attached\",\"53_morgan stanley_stanley_g...\",\"85_broker_agent_agreement\",\"188_confirmlogic_confirmati...\",\"52_party_setoff_section\",\"36_counterparty_counterpart...\",\"236_galiano_galiano option_...\",\"157_whitewing_project_trans...\",\"56_apx_arbitration_query\",\"102_exposure_judgment_netco...\",\"65_canada_enron direct_dire...\",\"333_zone zone_zone_rate\",\"152_agt_cre_larry jester\",\"14_gas_duke_duke energy\",\"357_ercot_capital_oom\",\"263_scd_minute reserve_rese...\",\"94_eco_cabot_winter cargo\",\"271_bid_acceptable bid_emis...\",\"261_fee_tendered_mrt\",\"209_dth_permian_sonat\",\"295_lgs_option_hedge\",\"227_quantity release_quanti...\",\"54_termination_terminated_t...\",\"137_roe_capex_westex\",\"282_exhibit_ycc_pdvsa\",\"186_turbine_showing change_...\",\"144_restricted credit_restr...\",\"264_court appeals_posted oc...\",\"33_public information_repor...\",\"346_epc_exchange_power proj...\",\"61_nymex_clearing_member\",\"364_margin_spread_palladium\",\"369_duke_pgas_gas daily\",\"311_unit mcf_index_mcf\",\"185_completed_phase_portcalc\",\"228_volume_firstofthemonth_...\",\"67_sitara_volume_ticket\",\"13_meter_volume_nom\",\"47_margin_initial margin_deal\",\"49_dti_deal_demand\",\"198_diamond_carat_depth\",\"81_shall_transaction_determ...\",\"310_bandwidth_bandwidth uni...\",\"215_attached regards_regard...\",\"68_please see_see attached_...\",\"351_hawksley_deficiencypric...\",\"419_attached file_see attac...\",\"367_attached file_see attac...\",\"175_hunterjpg_pic27593gif_p...\",\"404_spicy_cheese_recipe\",\"255_crushlink_urlmasker_sou...\",\"358_sofa_urlmasker urlmaske...\",\"63_urlmasker urlmasker_urlm...\",\"118_urlmasker urlmasker_fre...\",\"131_child support_child_debt\",\"251_mailing list_mailing_re...\",\"219_nextcard_visa_mastercard\",\"204_shipping_order_item\",\"159_gift_urlmasker_urlmaske...\",\"23_travel_oneway_fare\",\"308_reward_points_bonus\",\"326_gift_valentines day_hol...\",\"430_wine_imagemasker imagem...\",\"90_imagemasker_imagemasker ...\",\"342_yrs_yrs yrs_buycom\",\"249_dvd_list price_buycom\",\"18_blackberry_sent blackber...\",\"194_mara enron_corp tel_sue...\",\"221_kitchen chief_america t...\",\"248_fax_petrogulf_signed\",\"26_fax_street eb3801a_eb380...\",\"388_fax_cnphillip platterou...\",\"78_broker_pinnacle_apb\",\"55_prebon_amerex_chris mall...\",\"313_july july_2nd order_july\",\"141_deal_deal number_new deal\",\"329_letter_epmis_copy letter\",\"314_letter send_letter_look...\",\"230_draft letter_attached d...\",\"258_draft_ozzie heather_ozzie\",\"112_draft_draft order_snake\",\"216_file completed_draft_lo...\",\"294_redlined_clean redlined...\",\"402_redlined_syscos_comments\",\"237_address_kazakhstan_3224b\",\"50_lotus note_lotus_deliver...\",\"292_phone line_form_wildhorse\",\"110_review_review provide_p...\",\"93_memo_attached_attached m...\",\"165_template doc_wspp amend...\",\"20_copy_thanks_book\",\"173_invoice_orders_husband\",\"293_enron nda_nda_type winw...\",\"156_caconstituent letter_ca...\",\"84_presentation_deadline_sl...\",\"318_agenda_meeting_attached...\",\"424_tagg_book_ngexotic\",\"116_spreadsheet_sheet_inc s...\",\"91_cadmm posted_cadmm_cover...\",\"153_swap_wire_wire transfer\",\"117_vpp_ubs_swap\",\"384_deal person_waiting tel...\",\"336_enovate_enovate llc_eva...\",\"231_claim_wish claim_agreem...\",\"201_signature_address notic...\",\"232_signature_sign_signed\",\"353_curve_curves_expiration\",\"240_directory_curve_data\",\"140_file_curtailment_access...\",\"183_computing service_acces...\",\"233_virus_patch_malicious\",\"360_note team_file sorry_co...\",\"99_attachment_attachjpg_att...\",\"124_please print_adobe_print\",\"28_inline attachment_attach...\",\"225_ipayit_ibuyit_invoice\",\"35_password_passport_net pa...\",\"238_feedback_pep_option email\",\"45_prc_supervisor_prc meeting\",\"415_internship_vince_vince ...\",\"160_vince_vince vince_fyi v...\",\"21_vince_vince would_vince ...\",\"179_bed_good morning_went\",\"163_skiing_tired_sleep\",\"59_tonight_ready tonight_ni...\",\"268_congrats_parents mad_cl...\",\"132_beer_cafe_yethow vegas\",\"206_thanksgiving_eldon_happ...\",\"154_austin_ill_banjo\",\"86_moms_hostess_birthday\",\"96_birthday_happy birthday_...\",\"161_shower_tripp_msn\",\"174_aircraft_terminal_airline\",\"223_word_word day_merriamwe...\",\"334_yore_man_darwin\",\"29_sara_erik one_like erik\",\"70_ouch_week_bah humbug\",\"57_may may_date_oct\",\"42_following recipients_sen...\",\"101_discus_lets discus_lets\",\"69_call_give call_make call\",\"64_voicemail_voice mail_voice\",\"83_office_pager_cell\",\"43_bell_cell_maternity\",\"92_monica brown_monica_desk\",\"111_mimeversion_contenttype...\",\"76_esmtp_received_smtp\",\"420_contenttransferencoding...\",\"145_genia_letter_draft\",\"366_voluntary separation_se...\",\"385_indemnification_enron m...\",\"309_ermt_paragraph_mutual c...\",\"407_noaction_noaction reque...\",\"244_outage_daily delivery_e...\",\"365_titleist_ensr_per dozen\",\"120_command_email file_file...\",\"229_petronas_v3_review retr...\",\"11_intended_message_confide...\",\"267_data request_term sheet...\",\"283_officer_punished_section\",\"32_court appeal_appeal_down...\",\"356_texas desk_recipient_in...\",\"3_recipient_intended_intend...\",\"327_bridgeline holdings_hol...\",\"247_nguyen_subscribes_mark ...\",\"273_floor legal_fax marycoo...\",\"8_street houston_perlingier...\",\"195_sarashackletonenroncom_...\",\"281_3801a_3801a houston_str...\"],\"tickvals\":[-5.0,-15.0,-25.0,-35.0,-45.0,-55.0,-65.0,-75.0,-85.0,-95.0,-105.0,-115.0,-125.0,-135.0,-145.0,-155.0,-165.0,-175.0,-185.0,-195.0,-205.0,-215.0,-225.0,-235.0,-245.0,-255.0,-265.0,-275.0,-285.0,-295.0,-305.0,-315.0,-325.0,-335.0,-345.0,-355.0,-365.0,-375.0,-385.0,-395.0,-405.0,-415.0,-425.0,-435.0,-445.0,-455.0,-465.0,-475.0,-485.0,-495.0,-505.0,-515.0,-525.0,-535.0,-545.0,-555.0,-565.0,-575.0,-585.0,-595.0,-605.0,-615.0,-625.0,-635.0,-645.0,-655.0,-665.0,-675.0,-685.0,-695.0,-705.0,-715.0,-725.0,-735.0,-745.0,-755.0,-765.0,-775.0,-785.0,-795.0,-805.0,-815.0,-825.0,-835.0,-845.0,-855.0,-865.0,-875.0,-885.0,-895.0,-905.0,-915.0,-925.0,-935.0,-945.0,-955.0,-965.0,-975.0,-985.0,-995.0,-1005.0,-1015.0,-1025.0,-1035.0,-1045.0,-1055.0,-1065.0,-1075.0,-1085.0,-1095.0,-1105.0,-1115.0,-1125.0,-1135.0,-1145.0,-1155.0,-1165.0,-1175.0,-1185.0,-1195.0,-1205.0,-1215.0,-1225.0,-1235.0,-1245.0,-1255.0,-1265.0,-1275.0,-1285.0,-1295.0,-1305.0,-1315.0,-1325.0,-1335.0,-1345.0,-1355.0,-1365.0,-1375.0,-1385.0,-1395.0,-1405.0,-1415.0,-1425.0,-1435.0,-1445.0,-1455.0,-1465.0,-1475.0,-1485.0,-1495.0,-1505.0,-1515.0,-1525.0,-1535.0,-1545.0,-1555.0,-1565.0,-1575.0,-1585.0,-1595.0,-1605.0,-1615.0,-1625.0,-1635.0,-1645.0,-1655.0,-1665.0,-1675.0,-1685.0,-1695.0,-1705.0,-1715.0,-1725.0,-1735.0,-1745.0,-1755.0,-1765.0,-1775.0,-1785.0,-1795.0,-1805.0,-1815.0,-1825.0,-1835.0,-1845.0,-1855.0,-1865.0,-1875.0,-1885.0,-1895.0,-1905.0,-1915.0,-1925.0,-1935.0,-1945.0,-1955.0,-1965.0,-1975.0,-1985.0,-1995.0,-2005.0,-2015.0,-2025.0,-2035.0,-2045.0,-2055.0,-2065.0,-2075.0,-2085.0,-2095.0,-2105.0,-2115.0,-2125.0,-2135.0,-2145.0,-2155.0,-2165.0,-2175.0,-2185.0,-2195.0,-2205.0,-2215.0,-2225.0,-2235.0,-2245.0,-2255.0,-2265.0,-2275.0,-2285.0,-2295.0,-2305.0,-2315.0,-2325.0,-2335.0,-2345.0,-2355.0,-2365.0,-2375.0,-2385.0,-2395.0],\"type\":\"linear\",\"zeroline\":false,\"range\":[-2400.0,0.0]},\"template\":{\"data\":{\"barpolar\":[{\"marker\":{\"line\":{\"color\":\"white\",\"width\":0.5},\"pattern\":{\"fillmode\":\"overlay\",\"size\":10,\"solidity\":0.2}},\"type\":\"barpolar\"}],\"bar\":[{\"error_x\":{\"color\":\"#2a3f5f\"},\"error_y\":{\"color\":\"#2a3f5f\"},\"marker\":{\"line\":{\"color\":\"white\",\"width\":0.5},\"pattern\":{\"fillmode\":\"overlay\",\"size\":10,\"solidity\":0.2}},\"type\":\"bar\"}],\"carpet\":[{\"aaxis\":{\"endlinecolor\":\"#2a3f5f\",\"gridcolor\":\"#C8D4E3\",\"linecolor\":\"#C8D4E3\",\"minorgridcolor\":\"#C8D4E3\",\"startlinecolor\":\"#2a3f5f\"},\"baxis\":{\"endlinecolor\":\"#2a3f5f\",\"gridcolor\":\"#C8D4E3\",\"linecolor\":\"#C8D4E3\",\"minorgridcolor\":\"#C8D4E3\",\"startlinecolor\":\"#2a3f5f\"},\"type\":\"carpet\"}],\"choropleth\":[{\"colorbar\":{\"outlinewidth\":0,\"ticks\":\"\"},\"type\":\"choropleth\"}],\"contourcarpet\":[{\"colorbar\":{\"outlinewidth\":0,\"ticks\":\"\"},\"type\":\"contourcarpet\"}],\"contour\":[{\"colorbar\":{\"outlinewidth\":0,\"ticks\":\"\"},\"colorscale\":[[0.0,\"#0d0887\"],[0.1111111111111111,\"#46039f\"],[0.2222222222222222,\"#7201a8\"],[0.3333333333333333,\"#9c179e\"],[0.4444444444444444,\"#bd3786\"],[0.5555555555555556,\"#d8576b\"],[0.6666666666666666,\"#ed7953\"],[0.7777777777777778,\"#fb9f3a\"],[0.8888888888888888,\"#fdca26\"],[1.0,\"#f0f921\"]],\"type\":\"contour\"}],\"heatmapgl\":[{\"colorbar\":{\"outlinewidth\":0,\"ticks\":\"\"},\"colorscale\":[[0.0,\"#0d0887\"],[0.1111111111111111,\"#46039f\"],[0.2222222222222222,\"#7201a8\"],[0.3333333333333333,\"#9c179e\"],[0.4444444444444444,\"#bd3786\"],[0.5555555555555556,\"#d8576b\"],[0.6666666666666666,\"#ed7953\"],[0.7777777777777778,\"#fb9f3a\"],[0.8888888888888888,\"#fdca26\"],[1.0,\"#f0f921\"]],\"type\":\"heatmapgl\"}],\"heatmap\":[{\"colorbar\":{\"outlinewidth\":0,\"ticks\":\"\"},\"colorscale\":[[0.0,\"#0d0887\"],[0.1111111111111111,\"#46039f\"],[0.2222222222222222,\"#7201a8\"],[0.3333333333333333,\"#9c179e\"],[0.4444444444444444,\"#bd3786\"],[0.5555555555555556,\"#d8576b\"],[0.6666666666666666,\"#ed7953\"],[0.7777777777777778,\"#fb9f3a\"],[0.8888888888888888,\"#fdca26\"],[1.0,\"#f0f921\"]],\"type\":\"heatmap\"}],\"histogram2dcontour\":[{\"colorbar\":{\"outlinewidth\":0,\"ticks\":\"\"},\"colorscale\":[[0.0,\"#0d0887\"],[0.1111111111111111,\"#46039f\"],[0.2222222222222222,\"#7201a8\"],[0.3333333333333333,\"#9c179e\"],[0.4444444444444444,\"#bd3786\"],[0.5555555555555556,\"#d8576b\"],[0.6666666666666666,\"#ed7953\"],[0.7777777777777778,\"#fb9f3a\"],[0.8888888888888888,\"#fdca26\"],[1.0,\"#f0f921\"]],\"type\":\"histogram2dcontour\"}],\"histogram2d\":[{\"colorbar\":{\"outlinewidth\":0,\"ticks\":\"\"},\"colorscale\":[[0.0,\"#0d0887\"],[0.1111111111111111,\"#46039f\"],[0.2222222222222222,\"#7201a8\"],[0.3333333333333333,\"#9c179e\"],[0.4444444444444444,\"#bd3786\"],[0.5555555555555556,\"#d8576b\"],[0.6666666666666666,\"#ed7953\"],[0.7777777777777778,\"#fb9f3a\"],[0.8888888888888888,\"#fdca26\"],[1.0,\"#f0f921\"]],\"type\":\"histogram2d\"}],\"histogram\":[{\"marker\":{\"pattern\":{\"fillmode\":\"overlay\",\"size\":10,\"solidity\":0.2}},\"type\":\"histogram\"}],\"mesh3d\":[{\"colorbar\":{\"outlinewidth\":0,\"ticks\":\"\"},\"type\":\"mesh3d\"}],\"parcoords\":[{\"line\":{\"colorbar\":{\"outlinewidth\":0,\"ticks\":\"\"}},\"type\":\"parcoords\"}],\"pie\":[{\"automargin\":true,\"type\":\"pie\"}],\"scatter3d\":[{\"line\":{\"colorbar\":{\"outlinewidth\":0,\"ticks\":\"\"}},\"marker\":{\"colorbar\":{\"outlinewidth\":0,\"ticks\":\"\"}},\"type\":\"scatter3d\"}],\"scattercarpet\":[{\"marker\":{\"colorbar\":{\"outlinewidth\":0,\"ticks\":\"\"}},\"type\":\"scattercarpet\"}],\"scattergeo\":[{\"marker\":{\"colorbar\":{\"outlinewidth\":0,\"ticks\":\"\"}},\"type\":\"scattergeo\"}],\"scattergl\":[{\"marker\":{\"colorbar\":{\"outlinewidth\":0,\"ticks\":\"\"}},\"type\":\"scattergl\"}],\"scattermapbox\":[{\"marker\":{\"colorbar\":{\"outlinewidth\":0,\"ticks\":\"\"}},\"type\":\"scattermapbox\"}],\"scatterpolargl\":[{\"marker\":{\"colorbar\":{\"outlinewidth\":0,\"ticks\":\"\"}},\"type\":\"scatterpolargl\"}],\"scatterpolar\":[{\"marker\":{\"colorbar\":{\"outlinewidth\":0,\"ticks\":\"\"}},\"type\":\"scatterpolar\"}],\"scatter\":[{\"marker\":{\"colorbar\":{\"outlinewidth\":0,\"ticks\":\"\"}},\"type\":\"scatter\"}],\"scatterternary\":[{\"marker\":{\"colorbar\":{\"outlinewidth\":0,\"ticks\":\"\"}},\"type\":\"scatterternary\"}],\"surface\":[{\"colorbar\":{\"outlinewidth\":0,\"ticks\":\"\"},\"colorscale\":[[0.0,\"#0d0887\"],[0.1111111111111111,\"#46039f\"],[0.2222222222222222,\"#7201a8\"],[0.3333333333333333,\"#9c179e\"],[0.4444444444444444,\"#bd3786\"],[0.5555555555555556,\"#d8576b\"],[0.6666666666666666,\"#ed7953\"],[0.7777777777777778,\"#fb9f3a\"],[0.8888888888888888,\"#fdca26\"],[1.0,\"#f0f921\"]],\"type\":\"surface\"}],\"table\":[{\"cells\":{\"fill\":{\"color\":\"#EBF0F8\"},\"line\":{\"color\":\"white\"}},\"header\":{\"fill\":{\"color\":\"#C8D4E3\"},\"line\":{\"color\":\"white\"}},\"type\":\"table\"}]},\"layout\":{\"annotationdefaults\":{\"arrowcolor\":\"#2a3f5f\",\"arrowhead\":0,\"arrowwidth\":1},\"autotypenumbers\":\"strict\",\"coloraxis\":{\"colorbar\":{\"outlinewidth\":0,\"ticks\":\"\"}},\"colorscale\":{\"diverging\":[[0,\"#8e0152\"],[0.1,\"#c51b7d\"],[0.2,\"#de77ae\"],[0.3,\"#f1b6da\"],[0.4,\"#fde0ef\"],[0.5,\"#f7f7f7\"],[0.6,\"#e6f5d0\"],[0.7,\"#b8e186\"],[0.8,\"#7fbc41\"],[0.9,\"#4d9221\"],[1,\"#276419\"]],\"sequential\":[[0.0,\"#0d0887\"],[0.1111111111111111,\"#46039f\"],[0.2222222222222222,\"#7201a8\"],[0.3333333333333333,\"#9c179e\"],[0.4444444444444444,\"#bd3786\"],[0.5555555555555556,\"#d8576b\"],[0.6666666666666666,\"#ed7953\"],[0.7777777777777778,\"#fb9f3a\"],[0.8888888888888888,\"#fdca26\"],[1.0,\"#f0f921\"]],\"sequentialminus\":[[0.0,\"#0d0887\"],[0.1111111111111111,\"#46039f\"],[0.2222222222222222,\"#7201a8\"],[0.3333333333333333,\"#9c179e\"],[0.4444444444444444,\"#bd3786\"],[0.5555555555555556,\"#d8576b\"],[0.6666666666666666,\"#ed7953\"],[0.7777777777777778,\"#fb9f3a\"],[0.8888888888888888,\"#fdca26\"],[1.0,\"#f0f921\"]]},\"colorway\":[\"#636efa\",\"#EF553B\",\"#00cc96\",\"#ab63fa\",\"#FFA15A\",\"#19d3f3\",\"#FF6692\",\"#B6E880\",\"#FF97FF\",\"#FECB52\"],\"font\":{\"color\":\"#2a3f5f\"},\"geo\":{\"bgcolor\":\"white\",\"lakecolor\":\"white\",\"landcolor\":\"white\",\"showlakes\":true,\"showland\":true,\"subunitcolor\":\"#C8D4E3\"},\"hoverlabel\":{\"align\":\"left\"},\"hovermode\":\"closest\",\"mapbox\":{\"style\":\"light\"},\"paper_bgcolor\":\"white\",\"plot_bgcolor\":\"white\",\"polar\":{\"angularaxis\":{\"gridcolor\":\"#EBF0F8\",\"linecolor\":\"#EBF0F8\",\"ticks\":\"\"},\"bgcolor\":\"white\",\"radialaxis\":{\"gridcolor\":\"#EBF0F8\",\"linecolor\":\"#EBF0F8\",\"ticks\":\"\"}},\"scene\":{\"xaxis\":{\"backgroundcolor\":\"white\",\"gridcolor\":\"#DFE8F3\",\"gridwidth\":2,\"linecolor\":\"#EBF0F8\",\"showbackground\":true,\"ticks\":\"\",\"zerolinecolor\":\"#EBF0F8\"},\"yaxis\":{\"backgroundcolor\":\"white\",\"gridcolor\":\"#DFE8F3\",\"gridwidth\":2,\"linecolor\":\"#EBF0F8\",\"showbackground\":true,\"ticks\":\"\",\"zerolinecolor\":\"#EBF0F8\"},\"zaxis\":{\"backgroundcolor\":\"white\",\"gridcolor\":\"#DFE8F3\",\"gridwidth\":2,\"linecolor\":\"#EBF0F8\",\"showbackground\":true,\"ticks\":\"\",\"zerolinecolor\":\"#EBF0F8\"}},\"shapedefaults\":{\"line\":{\"color\":\"#2a3f5f\"}},\"ternary\":{\"aaxis\":{\"gridcolor\":\"#DFE8F3\",\"linecolor\":\"#A2B1C6\",\"ticks\":\"\"},\"baxis\":{\"gridcolor\":\"#DFE8F3\",\"linecolor\":\"#A2B1C6\",\"ticks\":\"\"},\"bgcolor\":\"white\",\"caxis\":{\"gridcolor\":\"#DFE8F3\",\"linecolor\":\"#A2B1C6\",\"ticks\":\"\"}},\"title\":{\"x\":0.05},\"xaxis\":{\"automargin\":true,\"gridcolor\":\"#EBF0F8\",\"linecolor\":\"#EBF0F8\",\"ticks\":\"\",\"title\":{\"standoff\":15},\"zerolinecolor\":\"#EBF0F8\",\"zerolinewidth\":2},\"yaxis\":{\"automargin\":true,\"gridcolor\":\"#EBF0F8\",\"linecolor\":\"#EBF0F8\",\"ticks\":\"\",\"title\":{\"standoff\":15},\"zerolinecolor\":\"#EBF0F8\",\"zerolinewidth\":2}}},\"title\":{\"font\":{\"size\":22,\"color\":\"Black\"},\"text\":\"<b>Hierarchical Clustering\",\"x\":0.5,\"xanchor\":\"center\",\"yanchor\":\"top\"},\"hoverlabel\":{\"font\":{\"size\":16,\"family\":\"Rockwell\"},\"bgcolor\":\"white\"},\"plot_bgcolor\":\"#ECEFF1\"},                        {\"responsive\": true}                    ).then(function(){\n",
              "                            \n",
              "var gd = document.getElementById('5d2cf944-f1a0-4649-ad6c-a25f16f3fd3d');\n",
              "var x = new MutationObserver(function (mutations, observer) {{\n",
              "        var display = window.getComputedStyle(gd).display;\n",
              "        if (!display || display === 'none') {{\n",
              "            console.log([gd, 'removed!']);\n",
              "            Plotly.purge(gd);\n",
              "            observer.disconnect();\n",
              "        }}\n",
              "}});\n",
              "\n",
              "// Listen for the removal of the full notebook cells\n",
              "var notebookContainer = gd.closest('#notebook-container');\n",
              "if (notebookContainer) {{\n",
              "    x.observe(notebookContainer, {childList: true});\n",
              "}}\n",
              "\n",
              "// Listen for the clearing of the current output cell\n",
              "var outputEl = gd.closest('.output');\n",
              "if (outputEl) {{\n",
              "    x.observe(outputEl, {childList: true});\n",
              "}}\n",
              "\n",
              "                        })                };                            </script>        </div>\n",
              "</body>\n",
              "</html>"
            ]
          },
          "metadata": {}
        }
      ]
    },
    {
      "cell_type": "markdown",
      "source": [
        "## Dynamic topic modeling"
      ],
      "metadata": {
        "id": "Jm9HKV_Cjj0z"
      },
      "id": "Jm9HKV_Cjj0z"
    },
    {
      "cell_type": "code",
      "source": [
        "# %%time\n",
        "if type(thread['embeddings']) is list:\n",
        "    text_dy = thread['embeddings']\n",
        "else:\n",
        "    text_dy = thread['embeddings'].tolist()\n",
        "\n",
        "text_dy=[str(x) for x in text_dy]\n",
        "# with tf.device('GPU'):\n",
        "#     # embedding\n",
        "#     sentence_model = SentenceTransformer('all-MiniLM-L6-v2')\n",
        "#     #sentence_model = SentenceTransformer('all-MiniLM-L12-v2')\n",
        "#     embeddings_dy = sentence_model.encode(text_dy, show_progress_bar=True)\n",
        "\n",
        "# all_embeddings_dy = np.array(embeddings_dy)\n",
        "# np.save('embeddings_L6-v2.npy', all_embeddings)\n",
        "# embeddings= np.load('embeddings_L6-v2.npy')\n",
        "#embeddings= np.load('embeddings.npy')"
      ],
      "metadata": {
        "id": "djtbWZAf-zcU"
      },
      "id": "djtbWZAf-zcU",
      "execution_count": null,
      "outputs": []
    },
    {
      "cell_type": "code",
      "source": [
        "# np.save(\"/content/drive/MyDrive/Capstone/embeddings_L6-v2_dy.npy\", all_embeddings_dy)\n",
        "embeddings_dy= np.load(\"/content/drive/MyDrive/Capstone/embeddings_L6-v2_dy.npy\")"
      ],
      "metadata": {
        "id": "ROjMMYKx_G20"
      },
      "id": "ROjMMYKx_G20",
      "execution_count": null,
      "outputs": []
    },
    {
      "cell_type": "code",
      "source": [
        "model_dynamic=create_model(10,(1,2),10,10)\n",
        "with tf.device('GPU'):\n",
        "    topics_dy, probs_dy = model_dynamic.fit_transform(text_dy,embeddings_dy)"
      ],
      "metadata": {
        "colab": {
          "base_uri": "https://localhost:8080/"
        },
        "id": "aleV2XdJ-YzS",
        "outputId": "b0695a57-123c-4742-b72a-d81c88f6f9cd"
      },
      "id": "aleV2XdJ-YzS",
      "execution_count": null,
      "outputs": [
        {
          "output_type": "stream",
          "name": "stderr",
          "text": [
            "2022-11-20 19:54:53,185 - BERTopic - Reduced dimensionality\n",
            "2022-11-20 19:54:53,300 - BERTopic - Clustered reduced embeddings\n"
          ]
        }
      ]
    },
    {
      "cell_type": "code",
      "source": [
        "thread_id = [i for i in thread['id']]"
      ],
      "metadata": {
        "id": "llo7Q5nV_tjd"
      },
      "id": "llo7Q5nV_tjd",
      "execution_count": null,
      "outputs": []
    },
    {
      "cell_type": "code",
      "source": [
        "topics_over_time = model_dynamic.topics_over_time(text_dy,thread_id)"
      ],
      "metadata": {
        "colab": {
          "base_uri": "https://localhost:8080/"
        },
        "id": "lSOeSm_M-BBi",
        "outputId": "9e9ad8b8-2fb0-4aef-e250-a2ab9bf9c335"
      },
      "id": "lSOeSm_M-BBi",
      "execution_count": null,
      "outputs": [
        {
          "output_type": "stream",
          "name": "stderr",
          "text": [
            "66it [00:05, 12.20it/s]\n"
          ]
        }
      ]
    },
    {
      "cell_type": "code",
      "source": [
        "from typing import List\n",
        "import plotly.graph_objects as go\n",
        "from sklearn.preprocessing import normalize\n",
        "def visualize_topics_over_time(topic_model,\n",
        "                               topics_over_time,\n",
        "                               top_n_topics = None,\n",
        "                               topics = None,\n",
        "                               normalize_frequency = False,\n",
        "                               width = 1250,\n",
        "                               height = 450):\n",
        "    \"\"\" Visualize topics over time\n",
        "    Arguments:\n",
        "        topic_model: A fitted BERTopic instance.\n",
        "        topics_over_time: The topics you would like to be visualized with the\n",
        "                          corresponding topic representation\n",
        "        top_n_topics: To visualize the most frequent topics instead of all\n",
        "        topics: Select which topics you would like to be visualized\n",
        "        normalize_frequency: Whether to normalize each topic's frequency individually\n",
        "        width: The width of the figure.\n",
        "        height: The height of the figure.\n",
        "    Returns:\n",
        "        A plotly.graph_objects.Figure including all traces\n",
        "    Usage:\n",
        "    To visualize the topics over time, simply run:\n",
        "    ```python\n",
        "    topics_over_time = topic_model.topics_over_time(docs, topics, timestamps)\n",
        "    topic_model.visualize_topics_over_time(topics_over_time)\n",
        "    ```\n",
        "    Or if you want to save the resulting figure:\n",
        "    ```python\n",
        "    fig = topic_model.visualize_topics_over_time(topics_over_time)\n",
        "    fig.write_html(\"path/to/file.html\")\n",
        "    ```\n",
        "    <iframe src=\"../../getting_started/visualization/trump.html\"\n",
        "    style=\"width:1000px; height: 680px; border: 0px;\"\"></iframe>\n",
        "    \"\"\"\n",
        "    colors = [\"#E69F00\", \"#56B4E9\", \"#009E73\", \"#F0E442\", \"#D55E00\", \"#0072B2\", \"#CC79A7\"]\n",
        "    freq_df = topic_model.get_topic_freq()\n",
        "    freq_df = freq_df.loc[freq_df.Topic != -1, :]\n",
        "    if topics is not None:\n",
        "        selected_topics = list(topics)\n",
        "    elif top_n_topics is not None:\n",
        "        selected_topics = sorted(freq_df.Topic.to_list()[:top_n_topics])\n",
        "    else:\n",
        "        selected_topics = sorted(freq_df.Topic.to_list())\n",
        "\n",
        "    # Prepare data\n",
        "    if topic_model.custom_labels_ is not None and custom_labels:\n",
        "        topic_names = {key: topic_model.custom_labels_[key + topic_model._outliers] for key, _ in topic_model.topic_labels_.items()}\n",
        "    else:\n",
        "        topic_names = {key: value[:40] + \"...\" if len(value) > 40 else value\n",
        "                       for key, value in topic_model.topic_labels_.items()}\n",
        "    topics_over_time[\"Name\"] = topics_over_time.Topic.map(topic_names)\n",
        "    data = topics_over_time.loc[topics_over_time.Topic.isin(selected_topics), :].sort_values([\"Topic\", \"Timestamp\"])\n",
        "\n",
        "    # Add traces\n",
        "    fig = go.Figure()\n",
        "    for index, topic in enumerate(data.Topic.unique()):\n",
        "        trace_data = data.loc[data.Topic == topic, :]\n",
        "        topic_name = trace_data.Name.values[0]\n",
        "        words = trace_data.Words.values\n",
        "        if normalize_frequency:\n",
        "            y = normalize(trace_data.Frequency.values.reshape(1, -1))[0]\n",
        "        else:\n",
        "            y = np.log(trace_data.Frequency)\n",
        "        fig.add_trace(go.Scatter(x=trace_data.Timestamp, y=y,\n",
        "                                 mode='lines',\n",
        "                                 marker_color=colors[index % 7],\n",
        "                                 hoverinfo=\"text\",\n",
        "                                 name=topic_name,\n",
        "                                 hovertext=[f'<b>Topic {topic}</b><br>Words: {word}' for word in words]))\n",
        "\n",
        "    # Styling of the visualization\n",
        "    fig.update_xaxes(showgrid=True)\n",
        "    fig.update_yaxes(showgrid=True)\n",
        "    fig.update_layout(\n",
        "        yaxis_title=\"Normalized Frequency\" if normalize_frequency else \"Log_Frequency\",\n",
        "        title={\n",
        "            'text': \"<b>Topics over Threads\",\n",
        "            'y': .95,\n",
        "            'x': 0.40,\n",
        "            'xanchor': 'center',\n",
        "            'yanchor': 'top',\n",
        "            'font': dict(\n",
        "                size=22,\n",
        "                color=\"Black\")\n",
        "        },\n",
        "        template=\"simple_white\",\n",
        "        width=width,\n",
        "        height=height,\n",
        "        hoverlabel=dict(\n",
        "            bgcolor=\"white\",\n",
        "            font_size=16,\n",
        "            font_family=\"Rockwell\"\n",
        "        ),\n",
        "        legend=dict(\n",
        "            title=\"<b>Global Topic Representation\",\n",
        "        )\n",
        "    )\n",
        "    return fig"
      ],
      "metadata": {
        "id": "0v1sgrP5nXpn"
      },
      "id": "0v1sgrP5nXpn",
      "execution_count": null,
      "outputs": []
    },
    {
      "cell_type": "code",
      "source": [
        "visualize_topics_over_time(model_dynamic,topics_over_time, top_n_topics=10)"
      ],
      "metadata": {
        "colab": {
          "base_uri": "https://localhost:8080/",
          "height": 487
        },
        "id": "kIoQ7GZZn7wq",
        "outputId": "70eb8f1b-e13c-436e-db80-fcd0ef9a3340"
      },
      "id": "kIoQ7GZZn7wq",
      "execution_count": null,
      "outputs": [
        {
          "output_type": "display_data",
          "data": {
            "text/html": [
              "<html>\n",
              "<head><meta charset=\"utf-8\" /></head>\n",
              "<body>\n",
              "    <div>            <script src=\"https://cdnjs.cloudflare.com/ajax/libs/mathjax/2.7.5/MathJax.js?config=TeX-AMS-MML_SVG\"></script><script type=\"text/javascript\">if (window.MathJax) {MathJax.Hub.Config({SVG: {font: \"STIX-Web\"}});}</script>                <script type=\"text/javascript\">window.PlotlyConfig = {MathJaxConfig: 'local'};</script>\n",
              "        <script src=\"https://cdn.plot.ly/plotly-2.8.3.min.js\"></script>                <div id=\"cb5d9e0e-8691-4990-843f-beb13081da9c\" class=\"plotly-graph-div\" style=\"height:450px; width:1250px;\"></div>            <script type=\"text/javascript\">                                    window.PLOTLYENV=window.PLOTLYENV || {};                                    if (document.getElementById(\"cb5d9e0e-8691-4990-843f-beb13081da9c\")) {                    Plotly.newPlot(                        \"cb5d9e0e-8691-4990-843f-beb13081da9c\",                        [{\"hoverinfo\":\"text\",\"hovertext\":[\"<b>Topic 0</b><br>Words: enron, please, email, would, know\",\"<b>Topic 0</b><br>Words: would, please, get, enron, need\",\"<b>Topic 0</b><br>Words: please, would, get, enron, thanks\",\"<b>Topic 0</b><br>Words: would, know, enron, need, please\",\"<b>Topic 0</b><br>Words: would, get, need, like, whitewing\",\"<b>Topic 0</b><br>Words: would, know, get, want, let\",\"<b>Topic 0</b><br>Words: would, gas, get, one, well\",\"<b>Topic 0</b><br>Words: contract, please, know, let, invoice\",\"<b>Topic 0</b><br>Words: kid, would, year, mgl, rwg\",\"<b>Topic 0</b><br>Words: going, domain, enron, name, get\",\"<b>Topic 0</b><br>Words: know, think, think hitting, yeah think, hitting\",\"<b>Topic 0</b><br>Words: get, took, desk, funny anymore, enough funny\",\"<b>Topic 0</b><br>Words: gate, lake, gonna kick, probablyl, tough life\",\"<b>Topic 0</b><br>Words: dinner matt, exciting want, matt time, want dinner, variant\",\"<b>Topic 0</b><br>Words: gullable, week hope, early week, looked, money\",\"<b>Topic 0</b><br>Words: whole bonnie, bonnie thing, told jenn, jenn whole, broke told\",\"<b>Topic 0</b><br>Words: think sometimes, dog see, sometimes sun, shine, shine dog\",\"<b>Topic 0</b><br>Words: transaction attempt, attempt, transaction, volume, large\",\"<b>Topic 0</b><br>Words: someone doe, day given, explanation anyone, answer hiring, anyone keep\",\"<b>Topic 0</b><br>Words: think think, think, going, buy house, find people\",\"<b>Topic 0</b><br>Words: true quote, enron, true, quote, product\",\"<b>Topic 0</b><br>Words: love trying, going go, thanks thought, get nerve, nerve\",\"<b>Topic 0</b><br>Words: sure whether, look dont, explanation think, give explanation, bc get\",\"<b>Topic 0</b><br>Words: gonna buy, gonna, buy, buy bmw, bmw\",\"<b>Topic 0</b><br>Words: old age, mean sound, possiblyin, possiblyin old, great cant\",\"<b>Topic 0</b><br>Words: eprime, sign reliant, reliant eprime, eprime cinergy, going sign\",\"<b>Topic 0</b><br>Words: true resent, resent fact, resent, fact, tell excited\",\"<b>Topic 0</b><br>Words: enthusiasticsp, would bored, bored, resent, act enthusiasticsp\",\"<b>Topic 0</b><br>Words: fine, enron, please, would, know\",\"<b>Topic 0</b><br>Words: unimetal, read, show, payment, read bottom\",\"<b>Topic 0</b><br>Words: lot look, gross thanks, look better, jerk, gross\",\"<b>Topic 0</b><br>Words: picture, picture looked, know kidding, bunch picture, gross big\",\"<b>Topic 0</b><br>Words: mean cant, mean, cant sweet, cant, sweet like\",\"<b>Topic 0</b><br>Words: edt, well thinkin, yesterday well, brown supposed, guy probably\",\"<b>Topic 0</b><br>Words: agenda, true quote, quote, true, meeting\",\"<b>Topic 0</b><br>Words: backendsit, bazarre, rather bazarre, show backendsit, tried show\",\"<b>Topic 0</b><br>Words: date current, fashions, current fashions, trying stay, stay date\",\"<b>Topic 0</b><br>Words: insulted comparison, kidding honestly, honestly think, pretty insulted, insulted\",\"<b>Topic 0</b><br>Words: jen need, worry jen, jen, worry, ready party\",\"<b>Topic 0</b><br>Words: compliment, nice, problem, nice try, though nice\",\"<b>Topic 0</b><br>Words: tonight, enron, please, would, know\",\"<b>Topic 0</b><br>Words: appraised, due attatchment, cost incurred, new jerseywe, progress regard\",\"<b>Topic 0</b><br>Words: know control, control going, control, going, know\",\"<b>Topic 0</b><br>Words: thought coming, never thought, messing, coming messing, never\",\"<b>Topic 0</b><br>Words: know remember, remember calling, calling, remember, know\",\"<b>Topic 0</b><br>Words: caller, caller next, saw caller, next day, saw\",\"<b>Topic 0</b><br>Words: lsu win, lsu, win supposed, supposed town, town something\",\"<b>Topic 0</b><br>Words: lying, enron, please, would, know\",\"<b>Topic 0</b><br>Words: dinner get, buy dinner, get back, dinner, buy\",\"<b>Topic 0</b><br>Words: material, vessel, bill lading, matter otherwise, continuing cargo\",\"<b>Topic 0</b><br>Words: bet, even like, talking must, idea talking, thinking someone\",\"<b>Topic 0</b><br>Words: really would, really, would, enron, please\",\"<b>Topic 0</b><br>Words: letting, enron, please, would, know\",\"<b>Topic 0</b><br>Words: bc sweet, anything bet, remember anything, still remember, take dinner\",\"<b>Topic 0</b><br>Words: somewhere requires, tonys someplace, like tonys, someplace like, thinking somewhere\",\"<b>Topic 0</b><br>Words: take stand, cheap take, cant cheap, cheap, stand\",\"<b>Topic 0</b><br>Words: want princess, princess, whatever want, whatever, want\"],\"marker\":{\"color\":\"#E69F00\"},\"mode\":\"lines\",\"name\":\"0_enron_please_would_know\",\"x\":[1,2,3,4,5,6,7,8,9,10,11,12,13,14,15,16,17,18,19,20,21,22,23,25,26,27,28,29,30,31,32,34,35,36,37,38,41,42,45,46,47,49,50,54,56,57,60,62,64,66,68,70,71,72,75,77,80],\"y\":[5.926926025970411,5.811140992976701,5.402677381872279,5.0106352940962555,4.584967478670572,4.330733340286331,4.04305126783455,3.4657359027997265,3.2188758248682006,3.295836866004329,2.995732273553991,2.4849066497880004,2.302585092994046,2.4849066497880004,2.70805020110221,2.1972245773362196,2.302585092994046,2.0794415416798357,1.3862943611198906,1.6094379124341003,1.9459101490553132,1.0986122886681098,1.3862943611198906,2.1972245773362196,0.6931471805599453,0.0,2.1972245773362196,1.6094379124341003,0.0,1.791759469228055,1.6094379124341003,1.3862943611198906,1.3862943611198906,1.3862943611198906,1.0986122886681098,0.0,0.0,0.0,1.0986122886681098,1.0986122886681098,0.0,0.6931471805599453,0.6931471805599453,0.0,0.6931471805599453,0.0,0.0,0.0,0.0,0.6931471805599453,0.0,0.0,0.0,0.6931471805599453,0.0,0.0,0.0],\"type\":\"scatter\"},{\"hoverinfo\":\"text\",\"hovertext\":[\"<b>Topic 1</b><br>Words: attachment, attachment follows, inline attachment, inline, follows\",\"<b>Topic 1</b><br>Words: inline attachment, attachment follows, inline, follows, attachment\",\"<b>Topic 1</b><br>Words: inline attachment, attachment follows, inline, follows, attachment\",\"<b>Topic 1</b><br>Words: inline attachment, attachment follows, inline, follows, attachment\",\"<b>Topic 1</b><br>Words: inline attachment, attachment follows, inline, follows, attachment\",\"<b>Topic 1</b><br>Words: inline attachment, attachment follows, inline, follows, attachment\",\"<b>Topic 1</b><br>Words: inline attachment, attachment follows, inline, follows, attachment\",\"<b>Topic 1</b><br>Words: inline attachment, attachment follows, inline, follows, attachment\",\"<b>Topic 1</b><br>Words: attachment follows, inline attachment, inline, follows, attachment\",\"<b>Topic 1</b><br>Words: inline attachment, attachment follows, inline, follows, attachment\",\"<b>Topic 1</b><br>Words: inline attachment, attachment follows, inline, follows, attachment\",\"<b>Topic 1</b><br>Words: inline attachment, attachment follows, inline, follows, attachment\",\"<b>Topic 1</b><br>Words: inline attachment, attachment follows, inline, follows, attachment\",\"<b>Topic 1</b><br>Words: inline attachment, attachment follows, inline, follows, attachment\",\"<b>Topic 1</b><br>Words: inline attachment, attachment follows, inline, follows, attachment\",\"<b>Topic 1</b><br>Words: inline attachment, attachment follows, inline, follows, attachment\",\"<b>Topic 1</b><br>Words: inline attachment, attachment follows, inline, follows, attachment\",\"<b>Topic 1</b><br>Words: inline attachment, attachment follows, inline, follows, attachment\",\"<b>Topic 1</b><br>Words: inline attachment, attachment follows, inline, follows, attachment\",\"<b>Topic 1</b><br>Words: inline attachment, attachment follows, inline, follows, attachment\",\"<b>Topic 1</b><br>Words: inline attachment, attachment follows, inline, follows, attachment\"],\"marker\":{\"color\":\"#56B4E9\"},\"mode\":\"lines\",\"name\":\"1_attachment follows_inline attachment_i...\",\"x\":[2,3,5,7,8,10,12,13,14,16,23,29,31,35,38,42,53,54,73,91,97],\"y\":[1.0986122886681098,0.6931471805599453,0.0,0.0,1.0986122886681098,0.0,0.0,0.6931471805599453,0.0,0.0,0.6931471805599453,0.0,0.0,0.0,0.0,0.0,0.0,0.0,0.0,0.0,0.0],\"type\":\"scatter\"},{\"hoverinfo\":\"text\",\"hovertext\":[\"<b>Topic 2</b><br>Words: fyi, fyi fyi, fyi eol, cgc, clipping cgc\",\"<b>Topic 2</b><br>Words: fyi, fyi fyi, wehner fyi, look clipping, ugh fyi\",\"<b>Topic 2</b><br>Words: fyi, fyi fyi, lynn fyi, fyi highly, fyi thanks\",\"<b>Topic 2</b><br>Words: fyi, fyi fyi, sandra wehner, email sandra, per previous\",\"<b>Topic 2</b><br>Words: ugh fyi, fyi, ugh, fyi fyi, eol information\",\"<b>Topic 2</b><br>Words: fyi, fyi fyi, wehner fyi, look clipping, ugh fyi\",\"<b>Topic 2</b><br>Words: fyi, sure seen, fyi fyimo, fyimo sure, fyimo\",\"<b>Topic 2</b><br>Words: fyi, fyi fyi, wehner fyi, look clipping, ugh fyi\"],\"marker\":{\"color\":\"#009E73\"},\"mode\":\"lines\",\"name\":\"2_fyi_fyi fyi_look clipping_clipping\",\"x\":[2,3,4,6,7,9,11,13],\"y\":[2.302585092994046,1.0986122886681098,1.791759469228055,0.0,0.6931471805599453,0.0,0.6931471805599453,0.0],\"type\":\"scatter\"},{\"hoverinfo\":\"text\",\"hovertext\":[\"<b>Topic 3</b><br>Words: bed, move kept, coughing middle, ask move, taking half\",\"<b>Topic 3</b><br>Words: dont, feel, sleep, slept, slept fine\",\"<b>Topic 3</b><br>Words: snore, tired snore, tired, sleep, bed\",\"<b>Topic 3</b><br>Words: anything could, terrible sleep, kidding sweet, well anything, feel terrible\",\"<b>Topic 3</b><br>Words: sleep, since believe, sleep puppy, see since, going let\",\"<b>Topic 3</b><br>Words: except headache, okay except, need feeling, creeping today, today yesterday\",\"<b>Topic 3</b><br>Words: little, little hung, little yesterday, still sore, hung little\",\"<b>Topic 3</b><br>Words: hog, though bed, place even, stay place, bed hog\",\"<b>Topic 3</b><br>Words: making impossible, night making, whole entire, entire bed, whatever taking\",\"<b>Topic 3</b><br>Words: cover tried, tugging, tugging cover, kept tugging, edge\",\"<b>Topic 3</b><br>Words: almost sleep, got came, back sleeping, happily, happily middle\",\"<b>Topic 3</b><br>Words: middle sat, sleep middle, sat going, sleep, middle\",\"<b>Topic 3</b><br>Words: sleeping, sleeping sleeping, sleep, bed, middle\"],\"marker\":{\"color\":\"#F0E442\"},\"mode\":\"lines\",\"name\":\"3_sleep_bed_middle_slept\",\"x\":[4,6,7,8,13,15,16,39,40,41,42,43,48],\"y\":[1.0986122886681098,0.6931471805599453,0.0,0.0,0.0,0.0,0.0,0.0,0.0,0.0,0.0,0.0,0.6931471805599453],\"type\":\"scatter\"},{\"hoverinfo\":\"text\",\"hovertext\":[\"<b>Topic 4</b><br>Words: robin barbie, think back, back monday, barbie, barbie dont\",\"<b>Topic 4</b><br>Words: felicity, understand put, felicity level, level ti2, ti2\",\"<b>Topic 4</b><br>Words: seen ben, ben felicity, felicity, ben, seen\",\"<b>Topic 4</b><br>Words: bit piece, ally, really got, piece never, never really\",\"<b>Topic 4</b><br>Words: bit piece, piece, bit, felicity, understand put\",\"<b>Topic 4</b><br>Words: found thatdfelicity, good ben, ben found, missed half, cheated\",\"<b>Topic 4</b><br>Words: felicity, good girl, thought felicity, felicity supposed, supposed good\"],\"marker\":{\"color\":\"#D55E00\"},\"mode\":\"lines\",\"name\":\"4_felicity_bit piece_piece_bit\",\"x\":[5,7,8,15,23,32,33],\"y\":[0.0,1.0986122886681098,0.0,1.0986122886681098,0.0,0.0,0.0],\"type\":\"scatter\"}],                        {\"template\":{\"data\":{\"barpolar\":[{\"marker\":{\"line\":{\"color\":\"white\",\"width\":0.5},\"pattern\":{\"fillmode\":\"overlay\",\"size\":10,\"solidity\":0.2}},\"type\":\"barpolar\"}],\"bar\":[{\"error_x\":{\"color\":\"rgb(36,36,36)\"},\"error_y\":{\"color\":\"rgb(36,36,36)\"},\"marker\":{\"line\":{\"color\":\"white\",\"width\":0.5},\"pattern\":{\"fillmode\":\"overlay\",\"size\":10,\"solidity\":0.2}},\"type\":\"bar\"}],\"carpet\":[{\"aaxis\":{\"endlinecolor\":\"rgb(36,36,36)\",\"gridcolor\":\"white\",\"linecolor\":\"white\",\"minorgridcolor\":\"white\",\"startlinecolor\":\"rgb(36,36,36)\"},\"baxis\":{\"endlinecolor\":\"rgb(36,36,36)\",\"gridcolor\":\"white\",\"linecolor\":\"white\",\"minorgridcolor\":\"white\",\"startlinecolor\":\"rgb(36,36,36)\"},\"type\":\"carpet\"}],\"choropleth\":[{\"colorbar\":{\"outlinewidth\":1,\"tickcolor\":\"rgb(36,36,36)\",\"ticks\":\"outside\"},\"type\":\"choropleth\"}],\"contourcarpet\":[{\"colorbar\":{\"outlinewidth\":1,\"tickcolor\":\"rgb(36,36,36)\",\"ticks\":\"outside\"},\"type\":\"contourcarpet\"}],\"contour\":[{\"colorbar\":{\"outlinewidth\":1,\"tickcolor\":\"rgb(36,36,36)\",\"ticks\":\"outside\"},\"colorscale\":[[0.0,\"#440154\"],[0.1111111111111111,\"#482878\"],[0.2222222222222222,\"#3e4989\"],[0.3333333333333333,\"#31688e\"],[0.4444444444444444,\"#26828e\"],[0.5555555555555556,\"#1f9e89\"],[0.6666666666666666,\"#35b779\"],[0.7777777777777778,\"#6ece58\"],[0.8888888888888888,\"#b5de2b\"],[1.0,\"#fde725\"]],\"type\":\"contour\"}],\"heatmapgl\":[{\"colorbar\":{\"outlinewidth\":1,\"tickcolor\":\"rgb(36,36,36)\",\"ticks\":\"outside\"},\"colorscale\":[[0.0,\"#440154\"],[0.1111111111111111,\"#482878\"],[0.2222222222222222,\"#3e4989\"],[0.3333333333333333,\"#31688e\"],[0.4444444444444444,\"#26828e\"],[0.5555555555555556,\"#1f9e89\"],[0.6666666666666666,\"#35b779\"],[0.7777777777777778,\"#6ece58\"],[0.8888888888888888,\"#b5de2b\"],[1.0,\"#fde725\"]],\"type\":\"heatmapgl\"}],\"heatmap\":[{\"colorbar\":{\"outlinewidth\":1,\"tickcolor\":\"rgb(36,36,36)\",\"ticks\":\"outside\"},\"colorscale\":[[0.0,\"#440154\"],[0.1111111111111111,\"#482878\"],[0.2222222222222222,\"#3e4989\"],[0.3333333333333333,\"#31688e\"],[0.4444444444444444,\"#26828e\"],[0.5555555555555556,\"#1f9e89\"],[0.6666666666666666,\"#35b779\"],[0.7777777777777778,\"#6ece58\"],[0.8888888888888888,\"#b5de2b\"],[1.0,\"#fde725\"]],\"type\":\"heatmap\"}],\"histogram2dcontour\":[{\"colorbar\":{\"outlinewidth\":1,\"tickcolor\":\"rgb(36,36,36)\",\"ticks\":\"outside\"},\"colorscale\":[[0.0,\"#440154\"],[0.1111111111111111,\"#482878\"],[0.2222222222222222,\"#3e4989\"],[0.3333333333333333,\"#31688e\"],[0.4444444444444444,\"#26828e\"],[0.5555555555555556,\"#1f9e89\"],[0.6666666666666666,\"#35b779\"],[0.7777777777777778,\"#6ece58\"],[0.8888888888888888,\"#b5de2b\"],[1.0,\"#fde725\"]],\"type\":\"histogram2dcontour\"}],\"histogram2d\":[{\"colorbar\":{\"outlinewidth\":1,\"tickcolor\":\"rgb(36,36,36)\",\"ticks\":\"outside\"},\"colorscale\":[[0.0,\"#440154\"],[0.1111111111111111,\"#482878\"],[0.2222222222222222,\"#3e4989\"],[0.3333333333333333,\"#31688e\"],[0.4444444444444444,\"#26828e\"],[0.5555555555555556,\"#1f9e89\"],[0.6666666666666666,\"#35b779\"],[0.7777777777777778,\"#6ece58\"],[0.8888888888888888,\"#b5de2b\"],[1.0,\"#fde725\"]],\"type\":\"histogram2d\"}],\"histogram\":[{\"marker\":{\"line\":{\"color\":\"white\",\"width\":0.6}},\"type\":\"histogram\"}],\"mesh3d\":[{\"colorbar\":{\"outlinewidth\":1,\"tickcolor\":\"rgb(36,36,36)\",\"ticks\":\"outside\"},\"type\":\"mesh3d\"}],\"parcoords\":[{\"line\":{\"colorbar\":{\"outlinewidth\":1,\"tickcolor\":\"rgb(36,36,36)\",\"ticks\":\"outside\"}},\"type\":\"parcoords\"}],\"pie\":[{\"automargin\":true,\"type\":\"pie\"}],\"scatter3d\":[{\"line\":{\"colorbar\":{\"outlinewidth\":1,\"tickcolor\":\"rgb(36,36,36)\",\"ticks\":\"outside\"}},\"marker\":{\"colorbar\":{\"outlinewidth\":1,\"tickcolor\":\"rgb(36,36,36)\",\"ticks\":\"outside\"}},\"type\":\"scatter3d\"}],\"scattercarpet\":[{\"marker\":{\"colorbar\":{\"outlinewidth\":1,\"tickcolor\":\"rgb(36,36,36)\",\"ticks\":\"outside\"}},\"type\":\"scattercarpet\"}],\"scattergeo\":[{\"marker\":{\"colorbar\":{\"outlinewidth\":1,\"tickcolor\":\"rgb(36,36,36)\",\"ticks\":\"outside\"}},\"type\":\"scattergeo\"}],\"scattergl\":[{\"marker\":{\"colorbar\":{\"outlinewidth\":1,\"tickcolor\":\"rgb(36,36,36)\",\"ticks\":\"outside\"}},\"type\":\"scattergl\"}],\"scattermapbox\":[{\"marker\":{\"colorbar\":{\"outlinewidth\":1,\"tickcolor\":\"rgb(36,36,36)\",\"ticks\":\"outside\"}},\"type\":\"scattermapbox\"}],\"scatterpolargl\":[{\"marker\":{\"colorbar\":{\"outlinewidth\":1,\"tickcolor\":\"rgb(36,36,36)\",\"ticks\":\"outside\"}},\"type\":\"scatterpolargl\"}],\"scatterpolar\":[{\"marker\":{\"colorbar\":{\"outlinewidth\":1,\"tickcolor\":\"rgb(36,36,36)\",\"ticks\":\"outside\"}},\"type\":\"scatterpolar\"}],\"scatter\":[{\"marker\":{\"colorbar\":{\"outlinewidth\":1,\"tickcolor\":\"rgb(36,36,36)\",\"ticks\":\"outside\"}},\"type\":\"scatter\"}],\"scatterternary\":[{\"marker\":{\"colorbar\":{\"outlinewidth\":1,\"tickcolor\":\"rgb(36,36,36)\",\"ticks\":\"outside\"}},\"type\":\"scatterternary\"}],\"surface\":[{\"colorbar\":{\"outlinewidth\":1,\"tickcolor\":\"rgb(36,36,36)\",\"ticks\":\"outside\"},\"colorscale\":[[0.0,\"#440154\"],[0.1111111111111111,\"#482878\"],[0.2222222222222222,\"#3e4989\"],[0.3333333333333333,\"#31688e\"],[0.4444444444444444,\"#26828e\"],[0.5555555555555556,\"#1f9e89\"],[0.6666666666666666,\"#35b779\"],[0.7777777777777778,\"#6ece58\"],[0.8888888888888888,\"#b5de2b\"],[1.0,\"#fde725\"]],\"type\":\"surface\"}],\"table\":[{\"cells\":{\"fill\":{\"color\":\"rgb(237,237,237)\"},\"line\":{\"color\":\"white\"}},\"header\":{\"fill\":{\"color\":\"rgb(217,217,217)\"},\"line\":{\"color\":\"white\"}},\"type\":\"table\"}]},\"layout\":{\"annotationdefaults\":{\"arrowhead\":0,\"arrowwidth\":1},\"autotypenumbers\":\"strict\",\"coloraxis\":{\"colorbar\":{\"outlinewidth\":1,\"tickcolor\":\"rgb(36,36,36)\",\"ticks\":\"outside\"}},\"colorscale\":{\"diverging\":[[0.0,\"rgb(103,0,31)\"],[0.1,\"rgb(178,24,43)\"],[0.2,\"rgb(214,96,77)\"],[0.3,\"rgb(244,165,130)\"],[0.4,\"rgb(253,219,199)\"],[0.5,\"rgb(247,247,247)\"],[0.6,\"rgb(209,229,240)\"],[0.7,\"rgb(146,197,222)\"],[0.8,\"rgb(67,147,195)\"],[0.9,\"rgb(33,102,172)\"],[1.0,\"rgb(5,48,97)\"]],\"sequential\":[[0.0,\"#440154\"],[0.1111111111111111,\"#482878\"],[0.2222222222222222,\"#3e4989\"],[0.3333333333333333,\"#31688e\"],[0.4444444444444444,\"#26828e\"],[0.5555555555555556,\"#1f9e89\"],[0.6666666666666666,\"#35b779\"],[0.7777777777777778,\"#6ece58\"],[0.8888888888888888,\"#b5de2b\"],[1.0,\"#fde725\"]],\"sequentialminus\":[[0.0,\"#440154\"],[0.1111111111111111,\"#482878\"],[0.2222222222222222,\"#3e4989\"],[0.3333333333333333,\"#31688e\"],[0.4444444444444444,\"#26828e\"],[0.5555555555555556,\"#1f9e89\"],[0.6666666666666666,\"#35b779\"],[0.7777777777777778,\"#6ece58\"],[0.8888888888888888,\"#b5de2b\"],[1.0,\"#fde725\"]]},\"colorway\":[\"#1F77B4\",\"#FF7F0E\",\"#2CA02C\",\"#D62728\",\"#9467BD\",\"#8C564B\",\"#E377C2\",\"#7F7F7F\",\"#BCBD22\",\"#17BECF\"],\"font\":{\"color\":\"rgb(36,36,36)\"},\"geo\":{\"bgcolor\":\"white\",\"lakecolor\":\"white\",\"landcolor\":\"white\",\"showlakes\":true,\"showland\":true,\"subunitcolor\":\"white\"},\"hoverlabel\":{\"align\":\"left\"},\"hovermode\":\"closest\",\"mapbox\":{\"style\":\"light\"},\"paper_bgcolor\":\"white\",\"plot_bgcolor\":\"white\",\"polar\":{\"angularaxis\":{\"gridcolor\":\"rgb(232,232,232)\",\"linecolor\":\"rgb(36,36,36)\",\"showgrid\":false,\"showline\":true,\"ticks\":\"outside\"},\"bgcolor\":\"white\",\"radialaxis\":{\"gridcolor\":\"rgb(232,232,232)\",\"linecolor\":\"rgb(36,36,36)\",\"showgrid\":false,\"showline\":true,\"ticks\":\"outside\"}},\"scene\":{\"xaxis\":{\"backgroundcolor\":\"white\",\"gridcolor\":\"rgb(232,232,232)\",\"gridwidth\":2,\"linecolor\":\"rgb(36,36,36)\",\"showbackground\":true,\"showgrid\":false,\"showline\":true,\"ticks\":\"outside\",\"zeroline\":false,\"zerolinecolor\":\"rgb(36,36,36)\"},\"yaxis\":{\"backgroundcolor\":\"white\",\"gridcolor\":\"rgb(232,232,232)\",\"gridwidth\":2,\"linecolor\":\"rgb(36,36,36)\",\"showbackground\":true,\"showgrid\":false,\"showline\":true,\"ticks\":\"outside\",\"zeroline\":false,\"zerolinecolor\":\"rgb(36,36,36)\"},\"zaxis\":{\"backgroundcolor\":\"white\",\"gridcolor\":\"rgb(232,232,232)\",\"gridwidth\":2,\"linecolor\":\"rgb(36,36,36)\",\"showbackground\":true,\"showgrid\":false,\"showline\":true,\"ticks\":\"outside\",\"zeroline\":false,\"zerolinecolor\":\"rgb(36,36,36)\"}},\"shapedefaults\":{\"fillcolor\":\"black\",\"line\":{\"width\":0},\"opacity\":0.3},\"ternary\":{\"aaxis\":{\"gridcolor\":\"rgb(232,232,232)\",\"linecolor\":\"rgb(36,36,36)\",\"showgrid\":false,\"showline\":true,\"ticks\":\"outside\"},\"baxis\":{\"gridcolor\":\"rgb(232,232,232)\",\"linecolor\":\"rgb(36,36,36)\",\"showgrid\":false,\"showline\":true,\"ticks\":\"outside\"},\"bgcolor\":\"white\",\"caxis\":{\"gridcolor\":\"rgb(232,232,232)\",\"linecolor\":\"rgb(36,36,36)\",\"showgrid\":false,\"showline\":true,\"ticks\":\"outside\"}},\"title\":{\"x\":0.05},\"xaxis\":{\"automargin\":true,\"gridcolor\":\"rgb(232,232,232)\",\"linecolor\":\"rgb(36,36,36)\",\"showgrid\":false,\"showline\":true,\"ticks\":\"outside\",\"title\":{\"standoff\":15},\"zeroline\":false,\"zerolinecolor\":\"rgb(36,36,36)\"},\"yaxis\":{\"automargin\":true,\"gridcolor\":\"rgb(232,232,232)\",\"linecolor\":\"rgb(36,36,36)\",\"showgrid\":false,\"showline\":true,\"ticks\":\"outside\",\"title\":{\"standoff\":15},\"zeroline\":false,\"zerolinecolor\":\"rgb(36,36,36)\"}}},\"xaxis\":{\"showgrid\":true},\"yaxis\":{\"showgrid\":true,\"title\":{\"text\":\"Log_Frequency\"}},\"title\":{\"font\":{\"size\":22,\"color\":\"Black\"},\"text\":\"<b>Topics over Threads\",\"y\":0.95,\"x\":0.4,\"xanchor\":\"center\",\"yanchor\":\"top\"},\"hoverlabel\":{\"font\":{\"size\":16,\"family\":\"Rockwell\"},\"bgcolor\":\"white\"},\"width\":1250,\"height\":450,\"legend\":{\"title\":{\"text\":\"<b>Global Topic Representation\"}}},                        {\"responsive\": true}                    ).then(function(){\n",
              "                            \n",
              "var gd = document.getElementById('cb5d9e0e-8691-4990-843f-beb13081da9c');\n",
              "var x = new MutationObserver(function (mutations, observer) {{\n",
              "        var display = window.getComputedStyle(gd).display;\n",
              "        if (!display || display === 'none') {{\n",
              "            console.log([gd, 'removed!']);\n",
              "            Plotly.purge(gd);\n",
              "            observer.disconnect();\n",
              "        }}\n",
              "}});\n",
              "\n",
              "// Listen for the removal of the full notebook cells\n",
              "var notebookContainer = gd.closest('#notebook-container');\n",
              "if (notebookContainer) {{\n",
              "    x.observe(notebookContainer, {childList: true});\n",
              "}}\n",
              "\n",
              "// Listen for the clearing of the current output cell\n",
              "var outputEl = gd.closest('.output');\n",
              "if (outputEl) {{\n",
              "    x.observe(outputEl, {childList: true});\n",
              "}}\n",
              "\n",
              "                        })                };                            </script>        </div>\n",
              "</body>\n",
              "</html>"
            ]
          },
          "metadata": {}
        }
      ]
    },
    {
      "cell_type": "code",
      "source": [
        "# model_dynamic.visualize_topics_over_time(topics_over_time, top_n_topics=10)"
      ],
      "metadata": {
        "colab": {
          "base_uri": "https://localhost:8080/",
          "height": 487
        },
        "id": "bfti2t3k_-4P",
        "outputId": "2afcf9f8-754c-4f35-f7bb-4f7e3cdd34b2"
      },
      "id": "bfti2t3k_-4P",
      "execution_count": null,
      "outputs": [
        {
          "output_type": "display_data",
          "data": {
            "text/html": [
              "<html>\n",
              "<head><meta charset=\"utf-8\" /></head>\n",
              "<body>\n",
              "    <div>            <script src=\"https://cdnjs.cloudflare.com/ajax/libs/mathjax/2.7.5/MathJax.js?config=TeX-AMS-MML_SVG\"></script><script type=\"text/javascript\">if (window.MathJax) {MathJax.Hub.Config({SVG: {font: \"STIX-Web\"}});}</script>                <script type=\"text/javascript\">window.PlotlyConfig = {MathJaxConfig: 'local'};</script>\n",
              "        <script src=\"https://cdn.plot.ly/plotly-2.8.3.min.js\"></script>                <div id=\"47977202-3fae-42dc-bc63-7fcef257450d\" class=\"plotly-graph-div\" style=\"height:450px; width:1250px;\"></div>            <script type=\"text/javascript\">                                    window.PLOTLYENV=window.PLOTLYENV || {};                                    if (document.getElementById(\"47977202-3fae-42dc-bc63-7fcef257450d\")) {                    Plotly.newPlot(                        \"47977202-3fae-42dc-bc63-7fcef257450d\",                        [{\"hoverinfo\":\"text\",\"hovertext\":[\"<b>Topic 0</b><br>Words: dinner, going, golf, work, msn\",\"<b>Topic 0</b><br>Words: morning, went, going, good, time\",\"<b>Topic 0</b><br>Words: hall, gruene hall, continue freak, probably continue, gruene\",\"<b>Topic 0</b><br>Words: hee, going, advantage new, trip take, back visit\",\"<b>Topic 0</b><br>Words: got, really, really blast, guy class, sunday saturday\",\"<b>Topic 0</b><br>Words: bed, went, got, outlaws, yesterday finally\",\"<b>Topic 0</b><br>Words: category thats, big wig, trader would, keep fat, thats mine\",\"<b>Topic 0</b><br>Words: personallybe drink, timethan separatebut, liquor, drink dinner, personallybe\",\"<b>Topic 0</b><br>Words: would feel, going stand, sir going, lunch tomorrow, privledged lunch\",\"<b>Topic 0</b><br>Words: going, going going, going big, really going, cheese\",\"<b>Topic 0</b><br>Words: going thought, always big, thought always, dont really, really know\",\"<b>Topic 0</b><br>Words: working til, time working, til, day time, working\",\"<b>Topic 0</b><br>Words: eat something, think thinking, early shopping, thinking leaving, shopping eat\",\"<b>Topic 0</b><br>Words: sound exciting, exciting want, matt time, dinner matt, want dinner\",\"<b>Topic 0</b><br>Words: money, understand, money cant, game summer, understand money\",\"<b>Topic 0</b><br>Words: well lunch, figured might, leaving today, time leaving, lunch time\",\"<b>Topic 0</b><br>Words: ever find, better ever, buy house, whatever way, end better\",\"<b>Topic 0</b><br>Words: going smoke, working going, smoke, working, going\",\"<b>Topic 0</b><br>Words: know control, control going, control, going, know\",\"<b>Topic 0</b><br>Words: dinner get, buy dinner, get back, dinner, buy\",\"<b>Topic 0</b><br>Words: remember anything, anything bet, like still, still remember, dinner bc\"],\"marker\":{\"color\":\"#E69F00\"},\"mode\":\"lines\",\"name\":\"0_going_dinner_went_work\",\"x\":[1,2,3,4,5,6,7,8,9,10,11,12,13,14,15,18,20,35,50,64,72],\"y\":[11,10,8,5,5,5,3,1,2,4,3,1,1,3,2,2,1,1,2,1,2],\"type\":\"scatter\"},{\"hoverinfo\":\"text\",\"hovertext\":[\"<b>Topic 1</b><br>Words: superscript, meeting, research, would, time\",\"<b>Topic 1</b><br>Words: meeting, time, week, 4th, may\",\"<b>Topic 1</b><br>Words: meeting, april, vince, lunch, credit manager\",\"<b>Topic 1</b><br>Words: meeting, thanks, vacation time, recruiter, thanks lynn\",\"<b>Topic 1</b><br>Words: bring speed, reservations contenttransferencoding, charlie ken, invited plan, yet showing\",\"<b>Topic 1</b><br>Words: want attend, attend, operation research, give sally, following week\",\"<b>Topic 1</b><br>Words: april, date play, 4th week, april throw, good early\",\"<b>Topic 1</b><br>Words: agenda, meeting, true quote, quote, true\"],\"marker\":{\"color\":\"#56B4E9\"},\"mode\":\"lines\",\"name\":\"1_meeting_superscript_time_week\",\"x\":[1,2,3,4,5,6,7,37],\"y\":[21,15,10,10,2,3,1,1],\"type\":\"scatter\"},{\"hoverinfo\":\"text\",\"hovertext\":[\"<b>Topic 2</b><br>Words: enron, recipient, intended, intended recipient, enron corp\",\"<b>Topic 2</b><br>Words: enron, state, notice, party, financial\",\"<b>Topic 2</b><br>Words: enron, korea, carey, carey sloan, sloan\",\"<b>Topic 2</b><br>Words: folder, exmar, icap, enron, statement\",\"<b>Topic 2</b><br>Words: original, side counterparty, include original, sign enron, document therefore\",\"<b>Topic 2</b><br>Words: surgery etc, whining heard, pay eye, morning enron, rick usually\",\"<b>Topic 2</b><br>Words: domain, domain name, name, property, writers\",\"<b>Topic 2</b><br>Words: sleep anyway, blowing, enron blowing, want go, going sleep\",\"<b>Topic 2</b><br>Words: transaction attempt, attempt, transaction, volume, large\",\"<b>Topic 2</b><br>Words: true quote, quote, true, enron, product\"],\"marker\":{\"color\":\"#009E73\"},\"mode\":\"lines\",\"name\":\"2_enron_true quote_recipient_intended\",\"x\":[1,2,3,4,5,6,10,17,18,21],\"y\":[36,7,4,3,1,1,2,1,1,1],\"type\":\"scatter\"},{\"hoverinfo\":\"text\",\"hovertext\":[\"<b>Topic 3</b><br>Words: michael, birthday, hope, turn, outside\",\"<b>Topic 3</b><br>Words: week, work, good, date, kendall\",\"<b>Topic 3</b><br>Words: much, working, family, get, much fun\",\"<b>Topic 3</b><br>Words: town, get town, alot slowdown, price continue, months get\",\"<b>Topic 3</b><br>Words: debbe, better let, doe tues, know towards, dinner cancel\",\"<b>Topic 3</b><br>Words: believe trouble, allows get, board twice, get set, get ok\",\"<b>Topic 3</b><br>Words: friday 9th, eldons, 9th, friday, golf\",\"<b>Topic 3</b><br>Words: kori today, kori, today, get, week\",\"<b>Topic 3</b><br>Words: yeti caould, set yeti, get int6o, kind compromise, texas kind\",\"<b>Topic 3</b><br>Words: early week, week hope, early, hope, week\"],\"marker\":{\"color\":\"#F0E442\"},\"mode\":\"lines\",\"name\":\"3_get_week_hope_friday\",\"x\":[1,2,3,4,5,6,7,9,11,15],\"y\":[7,12,8,4,2,3,5,1,2,1],\"type\":\"scatter\"},{\"hoverinfo\":\"text\",\"hovertext\":[\"<b>Topic 4</b><br>Words: lisa, hoping, moving, hear, susan\",\"<b>Topic 4</b><br>Words: coming, mid may, dibs, doug, mid\",\"<b>Topic 4</b><br>Words: caroline, spoken, coming, london, dave\",\"<b>Topic 4</b><br>Words: contact, notis, chris, paul, call\",\"<b>Topic 4</b><br>Words: child, process, connecticut, adoption, live connecticut\",\"<b>Topic 4</b><br>Words: guy tomorrow, casey, perlman rob, casey evans, aware taking\",\"<b>Topic 4</b><br>Words: vance, vance taylor, bob mary, talk vance, mary please\",\"<b>Topic 4</b><br>Words: call shall, shear, address always, hollys, hollys email\",\"<b>Topic 4</b><br>Words: kid, grade, year, back year, school\",\"<b>Topic 4</b><br>Words: touching, address phone, lisas email, word clue, need lisas\",\"<b>Topic 4</b><br>Words: saw caller, caller next, caller, next day, saw\"],\"marker\":{\"color\":\"#D55E00\"},\"mode\":\"lines\",\"name\":\"4_kid_year_grade_school\",\"x\":[1,2,3,4,5,6,7,8,9,14,57],\"y\":[3,9,3,9,1,3,1,4,2,2,1],\"type\":\"scatter\"},{\"hoverinfo\":\"text\",\"hovertext\":[\"<b>Topic 5</b><br>Words: first request, fourth, attached thanks, request correct, need fourth\",\"<b>Topic 5</b><br>Words: thanks thanks, thanks, perfect working, perfect, thanks perfect\",\"<b>Topic 5</b><br>Words: thanks, thanks thanks, read thanks, looking sorry, making happen\",\"<b>Topic 5</b><br>Words: get, thanks, thanks thanks, perfect working, thanks perfect\",\"<b>Topic 5</b><br>Words: tana best, get thanks, thanks tana, tana, thanks\",\"<b>Topic 5</b><br>Words: hey work, hey, work, thanks, thanks thanks\",\"<b>Topic 5</b><br>Words: prove, deal, thanks, thanks thanks, perfect working\",\"<b>Topic 5</b><br>Words: want, thanks, thanks thanks, perfect working, thanks perfect\",\"<b>Topic 5</b><br>Words: thanks thought, thought, thanks, thanks thanks, perfect working\",\"<b>Topic 5</b><br>Words: deal, thanks, thanks thanks, perfect working, thanks perfect\"],\"marker\":{\"color\":\"#0072B2\"},\"mode\":\"lines\",\"name\":\"5_thanks_thanks thanks_thanks tana_perfe...\",\"x\":[1,2,3,4,7,8,13,18,22,32],\"y\":[3,10,11,1,2,1,2,1,1,1],\"type\":\"scatter\"},{\"hoverinfo\":\"text\",\"hovertext\":[\"<b>Topic 6</b><br>Words: paso, tac, contract, capacity, shipper\",\"<b>Topic 6</b><br>Words: file contract, contract, file, canada energy, contract reviewseminole\",\"<b>Topic 6</b><br>Words: allocation, summer, need, support, actuals\",\"<b>Topic 6</b><br>Words: iso, charge, access charge, transmission, tac\",\"<b>Topic 6</b><br>Words: system, need, new basin, get system, certification\",\"<b>Topic 6</b><br>Words: transportation agreement, transportation, gas transportation, interruptible, section\"],\"marker\":{\"color\":\"#CC79A7\"},\"mode\":\"lines\",\"name\":\"6_contract_file contract_iso_file\",\"x\":[1,2,3,4,5,6],\"y\":[13,7,4,3,2,2],\"type\":\"scatter\"},{\"hoverinfo\":\"text\",\"hovertext\":[\"<b>Topic 7</b><br>Words: attachment follows, inline attachment, inline, attachment, follows\",\"<b>Topic 7</b><br>Words: attachment follows, inline attachment, inline, follows, attachment\",\"<b>Topic 7</b><br>Words: attachment follows, inline attachment, inline, follows, attachment\",\"<b>Topic 7</b><br>Words: attachment follows, inline attachment, inline, follows, attachment\",\"<b>Topic 7</b><br>Words: attachment follows, inline attachment, inline, follows, attachment\",\"<b>Topic 7</b><br>Words: attachment follows, inline attachment, inline, follows, attachment\",\"<b>Topic 7</b><br>Words: attachment follows, inline attachment, inline, follows, attachment\",\"<b>Topic 7</b><br>Words: attachment follows, inline attachment, inline, follows, attachment\",\"<b>Topic 7</b><br>Words: attachment follows, inline attachment, inline, follows, theresa inline\",\"<b>Topic 7</b><br>Words: attachment follows, inline attachment, inline, follows, attachment\",\"<b>Topic 7</b><br>Words: attachment follows, inline attachment, inline, follows, attachment\",\"<b>Topic 7</b><br>Words: attachment follows, inline attachment, inline, follows, attachment\",\"<b>Topic 7</b><br>Words: attachment follows, inline attachment, inline, follows, attachment\",\"<b>Topic 7</b><br>Words: attachment follows, inline attachment, inline, follows, attachment\",\"<b>Topic 7</b><br>Words: attachment follows, inline attachment, inline, follows, attachment\",\"<b>Topic 7</b><br>Words: attachment follows, inline attachment, inline, follows, attachment\",\"<b>Topic 7</b><br>Words: attachment follows, inline attachment, inline, follows, attachment\",\"<b>Topic 7</b><br>Words: attachment follows, inline attachment, inline, follows, attachment\",\"<b>Topic 7</b><br>Words: attachment follows, inline attachment, inline, follows, attachment\",\"<b>Topic 7</b><br>Words: attachment follows, inline attachment, inline, follows, attachment\",\"<b>Topic 7</b><br>Words: attachment follows, inline attachment, inline, follows, attachment\",\"<b>Topic 7</b><br>Words: attachment follows, inline attachment, inline, follows, attachment\"],\"marker\":{\"color\":\"#E69F00\"},\"mode\":\"lines\",\"name\":\"7_inline attachment_attachment follows_i...\",\"x\":[2,3,5,7,8,10,12,13,14,15,16,23,29,31,35,38,42,53,54,73,91,97],\"y\":[3,2,1,1,3,1,1,2,1,1,1,2,1,1,1,1,1,1,1,1,1,1],\"type\":\"scatter\"},{\"hoverinfo\":\"text\",\"hovertext\":[\"<b>Topic 8</b><br>Words: hehehe, need calm, calm, need, jerk\",\"<b>Topic 8</b><br>Words: well well, funny, well, jerk, whatever\",\"<b>Topic 8</b><br>Words: stupid, pretty stupid, pretty, legal, jerk\",\"<b>Topic 8</b><br>Words: jerk, start nicer, bc jerk, nicer, jerk really\",\"<b>Topic 8</b><br>Words: kept starting, blaming going, starting blaming, nuts people, going nuts\",\"<b>Topic 8</b><br>Words: jerk, yet let, big jerk, funny still, actually wasnt\",\"<b>Topic 8</b><br>Words: ok fuckface, fuckface, ok, jerk, whatever\",\"<b>Topic 8</b><br>Words: know later, know whatever, whatever let, whatever, later\",\"<b>Topic 8</b><br>Words: anymore whatever, whatever rude, rude, ok enough, funny anymore\",\"<b>Topic 8</b><br>Words: double standard, double, standard, jerk, whatever\",\"<b>Topic 8</b><br>Words: rude choice, rude, choice, jerk, whatever\",\"<b>Topic 8</b><br>Words: serious, jerk, whatever, funny, rude\",\"<b>Topic 8</b><br>Words: jerk, whatever, funny, rude, double standard\",\"<b>Topic 8</b><br>Words: know kidding, whatever know, kidding, whatever, know\",\"<b>Topic 8</b><br>Words: honestly, insulted comparison, insulted, honestly think, kidding honestly\",\"<b>Topic 8</b><br>Words: compliment, nice, nice compliment, nice try, thats nice\",\"<b>Topic 8</b><br>Words: letting, jerk, whatever, funny, rude\",\"<b>Topic 8</b><br>Words: princess, want princess, whatever want, whatever, want\"],\"marker\":{\"color\":\"#56B4E9\"},\"mode\":\"lines\",\"name\":\"8_jerk_whatever_funny_rude\",\"x\":[2,3,4,5,6,7,9,11,12,14,15,23,32,34,42,46,71,80],\"y\":[2,2,2,2,2,3,1,1,2,2,1,1,2,1,1,1,1,1],\"type\":\"scatter\"},{\"hoverinfo\":\"text\",\"hovertext\":[\"<b>Topic 9</b><br>Words: boeing, reuters, said, permit, iwon\",\"<b>Topic 9</b><br>Words: bloomberg, pinnacle, pinnacle west, west, deal\",\"<b>Topic 9</b><br>Words: pinnacle, aps, trade pinnacle, bloomberg, trade\",\"<b>Topic 9</b><br>Words: newco, kal, site, mark, greg\",\"<b>Topic 9</b><br>Words: reuters, mustafa ahmad, mustafa, ahmad, state\",\"<b>Topic 9</b><br>Words: rwg, mgl, certain, mgm, rudolf wolff\",\"<b>Topic 9</b><br>Words: represent hoped, showing current, hoped replace, item marked, bullethole\",\"<b>Topic 9</b><br>Words: executed extension, long master, master executed, extension, master\",\"<b>Topic 9</b><br>Words: vessel, material, wednesday ive, continue discharging, lading said\"],\"marker\":{\"color\":\"#009E73\"},\"mode\":\"lines\",\"name\":\"9_pinnacle_newco_reuters_bloomberg\",\"x\":[1,2,3,4,5,9,10,11,66],\"y\":[6,8,2,3,4,1,1,1,1],\"type\":\"scatter\"}],                        {\"template\":{\"data\":{\"barpolar\":[{\"marker\":{\"line\":{\"color\":\"white\",\"width\":0.5},\"pattern\":{\"fillmode\":\"overlay\",\"size\":10,\"solidity\":0.2}},\"type\":\"barpolar\"}],\"bar\":[{\"error_x\":{\"color\":\"rgb(36,36,36)\"},\"error_y\":{\"color\":\"rgb(36,36,36)\"},\"marker\":{\"line\":{\"color\":\"white\",\"width\":0.5},\"pattern\":{\"fillmode\":\"overlay\",\"size\":10,\"solidity\":0.2}},\"type\":\"bar\"}],\"carpet\":[{\"aaxis\":{\"endlinecolor\":\"rgb(36,36,36)\",\"gridcolor\":\"white\",\"linecolor\":\"white\",\"minorgridcolor\":\"white\",\"startlinecolor\":\"rgb(36,36,36)\"},\"baxis\":{\"endlinecolor\":\"rgb(36,36,36)\",\"gridcolor\":\"white\",\"linecolor\":\"white\",\"minorgridcolor\":\"white\",\"startlinecolor\":\"rgb(36,36,36)\"},\"type\":\"carpet\"}],\"choropleth\":[{\"colorbar\":{\"outlinewidth\":1,\"tickcolor\":\"rgb(36,36,36)\",\"ticks\":\"outside\"},\"type\":\"choropleth\"}],\"contourcarpet\":[{\"colorbar\":{\"outlinewidth\":1,\"tickcolor\":\"rgb(36,36,36)\",\"ticks\":\"outside\"},\"type\":\"contourcarpet\"}],\"contour\":[{\"colorbar\":{\"outlinewidth\":1,\"tickcolor\":\"rgb(36,36,36)\",\"ticks\":\"outside\"},\"colorscale\":[[0.0,\"#440154\"],[0.1111111111111111,\"#482878\"],[0.2222222222222222,\"#3e4989\"],[0.3333333333333333,\"#31688e\"],[0.4444444444444444,\"#26828e\"],[0.5555555555555556,\"#1f9e89\"],[0.6666666666666666,\"#35b779\"],[0.7777777777777778,\"#6ece58\"],[0.8888888888888888,\"#b5de2b\"],[1.0,\"#fde725\"]],\"type\":\"contour\"}],\"heatmapgl\":[{\"colorbar\":{\"outlinewidth\":1,\"tickcolor\":\"rgb(36,36,36)\",\"ticks\":\"outside\"},\"colorscale\":[[0.0,\"#440154\"],[0.1111111111111111,\"#482878\"],[0.2222222222222222,\"#3e4989\"],[0.3333333333333333,\"#31688e\"],[0.4444444444444444,\"#26828e\"],[0.5555555555555556,\"#1f9e89\"],[0.6666666666666666,\"#35b779\"],[0.7777777777777778,\"#6ece58\"],[0.8888888888888888,\"#b5de2b\"],[1.0,\"#fde725\"]],\"type\":\"heatmapgl\"}],\"heatmap\":[{\"colorbar\":{\"outlinewidth\":1,\"tickcolor\":\"rgb(36,36,36)\",\"ticks\":\"outside\"},\"colorscale\":[[0.0,\"#440154\"],[0.1111111111111111,\"#482878\"],[0.2222222222222222,\"#3e4989\"],[0.3333333333333333,\"#31688e\"],[0.4444444444444444,\"#26828e\"],[0.5555555555555556,\"#1f9e89\"],[0.6666666666666666,\"#35b779\"],[0.7777777777777778,\"#6ece58\"],[0.8888888888888888,\"#b5de2b\"],[1.0,\"#fde725\"]],\"type\":\"heatmap\"}],\"histogram2dcontour\":[{\"colorbar\":{\"outlinewidth\":1,\"tickcolor\":\"rgb(36,36,36)\",\"ticks\":\"outside\"},\"colorscale\":[[0.0,\"#440154\"],[0.1111111111111111,\"#482878\"],[0.2222222222222222,\"#3e4989\"],[0.3333333333333333,\"#31688e\"],[0.4444444444444444,\"#26828e\"],[0.5555555555555556,\"#1f9e89\"],[0.6666666666666666,\"#35b779\"],[0.7777777777777778,\"#6ece58\"],[0.8888888888888888,\"#b5de2b\"],[1.0,\"#fde725\"]],\"type\":\"histogram2dcontour\"}],\"histogram2d\":[{\"colorbar\":{\"outlinewidth\":1,\"tickcolor\":\"rgb(36,36,36)\",\"ticks\":\"outside\"},\"colorscale\":[[0.0,\"#440154\"],[0.1111111111111111,\"#482878\"],[0.2222222222222222,\"#3e4989\"],[0.3333333333333333,\"#31688e\"],[0.4444444444444444,\"#26828e\"],[0.5555555555555556,\"#1f9e89\"],[0.6666666666666666,\"#35b779\"],[0.7777777777777778,\"#6ece58\"],[0.8888888888888888,\"#b5de2b\"],[1.0,\"#fde725\"]],\"type\":\"histogram2d\"}],\"histogram\":[{\"marker\":{\"line\":{\"color\":\"white\",\"width\":0.6}},\"type\":\"histogram\"}],\"mesh3d\":[{\"colorbar\":{\"outlinewidth\":1,\"tickcolor\":\"rgb(36,36,36)\",\"ticks\":\"outside\"},\"type\":\"mesh3d\"}],\"parcoords\":[{\"line\":{\"colorbar\":{\"outlinewidth\":1,\"tickcolor\":\"rgb(36,36,36)\",\"ticks\":\"outside\"}},\"type\":\"parcoords\"}],\"pie\":[{\"automargin\":true,\"type\":\"pie\"}],\"scatter3d\":[{\"line\":{\"colorbar\":{\"outlinewidth\":1,\"tickcolor\":\"rgb(36,36,36)\",\"ticks\":\"outside\"}},\"marker\":{\"colorbar\":{\"outlinewidth\":1,\"tickcolor\":\"rgb(36,36,36)\",\"ticks\":\"outside\"}},\"type\":\"scatter3d\"}],\"scattercarpet\":[{\"marker\":{\"colorbar\":{\"outlinewidth\":1,\"tickcolor\":\"rgb(36,36,36)\",\"ticks\":\"outside\"}},\"type\":\"scattercarpet\"}],\"scattergeo\":[{\"marker\":{\"colorbar\":{\"outlinewidth\":1,\"tickcolor\":\"rgb(36,36,36)\",\"ticks\":\"outside\"}},\"type\":\"scattergeo\"}],\"scattergl\":[{\"marker\":{\"colorbar\":{\"outlinewidth\":1,\"tickcolor\":\"rgb(36,36,36)\",\"ticks\":\"outside\"}},\"type\":\"scattergl\"}],\"scattermapbox\":[{\"marker\":{\"colorbar\":{\"outlinewidth\":1,\"tickcolor\":\"rgb(36,36,36)\",\"ticks\":\"outside\"}},\"type\":\"scattermapbox\"}],\"scatterpolargl\":[{\"marker\":{\"colorbar\":{\"outlinewidth\":1,\"tickcolor\":\"rgb(36,36,36)\",\"ticks\":\"outside\"}},\"type\":\"scatterpolargl\"}],\"scatterpolar\":[{\"marker\":{\"colorbar\":{\"outlinewidth\":1,\"tickcolor\":\"rgb(36,36,36)\",\"ticks\":\"outside\"}},\"type\":\"scatterpolar\"}],\"scatter\":[{\"marker\":{\"colorbar\":{\"outlinewidth\":1,\"tickcolor\":\"rgb(36,36,36)\",\"ticks\":\"outside\"}},\"type\":\"scatter\"}],\"scatterternary\":[{\"marker\":{\"colorbar\":{\"outlinewidth\":1,\"tickcolor\":\"rgb(36,36,36)\",\"ticks\":\"outside\"}},\"type\":\"scatterternary\"}],\"surface\":[{\"colorbar\":{\"outlinewidth\":1,\"tickcolor\":\"rgb(36,36,36)\",\"ticks\":\"outside\"},\"colorscale\":[[0.0,\"#440154\"],[0.1111111111111111,\"#482878\"],[0.2222222222222222,\"#3e4989\"],[0.3333333333333333,\"#31688e\"],[0.4444444444444444,\"#26828e\"],[0.5555555555555556,\"#1f9e89\"],[0.6666666666666666,\"#35b779\"],[0.7777777777777778,\"#6ece58\"],[0.8888888888888888,\"#b5de2b\"],[1.0,\"#fde725\"]],\"type\":\"surface\"}],\"table\":[{\"cells\":{\"fill\":{\"color\":\"rgb(237,237,237)\"},\"line\":{\"color\":\"white\"}},\"header\":{\"fill\":{\"color\":\"rgb(217,217,217)\"},\"line\":{\"color\":\"white\"}},\"type\":\"table\"}]},\"layout\":{\"annotationdefaults\":{\"arrowhead\":0,\"arrowwidth\":1},\"autotypenumbers\":\"strict\",\"coloraxis\":{\"colorbar\":{\"outlinewidth\":1,\"tickcolor\":\"rgb(36,36,36)\",\"ticks\":\"outside\"}},\"colorscale\":{\"diverging\":[[0.0,\"rgb(103,0,31)\"],[0.1,\"rgb(178,24,43)\"],[0.2,\"rgb(214,96,77)\"],[0.3,\"rgb(244,165,130)\"],[0.4,\"rgb(253,219,199)\"],[0.5,\"rgb(247,247,247)\"],[0.6,\"rgb(209,229,240)\"],[0.7,\"rgb(146,197,222)\"],[0.8,\"rgb(67,147,195)\"],[0.9,\"rgb(33,102,172)\"],[1.0,\"rgb(5,48,97)\"]],\"sequential\":[[0.0,\"#440154\"],[0.1111111111111111,\"#482878\"],[0.2222222222222222,\"#3e4989\"],[0.3333333333333333,\"#31688e\"],[0.4444444444444444,\"#26828e\"],[0.5555555555555556,\"#1f9e89\"],[0.6666666666666666,\"#35b779\"],[0.7777777777777778,\"#6ece58\"],[0.8888888888888888,\"#b5de2b\"],[1.0,\"#fde725\"]],\"sequentialminus\":[[0.0,\"#440154\"],[0.1111111111111111,\"#482878\"],[0.2222222222222222,\"#3e4989\"],[0.3333333333333333,\"#31688e\"],[0.4444444444444444,\"#26828e\"],[0.5555555555555556,\"#1f9e89\"],[0.6666666666666666,\"#35b779\"],[0.7777777777777778,\"#6ece58\"],[0.8888888888888888,\"#b5de2b\"],[1.0,\"#fde725\"]]},\"colorway\":[\"#1F77B4\",\"#FF7F0E\",\"#2CA02C\",\"#D62728\",\"#9467BD\",\"#8C564B\",\"#E377C2\",\"#7F7F7F\",\"#BCBD22\",\"#17BECF\"],\"font\":{\"color\":\"rgb(36,36,36)\"},\"geo\":{\"bgcolor\":\"white\",\"lakecolor\":\"white\",\"landcolor\":\"white\",\"showlakes\":true,\"showland\":true,\"subunitcolor\":\"white\"},\"hoverlabel\":{\"align\":\"left\"},\"hovermode\":\"closest\",\"mapbox\":{\"style\":\"light\"},\"paper_bgcolor\":\"white\",\"plot_bgcolor\":\"white\",\"polar\":{\"angularaxis\":{\"gridcolor\":\"rgb(232,232,232)\",\"linecolor\":\"rgb(36,36,36)\",\"showgrid\":false,\"showline\":true,\"ticks\":\"outside\"},\"bgcolor\":\"white\",\"radialaxis\":{\"gridcolor\":\"rgb(232,232,232)\",\"linecolor\":\"rgb(36,36,36)\",\"showgrid\":false,\"showline\":true,\"ticks\":\"outside\"}},\"scene\":{\"xaxis\":{\"backgroundcolor\":\"white\",\"gridcolor\":\"rgb(232,232,232)\",\"gridwidth\":2,\"linecolor\":\"rgb(36,36,36)\",\"showbackground\":true,\"showgrid\":false,\"showline\":true,\"ticks\":\"outside\",\"zeroline\":false,\"zerolinecolor\":\"rgb(36,36,36)\"},\"yaxis\":{\"backgroundcolor\":\"white\",\"gridcolor\":\"rgb(232,232,232)\",\"gridwidth\":2,\"linecolor\":\"rgb(36,36,36)\",\"showbackground\":true,\"showgrid\":false,\"showline\":true,\"ticks\":\"outside\",\"zeroline\":false,\"zerolinecolor\":\"rgb(36,36,36)\"},\"zaxis\":{\"backgroundcolor\":\"white\",\"gridcolor\":\"rgb(232,232,232)\",\"gridwidth\":2,\"linecolor\":\"rgb(36,36,36)\",\"showbackground\":true,\"showgrid\":false,\"showline\":true,\"ticks\":\"outside\",\"zeroline\":false,\"zerolinecolor\":\"rgb(36,36,36)\"}},\"shapedefaults\":{\"fillcolor\":\"black\",\"line\":{\"width\":0},\"opacity\":0.3},\"ternary\":{\"aaxis\":{\"gridcolor\":\"rgb(232,232,232)\",\"linecolor\":\"rgb(36,36,36)\",\"showgrid\":false,\"showline\":true,\"ticks\":\"outside\"},\"baxis\":{\"gridcolor\":\"rgb(232,232,232)\",\"linecolor\":\"rgb(36,36,36)\",\"showgrid\":false,\"showline\":true,\"ticks\":\"outside\"},\"bgcolor\":\"white\",\"caxis\":{\"gridcolor\":\"rgb(232,232,232)\",\"linecolor\":\"rgb(36,36,36)\",\"showgrid\":false,\"showline\":true,\"ticks\":\"outside\"}},\"title\":{\"x\":0.05},\"xaxis\":{\"automargin\":true,\"gridcolor\":\"rgb(232,232,232)\",\"linecolor\":\"rgb(36,36,36)\",\"showgrid\":false,\"showline\":true,\"ticks\":\"outside\",\"title\":{\"standoff\":15},\"zeroline\":false,\"zerolinecolor\":\"rgb(36,36,36)\"},\"yaxis\":{\"automargin\":true,\"gridcolor\":\"rgb(232,232,232)\",\"linecolor\":\"rgb(36,36,36)\",\"showgrid\":false,\"showline\":true,\"ticks\":\"outside\",\"title\":{\"standoff\":15},\"zeroline\":false,\"zerolinecolor\":\"rgb(36,36,36)\"}}},\"xaxis\":{\"showgrid\":true},\"yaxis\":{\"showgrid\":true,\"title\":{\"text\":\"Frequency\"}},\"title\":{\"font\":{\"size\":22,\"color\":\"Black\"},\"text\":\"<b>Topics over Time\",\"y\":0.95,\"x\":0.4,\"xanchor\":\"center\",\"yanchor\":\"top\"},\"hoverlabel\":{\"font\":{\"size\":16,\"family\":\"Rockwell\"},\"bgcolor\":\"white\"},\"width\":1250,\"height\":450,\"legend\":{\"title\":{\"text\":\"<b>Global Topic Representation\"}}},                        {\"responsive\": true}                    ).then(function(){\n",
              "                            \n",
              "var gd = document.getElementById('47977202-3fae-42dc-bc63-7fcef257450d');\n",
              "var x = new MutationObserver(function (mutations, observer) {{\n",
              "        var display = window.getComputedStyle(gd).display;\n",
              "        if (!display || display === 'none') {{\n",
              "            console.log([gd, 'removed!']);\n",
              "            Plotly.purge(gd);\n",
              "            observer.disconnect();\n",
              "        }}\n",
              "}});\n",
              "\n",
              "// Listen for the removal of the full notebook cells\n",
              "var notebookContainer = gd.closest('#notebook-container');\n",
              "if (notebookContainer) {{\n",
              "    x.observe(notebookContainer, {childList: true});\n",
              "}}\n",
              "\n",
              "// Listen for the clearing of the current output cell\n",
              "var outputEl = gd.closest('.output');\n",
              "if (outputEl) {{\n",
              "    x.observe(outputEl, {childList: true});\n",
              "}}\n",
              "\n",
              "                        })                };                            </script>        </div>\n",
              "</body>\n",
              "</html>"
            ]
          },
          "metadata": {}
        }
      ]
    }
  ],
  "metadata": {
    "kernelspec": {
      "display_name": "Python 3 (ipykernel)",
      "language": "python",
      "name": "python3"
    },
    "language_info": {
      "codemirror_mode": {
        "name": "ipython",
        "version": 3
      },
      "file_extension": ".py",
      "mimetype": "text/x-python",
      "name": "python",
      "nbconvert_exporter": "python",
      "pygments_lexer": "ipython3",
      "version": "3.9.7"
    },
    "colab": {
      "provenance": []
    },
    "accelerator": "GPU",
    "gpuClass": "standard"
  },
  "nbformat": 4,
  "nbformat_minor": 5
}