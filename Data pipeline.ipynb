{
 "cells": [
  {
   "cell_type": "code",
   "execution_count": 4,
   "id": "e0bc4987",
   "metadata": {},
   "outputs": [],
   "source": [
    "import pandas as pd\n",
    "from bs4 import BeautifulSoup\n",
    "import re\n",
    "import numpy as np\n",
    "import spacy"
   ]
  },
  {
   "cell_type": "markdown",
   "id": "ad115563",
   "metadata": {},
   "source": [
    "# 1. Data extraction"
   ]
  },
  {
   "cell_type": "code",
   "execution_count": null,
   "id": "77c9df21",
   "metadata": {},
   "outputs": [],
   "source": [
    "%%time\n",
    "# read all files\n",
    "directory=r'C:\\Users\\p_uli\\Desktop\\Columbia University\\Cursos\\Fall 22\\Capstone\\Data\\maildir'\n",
    "\n",
    "subset=os.listdir(directory)\n",
    "\n",
    "msg_id= list()\n",
    "msg_txt= list()\n",
    "\n",
    "for folder in subset:\n",
    "    for roots, dirs, files in os.walk(directory+\"\\\\\"+folder):\n",
    "        for file in files:\n",
    "            with open(roots+'\\\\'+file) as f:\n",
    "                x= f.readlines()\n",
    "                x=''.join(x)\n",
    "                msg_txt.append(x)\n",
    "                msg_id.append(roots[roots.index(folder):] + '\\\\'+file)"
   ]
  },
  {
   "cell_type": "code",
   "execution_count": null,
   "id": "cf7dda96",
   "metadata": {},
   "outputs": [],
   "source": [
    "data=pd.DataFrame(zip(msg_id,msg_txt),columns=['message_id','message_text'])\n",
    "data.to_csv(r'C:\\Users\\p_uli\\Desktop\\Columbia University\\Cursos\\Fall 22\\Capstone\\Data\\emails.csv',index=False)"
   ]
  },
  {
   "cell_type": "markdown",
   "id": "48a17f84",
   "metadata": {},
   "source": [
    "# 2. Email elements extraction"
   ]
  },
  {
   "cell_type": "code",
   "execution_count": null,
   "id": "8e692eda",
   "metadata": {},
   "outputs": [],
   "source": [
    "data= pd.read_csv(r'C:\\Users\\p_uli\\Desktop\\Columbia University\\Cursos\\Fall 22\\Capstone\\Data\\emails.csv')"
   ]
  },
  {
   "cell_type": "code",
   "execution_count": null,
   "id": "4b838a35",
   "metadata": {},
   "outputs": [],
   "source": [
    "## Helper functions\n",
    "def get_text_from_email(msg):\n",
    "    '''To get the content from email objects'''\n",
    "    parts = []\n",
    "    for part in msg.walk():\n",
    "        if part.get_content_type() == 'text/plain':\n",
    "            parts.append( part.get_payload() )\n",
    "    return ''.join(parts)\n",
    "\n",
    "def split_email_addresses(line):\n",
    "    '''To separate multiple email addresses'''\n",
    "    if line:\n",
    "        addrs = line.split(',')\n",
    "        addrs = list(map(lambda x: x.strip(), addrs))\n",
    "    else:\n",
    "        addrs = None\n",
    "    return addrs"
   ]
  },
  {
   "cell_type": "code",
   "execution_count": null,
   "id": "95713e9b",
   "metadata": {},
   "outputs": [],
   "source": [
    "%%time\n",
    "# Parse the emails into a list email objects\n",
    "messages = list(map(email.message_from_string, data['message_text']))\n",
    "data.drop(columns=['message_text'], inplace=True)\n",
    "\n",
    "# Get fields from parsed email objects\n",
    "#keys = messages[0].keys()\n",
    "keys=['Message-ID', 'Date', 'From', 'To', 'Subject', 'Cc', 'Bcc','X-From', 'X-To', 'X-cc', 'X-bcc', 'X-Folder', 'X-Origin', 'X-FileName']\n",
    "\n",
    "for key in keys:\n",
    "    data[key] = [doc[key] for doc in messages]\n",
    "    \n",
    "# Parse content from emails\n",
    "data['body'] = list(map(get_text_from_email, messages))\n",
    "# Split multiple email addresses\n",
    "data['From'] = data['From'].map(split_email_addresses)\n",
    "data['To']   = data['To'].map(split_email_addresses)\n",
    "\n",
    "# Extract the root of 'file' as 'user'\n",
    "data['user'] = data['message_id'].map(lambda x:x.split('/')[0])\n",
    "del messages\n",
    "\n",
    "data.head(1)"
   ]
  },
  {
   "cell_type": "code",
   "execution_count": null,
   "id": "7c340a4d",
   "metadata": {},
   "outputs": [],
   "source": [
    "df=data[['message_id','Date','From','To','Subject','Cc','Bcc','body']]\n",
    "df=df.rename(columns={\"Date\": \"date\", \"From\": \"from\",'To':'to','Subject':'subject','Cc':'cc','Bcc':'bcc'})\n",
    "df.to_csv(r'C:\\Users\\p_uli\\Desktop\\Columbia University\\Cursos\\Fall 22\\Capstone\\Data\\complete data.csv',index=False)"
   ]
  },
  {
   "cell_type": "markdown",
   "id": "3947785e",
   "metadata": {},
   "source": [
    "# 2.  Duplicate elimination, HTML extractor and Thread split"
   ]
  },
  {
   "cell_type": "markdown",
   "id": "e72500fb",
   "metadata": {},
   "source": [
    "## remove duplicates"
   ]
  },
  {
   "cell_type": "code",
   "execution_count": 3,
   "id": "75d443f5",
   "metadata": {
    "scrolled": true
   },
   "outputs": [
    {
     "data": {
      "text/html": [
       "<div>\n",
       "<style scoped>\n",
       "    .dataframe tbody tr th:only-of-type {\n",
       "        vertical-align: middle;\n",
       "    }\n",
       "\n",
       "    .dataframe tbody tr th {\n",
       "        vertical-align: top;\n",
       "    }\n",
       "\n",
       "    .dataframe thead th {\n",
       "        text-align: right;\n",
       "    }\n",
       "</style>\n",
       "<table border=\"1\" class=\"dataframe\">\n",
       "  <thead>\n",
       "    <tr style=\"text-align: right;\">\n",
       "      <th></th>\n",
       "      <th>message_id</th>\n",
       "      <th>date</th>\n",
       "      <th>from</th>\n",
       "      <th>to</th>\n",
       "      <th>subject</th>\n",
       "      <th>cc</th>\n",
       "      <th>bcc</th>\n",
       "      <th>body</th>\n",
       "    </tr>\n",
       "  </thead>\n",
       "  <tbody>\n",
       "    <tr>\n",
       "      <th>0</th>\n",
       "      <td>allen-p\\all_documents\\1</td>\n",
       "      <td>Wed, 13 Dec 2000 18:41:00 -0800 (PST)</td>\n",
       "      <td>['1.11913372.-2@multexinvestornetwork.com']</td>\n",
       "      <td>['pallen@enron.com']</td>\n",
       "      <td>December 14, 2000 - Bear Stearns' predictions ...</td>\n",
       "      <td>NaN</td>\n",
       "      <td>NaN</td>\n",
       "      <td>In today's Daily Update you'll find free repor...</td>\n",
       "    </tr>\n",
       "    <tr>\n",
       "      <th>1</th>\n",
       "      <td>allen-p\\all_documents\\10</td>\n",
       "      <td>Wed, 13 Dec 2000 08:35:00 -0800 (PST)</td>\n",
       "      <td>['messenger@ecm.bloomberg.com']</td>\n",
       "      <td>NaN</td>\n",
       "      <td>Bloomberg Power Lines Report</td>\n",
       "      <td>NaN</td>\n",
       "      <td>NaN</td>\n",
       "      <td>Here is today's copy of Bloomberg Power Lines....</td>\n",
       "    </tr>\n",
       "    <tr>\n",
       "      <th>2</th>\n",
       "      <td>allen-p\\all_documents\\100</td>\n",
       "      <td>Mon, 9 Oct 2000 07:16:00 -0700 (PDT)</td>\n",
       "      <td>['phillip.allen@enron.com']</td>\n",
       "      <td>['keith.holst@enron.com']</td>\n",
       "      <td>Consolidated positions: Issues &amp; To Do list</td>\n",
       "      <td>NaN</td>\n",
       "      <td>NaN</td>\n",
       "      <td>---------------------- Forwarded by Phillip K ...</td>\n",
       "    </tr>\n",
       "    <tr>\n",
       "      <th>3</th>\n",
       "      <td>allen-p\\all_documents\\101</td>\n",
       "      <td>Mon, 9 Oct 2000 07:00:00 -0700 (PDT)</td>\n",
       "      <td>['phillip.allen@enron.com']</td>\n",
       "      <td>['keith.holst@enron.com']</td>\n",
       "      <td>Consolidated positions: Issues &amp; To Do list</td>\n",
       "      <td>NaN</td>\n",
       "      <td>NaN</td>\n",
       "      <td>---------------------- Forwarded by Phillip K ...</td>\n",
       "    </tr>\n",
       "    <tr>\n",
       "      <th>4</th>\n",
       "      <td>allen-p\\all_documents\\102</td>\n",
       "      <td>Thu, 5 Oct 2000 06:26:00 -0700 (PDT)</td>\n",
       "      <td>['phillip.allen@enron.com']</td>\n",
       "      <td>['david.delainey@enron.com']</td>\n",
       "      <td>NaN</td>\n",
       "      <td>NaN</td>\n",
       "      <td>NaN</td>\n",
       "      <td>Dave, \\n\\n Here are the names of the west desk...</td>\n",
       "    </tr>\n",
       "  </tbody>\n",
       "</table>\n",
       "</div>"
      ],
      "text/plain": [
       "                  message_id                                   date  \\\n",
       "0    allen-p\\all_documents\\1  Wed, 13 Dec 2000 18:41:00 -0800 (PST)   \n",
       "1   allen-p\\all_documents\\10  Wed, 13 Dec 2000 08:35:00 -0800 (PST)   \n",
       "2  allen-p\\all_documents\\100   Mon, 9 Oct 2000 07:16:00 -0700 (PDT)   \n",
       "3  allen-p\\all_documents\\101   Mon, 9 Oct 2000 07:00:00 -0700 (PDT)   \n",
       "4  allen-p\\all_documents\\102   Thu, 5 Oct 2000 06:26:00 -0700 (PDT)   \n",
       "\n",
       "                                          from                            to  \\\n",
       "0  ['1.11913372.-2@multexinvestornetwork.com']          ['pallen@enron.com']   \n",
       "1              ['messenger@ecm.bloomberg.com']                           NaN   \n",
       "2                  ['phillip.allen@enron.com']     ['keith.holst@enron.com']   \n",
       "3                  ['phillip.allen@enron.com']     ['keith.holst@enron.com']   \n",
       "4                  ['phillip.allen@enron.com']  ['david.delainey@enron.com']   \n",
       "\n",
       "                                             subject   cc  bcc  \\\n",
       "0  December 14, 2000 - Bear Stearns' predictions ...  NaN  NaN   \n",
       "1                       Bloomberg Power Lines Report  NaN  NaN   \n",
       "2        Consolidated positions: Issues & To Do list  NaN  NaN   \n",
       "3        Consolidated positions: Issues & To Do list  NaN  NaN   \n",
       "4                                                NaN  NaN  NaN   \n",
       "\n",
       "                                                body  \n",
       "0  In today's Daily Update you'll find free repor...  \n",
       "1  Here is today's copy of Bloomberg Power Lines....  \n",
       "2  ---------------------- Forwarded by Phillip K ...  \n",
       "3  ---------------------- Forwarded by Phillip K ...  \n",
       "4  Dave, \\n\\n Here are the names of the west desk...  "
      ]
     },
     "execution_count": 3,
     "metadata": {},
     "output_type": "execute_result"
    }
   ],
   "source": [
    "data= pd.read_csv(r'C:\\Users\\p_uli\\Desktop\\Columbia University\\Cursos\\Fall 22\\Capstone\\Data\\complete data.csv')\n",
    "data.head()"
   ]
  },
  {
   "cell_type": "code",
   "execution_count": 4,
   "id": "3b87298b",
   "metadata": {},
   "outputs": [],
   "source": [
    "# We are interested only on subject and body\n",
    "data.drop(['date','from','to','cc','bcc'],axis=1,inplace=True)"
   ]
  },
  {
   "cell_type": "code",
   "execution_count": 5,
   "id": "52b0023e",
   "metadata": {},
   "outputs": [],
   "source": [
    "data.drop_duplicates(['subject', 'body'],inplace=True)"
   ]
  },
  {
   "cell_type": "markdown",
   "id": "cf44f2b7",
   "metadata": {},
   "source": [
    "## HTML cleaning"
   ]
  },
  {
   "cell_type": "code",
   "execution_count": 6,
   "id": "2acedd91",
   "metadata": {},
   "outputs": [],
   "source": [
    "def parse_html(text):\n",
    "    pattern = \"<html>(.+?)</html>\"\n",
    "    if re.search(pattern, text, re.IGNORECASE + re.DOTALL):\n",
    "        soup = BeautifulSoup(text, 'html5')\n",
    "        for data in soup(['style']):\n",
    "              data.decompose()\n",
    "        soup = BeautifulSoup(soup.get_text(), 'html5')\n",
    "        return soup.get_text()\n",
    "    else:\n",
    "        return text"
   ]
  },
  {
   "cell_type": "code",
   "execution_count": 7,
   "id": "0e19c227",
   "metadata": {},
   "outputs": [],
   "source": [
    "# Removing htmls\n",
    "data['body_html'] = data['body'].map(parse_html)"
   ]
  },
  {
   "cell_type": "markdown",
   "id": "34f8c6bb",
   "metadata": {},
   "source": [
    "## Thread splitting"
   ]
  },
  {
   "cell_type": "code",
   "execution_count": 8,
   "id": "5ac6129c",
   "metadata": {},
   "outputs": [],
   "source": [
    "# Suppose no lower case To From Subject\n",
    "def chain_split(a, subject):\n",
    "    # print(a)\n",
    "    text = a\n",
    "    a = a.split('\\n')\n",
    "    end = []\n",
    "    start = []\n",
    "    subs = []\n",
    "    i = 0\n",
    "    if_chain = False\n",
    "    while i < len(a):\n",
    "        if re.search(re.compile(r'forwarded by|original message|--original', re.IGNORECASE),a[i]):\n",
    "            start.append(i)\n",
    "        elif len(start)==len(end) and re.search(r'From:',a[i]):\n",
    "            start.append(i)\n",
    "        elif len(start)==len(end) and re.search(r'To:',a[i]):\n",
    "            start.append(i-3)\n",
    "        elif re.search(r'Subject:',a[i]):\n",
    "            s = i\n",
    "            if len(end)==len(start):\n",
    "                if len(start)!=0:\n",
    "                    subs[-1] = s\n",
    "                    end[-1] = i\n",
    "            else:\n",
    "                subs.append(s)\n",
    "                end.append(i)\n",
    "        i+=1\n",
    "\n",
    "    if len(start)>len(end):\n",
    "        start = start[:len(end)]\n",
    "\n",
    "    emails = []\n",
    "    subjects = []\n",
    "    pre = 0\n",
    "    subjects.append(subject)\n",
    "    for sub in subs: \n",
    "        subjects.append(a[sub].split('Subject:')[-1].strip('\\t'))\n",
    "    for s, e in zip(start, end):\n",
    "        if pre != s:\n",
    "            emails.append(\"\\n\".join(a[pre:s]).strip('\\n'))\n",
    "        else:\n",
    "            emails.append(\" \")\n",
    "        pre = e+1\n",
    "        for i in range(s, e+1):\n",
    "            a[i] = \"\"\n",
    "    if pre < len(a):\n",
    "        emails.append(\"\\n\".join(a[pre:]).strip('\\n'))\n",
    "    else:\n",
    "        emails.append(\" \")\n",
    "\n",
    "    combine = [(len(emails)-i, sub, email) for i, (sub, email) in enumerate(zip(subjects, emails))]\n",
    "    combine.reverse()\n",
    "    a = \"\\n\".join(a)\n",
    "    return len(start), combine"
   ]
  },
  {
   "cell_type": "code",
   "execution_count": 9,
   "id": "8a060f05",
   "metadata": {},
   "outputs": [],
   "source": [
    "data['new_body'] = data.apply(lambda x:chain_split(x['body_html'],x['subject']), axis=1)"
   ]
  },
  {
   "cell_type": "code",
   "execution_count": 10,
   "id": "8b7f4c2e",
   "metadata": {},
   "outputs": [],
   "source": [
    "data['chain_len'] = data['new_body'].map(lambda x:x[0])\n",
    "data['subjects_emails'] = data['new_body'].map(lambda x:x[1])"
   ]
  },
  {
   "cell_type": "code",
   "execution_count": 11,
   "id": "9fe6107f",
   "metadata": {},
   "outputs": [],
   "source": [
    "df_new = data[['message_id','subjects_emails']].explode('subjects_emails')"
   ]
  },
  {
   "cell_type": "code",
   "execution_count": 12,
   "id": "5afa3333",
   "metadata": {},
   "outputs": [
    {
     "data": {
      "text/html": [
       "<div>\n",
       "<style scoped>\n",
       "    .dataframe tbody tr th:only-of-type {\n",
       "        vertical-align: middle;\n",
       "    }\n",
       "\n",
       "    .dataframe tbody tr th {\n",
       "        vertical-align: top;\n",
       "    }\n",
       "\n",
       "    .dataframe thead th {\n",
       "        text-align: right;\n",
       "    }\n",
       "</style>\n",
       "<table border=\"1\" class=\"dataframe\">\n",
       "  <thead>\n",
       "    <tr style=\"text-align: right;\">\n",
       "      <th></th>\n",
       "      <th>email_id</th>\n",
       "      <th>subject</th>\n",
       "      <th>email</th>\n",
       "    </tr>\n",
       "  </thead>\n",
       "  <tbody>\n",
       "    <tr>\n",
       "      <th>0</th>\n",
       "      <td>allen-p\\all_documents\\1#1</td>\n",
       "      <td>December 14, 2000 - Bear Stearns' predictions ...</td>\n",
       "      <td>In today's Daily Update you'll find free repor...</td>\n",
       "    </tr>\n",
       "    <tr>\n",
       "      <th>1</th>\n",
       "      <td>allen-p\\all_documents\\10#1</td>\n",
       "      <td>Bloomberg Power Lines Report</td>\n",
       "      <td>Here is today's copy of Bloomberg Power Lines....</td>\n",
       "    </tr>\n",
       "    <tr>\n",
       "      <th>2</th>\n",
       "      <td>allen-p\\all_documents\\100#1</td>\n",
       "      <td>Consolidated positions: Issues &amp; To Do list</td>\n",
       "      <td>From our initial set of meetings with the trad...</td>\n",
       "    </tr>\n",
       "    <tr>\n",
       "      <th>3</th>\n",
       "      <td>allen-p\\all_documents\\100#2</td>\n",
       "      <td>Consolidated positions: Issues &amp; To Do list</td>\n",
       "      <td>Phillip,\\n Below is the issues &amp; to do list as...</td>\n",
       "    </tr>\n",
       "    <tr>\n",
       "      <th>4</th>\n",
       "      <td>allen-p\\all_documents\\100#3</td>\n",
       "      <td>Consolidated positions: Issues &amp; To Do list</td>\n",
       "      <td></td>\n",
       "    </tr>\n",
       "    <tr>\n",
       "      <th>...</th>\n",
       "      <td>...</td>\n",
       "      <td>...</td>\n",
       "      <td>...</td>\n",
       "    </tr>\n",
       "    <tr>\n",
       "      <th>466893</th>\n",
       "      <td>zufferli-j\\sent_items\\98#1</td>\n",
       "      <td>Calgary Analyst/Associate</td>\n",
       "      <td>Analyst\\t\\t\\t\\t\\tRank\\n\\nStephane Brodeur\\t\\t\\...</td>\n",
       "    </tr>\n",
       "    <tr>\n",
       "      <th>466894</th>\n",
       "      <td>zufferli-j\\sent_items\\99#1</td>\n",
       "      <td>ali's essays</td>\n",
       "      <td>Hi John\\n\\n   How was Thanksgiving?  Was th...</td>\n",
       "    </tr>\n",
       "    <tr>\n",
       "      <th>466895</th>\n",
       "      <td>zufferli-j\\sent_items\\99#2</td>\n",
       "      <td>RE: ali's essays</td>\n",
       "      <td>01:41 PM\\n\\n\\n\\n\\n\\n\\njust...</td>\n",
       "    </tr>\n",
       "    <tr>\n",
       "      <th>466896</th>\n",
       "      <td>zufferli-j\\sent_items\\99#3</td>\n",
       "      <td>RE: ali's essays</td>\n",
       "      <td>i don't know about the heart classes.  i'll lo...</td>\n",
       "    </tr>\n",
       "    <tr>\n",
       "      <th>466897</th>\n",
       "      <td>zufferli-j\\sent_items\\99#4</td>\n",
       "      <td>RE: ali's essays</td>\n",
       "      <td>i think the YMCA has a class that is for peopl...</td>\n",
       "    </tr>\n",
       "  </tbody>\n",
       "</table>\n",
       "<p>466898 rows × 3 columns</p>\n",
       "</div>"
      ],
      "text/plain": [
       "                           email_id  \\\n",
       "0         allen-p\\all_documents\\1#1   \n",
       "1        allen-p\\all_documents\\10#1   \n",
       "2       allen-p\\all_documents\\100#1   \n",
       "3       allen-p\\all_documents\\100#2   \n",
       "4       allen-p\\all_documents\\100#3   \n",
       "...                             ...   \n",
       "466893   zufferli-j\\sent_items\\98#1   \n",
       "466894   zufferli-j\\sent_items\\99#1   \n",
       "466895   zufferli-j\\sent_items\\99#2   \n",
       "466896   zufferli-j\\sent_items\\99#3   \n",
       "466897   zufferli-j\\sent_items\\99#4   \n",
       "\n",
       "                                                  subject  \\\n",
       "0       December 14, 2000 - Bear Stearns' predictions ...   \n",
       "1                            Bloomberg Power Lines Report   \n",
       "2             Consolidated positions: Issues & To Do list   \n",
       "3             Consolidated positions: Issues & To Do list   \n",
       "4             Consolidated positions: Issues & To Do list   \n",
       "...                                                   ...   \n",
       "466893                          Calgary Analyst/Associate   \n",
       "466894                                       ali's essays   \n",
       "466895                                   RE: ali's essays   \n",
       "466896                                   RE: ali's essays   \n",
       "466897                                   RE: ali's essays   \n",
       "\n",
       "                                                    email  \n",
       "0       In today's Daily Update you'll find free repor...  \n",
       "1       Here is today's copy of Bloomberg Power Lines....  \n",
       "2       From our initial set of meetings with the trad...  \n",
       "3       Phillip,\\n Below is the issues & to do list as...  \n",
       "4                                                          \n",
       "...                                                   ...  \n",
       "466893  Analyst\\t\\t\\t\\t\\tRank\\n\\nStephane Brodeur\\t\\t\\...  \n",
       "466894     Hi John\\n\\n   How was Thanksgiving?  Was th...  \n",
       "466895                      01:41 PM\\n\\n\\n\\n\\n\\n\\njust...  \n",
       "466896  i don't know about the heart classes.  i'll lo...  \n",
       "466897  i think the YMCA has a class that is for peopl...  \n",
       "\n",
       "[466898 rows x 3 columns]"
      ]
     },
     "execution_count": 12,
     "metadata": {},
     "output_type": "execute_result"
    }
   ],
   "source": [
    "df_new.reset_index(inplace = True)\n",
    "df_new.drop([\"index\"], axis= 1, inplace = True)\n",
    "# df_new = df_new[df_new['subjects_emails'].notna()]\n",
    "df_new['idx'] = df_new['subjects_emails'].map(lambda x:x[0])\n",
    "df_new['subject'] = df_new['subjects_emails'].map(lambda x:x[1])\n",
    "df_new['email'] = df_new['subjects_emails'].map(lambda x:x[2])\n",
    "# df_new = df_new[(df_new['email']!=' ') & (df_new['subject']!=' ')]\n",
    "df_new['email_id'] = df_new.apply(lambda x: x['message_id']+'#'+str(x['idx']), axis = 1)\n",
    "df_new = df_new[[\"email_id\", \"subject\", \"email\"]]\n",
    "df_new "
   ]
  },
  {
   "cell_type": "code",
   "execution_count": 13,
   "id": "0a38ad8e",
   "metadata": {},
   "outputs": [],
   "source": [
    "df_new.to_csv(r'C:\\Users\\p_uli\\Desktop\\Columbia University\\Cursos\\Fall 22\\Capstone\\Data\\Data splitted.csv',index=False)"
   ]
  },
  {
   "cell_type": "markdown",
   "id": "acda54eb",
   "metadata": {},
   "source": [
    "# 3. disclaimers/signatures/etc"
   ]
  },
  {
   "cell_type": "markdown",
   "id": "d1071b4b",
   "metadata": {},
   "source": [
    "Can avoid re-run Nicolo's code by loading directly \"clean_emails_Nicolo_2.csv\""
   ]
  },
  {
   "cell_type": "code",
   "execution_count": 125,
   "id": "9e0d7b2a",
   "metadata": {},
   "outputs": [],
   "source": [
    "df= pd.read_csv(r'C:\\Users\\p_uli\\Desktop\\Columbia University\\Cursos\\Fall 22\\Capstone\\Data\\Data splitted.csv')\n",
    "nicolo=pd.read_csv(r'C:\\Users\\p_uli\\Desktop\\Columbia University\\Cursos\\Fall 22\\Capstone\\Data\\clean_emails_Nicolo_2.csv')"
   ]
  },
  {
   "cell_type": "code",
   "execution_count": 126,
   "id": "5a8b521c",
   "metadata": {},
   "outputs": [],
   "source": [
    "df.dropna(subset=['email'], inplace=True)"
   ]
  },
  {
   "cell_type": "code",
   "execution_count": 127,
   "id": "aea82f8c",
   "metadata": {},
   "outputs": [],
   "source": [
    "import pandas as pd\n",
    "#df=pd.read_csv('complete_data.csv')\n",
    "#df=pd.read_csv('split_threads (1).csv')\n",
    "# stopped=pd.read_csv('clean_emails_Nicolo.csv')\n",
    "from names_dataset import NameDataset, NameWrapper\n",
    "names=NameDataset()\n",
    "def detect_name(string, r = 5000, c = 3):\n",
    "    '''\n",
    "    Function that returns True if the provided string contains a name (for US present in top 3 countries)\n",
    "    r: Minimum position in the ranking of popular names/last names in the US\n",
    "    c: Minimum ranking of popularity of the word as a name/last name in the US\n",
    "    '''\n",
    "    words = string.split(\" \")\n",
    "    l = False\n",
    "    for w in words:\n",
    "\n",
    "        x = names.search(w)['first_name']\n",
    "        if x is None:# word not found in names dictionary\n",
    "            f = False\n",
    "        elif x['rank']['United States'] is None:# Name no frequent in US\n",
    "            f = False\n",
    "        elif x['rank']['United States'] > r:# Name unfrequent in US \n",
    "            f = False\n",
    "        else:\n",
    "            y = x['country']\n",
    "            countries_first_name = list({k: v for k, v in sorted(y.items(), key=lambda item: item[1], reverse = True)}.keys())[0:c]\n",
    "            f = 'United States' in countries_first_name\n",
    "        \n",
    "        x = names.search(w)['last_name']\n",
    "        if x is None:# word not found in names dictionary\n",
    "            p = False\n",
    "        elif x['rank']['United States'] is None:# Last name no frequent in US\n",
    "            p = False\n",
    "        elif x['rank']['United States'] > r:# Last name unfrequent in US \n",
    "            p = False\n",
    "        else:\n",
    "            y = x['country']\n",
    "            countries_last_name = list({k: v for k, v in sorted(y.items(), key=lambda item: item[1], reverse = True)}.keys())[0:c]\n",
    "            p = 'United States' in countries_last_name     \n",
    "        \n",
    "        l = l | ( f | p )\n",
    "    return l"
   ]
  },
  {
   "cell_type": "code",
   "execution_count": 128,
   "id": "0c596899",
   "metadata": {},
   "outputs": [
    {
     "name": "stderr",
     "output_type": "stream",
     "text": [
      "450307it [44:24, 169.03it/s] \n"
     ]
    }
   ],
   "source": [
    "salutations=[\n",
    "'My Best',\n",
    "'My best to you',\n",
    "'Have a nice day',\n",
    "'Hope your day is going well',\n",
    "'Faithfully',\n",
    "'All Best' ,\n",
    "'All the best',\n",
    "'Best Wishes',\n",
    "'Bests',\n",
    "'Best Regards',\n",
    "'Regards',\n",
    "'Rgds',\n",
    "'Warm Regards',\n",
    "'Warmest Regards',\n",
    "'Warmest',\n",
    "'Warmly',\n",
    "'Take care',\n",
    "'Thanks',\n",
    "'Thanks so much',\n",
    "'Thanks!',\n",
    "'Thank you',\n",
    "'Thank you!',\n",
    "'Thanks a bunch',\n",
    "'Many thanks',\n",
    "'Thanks for your consideration',\n",
    "'Thx',\n",
    "'Hope this helps',\n",
    "'Looking forward',\n",
    "'Rushing',\n",
    "'In haste',\n",
    "'Be well',\n",
    "'Peace',\n",
    "'Yours Truly',\n",
    "'Yours',\n",
    "'Very Truly Yours',\n",
    "'Sincerely',\n",
    "'Sincerely Yours',\n",
    "'Cheers!',\n",
    "'faithfully'\n",
    "'Ciao',\n",
    "'Love',\n",
    "'Lots of love',\n",
    "'Hugs',\n",
    "'High five from down low',\n",
    "'Take it easy bro',\n",
    "'See you around',\n",
    "'Have a wonderful bountiful lustful day',\n",
    "'Sent from my iPhone',\n",
    "'Sent from iOS']\n",
    "#list of common salutations\n",
    "from tqdm import tqdm\n",
    "from difflib import SequenceMatcher\n",
    "#function that tells us how similar two strings are similar\n",
    "def similar(a, b):\n",
    "    return SequenceMatcher(None, a, b).ratio()\n",
    "c=False\n",
    "counter=0\n",
    "rest=[]\n",
    "words=[]\n",
    "em=[]\n",
    "se=[]\n",
    "way=[]\n",
    "prev=[]\n",
    "indexes=[]\n",
    "dete=[]\n",
    "for index,row in tqdm(df.iterrows()):\n",
    "    #split the body in line\n",
    "    body=row['email'].split('\\n')\n",
    "    #check if the body is at least three (could be avoided in this case)\n",
    "    if len(body)>3:\n",
    "        #for line in the body \n",
    "        for j,line in enumerate(body):\n",
    "            #if we are in the bottom half of the email we go forth. Assumption: salutation are in the bottom half\n",
    "            if j>(1.5*len(body))/3:\n",
    "                #if the line is less than 4 items, (probably a salutation) and the previous line is empty\n",
    "                #and body[j-1]=='':\n",
    "                if len(line.split())<=4:\n",
    "                    s = ''.join(filter(str.isalnum, line))\n",
    "                    for item in salutations:\n",
    "                        #we wliminate anything that is punctuation or not letters,/numbers\n",
    "                        #we get the similarity for each item in the salutation list. If we get good score we go on\n",
    "                        if similar(s.lower(),item.lower())>0.65 and row['email_id'] not in rest:\n",
    "                            #code for checking any len(3) salutation\n",
    "                            #let's count how many email have this salutatiion\n",
    "                            counter+=1\n",
    "                            em.append(row['email'])\n",
    "                            rest.append(row['email_id'])\n",
    "                            indexes.append(j)\n",
    "                            se.append(s)\n",
    "                            way.append('salutation')\n",
    "                            dete.append(item)\n",
    "                            #let's get the word that triggered our salutation to compare\n",
    "                            words.append(s.lower()+'--------->'+item.lower())\n",
    "                            #Early stopping system to avoid  (change index for early stopping)\n",
    "                            if counter==100000000 or index>5111000:\n",
    "                                c=True\n",
    "                    for item_word in line.split():\n",
    "                        if item_word[0].isupper() and item_word[1:].islower():\n",
    "                            try:\n",
    "                                if detect_name(item_word) and row['email_id'] not in rest:\n",
    "                                    counter+=1\n",
    "                                    em.append(row['email'])\n",
    "                                    rest.append(row['email_id'])\n",
    "                                    indexes.append(j)\n",
    "                                    se.append(s)\n",
    "                                    dete.append(item_word)\n",
    "                                    way.append('name search')\n",
    "                            except:\n",
    "                                #print('error')\n",
    "                                continue\n",
    "        if c==True:\n",
    "            break "
   ]
  },
  {
   "cell_type": "code",
   "execution_count": 168,
   "id": "106ac7ce",
   "metadata": {},
   "outputs": [],
   "source": [
    "# get the clean emails\n",
    "cleaned_em=[]\n",
    "\n",
    "for i in range(len(em)):\n",
    "    cleaned_em.append(' '.join(em[i].split(\"\\n\")[:indexes[i]]))\n"
   ]
  },
  {
   "cell_type": "code",
   "execution_count": 182,
   "id": "362a5a18",
   "metadata": {},
   "outputs": [],
   "source": [
    "nicolo= {'email_id':rest,'email':cleaned_em}\n",
    "nicolo= pd.DataFrame(nicolo)"
   ]
  },
  {
   "cell_type": "code",
   "execution_count": 183,
   "id": "9f06b55a",
   "metadata": {},
   "outputs": [],
   "source": [
    "nicolo=pd.merge(nicolo, df[['email_id','subject']],how='left')\n",
    "nicolo=nicolo[['email_id','subject','email']]\n"
   ]
  },
  {
   "cell_type": "code",
   "execution_count": 181,
   "id": "7f0fac98",
   "metadata": {},
   "outputs": [],
   "source": [
    "#clean.to_csv(r'C:\\Users\\p_uli\\Desktop\\Columbia University\\Cursos\\Fall 22\\Capstone\\Data\\clean_emails_Nicolo_2.csv',index=False)"
   ]
  },
  {
   "cell_type": "code",
   "execution_count": 188,
   "id": "6745d6ac",
   "metadata": {},
   "outputs": [],
   "source": [
    "df = df[~df.email_id.isin(nicolo.email_id)]"
   ]
  },
  {
   "cell_type": "code",
   "execution_count": 189,
   "id": "6cb58eb8",
   "metadata": {},
   "outputs": [],
   "source": [
    "df=pd.concat([df,nicolo.iloc[:,1:4]])"
   ]
  },
  {
   "cell_type": "code",
   "execution_count": 191,
   "id": "34854326",
   "metadata": {},
   "outputs": [],
   "source": [
    "df.to_csv(r'C:\\Users\\p_uli\\Desktop\\Columbia University\\Cursos\\Fall 22\\Capstone\\Data\\Data splitted_no_disc.csv',index=False)"
   ]
  },
  {
   "cell_type": "markdown",
   "id": "e1508d92",
   "metadata": {},
   "source": [
    "# 4. Mask names"
   ]
  },
  {
   "cell_type": "code",
   "execution_count": 87,
   "id": "1c089fa6",
   "metadata": {},
   "outputs": [],
   "source": [
    "#data= pd.read_csv(r'C:\\Users\\p_uli\\Desktop\\Columbia University\\Cursos\\Fall 22\\Capstone\\Data\\Data splitted_no_disc.csv')"
   ]
  },
  {
   "cell_type": "code",
   "execution_count": 88,
   "id": "f8a72005",
   "metadata": {},
   "outputs": [],
   "source": [
    "# removing blank emails\n",
    "data['email'] = data['email'].str.strip()\n",
    "data['email'].replace('', np.nan, inplace=True)\n",
    "# drop NAs\n",
    "data.dropna(subset=['email'], inplace=True)"
   ]
  },
  {
   "cell_type": "code",
   "execution_count": 89,
   "id": "30c98a23",
   "metadata": {},
   "outputs": [],
   "source": [
    "nlp = spacy.load('en_core_web_sm')\n",
    "nlp.add_pipe(\"merge_entities\")\n",
    "\n",
    "def get_ner(text):\n",
    "    doc = nlp(text)\n",
    "    return \" \".join(['YYYYYY' if t.ent_type_ and t.ent_type_ == 'PERSON' else t.text for t in doc])\n"
   ]
  },
  {
   "cell_type": "code",
   "execution_count": 113,
   "id": "9dbe077c",
   "metadata": {},
   "outputs": [
    {
     "name": "stdout",
     "output_type": "stream",
     "text": [
      "email_id                         dorland-c\\deleted_items\\20#1\n",
      "subject                  Returned Mail: Error During Delivery\n",
      "email       ------ Here is your List of Failed Recipients ...\n",
      "Name: 72760, dtype: object\n"
     ]
    }
   ],
   "source": [
    "for i in range(data.shape[0]):\n",
    "    \n",
    "    if len(data['email'].iloc[i])==2011422:\n",
    "        print(data.iloc[i])"
   ]
  },
  {
   "cell_type": "code",
   "execution_count": 97,
   "id": "c3a8c781",
   "metadata": {},
   "outputs": [
    {
     "data": {
      "text/plain": [
       "82"
      ]
     },
     "execution_count": 97,
     "metadata": {},
     "output_type": "execute_result"
    }
   ],
   "source": [
    "len(data['email'][67335])"
   ]
  },
  {
   "cell_type": "code",
   "execution_count": 192,
   "id": "cd214e87",
   "metadata": {},
   "outputs": [],
   "source": [
    "#data['email']=data['email'].apply(get_ner)"
   ]
  },
  {
   "cell_type": "code",
   "execution_count": null,
   "id": "56739f47",
   "metadata": {},
   "outputs": [],
   "source": [
    "data.to_csv(r'C:\\Users\\p_uli\\Desktop\\Columbia University\\Cursos\\Fall 22\\Capstone\\Data\\Data masked.csv')"
   ]
  },
  {
   "cell_type": "code",
   "execution_count": null,
   "id": "60cf3f37",
   "metadata": {},
   "outputs": [],
   "source": []
  }
 ],
 "metadata": {
  "kernelspec": {
   "display_name": "Python 3 (ipykernel)",
   "language": "python",
   "name": "python3"
  },
  "language_info": {
   "codemirror_mode": {
    "name": "ipython",
    "version": 3
   },
   "file_extension": ".py",
   "mimetype": "text/x-python",
   "name": "python",
   "nbconvert_exporter": "python",
   "pygments_lexer": "ipython3",
   "version": "3.9.7"
  }
 },
 "nbformat": 4,
 "nbformat_minor": 5
}
