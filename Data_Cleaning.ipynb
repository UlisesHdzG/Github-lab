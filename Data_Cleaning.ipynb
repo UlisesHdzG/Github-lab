{
 "cells": [
  {
   "cell_type": "markdown",
   "id": "gYyW2OuDJqS8",
   "metadata": {
    "id": "gYyW2OuDJqS8"
   },
   "source": [
    "# Text Data Cleaning"
   ]
  },
  {
   "cell_type": "code",
   "execution_count": 2,
   "id": "4ac47461",
   "metadata": {},
   "outputs": [],
   "source": [
    "import os\n",
    "import glob\n",
    "import email\n",
    "import time\n",
    "import numpy as np\n",
    "import matplotlib.pyplot as plt\n",
    "%matplotlib inline\n",
    "from nltk.corpus import stopwords\n",
    "from nltk import word_tokenize, sent_tokenize\n",
    "from nltk.tokenize import word_tokenize\n",
    "from nltk.tokenize import sent_tokenize\n",
    "from nltk.stem import WordNetLemmatizer \n",
    "import string\n",
    "import re\n",
    "import nltk\n",
    "import pandas as pd"
   ]
  },
  {
   "cell_type": "code",
   "execution_count": 3,
   "id": "54b8836b",
   "metadata": {},
   "outputs": [],
   "source": [
    "data_path = 'G:/.shortcut-targets-by-id/1pETyus-Qcj5yhAtbMb9lnWPa53WjHhHB/Capstone Project/split_data'"
   ]
  },
  {
   "cell_type": "code",
   "execution_count": 4,
   "id": "lSDMpJj4oN7w",
   "metadata": {
    "colab": {
     "base_uri": "https://localhost:8080/"
    },
    "id": "lSDMpJj4oN7w",
    "outputId": "5e402934-1ef7-4179-aa67-b38a95357d12"
   },
   "outputs": [],
   "source": [
    "# df = pd.read_csv(data_path+\"/split_threads.csv\")\n",
    "df = pd.read_csv(data_path+\"/clean_emails_Nicolo.csv\")"
   ]
  },
  {
   "cell_type": "code",
   "execution_count": 5,
   "id": "6f40597b",
   "metadata": {
    "scrolled": true
   },
   "outputs": [
    {
     "data": {
      "text/plain": [
       "(123320, 5)"
      ]
     },
     "execution_count": 5,
     "metadata": {},
     "output_type": "execute_result"
    }
   ],
   "source": [
    "df.shape"
   ]
  },
  {
   "cell_type": "code",
   "execution_count": 6,
   "id": "8be87752",
   "metadata": {},
   "outputs": [
    {
     "data": {
      "text/plain": [
       "(472970, 4)"
      ]
     },
     "execution_count": 6,
     "metadata": {},
     "output_type": "execute_result"
    }
   ],
   "source": [
    "df_full = pd.read_csv(data_path+\"/split_threads.csv\")\n",
    "df_full.shape"
   ]
  },
  {
   "cell_type": "code",
   "execution_count": 7,
   "id": "1a491502",
   "metadata": {},
   "outputs": [
    {
     "data": {
      "text/plain": [
       "(349650, 4)"
      ]
     },
     "execution_count": 7,
     "metadata": {},
     "output_type": "execute_result"
    }
   ],
   "source": [
    "df_full = df_full[~df_full.email_id.isin(df.email_id)]\n",
    "df_full.shape"
   ]
  },
  {
   "cell_type": "code",
   "execution_count": 8,
   "id": "0a4c5794",
   "metadata": {},
   "outputs": [
    {
     "data": {
      "text/plain": [
       "(472970, 4)"
      ]
     },
     "execution_count": 8,
     "metadata": {},
     "output_type": "execute_result"
    }
   ],
   "source": [
    "# Join of cleaned emails in Nocolo with the others\n",
    "df_full = df_full.append(df.iloc[:,0:4])\n",
    "df_full.shape"
   ]
  },
  {
   "cell_type": "code",
   "execution_count": 9,
   "id": "e900ddf6",
   "metadata": {},
   "outputs": [],
   "source": [
    "df = df_full"
   ]
  },
  {
   "cell_type": "code",
   "execution_count": 10,
   "id": "456349c5",
   "metadata": {},
   "outputs": [
    {
     "data": {
      "text/plain": [
       "(364186, 4)"
      ]
     },
     "execution_count": 10,
     "metadata": {},
     "output_type": "execute_result"
    }
   ],
   "source": [
    "df = df.dropna(subset=['email']).drop_duplicates(subset=['subject', 'email'])\n",
    "df.shape"
   ]
  },
  {
   "cell_type": "code",
   "execution_count": 11,
   "id": "askrQJduaSOy",
   "metadata": {
    "id": "askrQJduaSOy"
   },
   "outputs": [],
   "source": [
    "# nltk.download('all')"
   ]
  },
  {
   "cell_type": "code",
   "execution_count": 12,
   "id": "0391a3e4",
   "metadata": {},
   "outputs": [],
   "source": [
    "def urls(text):\n",
    "    if str(text)=='nan':\n",
    "        # print\n",
    "        return ''\n",
    "    wordlist=[]\n",
    "    # print(text)\n",
    "    sentences=sent_tokenize(text)\n",
    "    for sentence in sentences:\n",
    "        words=word_tokenize(sentence)\n",
    "        for word in words:\n",
    "            if 'http' in word:\n",
    "                wordlist.append('webpage')\n",
    "            else:\n",
    "                wordlist.append(word)            \n",
    "            \n",
    "    return ' '.join(wordlist) "
   ]
  },
  {
   "cell_type": "code",
   "execution_count": 13,
   "id": "7HiiyB7sYzkj",
   "metadata": {
    "id": "7HiiyB7sYzkj"
   },
   "outputs": [],
   "source": [
    "def lemmatize_text(text):\n",
    "    if str(text)=='nan':\n",
    "        # print\n",
    "        return ''\n",
    "    wordlist=[]\n",
    "    lemmatizer = WordNetLemmatizer() \n",
    "    # print(text)\n",
    "    sentences=sent_tokenize(text)\n",
    "    for sentence in sentences:\n",
    "        words=word_tokenize(sentence)\n",
    "        for word in words:\n",
    "            wordlist.append(lemmatizer.lemmatize(word))\n",
    "    return ' '.join(wordlist) "
   ]
  },
  {
   "cell_type": "code",
   "execution_count": 14,
   "id": "OoQruou2Yxv2",
   "metadata": {
    "id": "OoQruou2Yxv2"
   },
   "outputs": [],
   "source": [
    "def remove_Stopwords(text):\n",
    "    if text=='nan':\n",
    "        return\n",
    "    stop_words = set(stopwords.words('english'))\n",
    "    words = word_tokenize(text.lower())\n",
    "    sentence = [w.replace('\\n',\"\") for w in words if not w in stop_words]\n",
    "    return \" \".join(sentence)"
   ]
  },
  {
   "cell_type": "code",
   "execution_count": 15,
   "id": "vaiSdbAQY1fe",
   "metadata": {
    "id": "vaiSdbAQY1fe"
   },
   "outputs": [],
   "source": [
    "def clean_text(text): \n",
    "    if text=='nan':\n",
    "        return\n",
    "    delete_dict = {sp_character: '' for sp_character in string.punctuation} \n",
    "    delete_dict[' '] = ' ' \n",
    "    table = str.maketrans(delete_dict)\n",
    "    text1 = text.translate(table)\n",
    "    textArr= text1.split()\n",
    "    text2 = ' '.join([w for w in textArr]) \n",
    "    return text2.lower()"
   ]
  },
  {
   "cell_type": "code",
   "execution_count": 18,
   "id": "c2cb53a0",
   "metadata": {},
   "outputs": [],
   "source": [
    "def clean_rest(text):\n",
    "    t = text.replace(' s ', ' ').replace(' m ', ' ').replace(' e ', ' ').replace(' a ', ' ').replace(' 0909 ', ' ').replace(' 20 ', ' ').replace(' =20 ', ' ')\n",
    "    words = word_tokenize(t)\n",
    "    t = [w for w in words if ( len(w)>2 and w!='webpage' ) ]\n",
    "    return ' '.join(t)"
   ]
  },
  {
   "cell_type": "code",
   "execution_count": 19,
   "id": "FtlFCU4kZsmx",
   "metadata": {
    "id": "FtlFCU4kZsmx"
   },
   "outputs": [],
   "source": [
    "df['clean_body'] = df.email\n",
    "df['clean_body'] = df['clean_body'].apply(urls).apply(lemmatize_text).apply(remove_Stopwords).apply(clean_text).apply(clean_rest)"
   ]
  },
  {
   "cell_type": "code",
   "execution_count": 20,
   "id": "62XeM-E7gcnu",
   "metadata": {
    "id": "62XeM-E7gcnu"
   },
   "outputs": [],
   "source": [
    "df['clean_subject'] = df.subject\n",
    "df['clean_subject'] = df['clean_subject'].apply(urls).apply(lemmatize_text).apply(remove_Stopwords).apply(clean_text).apply(clean_rest)"
   ]
  },
  {
   "cell_type": "code",
   "execution_count": 21,
   "id": "7ef2d67d",
   "metadata": {},
   "outputs": [],
   "source": [
    "df = df.dropna(subset=['clean_body'])"
   ]
  },
  {
   "cell_type": "code",
   "execution_count": 22,
   "id": "c6681ceb",
   "metadata": {},
   "outputs": [
    {
     "data": {
      "text/plain": [
       "(364186, 6)"
      ]
     },
     "execution_count": 22,
     "metadata": {},
     "output_type": "execute_result"
    }
   ],
   "source": [
    "df.shape"
   ]
  },
  {
   "cell_type": "code",
   "execution_count": null,
   "id": "f59e1259",
   "metadata": {},
   "outputs": [],
   "source": [
    "# Function to address points"
   ]
  },
  {
   "cell_type": "code",
   "execution_count": 23,
   "id": "84ca4624",
   "metadata": {},
   "outputs": [],
   "source": [
    "#df['clean_body'] = df['clean_body'].apply(str).apply(clean_rest)\n",
    "#df['clean_subject'] = df['clean_subject'].apply(str).apply(clean_rest)\n",
    "df.to_csv(\"C:/Users/apere/Desktop/Data_Capstone/data_splited_3.csv\")"
   ]
  },
  {
   "cell_type": "code",
   "execution_count": 25,
   "id": "8e9fbc26",
   "metadata": {},
   "outputs": [
    {
     "data": {
      "text/plain": [
       "(364186, 6)"
      ]
     },
     "execution_count": 25,
     "metadata": {},
     "output_type": "execute_result"
    }
   ],
   "source": [
    "df.shape"
   ]
  },
  {
   "cell_type": "code",
   "execution_count": null,
   "id": "ac0113e5",
   "metadata": {},
   "outputs": [],
   "source": []
  }
 ],
 "metadata": {
  "kernelspec": {
   "display_name": "Python 3 (ipykernel)",
   "language": "python",
   "name": "python3"
  },
  "language_info": {
   "codemirror_mode": {
    "name": "ipython",
    "version": 3
   },
   "file_extension": ".py",
   "mimetype": "text/x-python",
   "name": "python",
   "nbconvert_exporter": "python",
   "pygments_lexer": "ipython3",
   "version": "3.9.7"
  }
 },
 "nbformat": 4,
 "nbformat_minor": 5
}
