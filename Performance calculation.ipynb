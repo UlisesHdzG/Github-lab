{
 "cells": [
  {
   "cell_type": "markdown",
   "id": "c59bb471",
   "metadata": {},
   "source": [
    "# Final Code"
   ]
  },
  {
   "cell_type": "code",
   "execution_count": 1,
   "id": "2f4c6a55",
   "metadata": {},
   "outputs": [],
   "source": [
    "import pandas as pd\n",
    "import numpy as np\n",
    "from sklearn.metrics import accuracy_score, f1_score,  precision_score, recall_score, confusion_matrix,ConfusionMatrixDisplay\n",
    "import matplotlib.pyplot as plt"
   ]
  },
  {
   "cell_type": "code",
   "execution_count": 2,
   "id": "e23fc12e",
   "metadata": {},
   "outputs": [],
   "source": [
    "# importing labeld data\n",
    "df=pd.read_csv(r'C:\\Users\\p_uli\\Desktop\\Columbia University\\Cursos\\Fall 22\\Capstone\\Data\\split_threads_sample_anotated.csv')"
   ]
  },
  {
   "cell_type": "code",
   "execution_count": 3,
   "id": "68fdbd22",
   "metadata": {},
   "outputs": [
    {
     "data": {
      "text/html": [
       "<div>\n",
       "<style scoped>\n",
       "    .dataframe tbody tr th:only-of-type {\n",
       "        vertical-align: middle;\n",
       "    }\n",
       "\n",
       "    .dataframe tbody tr th {\n",
       "        vertical-align: top;\n",
       "    }\n",
       "\n",
       "    .dataframe thead th {\n",
       "        text-align: right;\n",
       "    }\n",
       "</style>\n",
       "<table border=\"1\" class=\"dataframe\">\n",
       "  <thead>\n",
       "    <tr style=\"text-align: right;\">\n",
       "      <th></th>\n",
       "      <th>email_id</th>\n",
       "      <th>subject</th>\n",
       "      <th>email</th>\n",
       "      <th>has_table</th>\n",
       "      <th>has_disclaimer</th>\n",
       "      <th>has_signature</th>\n",
       "    </tr>\n",
       "  </thead>\n",
       "  <tbody>\n",
       "    <tr>\n",
       "      <th>0</th>\n",
       "      <td>kitchen-l\\sent_items\\1659#2</td>\n",
       "      <td>Fw: model, files and apps</td>\n",
       "      <td>#NAME?</td>\n",
       "      <td>0</td>\n",
       "      <td>0</td>\n",
       "      <td>0</td>\n",
       "    </tr>\n",
       "    <tr>\n",
       "      <th>1</th>\n",
       "      <td>maggi-m\\deleted_items\\491#6</td>\n",
       "      <td>\\tRE:</td>\n",
       "      <td>no she doesnt, ready?</td>\n",
       "      <td>0</td>\n",
       "      <td>0</td>\n",
       "      <td>0</td>\n",
       "    </tr>\n",
       "    <tr>\n",
       "      <th>2</th>\n",
       "      <td>love-p\\all_documents\\244#1</td>\n",
       "      <td>Re: Things that mess with your mind</td>\n",
       "      <td>You finally win a game and you think your team...</td>\n",
       "      <td>0</td>\n",
       "      <td>0</td>\n",
       "      <td>0</td>\n",
       "    </tr>\n",
       "    <tr>\n",
       "      <th>3</th>\n",
       "      <td>watson-k\\inbox\\103#1</td>\n",
       "      <td>\\tReliant Energy Services, Inc., Contract #268...</td>\n",
       "      <td>CAPACITY REQUESTED\\n\\nAmendment #17\\n\\nSHIPPER...</td>\n",
       "      <td>1</td>\n",
       "      <td>0</td>\n",
       "      <td>0</td>\n",
       "    </tr>\n",
       "    <tr>\n",
       "      <th>4</th>\n",
       "      <td>sager-e\\all_documents\\1296#1</td>\n",
       "      <td>TVA letter</td>\n",
       "      <td>NaN</td>\n",
       "      <td>0</td>\n",
       "      <td>0</td>\n",
       "      <td>0</td>\n",
       "    </tr>\n",
       "  </tbody>\n",
       "</table>\n",
       "</div>"
      ],
      "text/plain": [
       "                       email_id  \\\n",
       "0   kitchen-l\\sent_items\\1659#2   \n",
       "1   maggi-m\\deleted_items\\491#6   \n",
       "2    love-p\\all_documents\\244#1   \n",
       "3          watson-k\\inbox\\103#1   \n",
       "4  sager-e\\all_documents\\1296#1   \n",
       "\n",
       "                                             subject  \\\n",
       "0                          Fw: model, files and apps   \n",
       "1                                             \\tRE:    \n",
       "2                Re: Things that mess with your mind   \n",
       "3  \\tReliant Energy Services, Inc., Contract #268...   \n",
       "4                                         TVA letter   \n",
       "\n",
       "                                               email  has_table  \\\n",
       "0                                             #NAME?          0   \n",
       "1                              no she doesnt, ready?          0   \n",
       "2  You finally win a game and you think your team...          0   \n",
       "3  CAPACITY REQUESTED\\n\\nAmendment #17\\n\\nSHIPPER...          1   \n",
       "4                                                NaN          0   \n",
       "\n",
       "   has_disclaimer  has_signature  \n",
       "0               0              0  \n",
       "1               0              0  \n",
       "2               0              0  \n",
       "3               0              0  \n",
       "4               0              0  "
      ]
     },
     "execution_count": 3,
     "metadata": {},
     "output_type": "execute_result"
    }
   ],
   "source": [
    "df.head()"
   ]
  },
  {
   "cell_type": "code",
   "execution_count": 4,
   "id": "05862388",
   "metadata": {},
   "outputs": [],
   "source": [
    "df['email'].replace('', np.nan, inplace=True)\n",
    "df.dropna(subset=['email'], inplace=True)"
   ]
  },
  {
   "cell_type": "code",
   "execution_count": 5,
   "id": "bdf32b66",
   "metadata": {},
   "outputs": [
    {
     "data": {
      "text/plain": [
       "(290, 6)"
      ]
     },
     "execution_count": 5,
     "metadata": {},
     "output_type": "execute_result"
    }
   ],
   "source": [
    "df.shape"
   ]
  },
  {
   "cell_type": "code",
   "execution_count": 6,
   "id": "eb60587c",
   "metadata": {},
   "outputs": [
    {
     "data": {
      "text/html": [
       "<div>\n",
       "<style scoped>\n",
       "    .dataframe tbody tr th:only-of-type {\n",
       "        vertical-align: middle;\n",
       "    }\n",
       "\n",
       "    .dataframe tbody tr th {\n",
       "        vertical-align: top;\n",
       "    }\n",
       "\n",
       "    .dataframe thead th {\n",
       "        text-align: right;\n",
       "    }\n",
       "</style>\n",
       "<table border=\"1\" class=\"dataframe\">\n",
       "  <thead>\n",
       "    <tr style=\"text-align: right;\">\n",
       "      <th></th>\n",
       "      <th>email_id</th>\n",
       "      <th>subject</th>\n",
       "      <th>email</th>\n",
       "      <th>has_table</th>\n",
       "      <th>has_disclaimer</th>\n",
       "      <th>has_signature</th>\n",
       "    </tr>\n",
       "  </thead>\n",
       "  <tbody>\n",
       "    <tr>\n",
       "      <th>0</th>\n",
       "      <td>kitchen-l\\sent_items\\1659#2</td>\n",
       "      <td>Fw: model, files and apps</td>\n",
       "      <td>#NAME?</td>\n",
       "      <td>0</td>\n",
       "      <td>0</td>\n",
       "      <td>0</td>\n",
       "    </tr>\n",
       "    <tr>\n",
       "      <th>1</th>\n",
       "      <td>maggi-m\\deleted_items\\491#6</td>\n",
       "      <td>\\tRE:</td>\n",
       "      <td>no she doesnt, ready?</td>\n",
       "      <td>0</td>\n",
       "      <td>0</td>\n",
       "      <td>0</td>\n",
       "    </tr>\n",
       "    <tr>\n",
       "      <th>2</th>\n",
       "      <td>love-p\\all_documents\\244#1</td>\n",
       "      <td>Re: Things that mess with your mind</td>\n",
       "      <td>You finally win a game and you think your team...</td>\n",
       "      <td>0</td>\n",
       "      <td>0</td>\n",
       "      <td>0</td>\n",
       "    </tr>\n",
       "    <tr>\n",
       "      <th>3</th>\n",
       "      <td>watson-k\\inbox\\103#1</td>\n",
       "      <td>\\tReliant Energy Services, Inc., Contract #268...</td>\n",
       "      <td>CAPACITY REQUESTED\\n\\nAmendment #17\\n\\nSHIPPER...</td>\n",
       "      <td>1</td>\n",
       "      <td>0</td>\n",
       "      <td>0</td>\n",
       "    </tr>\n",
       "    <tr>\n",
       "      <th>5</th>\n",
       "      <td>scott-s\\all_documents\\1391#1</td>\n",
       "      <td>A.Word.A.Day--abjure</td>\n",
       "      <td>abjure (ab-JOOR) verb tr.\\n\\n   1. To renounce...</td>\n",
       "      <td>0</td>\n",
       "      <td>0</td>\n",
       "      <td>0</td>\n",
       "    </tr>\n",
       "  </tbody>\n",
       "</table>\n",
       "</div>"
      ],
      "text/plain": [
       "                       email_id  \\\n",
       "0   kitchen-l\\sent_items\\1659#2   \n",
       "1   maggi-m\\deleted_items\\491#6   \n",
       "2    love-p\\all_documents\\244#1   \n",
       "3          watson-k\\inbox\\103#1   \n",
       "5  scott-s\\all_documents\\1391#1   \n",
       "\n",
       "                                             subject  \\\n",
       "0                          Fw: model, files and apps   \n",
       "1                                             \\tRE:    \n",
       "2                Re: Things that mess with your mind   \n",
       "3  \\tReliant Energy Services, Inc., Contract #268...   \n",
       "5                               A.Word.A.Day--abjure   \n",
       "\n",
       "                                               email  has_table  \\\n",
       "0                                             #NAME?          0   \n",
       "1                              no she doesnt, ready?          0   \n",
       "2  You finally win a game and you think your team...          0   \n",
       "3  CAPACITY REQUESTED\\n\\nAmendment #17\\n\\nSHIPPER...          1   \n",
       "5  abjure (ab-JOOR) verb tr.\\n\\n   1. To renounce...          0   \n",
       "\n",
       "   has_disclaimer  has_signature  \n",
       "0               0              0  \n",
       "1               0              0  \n",
       "2               0              0  \n",
       "3               0              0  \n",
       "5               0              0  "
      ]
     },
     "execution_count": 6,
     "metadata": {},
     "output_type": "execute_result"
    }
   ],
   "source": [
    "df.head()"
   ]
  },
  {
   "cell_type": "code",
   "execution_count": 7,
   "id": "d3ef2004",
   "metadata": {},
   "outputs": [],
   "source": [
    "df.reset_index(drop=True,inplace=True)"
   ]
  },
  {
   "cell_type": "markdown",
   "id": "5cedf0d2",
   "metadata": {},
   "source": [
    "## Code for signature detection"
   ]
  },
  {
   "cell_type": "code",
   "execution_count": 8,
   "id": "91c2f064",
   "metadata": {},
   "outputs": [
    {
     "name": "stderr",
     "output_type": "stream",
     "text": [
      "290it [00:00, 13276.74it/s]\n"
     ]
    }
   ],
   "source": [
    "from tqdm import tqdm\n",
    "import re\n",
    "import random\n",
    "l=[]\n",
    "for i in range(30):\n",
    "    n=random.randrange(1,6885)\n",
    "    l.append(n)\n",
    "result1=[]\n",
    "message1=[]\n",
    "c=0\n",
    "for index,row in tqdm(df.iterrows()):\n",
    "    #split the body in lines\n",
    "    body=row['email'].split('\\n')\n",
    "    #we want that the body is at least 3 lines, otherwise we assume no signature is in place\n",
    "    if len(body)>3:\n",
    "        #We chacke if there is an email sign, in case there is we parse the previous three lines every time\n",
    "        #the assumption is that the signature is at least long 3 lines and has a email symbol\n",
    "        if '@' in body[len(body)-1] or '@' in body[len(body)-2] or '@' in body[len(body)-3]:\n",
    "            #if we find the email symbol\n",
    "            counter=0\n",
    "            for i in range(1,4):\n",
    "                #we check all the past lines from the email sign we found (should be enhanced, perhaps the email is\n",
    "                #the first element in the signature, therefore we are not catching anything going back in. the lines)\n",
    "                current=body[len(body)-i].lower()\n",
    "                #we check if a line contains a phone number: 1 numerical string of 4 digits and 2 numerical strings of 3 digits\n",
    "                cond1=(re.search(\"\\d{4}\",current)!=None and re.search(\"\\d{3}\",current)==2)\n",
    "                #we check if the work 'fax' is present\n",
    "                cond2=('fax' in current.lower())\n",
    "                #we check that the message we are looking is not already labelled as a signed one in our result\n",
    "                cond3=row['email_id'] not in result1\n",
    "                #we check for the key word phone,cell, home in our line to see if there is any\n",
    "                cond4=('phone' in current or 'cell' in current or 'home' in current)\n",
    "                #if cond1,cond2,cond4 aare correct, then we increase the counter by 1\n",
    "                if cond1 or cond2 or cond4:\n",
    "                    counter+=1\n",
    "                    #if at least two of the conditions are correct and the email is not yet in the result we put the index\n",
    "                    #in our result (TO DO enhance)\n",
    "                    if counter>1 and cond3:\n",
    "                        result1.append(index)\n",
    "                        #this is a simple tool to visualize what body we labelled for choosinng a random sample\n",
    "                        if c in l:\n",
    "                            print(c)\n",
    "                            print('xxxxxxxxxxxxxxxxxxxxxx')\n",
    "                            print(row['email'])\n",
    "                            print('\\n\\n')\n",
    "                        #we append the message id to our message1 (result for the message id)\n",
    "                        message1.append(row['email_id'])\n",
    "                        c+=1 "
   ]
  },
  {
   "cell_type": "code",
   "execution_count": 18,
   "id": "9767d7c6",
   "metadata": {},
   "outputs": [
    {
     "data": {
      "text/plain": [
       "[11, 39, 68, 108, 139, 155, 184, 260, 269, 288]"
      ]
     },
     "execution_count": 18,
     "metadata": {},
     "output_type": "execute_result"
    }
   ],
   "source": [
    "result1"
   ]
  },
  {
   "cell_type": "code",
   "execution_count": 10,
   "id": "896a528a",
   "metadata": {},
   "outputs": [],
   "source": [
    "actual= df['has_signature']\n",
    "predicted= [1 if x in result1 else 0 for x in range(len(actual))]"
   ]
  },
  {
   "cell_type": "code",
   "execution_count": 11,
   "id": "ba9cd27e",
   "metadata": {},
   "outputs": [
    {
     "data": {
      "image/png": "[encoded data removed]",
      "text/plain": [
       "<Figure size 432x288 with 2 Axes>"
      ]
     },
     "metadata": {
      "needs_background": "light"
     },
     "output_type": "display_data"
    }
   ],
   "source": [
    "cf_matrix = confusion_matrix(actual, predicted)\n",
    "\n",
    "cm_display = ConfusionMatrixDisplay(confusion_matrix = cf_matrix, display_labels = [False, True])\n",
    "\n",
    "cm_display.plot()\n",
    "plt.show()"
   ]
  },
  {
   "cell_type": "code",
   "execution_count": 12,
   "id": "f144af84",
   "metadata": {},
   "outputs": [
    {
     "name": "stdout",
     "output_type": "stream",
     "text": [
      "Accuracy: 90.00%\n",
      "Precision: 100.00%\n",
      "Recall: 25.64%\n",
      "F1-score: 40.82%\n"
     ]
    }
   ],
   "source": [
    "# accuracy\n",
    "print('Accuracy: {:.2%}'.format(accuracy_score(actual, predicted)))\n",
    "\n",
    "# precision\n",
    "print('Precision: {:.2%}'.format(precision_score(actual, predicted)))\n",
    "\n",
    "# Recall\n",
    "print('Recall: {:.2%}'.format(recall_score(actual, predicted)))\n",
    "\n",
    "# F1\n",
    "print('F1-score: {:.2%}'.format(f1_score(actual, predicted)))"
   ]
  },
  {
   "cell_type": "markdown",
   "id": "2d8d1c44",
   "metadata": {},
   "source": [
    "## Code for name detection"
   ]
  },
  {
   "cell_type": "code",
   "execution_count": null,
   "id": "29511869",
   "metadata": {},
   "outputs": [],
   "source": [
    "from names_dataset import NameDataset, NameWrapper\n",
    "names=NameDataset()\n",
    "def detect_name(string, r = 5000, c = 3):\n",
    "    '''\n",
    "    Function that returns True if the provided string contains a name (for US present in top 3 countries)\n",
    "    r: Minimum position in the ranking of popular names/last names in the US\n",
    "    c: Minimum ranking of popularity of the word as a name/last name in the US\n",
    "    '''\n",
    "    words = string.split(\" \")\n",
    "    l = False\n",
    "    for w in words:\n",
    "\n",
    "        x = names.search(w)['first_name']\n",
    "        if x is None:# word not found in names dictionary\n",
    "            f = False\n",
    "        elif x['rank']['United States'] is None:# Name no frequent in US\n",
    "            f = False\n",
    "        elif x['rank']['United States'] > r:# Name unfrequent in US \n",
    "            f = False\n",
    "        else:\n",
    "            y = x['country']\n",
    "            countries_first_name = list({k: v for k, v in sorted(y.items(), key=lambda item: item[1], reverse = True)}.keys())[0:c]\n",
    "            f = 'United States' in countries_first_name\n",
    "        \n",
    "        x = names.search(w)['last_name']\n",
    "        if x is None:# word not found in names dictionary\n",
    "            p = False\n",
    "        elif x['rank']['United States'] is None:# Last name no frequent in US\n",
    "            p = False\n",
    "        elif x['rank']['United States'] > r:# Last name unfrequent in US \n",
    "            p = False\n",
    "        else:\n",
    "            y = x['country']\n",
    "            countries_last_name = list({k: v for k, v in sorted(y.items(), key=lambda item: item[1], reverse = True)}.keys())[0:c]\n",
    "            p = 'United States' in countries_last_name     \n",
    "        \n",
    "        l = l | ( f | p )\n",
    "    return l\n"
   ]
  },
  {
   "cell_type": "markdown",
   "id": "bda88362",
   "metadata": {},
   "source": [
    "## Code for salutation detection, To implement"
   ]
  },
  {
   "cell_type": "code",
   "execution_count": null,
   "id": "ad55b4cb",
   "metadata": {},
   "outputs": [],
   "source": [
    "salutations=[\n",
    "'My Best',\n",
    "'My best to you',\n",
    "'Have a nice day',\n",
    "'Hope your day is going well',\n",
    "'Faithfully',\n",
    "'All Best' ,\n",
    "'All the best',\n",
    "'Best Wishes',\n",
    "'Bests',\n",
    "'Best Regards',\n",
    "'Regards',\n",
    "'Rgds',\n",
    "'Warm Regards',\n",
    "'Warmest Regards',\n",
    "'Warmest',\n",
    "'Warmly',\n",
    "'Take care',\n",
    "'Thanks',\n",
    "'Thanks so much',\n",
    "'Thanks!',\n",
    "'Thank you',\n",
    "'Thank you!',\n",
    "'Many thanks',\n",
    "'Thanks for your consideration',\n",
    "'Thx',\n",
    "'Hope this helps',\n",
    "'Looking forward',\n",
    "'Rushing',\n",
    "'In haste',\n",
    "'Be well',\n",
    "'Peace',\n",
    "'Yours Truly',\n",
    "'Yours',\n",
    "'Very Truly Yours',\n",
    "'Sincerely',\n",
    "'Sincerely Yours',\n",
    "'Cheers!',\n",
    "'faithfully'\n",
    "'Ciao',\n",
    "'Love',\n",
    "'Lots of love',\n",
    "'Hugs',\n",
    "'High five from down low',\n",
    "'Take it easy bro',\n",
    "'See you around',\n",
    "'Have a wonderful bountiful lustful day',\n",
    "'Sent from my iPhone',\n",
    "'Sent from iOS']\n",
    "#list of common salutations\n",
    "from tqdm import tqdm\n",
    "from difflib import SequenceMatcher\n",
    "#function that tells us how similar two strings are similar\n",
    "def similar(a, b):\n",
    "    return SequenceMatcher(None, a, b).ratio()\n",
    "c=False\n",
    "counter=0\n",
    "rest=[]\n",
    "words=[]\n",
    "for index,row in tqdm(df.iterrows()):\n",
    "    #split the body in lines\n",
    "    body=row['body'].split('\\n')\n",
    "    #check if the body is at least three (could be avoided in this case)\n",
    "    if len(body)>3:\n",
    "        #for line in the body \n",
    "        for j,line in enumerate(body):\n",
    "            #if we are in the bottom half of the email we go forth. Assumption: salutation are in the bottom half\n",
    "            if j>(1.5*len(body))/3:\n",
    "                #if the line is less than 4 items, (probably a salutation) and the previous line is empty\n",
    "                if len(line.split())<=4 and body[j-1]=='':\n",
    "                    #for each word on the line\n",
    "                    for item_word in line.split():\n",
    "                        #we determine if there is a name (not necessary perhaps for the function)\n",
    "                        if detect_name(item_word):\n",
    "                            #if there is a name we check\n",
    "                            print(row['body'])\n",
    "                            print(item_word)\n",
    "                            #put line as test this works \n",
    "                    #for each item in salutation\n",
    "                    for item in salutations:\n",
    "                        #we wliminate anything that is punctuation or not letters,/numbers\n",
    "                        s = ''.join(filter(str.isalnum, line))\n",
    "                        #we get the similarity for each item in the salutation list. If we get good score we go on\n",
    "                        if similar(s.lower(),item.lower())>0.65:\n",
    "                            #code for checking any len(3) salutation\n",
    "                            if len(line.split())==3:\n",
    "                                    print(s)\n",
    "                                    print(similar(s.lower(),item.lower()))\n",
    "                                    print(line)\n",
    "                                    print(item.lower())\n",
    "                                    print(row['body'])\n",
    "                                    print(row['message_id'])\n",
    "                                    c=True\n",
    "                                    break\n",
    "                            #let's count how many email have this salutatiion\n",
    "                            counter+=1\n",
    "                            rest.append(row['message_id'])\n",
    "                            #let's get the word that triggered our salutation to compare\n",
    "                            words.append(s.lower()+'--------->'+item.lower())\n",
    "                            #Early stopping system to avoid  (change index for early stopping)\n",
    "                            if counter==100000000 or index>3000:\n",
    "                                c=True\n",
    "        if c==True:\n",
    "            break "
   ]
  },
  {
   "cell_type": "markdown",
   "id": "eda9c904",
   "metadata": {},
   "source": [
    "## Code for hyerarchical topic modeling"
   ]
  },
  {
   "cell_type": "code",
   "execution_count": null,
   "id": "bfac6753",
   "metadata": {},
   "outputs": [],
   "source": [
    "from bertopic import BERTopic\n",
    "from sklearn.datasets import fetch_20newsgroups\n",
    "\n",
    "docs = fetch_20newsgroups(subset='all',  remove=('headers', 'footers', 'quotes'))[\"data\"]\n",
    "topic_model = BERTopic(verbose=True)\n",
    "topics, probs = topic_model.fit_transform(docs)\n",
    "hierarchical_topics = topic_model.hierarchical_topics(docs)\n",
    "hierarchical_topics\n",
    "topic_model.visualize_hierarchy(hierarchical_topics=hierarchical_topics)"
   ]
  },
  {
   "cell_type": "markdown",
   "id": "9206eede",
   "metadata": {},
   "source": [
    "## Code for table detection"
   ]
  },
  {
   "cell_type": "code",
   "execution_count": null,
   "id": "bbfaa10a",
   "metadata": {},
   "outputs": [],
   "source": []
  },
  {
   "cell_type": "code",
   "execution_count": 26,
   "id": "941b487b",
   "metadata": {},
   "outputs": [
    {
     "name": "stderr",
     "output_type": "stream",
     "text": [
      "290it [00:00, 4575.61it/s]"
     ]
    },
    {
     "name": "stdout",
     "output_type": "stream",
     "text": [
      "dasovich-j\\all_documents\\3061#1\n",
      "[2, 7, 11, 16]\n",
      "[2, 7, 11, 16]\n",
      ">(650) 762 2800 main\n",
      ">(650) 762 2825 direct\n"
     ]
    },
    {
     "name": "stderr",
     "output_type": "stream",
     "text": [
      "\n"
     ]
    }
   ],
   "source": [
    "check=False\n",
    "#There are at least 2 items which are letters and the\n",
    "resu=[]\n",
    "message=[]\n",
    "c=0\n",
    "C=9\n",
    "ntab=[]\n",
    "def validate(s):\n",
    "    if '#' in s or ':' in s:\n",
    "        return False\n",
    "    if 'home' in s.lower() or 'phone' in s.lower() or 'fax' in s.lower() or 'cell' in s.lower():\n",
    "        return False\n",
    "    return True\n",
    "#A list is a table suggestion of splitting \n",
    "for index,row in tqdm(df.iterrows()):\n",
    "    body=row['email'].split('\\n')\n",
    "    for i,item in enumerate(body):\n",
    "        #ignoring the one lines emails\n",
    "        if i<(len(body)-1):\n",
    "            condition3=len(item.split())>2\n",
    "            condition4=len(body[i+1].split())==len(item.split())\n",
    "            condition1=((item.count('\\t')*4 +item.count(' '))>=(len(item.split())/3) and len(re.findall(\"\\d\",item))>=1)\n",
    "            condition2=(body[i+1].count('\\t')*4+body[i+1].count(' '))>=(len((body[i+1]).split())/3) and len(re.findall(\"\\d\",body[i+1]))>=1\n",
    "            if condition3 and condition4 and row['email_id'] not in resu:\n",
    "                if row['email_id'] in message and i>len(body)-4:\n",
    "                    break\n",
    "                start_word_header=[]\n",
    "                inword=False\n",
    "                start_word_line=[]\n",
    "                for j,char in enumerate(item):\n",
    "                    if inword==False and char.isalnum():\n",
    "                        inword=True\n",
    "                        start_word_header.append(j)\n",
    "                    if inword==True and char.isalnum()==False:\n",
    "                        inword=False\n",
    "                inword=False\n",
    "                for j,char in enumerate(body[i+1]):\n",
    "                    if inword==False and char.isalnum():\n",
    "                        inword=True\n",
    "                        start_word_line.append(j)\n",
    "                    if inword==True and char.isalnum()==False:\n",
    "                        inword=False\n",
    "                table=True\n",
    "                if len(start_word_line)!=len(start_word_header):\n",
    "                    break\n",
    "                counter_number=0\n",
    "                counter_string=0\n",
    "                for x in range(len(start_word_line)):\n",
    "                    if start_word_line[x]!=start_word_header[x]:\n",
    "                        table=False\n",
    "                        break\n",
    "                    else:\n",
    "                        if item[start_word_line[x]].isnumeric() and body[i+1][start_word_header[x]].isnumeric():\n",
    "                            counter_number+=1\n",
    "                        if item[start_word_line[x]].isalpha() and body[i+1][start_word_header[x]].isalpha()==False:\n",
    "                            counter_string=-1\n",
    "                if table==True and counter_number>2 and counter_string!=-1:\n",
    "                    if row['email_id'] not in resu and validate(item) and validate(body[i+1]):\n",
    "                        #resu.append(row['email_id'])\n",
    "                        resu.append(index)\n",
    "                        message.append(row['email_id'])\n",
    "                        print(row['email_id'])\n",
    "                        print(start_word_line)\n",
    "                        print(start_word_header)\n",
    "                        print(item)\n",
    "                        print(body[i+1])"
   ]
  },
  {
   "cell_type": "code",
   "execution_count": 40,
   "id": "6da5d173",
   "metadata": {},
   "outputs": [
    {
     "name": "stderr",
     "output_type": "stream",
     "text": [
      "290it [00:00, 10971.73it/s]"
     ]
    },
    {
     "name": "stdout",
     "output_type": "stream",
     "text": [
      "dasovich-j\\all_documents\\3061#1\n",
      "[2, 7, 11, 16]\n",
      "[2, 7, 11, 16]\n",
      ">(650) 762 2800 main\n",
      ">(650) 762 2825 direct\n"
     ]
    },
    {
     "name": "stderr",
     "output_type": "stream",
     "text": [
      "\n"
     ]
    }
   ],
   "source": [
    "#numeric table approach assumptions:\n",
    "#tables are separated by long \n",
    "check=False\n",
    "#There are at least 2 items which are letters and the\n",
    "resu=[]\n",
    "message=[]\n",
    "c=0\n",
    "C=9\n",
    "ntab=[]\n",
    "def validate(s):\n",
    "    if '#' in s or ':' in s:\n",
    "        return False\n",
    "    if 'home' in s.lower() or 'phone' in s.lower() or 'fax' in s.lower() or 'cell' in s.lower():\n",
    "        return False\n",
    "    return True\n",
    "#A list is a table suggestion of splitting \n",
    "for index,row in tqdm(df.iterrows()):\n",
    "    body=row['email'].split('\\n')\n",
    "    for i,item in enumerate(body):\n",
    "        #ignoring the one lines emails\n",
    "        if i<(len(body)-1):\n",
    "            condition3=len(item.split())>2\n",
    "            condition4=len(body[i+1].split())==len(item.split())\n",
    "            condition1=((item.count('\\t')*4 +item.count(' '))>=(len(item.split())/3) and len(re.findall(\"\\d\",item))>=1)\n",
    "            condition2=(body[i+1].count('\\t')*4+body[i+1].count(' '))>=(len((body[i+1]).split())/3) and len(re.findall(\"\\d\",body[i+1]))>=1\n",
    "            if condition3 and condition4 and row['email_id'] not in resu:\n",
    "                #if row['email_id'] in message and i>len(body)-4 and condition2 and condition1:\n",
    "                if row['email_id'] in resu and i>len(body)-4 and condition2 and condition1:\n",
    "                    break\n",
    "                start_word_header=[]\n",
    "                inword=False\n",
    "                start_word_line=[]\n",
    "                for j,char in enumerate(item):\n",
    "                    if inword==False and char.isalnum():\n",
    "                        inword=True\n",
    "                        start_word_header.append(j)\n",
    "                    if inword==True and char.isalnum()==False:\n",
    "                        inword=False\n",
    "                inword=False\n",
    "                for j,char in enumerate(body[i+1]):\n",
    "                    if inword==False and char.isalnum():\n",
    "                        inword=True\n",
    "                        start_word_line.append(j)\n",
    "                    if inword==True and char.isalnum()==False:\n",
    "                        inword=False\n",
    "                table=True\n",
    "                if len(start_word_line)!=len(start_word_header):\n",
    "                    break\n",
    "                counter_number=0\n",
    "                counter_string=0\n",
    "                for x in range(len(start_word_line)):\n",
    "                    if start_word_line[x]!=start_word_header[x]:\n",
    "                        table=False\n",
    "                        break\n",
    "                    else:\n",
    "                        if item[start_word_line[x]].isnumeric() and body[i+1][start_word_header[x]].isnumeric():\n",
    "                            counter_number+=1\n",
    "                        if item[start_word_line[x]].isalpha() and body[i+1][start_word_header[x]].isalpha()==False:\n",
    "                            counter_string=-1\n",
    "                if table==True and counter_number>2 and counter_string!=-1:\n",
    "                    if row['email_id'] not in resu and validate(item) and validate(body[i+1]):\n",
    "                        resu.append(row['email_id'])\n",
    "                        #message.append(row['email_id'])\n",
    "                        print(row['email_id'])\n",
    "                        print(start_word_line)\n",
    "                        print(start_word_header)\n",
    "                        print(item)\n",
    "                        print(body[i+1])"
   ]
  },
  {
   "cell_type": "code",
   "execution_count": 36,
   "id": "9af91084",
   "metadata": {},
   "outputs": [],
   "source": [
    "actual_t= df['has_table']\n",
    "predicted_t= [1 if x in resu else 0 for x in range(len(actual_t))]"
   ]
  },
  {
   "cell_type": "code",
   "execution_count": 37,
   "id": "691bf7d8",
   "metadata": {},
   "outputs": [
    {
     "data": {
      "image/png": "[encoded data removed]",
      "text/plain": [
       "<Figure size 432x288 with 2 Axes>"
      ]
     },
     "metadata": {
      "needs_background": "light"
     },
     "output_type": "display_data"
    }
   ],
   "source": [
    "cf_matrix_t = confusion_matrix(actual_t, predicted_t)\n",
    "\n",
    "cm_display = ConfusionMatrixDisplay(confusion_matrix = cf_matrix_t, display_labels = [False, True])\n",
    "\n",
    "cm_display.plot()\n",
    "plt.show()"
   ]
  },
  {
   "cell_type": "code",
   "execution_count": 38,
   "id": "990a3613",
   "metadata": {},
   "outputs": [
    {
     "name": "stdout",
     "output_type": "stream",
     "text": [
      "Accuracy: 97.24%\n",
      "Precision: 0.00%\n",
      "Recall: 0.00%\n",
      "F1-score: 0.00%\n"
     ]
    }
   ],
   "source": [
    "# accuracy\n",
    "print('Accuracy: {:.2%}'.format(accuracy_score(actual_t, predicted_t)))\n",
    "\n",
    "# precision\n",
    "print('Precision: {:.2%}'.format(precision_score(actual_t, predicted_t)))\n",
    "\n",
    "# Recall\n",
    "print('Recall: {:.2%}'.format(recall_score(actual_t, predicted_t)))\n",
    "\n",
    "# F1\n",
    "print('F1-score: {:.2%}'.format(f1_score(actual_t, predicted_t)))"
   ]
  },
  {
   "cell_type": "code",
   "execution_count": 32,
   "id": "232ee3f3",
   "metadata": {},
   "outputs": [
    {
     "data": {
      "text/plain": [
       "[97]"
      ]
     },
     "execution_count": 32,
     "metadata": {},
     "output_type": "execute_result"
    }
   ],
   "source": [
    "resu"
   ]
  },
  {
   "cell_type": "code",
   "execution_count": null,
   "id": "6ae4a387",
   "metadata": {},
   "outputs": [],
   "source": []
  }
 ],
 "metadata": {
  "kernelspec": {
   "display_name": "Python 3 (ipykernel)",
   "language": "python",
   "name": "python3"
  },
  "language_info": {
   "codemirror_mode": {
    "name": "ipython",
    "version": 3
   },
   "file_extension": ".py",
   "mimetype": "text/x-python",
   "name": "python",
   "nbconvert_exporter": "python",
   "pygments_lexer": "ipython3",
   "version": "3.9.7"
  }
 },
 "nbformat": 4,
 "nbformat_minor": 5
}
