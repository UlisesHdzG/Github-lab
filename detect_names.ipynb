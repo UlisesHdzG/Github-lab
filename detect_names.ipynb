{
 "cells": [
  {
   "cell_type": "markdown",
   "id": "b39dc6d0",
   "metadata": {},
   "source": [
    "# Person Names Detection in emails"
   ]
  },
  {
   "cell_type": "code",
   "execution_count": 1,
   "id": "e05c24ef",
   "metadata": {
    "scrolled": false
   },
   "outputs": [
    {
     "name": "stdout",
     "output_type": "stream",
     "text": [
      "Collecting names-dataset\n",
      "  Downloading names-dataset-3.1.0.tar.gz (58.4 MB)\n",
      "Collecting pycountry\n",
      "  Downloading pycountry-22.3.5.tar.gz (10.1 MB)\n",
      "  Installing build dependencies: started\n",
      "  Installing build dependencies: finished with status 'done'\n",
      "  Getting requirements to build wheel: started\n",
      "  Getting requirements to build wheel: finished with status 'done'\n",
      "    Preparing wheel metadata: started\n",
      "    Preparing wheel metadata: finished with status 'done'\n",
      "Requirement already satisfied: setuptools in c:\\users\\apere\\anaconda3\\lib\\site-packages (from pycountry->names-dataset) (58.0.4)\n",
      "Building wheels for collected packages: names-dataset, pycountry\n",
      "  Building wheel for names-dataset (setup.py): started\n",
      "  Building wheel for names-dataset (setup.py): finished with status 'done'\n",
      "  Created wheel for names-dataset: filename=names_dataset-3.1.0-py3-none-any.whl size=116832782 sha256=4a1afb9ed009b2917f58aa59d1607d06e5bfee208012a3c0e3c17e93927d9f62\n",
      "  Stored in directory: c:\\users\\apere\\appdata\\local\\pip\\cache\\wheels\\8b\\36\\2e\\49513b778ca8d01a91a8cee61425d53de963b74561bfa5f561\n",
      "  Building wheel for pycountry (PEP 517): started\n",
      "  Building wheel for pycountry (PEP 517): finished with status 'done'\n",
      "  Created wheel for pycountry: filename=pycountry-22.3.5-py2.py3-none-any.whl size=10681832 sha256=d322f18e06ab795068be43c73f3785d2af78b998d9b409382d06566b0fcecc2b\n",
      "  Stored in directory: c:\\users\\apere\\appdata\\local\\pip\\cache\\wheels\\47\\15\\92\\e6dc85fcb0686c82e1edbcfdf80cfe4808c058813fed0baa8f\n",
      "Successfully built names-dataset pycountry\n",
      "Installing collected packages: pycountry, names-dataset\n",
      "Successfully installed names-dataset-3.1.0 pycountry-22.3.5\n"
     ]
    }
   ],
   "source": [
    "# Names dataset\n",
    "! pip install names-dataset"
   ]
  },
  {
   "cell_type": "code",
   "execution_count": 3,
   "id": "5a477c27",
   "metadata": {},
   "outputs": [],
   "source": [
    "from names_dataset import NameDataset, NameWrapper\n",
    "names = NameDataset()"
   ]
  },
  {
   "cell_type": "code",
   "execution_count": 192,
   "id": "fbdf9ea7",
   "metadata": {},
   "outputs": [],
   "source": [
    "def detect_name(string, r = 5000, c = 3):\n",
    "    '''\n",
    "    Function that returns True if the provided string contains a name (for US present in top 3 countries)\n",
    "    r: Minimum position in the ranking of popular names/last names in the US\n",
    "    c: Minimum ranking of popularity of the word as a name/last name in the US\n",
    "    '''\n",
    "    words = string.split(\" \")\n",
    "    l = False\n",
    "    for w in words:\n",
    "\n",
    "        x = names.search(w)['first_name']\n",
    "        if x is None:# word not found in names dictionary\n",
    "            f = False\n",
    "        elif x['rank']['United States'] is None:# Name no frequent in US\n",
    "            f = False\n",
    "        elif x['rank']['United States'] > r:# Name unfrequent in US \n",
    "            f = False\n",
    "        else:\n",
    "            y = x['country']\n",
    "            countries_first_name = list({k: v for k, v in sorted(y.items(), key=lambda item: item[1], reverse = True)}.keys())[0:c]\n",
    "            f = 'United States' in countries_first_name\n",
    "        \n",
    "        x = names.search(w)['last_name']\n",
    "        if x is None:# word not found in names dictionary\n",
    "            p = False\n",
    "        elif x['rank']['United States'] is None:# Last name no frequent in US\n",
    "            p = False\n",
    "        elif x['rank']['United States'] > r:# Last name unfrequent in US \n",
    "            p = False\n",
    "        else:\n",
    "            y = x['country']\n",
    "            countries_last_name = list({k: v for k, v in sorted(y.items(), key=lambda item: item[1], reverse = True)}.keys())[0:c]\n",
    "            p = 'United States' in countries_last_name     \n",
    "        \n",
    "        l = l | ( f | p )\n",
    "    return l"
   ]
  },
  {
   "cell_type": "code",
   "execution_count": 194,
   "id": "633cff12",
   "metadata": {},
   "outputs": [
    {
     "data": {
      "text/plain": [
       "True"
      ]
     },
     "execution_count": 194,
     "metadata": {},
     "output_type": "execute_result"
    }
   ],
   "source": [
    "detect_name(\"The energy contract is finished by Will\")"
   ]
  },
  {
   "cell_type": "code",
   "execution_count": 174,
   "id": "ed22291a",
   "metadata": {},
   "outputs": [
    {
     "name": "stdout",
     "output_type": "stream",
     "text": [
      "['Malaysia', 'Algeria', 'France']\n",
      "['Algeria', 'Malaysia', 'Tunisia']\n"
     ]
    }
   ],
   "source": [
    "x = names.search('is')['last_name']['country']\n",
    "print( list({k: v for k, v in sorted(x.items(), key=lambda item: item[1], reverse = True)}.keys())[0:3] )\n",
    "\n",
    "x = names.search('is')['first_name']['country']\n",
    "print( list({k: v for k, v in sorted(x.items(), key=lambda item: item[1], reverse = True)}.keys())[0:3] )"
   ]
  },
  {
   "cell_type": "code",
   "execution_count": 185,
   "id": "a0014c51",
   "metadata": {},
   "outputs": [
    {
     "data": {
      "text/plain": [
       "{'first_name': {'country': {'Canada': 0.024,\n",
       "   'France': 0.017,\n",
       "   'United Kingdom': 0.034,\n",
       "   'Ghana': 0.028,\n",
       "   'Malaysia': 0.007,\n",
       "   'Nigeria': 0.263,\n",
       "   'Philippines': 0.008,\n",
       "   'Singapore': 0.012,\n",
       "   'United States': 0.521,\n",
       "   'South Africa': 0.084},\n",
       "  'gender': {'Female': 0.033, 'Male': 0.967},\n",
       "  'rank': {'Canada': 917,\n",
       "   'France': 4439,\n",
       "   'United Kingdom': 1599,\n",
       "   'Ghana': 229,\n",
       "   'Malaysia': 8440,\n",
       "   'Nigeria': 353,\n",
       "   'Philippines': 446,\n",
       "   'Singapore': 1252,\n",
       "   'United States': 697,\n",
       "   'South Africa': 1616}},\n",
       " 'last_name': {'country': {'Botswana': 0.012,\n",
       "   'Cameroon': 0.016,\n",
       "   'France': 0.013,\n",
       "   'United Kingdom': 0.008,\n",
       "   'Ghana': 0.049,\n",
       "   'Italy': 0.006,\n",
       "   'Nigeria': 0.763,\n",
       "   'Singapore': 0.007,\n",
       "   'United States': 0.052,\n",
       "   'South Africa': 0.075},\n",
       "  'gender': {},\n",
       "  'rank': {'Botswana': 348,\n",
       "   'Cameroon': 2936,\n",
       "   'Ghana': 513,\n",
       "   'Nigeria': 312,\n",
       "   'Singapore': 4402,\n",
       "   'United States': 12300,\n",
       "   'South Africa': 4850,\n",
       "   'France': None,\n",
       "   'United Kingdom': None,\n",
       "   'Italy': None}}}"
      ]
     },
     "execution_count": 185,
     "metadata": {},
     "output_type": "execute_result"
    }
   ],
   "source": [
    "names.search('Elijah')"
   ]
  }
 ],
 "metadata": {
  "kernelspec": {
   "display_name": "Python 3 (ipykernel)",
   "language": "python",
   "name": "python3"
  },
  "language_info": {
   "codemirror_mode": {
    "name": "ipython",
    "version": 3
   },
   "file_extension": ".py",
   "mimetype": "text/x-python",
   "name": "python",
   "nbconvert_exporter": "python",
   "pygments_lexer": "ipython3",
   "version": "3.9.7"
  }
 },
 "nbformat": 4,
 "nbformat_minor": 5
}
