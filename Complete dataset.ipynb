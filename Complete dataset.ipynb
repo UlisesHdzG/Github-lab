{
 "cells": [
  {
   "cell_type": "code",
   "execution_count": 1,
   "id": "a0f98ccf",
   "metadata": {},
   "outputs": [],
   "source": [
    "import os\n",
    "import pandas as pd\n",
    "import email"
   ]
  },
  {
   "cell_type": "code",
   "execution_count": 17,
   "id": "e82fe516",
   "metadata": {},
   "outputs": [
    {
     "name": "stdout",
     "output_type": "stream",
     "text": [
      "CPU times: total: 47.8 s\n",
      "Wall time: 40min 11s\n"
     ]
    }
   ],
   "source": [
    "%%time\n",
    "# read all files\n",
    "directory=r'C:\\Users\\p_uli\\Desktop\\Columbia University\\Cursos\\Fall 22\\Capstone\\Data\\maildir'\n",
    "\n",
    "subset=os.listdir(directory)\n",
    "\n",
    "msg_id= list()\n",
    "msg_txt= list()\n",
    "\n",
    "for folder in subset:\n",
    "    for roots, dirs, files in os.walk(directory+\"\\\\\"+folder):\n",
    "        for file in files:\n",
    "            with open(roots+'\\\\'+file) as f:\n",
    "                x= f.readlines()\n",
    "                x=''.join(x)\n",
    "                msg_txt.append(x)\n",
    "                msg_id.append(roots[roots.index(folder):] + '\\\\'+file)\n"
   ]
  },
  {
   "cell_type": "code",
   "execution_count": 2,
   "id": "e3880513",
   "metadata": {},
   "outputs": [],
   "source": [
    "data=pd.DataFrame(zip(msg_id,msg_txt),columns=['message_id','message_text'])\n",
    "data.to_csv(r'C:\\Users\\p_uli\\Desktop\\Columbia University\\Cursos\\Fall 22\\Capstone\\Data\\emails.csv',index=False)\n"
   ]
  },
  {
   "cell_type": "code",
   "execution_count": 3,
   "id": "39c935b2",
   "metadata": {},
   "outputs": [],
   "source": [
    "## Helper functions\n",
    "def get_text_from_email(msg):\n",
    "    '''To get the content from email objects'''\n",
    "    parts = []\n",
    "    for part in msg.walk():\n",
    "        if part.get_content_type() == 'text/plain':\n",
    "            parts.append( part.get_payload() )\n",
    "    return ''.join(parts)\n",
    "\n",
    "def split_email_addresses(line):\n",
    "    '''To separate multiple email addresses'''\n",
    "    if line:\n",
    "        addrs = line.split(',')\n",
    "        addrs = list(map(lambda x: x.strip(), addrs))\n",
    "    else:\n",
    "        addrs = None\n",
    "    return addrs"
   ]
  },
  {
   "cell_type": "code",
   "execution_count": 4,
   "id": "943c7afb",
   "metadata": {},
   "outputs": [
    {
     "name": "stdout",
     "output_type": "stream",
     "text": [
      "CPU times: total: 1min 11s\n",
      "Wall time: 1min 44s\n"
     ]
    },
    {
     "data": {
      "text/html": [
       "<div>\n",
       "<style scoped>\n",
       "    .dataframe tbody tr th:only-of-type {\n",
       "        vertical-align: middle;\n",
       "    }\n",
       "\n",
       "    .dataframe tbody tr th {\n",
       "        vertical-align: top;\n",
       "    }\n",
       "\n",
       "    .dataframe thead th {\n",
       "        text-align: right;\n",
       "    }\n",
       "</style>\n",
       "<table border=\"1\" class=\"dataframe\">\n",
       "  <thead>\n",
       "    <tr style=\"text-align: right;\">\n",
       "      <th></th>\n",
       "      <th>message_id</th>\n",
       "      <th>Message-ID</th>\n",
       "      <th>Date</th>\n",
       "      <th>From</th>\n",
       "      <th>To</th>\n",
       "      <th>Subject</th>\n",
       "      <th>Cc</th>\n",
       "      <th>Bcc</th>\n",
       "      <th>X-From</th>\n",
       "      <th>X-To</th>\n",
       "      <th>X-cc</th>\n",
       "      <th>X-bcc</th>\n",
       "      <th>X-Folder</th>\n",
       "      <th>X-Origin</th>\n",
       "      <th>X-FileName</th>\n",
       "      <th>body</th>\n",
       "      <th>user</th>\n",
       "    </tr>\n",
       "  </thead>\n",
       "  <tbody>\n",
       "    <tr>\n",
       "      <th>0</th>\n",
       "      <td>allen-p\\all_documents\\1</td>\n",
       "      <td>&lt;29790972.1075855665306.JavaMail.evans@thyme&gt;</td>\n",
       "      <td>Wed, 13 Dec 2000 18:41:00 -0800 (PST)</td>\n",
       "      <td>[1.11913372.-2@multexinvestornetwork.com]</td>\n",
       "      <td>[pallen@enron.com]</td>\n",
       "      <td>December 14, 2000 - Bear Stearns' predictions ...</td>\n",
       "      <td>None</td>\n",
       "      <td>None</td>\n",
       "      <td>Multex Investor &lt;1.11913372.-2@multexinvestorn...</td>\n",
       "      <td>&lt;pallen@enron.com&gt;</td>\n",
       "      <td></td>\n",
       "      <td></td>\n",
       "      <td>\\Phillip_Allen_Dec2000\\Notes Folders\\All docum...</td>\n",
       "      <td>Allen-P</td>\n",
       "      <td>pallen.nsf</td>\n",
       "      <td>In today's Daily Update you'll find free repor...</td>\n",
       "      <td>allen-p\\all_documents\\1</td>\n",
       "    </tr>\n",
       "  </tbody>\n",
       "</table>\n",
       "</div>"
      ],
      "text/plain": [
       "                message_id                                     Message-ID  \\\n",
       "0  allen-p\\all_documents\\1  <29790972.1075855665306.JavaMail.evans@thyme>   \n",
       "\n",
       "                                    Date  \\\n",
       "0  Wed, 13 Dec 2000 18:41:00 -0800 (PST)   \n",
       "\n",
       "                                        From                  To  \\\n",
       "0  [1.11913372.-2@multexinvestornetwork.com]  [pallen@enron.com]   \n",
       "\n",
       "                                             Subject    Cc   Bcc  \\\n",
       "0  December 14, 2000 - Bear Stearns' predictions ...  None  None   \n",
       "\n",
       "                                              X-From                X-To X-cc  \\\n",
       "0  Multex Investor <1.11913372.-2@multexinvestorn...  <pallen@enron.com>        \n",
       "\n",
       "  X-bcc                                           X-Folder X-Origin  \\\n",
       "0        \\Phillip_Allen_Dec2000\\Notes Folders\\All docum...  Allen-P   \n",
       "\n",
       "   X-FileName                                               body  \\\n",
       "0  pallen.nsf  In today's Daily Update you'll find free repor...   \n",
       "\n",
       "                      user  \n",
       "0  allen-p\\all_documents\\1  "
      ]
     },
     "execution_count": 4,
     "metadata": {},
     "output_type": "execute_result"
    }
   ],
   "source": [
    "%%time\n",
    "# Parse the emails into a list email objects\n",
    "messages = list(map(email.message_from_string, data['message_text']))\n",
    "data.drop(columns=['message_text'], inplace=True)\n",
    "\n",
    "# Get fields from parsed email objects\n",
    "#keys = messages[0].keys()\n",
    "keys=['Message-ID', 'Date', 'From', 'To', 'Subject', 'Cc', 'Bcc','X-From', 'X-To', 'X-cc', 'X-bcc', 'X-Folder', 'X-Origin', 'X-FileName']\n",
    "\n",
    "for key in keys:\n",
    "    data[key] = [doc[key] for doc in messages]\n",
    "    \n",
    "# Parse content from emails\n",
    "data['body'] = list(map(get_text_from_email, messages))\n",
    "# Split multiple email addresses\n",
    "data['From'] = data['From'].map(split_email_addresses)\n",
    "data['To']   = data['To'].map(split_email_addresses)\n",
    "\n",
    "# Extract the root of 'file' as 'user'\n",
    "data['user'] = data['message_id'].map(lambda x:x.split('/')[0])\n",
    "del messages\n",
    "\n",
    "data.head(1)"
   ]
  },
  {
   "cell_type": "code",
   "execution_count": 5,
   "id": "1658d11f",
   "metadata": {},
   "outputs": [
    {
     "data": {
      "text/html": [
       "<div>\n",
       "<style scoped>\n",
       "    .dataframe tbody tr th:only-of-type {\n",
       "        vertical-align: middle;\n",
       "    }\n",
       "\n",
       "    .dataframe tbody tr th {\n",
       "        vertical-align: top;\n",
       "    }\n",
       "\n",
       "    .dataframe thead th {\n",
       "        text-align: right;\n",
       "    }\n",
       "</style>\n",
       "<table border=\"1\" class=\"dataframe\">\n",
       "  <thead>\n",
       "    <tr style=\"text-align: right;\">\n",
       "      <th></th>\n",
       "      <th>message_id</th>\n",
       "      <th>date</th>\n",
       "      <th>from</th>\n",
       "      <th>to</th>\n",
       "      <th>subject</th>\n",
       "      <th>cc</th>\n",
       "      <th>bcc</th>\n",
       "      <th>body</th>\n",
       "    </tr>\n",
       "  </thead>\n",
       "  <tbody>\n",
       "    <tr>\n",
       "      <th>0</th>\n",
       "      <td>allen-p\\all_documents\\1</td>\n",
       "      <td>Wed, 13 Dec 2000 18:41:00 -0800 (PST)</td>\n",
       "      <td>[1.11913372.-2@multexinvestornetwork.com]</td>\n",
       "      <td>[pallen@enron.com]</td>\n",
       "      <td>December 14, 2000 - Bear Stearns' predictions ...</td>\n",
       "      <td>None</td>\n",
       "      <td>None</td>\n",
       "      <td>In today's Daily Update you'll find free repor...</td>\n",
       "    </tr>\n",
       "    <tr>\n",
       "      <th>1</th>\n",
       "      <td>allen-p\\all_documents\\10</td>\n",
       "      <td>Wed, 13 Dec 2000 08:35:00 -0800 (PST)</td>\n",
       "      <td>[messenger@ecm.bloomberg.com]</td>\n",
       "      <td>None</td>\n",
       "      <td>Bloomberg Power Lines Report</td>\n",
       "      <td>None</td>\n",
       "      <td>None</td>\n",
       "      <td>Here is today's copy of Bloomberg Power Lines....</td>\n",
       "    </tr>\n",
       "    <tr>\n",
       "      <th>2</th>\n",
       "      <td>allen-p\\all_documents\\100</td>\n",
       "      <td>Mon, 9 Oct 2000 07:16:00 -0700 (PDT)</td>\n",
       "      <td>[phillip.allen@enron.com]</td>\n",
       "      <td>[keith.holst@enron.com]</td>\n",
       "      <td>Consolidated positions: Issues &amp; To Do list</td>\n",
       "      <td>None</td>\n",
       "      <td>None</td>\n",
       "      <td>---------------------- Forwarded by Phillip K ...</td>\n",
       "    </tr>\n",
       "    <tr>\n",
       "      <th>3</th>\n",
       "      <td>allen-p\\all_documents\\101</td>\n",
       "      <td>Mon, 9 Oct 2000 07:00:00 -0700 (PDT)</td>\n",
       "      <td>[phillip.allen@enron.com]</td>\n",
       "      <td>[keith.holst@enron.com]</td>\n",
       "      <td>Consolidated positions: Issues &amp; To Do list</td>\n",
       "      <td>None</td>\n",
       "      <td>None</td>\n",
       "      <td>---------------------- Forwarded by Phillip K ...</td>\n",
       "    </tr>\n",
       "    <tr>\n",
       "      <th>4</th>\n",
       "      <td>allen-p\\all_documents\\102</td>\n",
       "      <td>Thu, 5 Oct 2000 06:26:00 -0700 (PDT)</td>\n",
       "      <td>[phillip.allen@enron.com]</td>\n",
       "      <td>[david.delainey@enron.com]</td>\n",
       "      <td></td>\n",
       "      <td>None</td>\n",
       "      <td>None</td>\n",
       "      <td>Dave, \\n\\n Here are the names of the west desk...</td>\n",
       "    </tr>\n",
       "  </tbody>\n",
       "</table>\n",
       "</div>"
      ],
      "text/plain": [
       "                  message_id                                   date  \\\n",
       "0    allen-p\\all_documents\\1  Wed, 13 Dec 2000 18:41:00 -0800 (PST)   \n",
       "1   allen-p\\all_documents\\10  Wed, 13 Dec 2000 08:35:00 -0800 (PST)   \n",
       "2  allen-p\\all_documents\\100   Mon, 9 Oct 2000 07:16:00 -0700 (PDT)   \n",
       "3  allen-p\\all_documents\\101   Mon, 9 Oct 2000 07:00:00 -0700 (PDT)   \n",
       "4  allen-p\\all_documents\\102   Thu, 5 Oct 2000 06:26:00 -0700 (PDT)   \n",
       "\n",
       "                                        from                          to  \\\n",
       "0  [1.11913372.-2@multexinvestornetwork.com]          [pallen@enron.com]   \n",
       "1              [messenger@ecm.bloomberg.com]                        None   \n",
       "2                  [phillip.allen@enron.com]     [keith.holst@enron.com]   \n",
       "3                  [phillip.allen@enron.com]     [keith.holst@enron.com]   \n",
       "4                  [phillip.allen@enron.com]  [david.delainey@enron.com]   \n",
       "\n",
       "                                             subject    cc   bcc  \\\n",
       "0  December 14, 2000 - Bear Stearns' predictions ...  None  None   \n",
       "1                       Bloomberg Power Lines Report  None  None   \n",
       "2        Consolidated positions: Issues & To Do list  None  None   \n",
       "3        Consolidated positions: Issues & To Do list  None  None   \n",
       "4                                                     None  None   \n",
       "\n",
       "                                                body  \n",
       "0  In today's Daily Update you'll find free repor...  \n",
       "1  Here is today's copy of Bloomberg Power Lines....  \n",
       "2  ---------------------- Forwarded by Phillip K ...  \n",
       "3  ---------------------- Forwarded by Phillip K ...  \n",
       "4  Dave, \\n\\n Here are the names of the west desk...  "
      ]
     },
     "execution_count": 5,
     "metadata": {},
     "output_type": "execute_result"
    }
   ],
   "source": [
    "df=data[['message_id','Date','From','To','Subject','Cc','Bcc','body']]\n",
    "df=df.rename(columns={\"Date\": \"date\", \"From\": \"from\",'To':'to','Subject':'subject','Cc':'cc','Bcc':'bcc'})\n",
    "df.head()"
   ]
  },
  {
   "cell_type": "code",
   "execution_count": 38,
   "id": "97823f90",
   "metadata": {},
   "outputs": [],
   "source": [
    "df.to_csv(r'C:\\Users\\p_uli\\Desktop\\Columbia University\\Cursos\\Fall 22\\Capstone\\Data\\complete data.csv',index=False)\n"
   ]
  },
  {
   "cell_type": "code",
   "execution_count": 40,
   "id": "ae5ff72e",
   "metadata": {},
   "outputs": [],
   "source": [
    "# Removing duplicates\n",
    "def tostring(x):\n",
    "    try:\n",
    "        return ''.join(x)\n",
    "    except:\n",
    "        return \n",
    "df['to']=df['to'].apply(lambda x: tostring(x))\n",
    "df['from']=df['from'].apply(lambda x: tostring(x))"
   ]
  },
  {
   "cell_type": "code",
   "execution_count": 41,
   "id": "3738080f",
   "metadata": {},
   "outputs": [],
   "source": [
    "aux=df.drop_duplicates(['date','to','from','subject','cc','bcc','body'])"
   ]
  },
  {
   "cell_type": "code",
   "execution_count": 44,
   "id": "cab418cb",
   "metadata": {},
   "outputs": [],
   "source": [
    "aux.to_csv(r'C:\\Users\\p_uli\\Desktop\\Columbia University\\Cursos\\Fall 22\\Capstone\\Data\\data_uniques.csv',index=False)"
   ]
  },
  {
   "cell_type": "code",
   "execution_count": 12,
   "id": "b905a51c",
   "metadata": {},
   "outputs": [
    {
     "name": "stdout",
     "output_type": "stream",
     "text": [
      "(254912, 8)\n",
      "(517401, 8)\n"
     ]
    }
   ],
   "source": [
    "# Number of observations\n",
    "print(aux.shape)\n",
    "print(df.shape)"
   ]
  }
 ],
 "metadata": {
  "kernelspec": {
   "display_name": "Python 3 (ipykernel)",
   "language": "python",
   "name": "python3"
  },
  "language_info": {
   "codemirror_mode": {
    "name": "ipython",
    "version": 3
   },
   "file_extension": ".py",
   "mimetype": "text/x-python",
   "name": "python",
   "nbconvert_exporter": "python",
   "pygments_lexer": "ipython3",
   "version": "3.9.7"
  }
 },
 "nbformat": 4,
 "nbformat_minor": 5
}
