{
  "nbformat": 4,
  "nbformat_minor": 0,
  "metadata": {
    "colab": {
      "provenance": []
    },
    "kernelspec": {
      "name": "python3",
      "display_name": "Python 3"
    },
    "language_info": {
      "name": "python"
    },
    "gpuClass": "standard"
  },
  "cells": [
    {
      "cell_type": "markdown",
      "source": [
        "## Import packages and load data"
      ],
      "metadata": {
        "id": "XK1Iqq349PTT"
      }
    },
    {
      "cell_type": "code",
      "source": [
        "import re\n",
        "import numpy as np\n",
        "import pandas as  pd\n",
        "from pprint import pprint# Gensim\n",
        "import gensim\n",
        "import gensim.corpora as corpora\n",
        "from gensim.utils import simple_preprocess\n",
        "from gensim.models import CoherenceModel# spaCy for preprocessing\n",
        "import spacy# Plotting tools\n",
        "\n",
        "import matplotlib.pyplot as plt\n",
        "%matplotlib inline"
      ],
      "metadata": {
        "id": "DfL14jX3bo1O"
      },
      "execution_count": null,
      "outputs": []
    },
    {
      "cell_type": "code",
      "source": [
        "from google.colab import drive\n",
        "drive.mount('/content/drive')"
      ],
      "metadata": {
        "colab": {
          "base_uri": "https://localhost:8080/"
        },
        "id": "WbTtPWAUb1OU",
        "outputId": "8afc88f5-a012-41cb-adf4-d25c4ea92ae3"
      },
      "execution_count": null,
      "outputs": [
        {
          "output_type": "stream",
          "name": "stdout",
          "text": [
            "Mounted at /content/drive\n"
          ]
        }
      ]
    },
    {
      "cell_type": "code",
      "source": [
        "data_path = \"/content/drive/MyDrive/Data/\"\n",
        "data = pd.read_csv(data_path+\"new_data_cleaned_sample.csv\")"
      ],
      "metadata": {
        "id": "7UH5LsUUb4mG"
      },
      "execution_count": null,
      "outputs": []
    },
    {
      "cell_type": "code",
      "source": [
        "data.head()"
      ],
      "metadata": {
        "colab": {
          "base_uri": "https://localhost:8080/",
          "height": 476
        },
        "id": "ooyNJNlR83hE",
        "outputId": "e2a219ef-9278-42c0-ac7a-dd54f1eb85ca"
      },
      "execution_count": null,
      "outputs": [
        {
          "output_type": "execute_result",
          "data": {
            "text/plain": [
              "   Unnamed: 0                        email_id  \\\n",
              "0           0   taylor-m\\all_documents\\3696#1   \n",
              "1           1     sanchez-m\\deleted_items\\7#1   \n",
              "2           2     white-s\\deleted_items\\616#1   \n",
              "3           3          hyatt-k\\enron_kids\\6#1   \n",
              "4           4  germany-c\\all_documents\\1696#1   \n",
              "\n",
              "                                             subject  \\\n",
              "0           ETS Risk Assessment Reporting Memorandum   \n",
              "1                                  prebon/ene dinner   \n",
              "2  ERV Notification:  (West Power Desk Daily Pric...   \n",
              "3                       Conference Room Reservations   \n",
              "4                                  Iroq parking deal   \n",
              "\n",
              "                          email  \\\n",
              "0   taylor-m\\all_documents\\3696   \n",
              "1     sanchez-m\\deleted_items\\7   \n",
              "2     white-s\\deleted_items\\616   \n",
              "3          hyatt-k\\enron_kids\\6   \n",
              "4  germany-c\\all_documents\\1696   \n",
              "\n",
              "                                                 bow  \\\n",
              "0  dear discussed attached please find memorandum...   \n",
              "1  guy know past week asking guy could come prebo...   \n",
              "2  report named west power desk daily price repor...   \n",
              "3  need schedule mega conference room enron kid m...   \n",
              "4  gang fairly certain entered parking deal wrong...   \n",
              "\n",
              "                                          embeddings  \n",
              "0  dear al: discussed, attached please find memor...  \n",
              "1  guys...i know past week asking guy could come ...  \n",
              "2  report named: west power desk daily price repo...  \n",
              "3  need schedule mega conference room enron kid m...  \n",
              "4  gang. i'm fairly certain entered parking deal ...  "
            ],
            "text/html": [
              "\n",
              "  <div id=\"df-bd015d66-b514-4d16-8848-c564d4b1f3e3\">\n",
              "    <div class=\"colab-df-container\">\n",
              "      <div>\n",
              "<style scoped>\n",
              "    .dataframe tbody tr th:only-of-type {\n",
              "        vertical-align: middle;\n",
              "    }\n",
              "\n",
              "    .dataframe tbody tr th {\n",
              "        vertical-align: top;\n",
              "    }\n",
              "\n",
              "    .dataframe thead th {\n",
              "        text-align: right;\n",
              "    }\n",
              "</style>\n",
              "<table border=\"1\" class=\"dataframe\">\n",
              "  <thead>\n",
              "    <tr style=\"text-align: right;\">\n",
              "      <th></th>\n",
              "      <th>Unnamed: 0</th>\n",
              "      <th>email_id</th>\n",
              "      <th>subject</th>\n",
              "      <th>email</th>\n",
              "      <th>bow</th>\n",
              "      <th>embeddings</th>\n",
              "    </tr>\n",
              "  </thead>\n",
              "  <tbody>\n",
              "    <tr>\n",
              "      <th>0</th>\n",
              "      <td>0</td>\n",
              "      <td>taylor-m\\all_documents\\3696#1</td>\n",
              "      <td>ETS Risk Assessment Reporting Memorandum</td>\n",
              "      <td>taylor-m\\all_documents\\3696</td>\n",
              "      <td>dear discussed attached please find memorandum...</td>\n",
              "      <td>dear al: discussed, attached please find memor...</td>\n",
              "    </tr>\n",
              "    <tr>\n",
              "      <th>1</th>\n",
              "      <td>1</td>\n",
              "      <td>sanchez-m\\deleted_items\\7#1</td>\n",
              "      <td>prebon/ene dinner</td>\n",
              "      <td>sanchez-m\\deleted_items\\7</td>\n",
              "      <td>guy know past week asking guy could come prebo...</td>\n",
              "      <td>guys...i know past week asking guy could come ...</td>\n",
              "    </tr>\n",
              "    <tr>\n",
              "      <th>2</th>\n",
              "      <td>2</td>\n",
              "      <td>white-s\\deleted_items\\616#1</td>\n",
              "      <td>ERV Notification:  (West Power Desk Daily Pric...</td>\n",
              "      <td>white-s\\deleted_items\\616</td>\n",
              "      <td>report named west power desk daily price repor...</td>\n",
              "      <td>report named: west power desk daily price repo...</td>\n",
              "    </tr>\n",
              "    <tr>\n",
              "      <th>3</th>\n",
              "      <td>3</td>\n",
              "      <td>hyatt-k\\enron_kids\\6#1</td>\n",
              "      <td>Conference Room Reservations</td>\n",
              "      <td>hyatt-k\\enron_kids\\6</td>\n",
              "      <td>need schedule mega conference room enron kid m...</td>\n",
              "      <td>need schedule mega conference room enron kid m...</td>\n",
              "    </tr>\n",
              "    <tr>\n",
              "      <th>4</th>\n",
              "      <td>4</td>\n",
              "      <td>germany-c\\all_documents\\1696#1</td>\n",
              "      <td>Iroq parking deal</td>\n",
              "      <td>germany-c\\all_documents\\1696</td>\n",
              "      <td>gang fairly certain entered parking deal wrong...</td>\n",
              "      <td>gang. i'm fairly certain entered parking deal ...</td>\n",
              "    </tr>\n",
              "  </tbody>\n",
              "</table>\n",
              "</div>\n",
              "      <button class=\"colab-df-convert\" onclick=\"convertToInteractive('df-bd015d66-b514-4d16-8848-c564d4b1f3e3')\"\n",
              "              title=\"Convert this dataframe to an interactive table.\"\n",
              "              style=\"display:none;\">\n",
              "        \n",
              "  <svg xmlns=\"http://www.w3.org/2000/svg\" height=\"24px\"viewBox=\"0 0 24 24\"\n",
              "       width=\"24px\">\n",
              "    <path d=\"M0 0h24v24H0V0z\" fill=\"none\"/>\n",
              "    <path d=\"M18.56 5.44l.94 2.06.94-2.06 2.06-.94-2.06-.94-.94-2.06-.94 2.06-2.06.94zm-11 1L8.5 8.5l.94-2.06 2.06-.94-2.06-.94L8.5 2.5l-.94 2.06-2.06.94zm10 10l.94 2.06.94-2.06 2.06-.94-2.06-.94-.94-2.06-.94 2.06-2.06.94z\"/><path d=\"M17.41 7.96l-1.37-1.37c-.4-.4-.92-.59-1.43-.59-.52 0-1.04.2-1.43.59L10.3 9.45l-7.72 7.72c-.78.78-.78 2.05 0 2.83L4 21.41c.39.39.9.59 1.41.59.51 0 1.02-.2 1.41-.59l7.78-7.78 2.81-2.81c.8-.78.8-2.07 0-2.86zM5.41 20L4 18.59l7.72-7.72 1.47 1.35L5.41 20z\"/>\n",
              "  </svg>\n",
              "      </button>\n",
              "      \n",
              "  <style>\n",
              "    .colab-df-container {\n",
              "      display:flex;\n",
              "      flex-wrap:wrap;\n",
              "      gap: 12px;\n",
              "    }\n",
              "\n",
              "    .colab-df-convert {\n",
              "      background-color: #E8F0FE;\n",
              "      border: none;\n",
              "      border-radius: 50%;\n",
              "      cursor: pointer;\n",
              "      display: none;\n",
              "      fill: #1967D2;\n",
              "      height: 32px;\n",
              "      padding: 0 0 0 0;\n",
              "      width: 32px;\n",
              "    }\n",
              "\n",
              "    .colab-df-convert:hover {\n",
              "      background-color: #E2EBFA;\n",
              "      box-shadow: 0px 1px 2px rgba(60, 64, 67, 0.3), 0px 1px 3px 1px rgba(60, 64, 67, 0.15);\n",
              "      fill: #174EA6;\n",
              "    }\n",
              "\n",
              "    [theme=dark] .colab-df-convert {\n",
              "      background-color: #3B4455;\n",
              "      fill: #D2E3FC;\n",
              "    }\n",
              "\n",
              "    [theme=dark] .colab-df-convert:hover {\n",
              "      background-color: #434B5C;\n",
              "      box-shadow: 0px 1px 3px 1px rgba(0, 0, 0, 0.15);\n",
              "      filter: drop-shadow(0px 1px 2px rgba(0, 0, 0, 0.3));\n",
              "      fill: #FFFFFF;\n",
              "    }\n",
              "  </style>\n",
              "\n",
              "      <script>\n",
              "        const buttonEl =\n",
              "          document.querySelector('#df-bd015d66-b514-4d16-8848-c564d4b1f3e3 button.colab-df-convert');\n",
              "        buttonEl.style.display =\n",
              "          google.colab.kernel.accessAllowed ? 'block' : 'none';\n",
              "\n",
              "        async function convertToInteractive(key) {\n",
              "          const element = document.querySelector('#df-bd015d66-b514-4d16-8848-c564d4b1f3e3');\n",
              "          const dataTable =\n",
              "            await google.colab.kernel.invokeFunction('convertToInteractive',\n",
              "                                                     [key], {});\n",
              "          if (!dataTable) return;\n",
              "\n",
              "          const docLinkHtml = 'Like what you see? Visit the ' +\n",
              "            '<a target=\"_blank\" href=https://colab.research.google.com/notebooks/data_table.ipynb>data table notebook</a>'\n",
              "            + ' to learn more about interactive tables.';\n",
              "          element.innerHTML = '';\n",
              "          dataTable['output_type'] = 'display_data';\n",
              "          await google.colab.output.renderOutput(dataTable, element);\n",
              "          const docLink = document.createElement('div');\n",
              "          docLink.innerHTML = docLinkHtml;\n",
              "          element.appendChild(docLink);\n",
              "        }\n",
              "      </script>\n",
              "    </div>\n",
              "  </div>\n",
              "  "
            ]
          },
          "metadata": {},
          "execution_count": 4
        }
      ]
    },
    {
      "cell_type": "markdown",
      "source": [
        "## LDA"
      ],
      "metadata": {
        "id": "Z1MZuwClBH14"
      }
    },
    {
      "cell_type": "code",
      "source": [
        "if type(data['bow']) is list:\n",
        "    text = data['bow']\n",
        "else:\n",
        "    text = data['bow'].tolist()\n",
        "# t = []\n",
        "# for x in text:\n",
        "#   temp = []\n",
        "#   for a in str(x).split():\n",
        "#     if a not in ['imagemasker','urlmasker','tofrom','namemasker','im','smith','john','pm','please']:\n",
        "#       temp.append(a)\n",
        "#   t.append(temp)\n",
        "# text = t\n",
        "text=[str(x).split() for x in text]"
      ],
      "metadata": {
        "id": "xqtCOjp5b_UW"
      },
      "execution_count": null,
      "outputs": []
    },
    {
      "cell_type": "code",
      "execution_count": null,
      "metadata": {
        "id": "SdJJI5OYbfKq"
      },
      "outputs": [],
      "source": [
        "id2word = corpora.Dictionary(text)\n",
        "# Create Corpus\n",
        "texts = text\n",
        "# Term Document Frequency\n",
        "corpus = [id2word.doc2bow(text) for text in texts]"
      ]
    },
    {
      "cell_type": "code",
      "source": [
        "num_topics = 7\n",
        "lda_model = gensim.models.ldamodel.LdaModel(corpus=corpus,\n",
        "                                           id2word=id2word,\n",
        "                                           num_topics=num_topics,\n",
        "                                           random_state=100,\n",
        "                                           update_every=1,\n",
        "                                           chunksize=100,\n",
        "                                           passes=10,\n",
        "                                           alpha='auto',\n",
        "                                           per_word_topics=True)"
      ],
      "metadata": {
        "id": "S85n7ohkcIeb"
      },
      "execution_count": null,
      "outputs": []
    },
    {
      "cell_type": "code",
      "source": [
        "# pprint(lda_model.print_topics())\n",
        "doc_lda = lda_model[corpus]"
      ],
      "metadata": {
        "id": "eAXEcXQ3c456"
      },
      "execution_count": null,
      "outputs": []
    },
    {
      "cell_type": "markdown",
      "source": [
        "## Topic evolution"
      ],
      "metadata": {
        "id": "L9oIxaAzA33r"
      }
    },
    {
      "cell_type": "markdown",
      "source": [
        "### Get an email with threads"
      ],
      "metadata": {
        "id": "rLUF7vRzA6ib"
      }
    },
    {
      "cell_type": "code",
      "source": [
        "data[['email','id']] = data['email_id'].str.split('#',1,expand = True)\n",
        "df = data['email'].value_counts()\n",
        "df = df.reset_index()\n",
        "thread = data.merge(df,left_on = 'email',right_on = 'index')\n",
        "thread = thread[thread['email_y']>1]\n",
        "thread = thread.sort_values('email_y')\n",
        "thread['id'] = thread['id'].map(int)"
      ],
      "metadata": {
        "id": "DMcq9haw6sjf"
      },
      "execution_count": null,
      "outputs": []
    },
    {
      "cell_type": "markdown",
      "source": [
        "### Averaged topic probability"
      ],
      "metadata": {
        "id": "A53htfz-Atel"
      }
    },
    {
      "cell_type": "code",
      "source": [
        "probability = []\n",
        "for i in doc_lda:\n",
        "  a = [0]*num_topics\n",
        "  for x in i[0]:\n",
        "    a[x[0]] = x[1]\n",
        "  probability.append(np.array(a))\n",
        "probs = np.array(probability)"
      ],
      "metadata": {
        "id": "9G3SfH2J0r2J"
      },
      "execution_count": null,
      "outputs": []
    },
    {
      "cell_type": "code",
      "source": [
        "sample_30 = pd.read_csv(data_path+'30_selected_samples.csv')"
      ],
      "metadata": {
        "id": "SWzytDhs1LtV"
      },
      "execution_count": null,
      "outputs": []
    },
    {
      "cell_type": "code",
      "source": [
        "def get_new_topics(email_id):\n",
        "  threads = thread[thread['email_x'] == email_id].sort_values('id')\n",
        "  result = []\n",
        "  topic_evolv = []\n",
        "  topic_origin = []\n",
        "  frequency = {}\n",
        "  for i in range(len(threads)):\n",
        "    body = threads['bow'].iloc[i].split()\n",
        "    weight = min(1,1/(np.log(len(body)+1)+1)*2)\n",
        "    if i==0:\n",
        "      topic_evolv.append(str(np.argmax(probs[threads.index[i]])))\n",
        "      topic_origin.append(str(np.argmax(probs[threads.index[i]])))\n",
        "      result.append(probs[threads.index[i]])\n",
        "    else:\n",
        "      result.append((weight)*result[-1]+(1-weight)*probs[threads.index[i]])\n",
        "      topic_evolv.append(str(np.argmax(result[-1])))\n",
        "      topic_origin.append(str(np.argmax(probs[threads.index[i]])))\n",
        "    if topic_evolv[-1] in frequency:\n",
        "      frequency[topic_evolv[-1]]+=1\n",
        "    else:\n",
        "      frequency[topic_evolv[-1]] = 1\n",
        "  return topic_evolv, frequency, threads, topic_origin"
      ],
      "metadata": {
        "id": "g3CNEQSv66EB"
      },
      "execution_count": null,
      "outputs": []
    },
    {
      "cell_type": "code",
      "source": [
        "# for the purpose of being consistent with the lda result from R\n",
        "topic_dic = {0:1,\n",
        "1:3,\n",
        "2:6,\n",
        "3:7,\n",
        "4:4,\n",
        "5:2,\n",
        "6:5\n",
        "}"
      ],
      "metadata": {
        "id": "k7GAcJB1EBt2"
      },
      "execution_count": null,
      "outputs": []
    },
    {
      "cell_type": "code",
      "source": [
        "topic_evolv, frequency, threads, topic_origin = get_new_topics(sample_30.iloc[20].email)"
      ],
      "metadata": {
        "id": "73nr-5OM1OPM"
      },
      "execution_count": null,
      "outputs": []
    },
    {
      "cell_type": "code",
      "source": [
        "# show all the topics and their corresponding words\n",
        "for j in range(7):\n",
        "  topic_word = [str(j)]\n",
        "  for i in lda_model.get_topic_terms(int(j),10):\n",
        "    topic_word.append(id2word.id2token[i[0]])\n",
        "  print('_'.join(topic_word))"
      ],
      "metadata": {
        "id": "gurWILqVArxD",
        "colab": {
          "base_uri": "https://localhost:8080/"
        },
        "outputId": "738c70aa-8e0b-450b-b8fd-d3119ff8531d"
      },
      "execution_count": null,
      "outputs": [
        {
          "output_type": "stream",
          "name": "stdout",
          "text": [
            "0_company_enron_new_energy_million_year_trading_market_service_cost\n",
            "1_please_said_enron_may_information_agreement_business_contract_attached_mail\n",
            "2_enron_com_houston_employee_team_thursday_davis_business_skadden_generation\n",
            "3_san_understand_travel_vacation_earlier_coming_hotel_station_fare_diego\n",
            "4_would_know_need_time_let_get_like_deal_meeting_call\n",
            "5_urlmasker_way_one_going_new_year_free_make_still_imagemasker\n",
            "6_power_state_market_price_gas_california_energy_utility_customer_rate\n"
          ]
        }
      ]
    },
    {
      "cell_type": "markdown",
      "source": [
        "### Some visualizations"
      ],
      "metadata": {
        "id": "iwlyk0ppClm3"
      }
    },
    {
      "cell_type": "code",
      "source": [
        "import seaborn as sns\n",
        "sns. set (style= \"darkgrid\")"
      ],
      "metadata": {
        "id": "tWWfJa8t4l8_"
      },
      "execution_count": null,
      "outputs": []
    },
    {
      "cell_type": "code",
      "source": [
        "thread_change = {}\n",
        "topic_change_per_email = {}\n",
        "topic_transition = [[0 for i in range(num_topics)] for j in range(num_topics)]\n",
        "length = []\n",
        "topic_change_num = []\n",
        "lag = 3  # given topic at time t-lag, what is topic at time t\n",
        "for ind in set(list(thread.email_x)):\n",
        "  topic_evolv, frequency, threads, topic_origin = get_new_topics(ind)\n",
        "  num = 0\n",
        "  count = 1\n",
        "  for i in range(len(topic_evolv)-lag):\n",
        "    topic_transition[int(topic_evolv[i])][int(topic_evolv[i+lag])]+=1\n",
        "    if topic_evolv[i]==topic_evolv[i+lag]:\n",
        "      count += 1\n",
        "    else:\n",
        "      num+=1\n",
        "      if count in thread_change:\n",
        "        thread_change[count]+=1\n",
        "      else:\n",
        "        thread_change[count]=1\n",
        "      count = 1\n",
        "  if num in topic_change_per_email:\n",
        "    topic_change_per_email[num]+=1\n",
        "  else:\n",
        "    topic_change_per_email[num] = 1\n",
        "  length.append(len(threads))\n",
        "  topic_change_num.append(num)"
      ],
      "metadata": {
        "id": "1geYzarW4sO5"
      },
      "execution_count": null,
      "outputs": []
    },
    {
      "cell_type": "markdown",
      "source": [
        "#### Directed Graph"
      ],
      "metadata": {
        "id": "yP9SIVkE7h-2"
      }
    },
    {
      "cell_type": "code",
      "source": [
        "import networkx as nx"
      ],
      "metadata": {
        "id": "JhhOOe5MOUhf"
      },
      "execution_count": null,
      "outputs": []
    },
    {
      "cell_type": "code",
      "source": [
        "G = nx.DiGraph()"
      ],
      "metadata": {
        "id": "EXk2aE7YOsHt"
      },
      "execution_count": null,
      "outputs": []
    },
    {
      "cell_type": "code",
      "source": [
        "edge = []\n",
        "for i in range(len(topic_transition)):\n",
        "  for j in range(len(topic_transition)):\n",
        "    if topic_transition[i][j]<10:\n",
        "      continue\n",
        "    edge.append((i,j,topic_transition[i][j]))"
      ],
      "metadata": {
        "id": "VP7W3ayKPCMn"
      },
      "execution_count": null,
      "outputs": []
    },
    {
      "cell_type": "code",
      "source": [
        "G.add_weighted_edges_from(edge)"
      ],
      "metadata": {
        "id": "oMPLeLWiR7n6"
      },
      "execution_count": null,
      "outputs": []
    },
    {
      "cell_type": "code",
      "source": [
        "pos = nx.spring_layout(G, iterations=20)\n",
        "plt.figure(figsize=(16,14))\n",
        "nx.draw_networkx_edges(G,pos, width=[np.log(d['weight'])*0.5 for (u,v,d) in G.edges(data=True)], edge_color=\"orange\")\n",
        "nx.draw_networkx_nodes(G,pos, node_color=\"black\")\n",
        "nx.draw_networkx_labels(G, pos, font_color=\"white\")\n",
        "plt.show()\n",
        "\n",
        "# nx.draw(G,\n",
        "#     with_labels=True,\n",
        "#     pos = nx.sprint_layout(G),\n",
        "#     node_color=color_list,\n",
        "#     edge_color='k',\n",
        "#     node_size=100,\n",
        "#     node_shape='o',\n",
        "#     linewidths=2,\n",
        "#     width=1.0,\n",
        "#     alpha=0.55,\n",
        "#     style='solid',\n",
        "#     font_size=9,\n",
        "#     font_color='k'\n",
        "# )\n"
      ],
      "metadata": {
        "colab": {
          "base_uri": "https://localhost:8080/",
          "height": 792
        },
        "id": "A5Fu0ZmRP-fg",
        "outputId": "b5702e83-a1e7-43a5-a9c3-af727203584e"
      },
      "execution_count": null,
      "outputs": [
        {
          "output_type": "display_data",
          "data": {
            "text/plain": [
              "<Figure size 1152x1008 with 1 Axes>"
            ],
            "image/png": "[encoded data removed]"
          },
          "metadata": {}
        }
      ]
    },
    {
      "cell_type": "markdown",
      "source": [
        "#### Transition heatmap"
      ],
      "metadata": {
        "id": "0SieoYEUtqoZ"
      }
    },
    {
      "cell_type": "code",
      "source": [
        "topic_transition_log = [[0 for i in range(num_topics)] for j in range(num_topics)]\n",
        "topic_transition_new = [[0 for i in range(num_topics)] for j in range(num_topics)]\n",
        "for i in range(len(topic_transition)):\n",
        "  for j in range(len(topic_transition)):\n",
        "    topic_transition_log[topic_dic[i]-1][topic_dic[j]-1] = round(np.log(topic_transition[i][j]+1))\n",
        "    topic_transition_new[topic_dic[i]-1][topic_dic[j]-1] = topic_transition[i][j]"
      ],
      "metadata": {
        "id": "Wr5cl1hwqJGp"
      },
      "execution_count": null,
      "outputs": []
    },
    {
      "cell_type": "code",
      "source": [
        "s = sns.heatmap(topic_transition_log,annot=topic_transition_new, fmt=\"d\", cmap=\"YlGnBu\", linewidths=.6)\n",
        "s.set(xlabel='Topic in t', ylabel='Topic in t-3',title = 'Topic Transition',xticklabels = list(range(1,8)),yticklabels = list(range(1,8)));"
      ],
      "metadata": {
        "colab": {
          "base_uri": "https://localhost:8080/",
          "height": 301
        },
        "id": "CRYKDZRip83_",
        "outputId": "a757173f-7075-420c-bfdf-aa621386db57"
      },
      "execution_count": null,
      "outputs": [
        {
          "output_type": "display_data",
          "data": {
            "text/plain": [
              "<Figure size 432x288 with 2 Axes>"
            ],
            "image/png": "[encoded data removed]"
          },
          "metadata": {}
        }
      ]
    },
    {
      "cell_type": "markdown",
      "source": [
        "#### Number of topic changes per email vs length"
      ],
      "metadata": {
        "id": "BbT8pHh9tu9N"
      }
    },
    {
      "cell_type": "code",
      "source": [
        "plt.scatter(length,topic_change_num)\n",
        "# plt.title('Number of topic changes per email vs length')\n",
        "plt.ylabel('Number of topic changes per thread')\n",
        "plt.xlabel('Thread length');"
      ],
      "metadata": {
        "colab": {
          "base_uri": "https://localhost:8080/",
          "height": 286
        },
        "id": "uvH3NdAxQ47L",
        "outputId": "b1ba76e6-e8c9-4944-a59f-87cc6627f2a8"
      },
      "execution_count": null,
      "outputs": [
        {
          "output_type": "display_data",
          "data": {
            "text/plain": [
              "<Figure size 432x288 with 1 Axes>"
            ],
            "image/png": "[encoded data removed]"
          },
          "metadata": {}
        }
      ]
    },
    {
      "cell_type": "markdown",
      "source": [
        "#### Number of topic changes per email"
      ],
      "metadata": {
        "id": "mdWlsjGQtz_M"
      }
    },
    {
      "cell_type": "code",
      "source": [
        "x, y = zip (*sorted(topic_change_per_email.items(),key = lambda x:x[1],reverse = True))\n",
        "plt.bar(x,np.log(y)+1)\n",
        "# plt.title('Number of topic changes per thread')\n",
        "plt.ylabel('Log_Frequency')\n",
        "plt.xlabel('Number of topic changes per thread');"
      ],
      "metadata": {
        "colab": {
          "base_uri": "https://localhost:8080/",
          "height": 285
        },
        "id": "enisWLwvQvmV",
        "outputId": "16211445-6a7d-4b99-a0fe-37c6120bb658"
      },
      "execution_count": null,
      "outputs": [
        {
          "output_type": "display_data",
          "data": {
            "text/plain": [
              "<Figure size 432x288 with 1 Axes>"
            ],
            "image/png": "[encoded data removed]"
          },
          "metadata": {}
        }
      ]
    },
    {
      "cell_type": "markdown",
      "source": [
        "#### Frequency of thread length when topic changes"
      ],
      "metadata": {
        "id": "jQJNQGLlt4Rk"
      }
    },
    {
      "cell_type": "code",
      "source": [
        "x, y = zip (*sorted(thread_change.items(),key = lambda x:x[1],reverse = True))\n",
        "plt.bar(x,np.log(y)+1)\n",
        "plt.title('Frequency of thread length when topic changes')\n",
        "plt.ylabel('Log_Frequency')\n",
        "plt.xlabel('Thread length');"
      ],
      "metadata": {
        "colab": {
          "base_uri": "https://localhost:8080/",
          "height": 301
        },
        "id": "j7qFJJNz4sst",
        "outputId": "eb7d2bd9-cb5c-4f5e-c037-0765674adcfa"
      },
      "execution_count": null,
      "outputs": [
        {
          "output_type": "display_data",
          "data": {
            "text/plain": [
              "<Figure size 432x288 with 1 Axes>"
            ],
            "image/png": "[encoded data removed]"
          },
          "metadata": {}
        }
      ]
    },
    {
      "cell_type": "markdown",
      "source": [
        "## Evolution visualization"
      ],
      "metadata": {
        "id": "_wxjA96EB75i"
      }
    },
    {
      "cell_type": "code",
      "source": [
        "topic_evolv, frequency, threads, topic_origin = get_new_topics(sample_30.iloc[20].email)"
      ],
      "metadata": {
        "id": "SV7cYkvQFyfp"
      },
      "execution_count": null,
      "outputs": []
    },
    {
      "cell_type": "code",
      "source": [
        "!pip install pyLDAvis"
      ],
      "metadata": {
        "id": "n0-bpJsrdDC6"
      },
      "execution_count": null,
      "outputs": []
    },
    {
      "cell_type": "code",
      "source": [
        "import pyLDAvis\n",
        "import pyLDAvis.gensim_models"
      ],
      "metadata": {
        "id": "UUf0j3vhdAU_",
        "colab": {
          "base_uri": "https://localhost:8080/"
        },
        "outputId": "af6440eb-11a6-461f-c7d5-65e864a2a9c0"
      },
      "execution_count": null,
      "outputs": [
        {
          "output_type": "stream",
          "name": "stderr",
          "text": [
            "/usr/local/lib/python3.7/dist-packages/past/types/oldstr.py:5: DeprecationWarning: Using or importing the ABCs from 'collections' instead of from 'collections.abc' is deprecated since Python 3.3,and in 3.9 it will stop working\n",
            "  from collections import Iterable\n"
          ]
        }
      ]
    },
    {
      "cell_type": "markdown",
      "source": [
        "### pyLDAvis code change"
      ],
      "metadata": {
        "id": "Wkux_GOpuCJP"
      }
    },
    {
      "cell_type": "code",
      "source": [
        "\"\"\"\n",
        "pyLDAvis Prepare\n",
        "===============\n",
        "Main transformation functions for preparing LDAdata to the visualization's data structures\n",
        "\"\"\"\n",
        "\n",
        "from past.builtins import basestring\n",
        "from collections import namedtuple\n",
        "import json\n",
        "import logging\n",
        "from joblib import Parallel, delayed, cpu_count\n",
        "import numpy as np\n",
        "import pandas as pd\n",
        "from scipy.stats import entropy\n",
        "from scipy.spatial.distance import pdist, squareform\n",
        "from pyLDAvis.utils import NumPyEncoder\n",
        "try:\n",
        "    from sklearn.manifold import MDS, TSNE\n",
        "    sklearn_present = True\n",
        "except ImportError:\n",
        "    sklearn_present = False\n",
        "\n",
        "\n",
        "def __num_dist_rows__(array, ndigits=2):\n",
        "    return array.shape[0] - int((pd.DataFrame(array).sum(axis=1) < 0.999).sum())\n",
        "\n",
        "\n",
        "class ValidationError(ValueError):\n",
        "    pass\n",
        "\n",
        "\n",
        "def _input_check(topic_term_dists, doc_topic_dists, doc_lengths, vocab, term_frequency):\n",
        "    ttds = topic_term_dists.shape\n",
        "    dtds = doc_topic_dists.shape\n",
        "    errors = []\n",
        "\n",
        "    def err(msg):\n",
        "        errors.append(msg)\n",
        "\n",
        "    if dtds[1] != ttds[0]:\n",
        "        err_msg = ('Number of rows of topic_term_dists does not match number of columns of '\n",
        "                   'doc_topic_dists; both should be equal to the number of topics in the model.')\n",
        "        err(err_msg)\n",
        "\n",
        "    if len(doc_lengths) != dtds[0]:\n",
        "        err_msg = ('Length of doc_lengths not equal to the number of rows in doc_topic_dists;'\n",
        "                   'both should be equal to the number of documents in the data.')\n",
        "        err(err_msg)\n",
        "\n",
        "    W = len(vocab)\n",
        "    if ttds[1] != W:\n",
        "        err_msg = ('Number of terms in vocabulary does not match the number of columns of '\n",
        "                   'topic_term_dists (where each row of topic_term_dists is a probability '\n",
        "                   'distribution of terms for a given topic)')\n",
        "        err(err_msg)\n",
        "    if len(term_frequency) != W:\n",
        "        err_msg = ('Length of term_frequency not equal to the number of terms in the '\n",
        "                   'number of terms in the vocabulary (len of vocab)')\n",
        "        err(err_msg)\n",
        "\n",
        "    if __num_dist_rows__(topic_term_dists) != ttds[0]:\n",
        "        err('Not all rows (distributions) in topic_term_dists sum to 1.')\n",
        "\n",
        "    if __num_dist_rows__(doc_topic_dists) != dtds[0]:\n",
        "        err('Not all rows (distributions) in doc_topic_dists sum to 1.')\n",
        "\n",
        "    if len(errors) > 0:\n",
        "        return errors\n",
        "\n",
        "\n",
        "def _input_validate(*args):\n",
        "    res = _input_check(*args)\n",
        "    if res:\n",
        "        raise ValidationError('\\n' + '\\n'.join([' * ' + s for s in res]))\n",
        "\n",
        "\n",
        "def _jensen_shannon(_P, _Q):\n",
        "    _M = 0.5 * (_P + _Q)\n",
        "    return 0.5 * (entropy(_P, _M) + entropy(_Q, _M))\n",
        "\n",
        "\n",
        "def _pcoa(pair_dists, n_components=2):\n",
        "    \"\"\"Principal Coordinate Analysis,\n",
        "    aka Classical Multidimensional Scaling\n",
        "    \"\"\"\n",
        "    # code referenced from skbio.stats.ordination.pcoa\n",
        "    # https://github.com/biocore/scikit-bio/blob/0.5.0/skbio/stats/ordination/_principal_coordinate_analysis.py\n",
        "\n",
        "    # pairwise distance matrix is assumed symmetric\n",
        "    pair_dists = np.asarray(pair_dists, np.float64)\n",
        "\n",
        "    # perform SVD on double centred distance matrix\n",
        "    n = pair_dists.shape[0]\n",
        "    H = np.eye(n) - np.ones((n, n)) / n\n",
        "    B = - H.dot(pair_dists ** 2).dot(H) / 2\n",
        "    eigvals, eigvecs = np.linalg.eig(B)\n",
        "\n",
        "    # Take first n_components of eigenvalues and eigenvectors\n",
        "    # sorted in decreasing order\n",
        "    ix = eigvals.argsort()[::-1][:n_components]\n",
        "    eigvals = eigvals[ix]\n",
        "    eigvecs = eigvecs[:, ix]\n",
        "\n",
        "    # replace any remaining negative eigenvalues and associated eigenvectors with zeroes\n",
        "    # at least 1 eigenvalue must be zero\n",
        "    eigvals[np.isclose(eigvals, 0)] = 0\n",
        "    if np.any(eigvals < 0):\n",
        "        ix_neg = eigvals < 0\n",
        "        eigvals[ix_neg] = np.zeros(eigvals[ix_neg].shape)\n",
        "        eigvecs[:, ix_neg] = np.zeros(eigvecs[:, ix_neg].shape)\n",
        "\n",
        "    return np.sqrt(eigvals) * eigvecs\n",
        "\n",
        "\n",
        "def js_PCoA(distributions):\n",
        "    \"\"\"Dimension reduction via Jensen-Shannon Divergence & Principal Coordinate Analysis\n",
        "    (aka Classical Multidimensional Scaling)\n",
        "\n",
        "    Parameters\n",
        "    ----------\n",
        "    distributions : array-like, shape (`n_dists`, `k`)\n",
        "        Matrix of distributions probabilities.\n",
        "\n",
        "    Returns\n",
        "    -------\n",
        "    pcoa : array, shape (`n_dists`, 2)\n",
        "    \"\"\"\n",
        "    dist_matrix = squareform(pdist(distributions, metric=_jensen_shannon))\n",
        "    return _pcoa(dist_matrix)\n",
        "\n",
        "\n",
        "def js_MMDS(distributions, **kwargs):\n",
        "    \"\"\"Dimension reduction via Jensen-Shannon Divergence & Metric Multidimensional Scaling\n",
        "\n",
        "    Parameters\n",
        "    ----------\n",
        "    distributions : array-like, shape (`n_dists`, `k`)\n",
        "        Matrix of distributions probabilities.\n",
        "\n",
        "    **kwargs : Keyword argument to be passed to `sklearn.manifold.MDS()`\n",
        "\n",
        "    Returns\n",
        "    -------\n",
        "    mmds : array, shape (`n_dists`, 2)\n",
        "    \"\"\"\n",
        "    dist_matrix = squareform(pdist(distributions, metric=_jensen_shannon))\n",
        "    model = MDS(n_components=2, random_state=0, dissimilarity='precomputed', **kwargs)\n",
        "    return model.fit_transform(dist_matrix)\n",
        "\n",
        "\n",
        "def js_TSNE(distributions, **kwargs):\n",
        "    \"\"\"Dimension reduction via Jensen-Shannon Divergence & t-distributed Stochastic Neighbor Embedding\n",
        "\n",
        "    Parameters\n",
        "    ----------\n",
        "    distributions : array-like, shape (`n_dists`, `k`)\n",
        "        Matrix of distributions probabilities.\n",
        "\n",
        "    **kwargs : Keyword argument to be passed to `sklearn.manifold.TSNE()`\n",
        "\n",
        "    Returns\n",
        "    -------\n",
        "    tsne : array, shape (`n_dists`, 2)\n",
        "    \"\"\"\n",
        "    dist_matrix = squareform(pdist(distributions, metric=_jensen_shannon))\n",
        "    model = TSNE(n_components=2, random_state=0, metric='precomputed', **kwargs)\n",
        "    return model.fit_transform(dist_matrix)\n",
        "\n",
        "\n",
        "def _df_with_names(data, index_name, columns_name):\n",
        "    if type(data) == pd.DataFrame:\n",
        "        # we want our index to be numbered\n",
        "        df = pd.DataFrame(data.values)\n",
        "    else:\n",
        "        df = pd.DataFrame(data)\n",
        "    df.index.name = index_name\n",
        "    df.columns.name = columns_name\n",
        "    return df\n",
        "\n",
        "\n",
        "def _series_with_name(data, name):\n",
        "    if type(data) == pd.Series:\n",
        "        data.name = name\n",
        "        # ensures a numeric index\n",
        "        return data.reset_index()[name]\n",
        "    else:\n",
        "        return pd.Series(data, name=name)\n",
        "\n",
        "\n",
        "def _topic_coordinates(mds, topic_term_dists, topic_proportion, start_index=1):\n",
        "    K = topic_term_dists.shape[0]\n",
        "    mds_res = mds(topic_term_dists)\n",
        "    assert mds_res.shape == (K, 2)\n",
        "    mds_df = pd.DataFrame({'x': mds_res[:, 0], 'y': mds_res[:, 1],\n",
        "                          #  'topics': range(start_index, K + start_index),\n",
        "                           'cluster': 1, 'Freq': topic_proportion * 100})\n",
        "    # note: cluster (should?) be deprecated soon. See: https://github.com/cpsievert/LDAvis/issues/26\n",
        "    mds_df['topics'] = mds_df.index\n",
        "    return mds_df\n",
        "\n",
        "\n",
        "def _chunks(lambda_seq, n):\n",
        "    \"\"\" Yield successive n-sized chunks from lambda_seq.\n",
        "    \"\"\"\n",
        "    for i in range(0, len(lambda_seq), n):\n",
        "        yield lambda_seq[i:i + n]\n",
        "\n",
        "\n",
        "def _job_chunks(lambda_seq, n_jobs):\n",
        "    n_chunks = n_jobs\n",
        "    if n_jobs < 0:\n",
        "        # so, have n chunks if we are using all n cores/cpus\n",
        "        n_chunks = cpu_count() + 1 - n_jobs\n",
        "\n",
        "    return _chunks(lambda_seq, n_chunks)\n",
        "\n",
        "\n",
        "def _find_relevance(log_ttd, log_lift, R, lambda_):\n",
        "    relevance = lambda_ * log_ttd + (1 - lambda_) * log_lift\n",
        "    return relevance.T.apply(lambda topic: topic.nlargest(R).index)\n",
        "\n",
        "\n",
        "def _find_relevance_chunks(log_ttd, log_lift, R, lambda_seq):\n",
        "    return pd.concat([_find_relevance(log_ttd, log_lift, R, seq) for seq in lambda_seq])\n",
        "\n",
        "\n",
        "def _topic_info(topic_term_dists, topic_proportion, term_frequency, term_topic_freq,\n",
        "                vocab, lambda_step, R, n_jobs, start_index=1):\n",
        "    # marginal distribution over terms (width of blue bars)\n",
        "    term_proportion = term_frequency / term_frequency.sum()\n",
        "\n",
        "    # compute the distinctiveness and saliency of the terms:\n",
        "    # this determines the R terms that are displayed when no topic is selected.\n",
        "    tt_sum = topic_term_dists.sum()\n",
        "    topic_given_term = pd.eval(\"topic_term_dists / tt_sum\")\n",
        "    log_1 = np.log(pd.eval(\"topic_given_term.T / topic_proportion\"))\n",
        "    kernel = pd.eval(\"topic_given_term * log_1.T\")\n",
        "    distinctiveness = kernel.sum()\n",
        "    saliency = term_proportion * distinctiveness\n",
        "    # Order the terms for the \"default\" view by decreasing saliency:\n",
        "    default_term_info = pd.DataFrame({\n",
        "        'saliency': saliency,\n",
        "        'Term': vocab,\n",
        "        'Freq': term_frequency,\n",
        "        'Total': term_frequency,\n",
        "        'Category': 'Default'})\n",
        "    default_term_info = default_term_info.sort_values(\n",
        "        by='saliency', ascending=False).head(R).drop('saliency', 1)\n",
        "    # Rounding Freq and Total to integer values to match LDAvis code:\n",
        "    default_term_info['Freq'] = np.floor(default_term_info['Freq'])\n",
        "    default_term_info['Total'] = np.floor(default_term_info['Total'])\n",
        "    ranks = np.arange(R, 0, -1)\n",
        "    default_term_info['logprob'] = default_term_info['loglift'] = ranks\n",
        "    default_term_info = default_term_info.reindex(columns=[\n",
        "        \"Term\", \"Freq\", \"Total\", \"Category\", \"logprob\", \"loglift\"\n",
        "    ])\n",
        "\n",
        "    # compute relevance and top terms for each topic\n",
        "    log_lift = np.log(pd.eval(\"topic_term_dists / term_proportion\")).astype(\"float64\")\n",
        "    log_ttd = np.log(pd.eval(\"topic_term_dists\")).astype(\"float64\")\n",
        "    lambda_seq = np.arange(0, 1 + lambda_step, lambda_step)\n",
        "\n",
        "    def topic_top_term_df(tup):\n",
        "        new_topic_id, (original_topic_id, topic_terms) = tup\n",
        "        term_ix = topic_terms.unique()\n",
        "        df = pd.DataFrame({'Term': vocab[term_ix],\n",
        "                           'Freq': term_topic_freq.loc[original_topic_id, term_ix],\n",
        "                           'Total': term_frequency[term_ix],\n",
        "                           'Category': 'Topic%d' % new_topic_id,\n",
        "                           'logprob': log_ttd.loc[original_topic_id, term_ix].round(4),\n",
        "                           'loglift': log_lift.loc[original_topic_id, term_ix].round(4),\n",
        "                           })\n",
        "        return df.reindex(columns=[\n",
        "            \"Term\", \"Freq\", \"Total\", \"Category\", \"logprob\", \"loglift\"\n",
        "        ])\n",
        "\n",
        "    top_terms = pd.concat(Parallel(n_jobs=n_jobs)\n",
        "                          (delayed(_find_relevance_chunks)(log_ttd, log_lift, R, ls)\n",
        "                          for ls in _job_chunks(lambda_seq, n_jobs)))\n",
        "    topic_dfs = map(topic_top_term_df, enumerate(top_terms.T.iterrows(), start_index))\n",
        "    return pd.concat([default_term_info] + list(topic_dfs))\n",
        "\n",
        "\n",
        "def _token_table(topic_info, term_topic_freq, vocab, term_frequency, start_index=1):\n",
        "    # last, to compute the areas of the circles when a term is highlighted\n",
        "    # we must gather all unique terms that could show up (for every combination\n",
        "    # of topic and value of lambda) and compute its distribution over topics.\n",
        "\n",
        "    # term-topic frequency table of unique terms across all topics and all values of lambda\n",
        "    term_ix = topic_info.index.unique()\n",
        "    term_ix = np.sort(term_ix)\n",
        "\n",
        "    top_topic_terms_freq = term_topic_freq[term_ix]\n",
        "    # use the new ordering for the topics\n",
        "    K = len(term_topic_freq)\n",
        "    top_topic_terms_freq.index = range(start_index, K + start_index)\n",
        "    top_topic_terms_freq.index.name = 'Topic'\n",
        "\n",
        "    # we filter to Freq >= 0.5 to avoid sending too much data to the browser\n",
        "    token_table = pd.DataFrame({'Freq': top_topic_terms_freq.unstack()})\\\n",
        "        .reset_index().set_index('term').query('Freq >= 0.5')\n",
        "\n",
        "    token_table['Freq'] = token_table['Freq'].round()\n",
        "    token_table['Term'] = vocab[token_table.index.values].values\n",
        "    # Normalize token frequencies:\n",
        "    token_table['Freq'] = token_table.Freq / term_frequency[token_table.index]\n",
        "    return token_table.sort_values(by=['Term', 'Topic'])\n",
        "\n",
        "\n",
        "def prepare_data(topic_term_dists, doc_topic_dists, doc_lengths, vocab, term_frequency,\n",
        "            R=30, lambda_step=0.01, mds=js_PCoA, n_jobs=-1,\n",
        "            plot_opts=None, sort_topics=True, start_index=1):\n",
        "    \"\"\"Transforms the topic model distributions and related corpus data into\n",
        "    the data structures needed for the visualization.\n",
        "\n",
        "    Parameters\n",
        "    ----------\n",
        "    topic_term_dists : array-like, shape (`n_topics`, `n_terms`)\n",
        "        Matrix of topic-term probabilities. Where `n_terms` is `len(vocab)`.\n",
        "    doc_topic_dists : array-like, shape (`n_docs`, `n_topics`)\n",
        "        Matrix of document-topic probabilities.\n",
        "    doc_lengths : array-like, shape `n_docs`\n",
        "        The length of each document, i.e. the number of words in each document.\n",
        "        The order of the numbers should be consistent with the ordering of the\n",
        "        docs in `doc_topic_dists`.\n",
        "    vocab : array-like, shape `n_terms`\n",
        "        List of all the words in the corpus used to train the model.\n",
        "    term_frequency : array-like, shape `n_terms`\n",
        "        The count of each particular term over the entire corpus. The ordering\n",
        "        of these counts should correspond with `vocab` and `topic_term_dists`.\n",
        "    R : int\n",
        "        The number of terms to display in the barcharts of the visualization.\n",
        "        Default is 30. Recommended to be roughly between 10 and 50.\n",
        "    lambda_step : float, between 0 and 1\n",
        "        Determines the interstep distance in the grid of lambda values over\n",
        "        which to iterate when computing relevance.\n",
        "        Default is 0.01. Recommended to be between 0.01 and 0.1.\n",
        "    mds : function or a string representation of function\n",
        "        A function that takes `topic_term_dists` as an input and outputs a\n",
        "        `n_topics` by `2`  distance matrix. The output approximates the distance\n",
        "        between topics. See :func:`js_PCoA` for details on the default function.\n",
        "        A string representation currently accepts `pcoa` (or upper case variant),\n",
        "        `mmds` (or upper case variant) and `tsne` (or upper case variant),\n",
        "        if `sklearn` package is installed for the latter two.\n",
        "    n_jobs : int\n",
        "        The number of cores to be used to do the computations. The regular\n",
        "        joblib conventions are followed so `-1`, which is the default, will\n",
        "        use all cores.\n",
        "    plot_opts : dict, with keys 'xlab' and `ylab`\n",
        "        Dictionary of plotting options, right now only used for the axis labels.\n",
        "    sort_topics : sort topics by topic proportion (percentage of tokens covered). Set to false to\n",
        "        to keep original topic order.\n",
        "    start_index: how to number topics for prepared data. Defaults to one-based indexing.\n",
        "        Set to 0 for zero-based indexing.\n",
        "\n",
        "    Returns\n",
        "    -------\n",
        "    prepared_data : PreparedData\n",
        "        A named tuple containing all the data structures required to create\n",
        "        the visualization. To be passed on to functions like :func:`display`.\n",
        "        This named tuple can be represented as json or a python dictionary.\n",
        "        There is a helper function 'sorted_terms' that can be used to get\n",
        "        the terms of a topic using lambda to rank their relevance.\n",
        "\n",
        "\n",
        "    Notes\n",
        "    -----\n",
        "    This implements the method of `Sievert, C. and Shirley, K. (2014):\n",
        "    LDAvis: A Method for Visualizing and Interpreting Topics, ACL Workshop on\n",
        "    Interactive Language Learning, Visualization, and Interfaces.`\n",
        "\n",
        "    http://nlp.stanford.edu/events/illvi2014/papers/sievert-illvi2014.pdf\n",
        "\n",
        "    See Also\n",
        "    --------\n",
        "    :func:`save_json`: save json representation of a figure to file\n",
        "    :func:`save_html` : save html representation of a figure to file\n",
        "    :func:`show` : launch a local server and show a figure in a browser\n",
        "    :func:`display` : embed figure within the IPython notebook\n",
        "    :func:`enable_notebook` : automatically embed visualizations in IPython notebook\n",
        "   \"\"\"\n",
        "    if plot_opts is None:\n",
        "        plot_opts = {'xlab': 'PC1', 'ylab': 'PC2'}\n",
        "\n",
        "    # parse mds\n",
        "    if isinstance(mds, basestring):\n",
        "        mds = mds.lower()\n",
        "        if mds == 'pcoa':\n",
        "            mds = js_PCoA\n",
        "        elif mds in ('mmds', 'tsne'):\n",
        "            if sklearn_present:\n",
        "                mds_opts = {'mmds': js_MMDS, 'tsne': js_TSNE}\n",
        "                mds = mds_opts[mds]\n",
        "            else:\n",
        "                logging.warning('sklearn not present, switch to PCoA')\n",
        "                mds = js_PCoA\n",
        "        else:\n",
        "            logging.warning('Unknown mds `%s`, switch to PCoA' % mds)\n",
        "            mds = js_PCoA\n",
        "\n",
        "    # Conceptually, the items in `topic_term_dists` end up as individual rows in the\n",
        "    # DataFrame, but we can speed up ingestion by treating them as columns and\n",
        "    # transposing at the end. (This is especially true when the number of terms far\n",
        "    # exceeds the number of topics.)\n",
        "    topic_term_dist_cols = [\n",
        "        pd.Series(topic_term_dist, dtype=\"float64\")\n",
        "        for topic_term_dist in topic_term_dists\n",
        "    ]\n",
        "    topic_term_dists = pd.concat(topic_term_dist_cols, axis=1).T\n",
        "\n",
        "    topic_term_dists = _df_with_names(topic_term_dists, 'topic', 'term')\n",
        "    doc_topic_dists = _df_with_names(doc_topic_dists, 'doc', 'topic')\n",
        "    term_frequency = _series_with_name(term_frequency, 'term_frequency')\n",
        "    doc_lengths = _series_with_name(doc_lengths, 'doc_length')\n",
        "    vocab = _series_with_name(vocab, 'vocab')\n",
        "    _input_validate(topic_term_dists, doc_topic_dists, doc_lengths, vocab, term_frequency)\n",
        "    R = min(R, len(vocab))\n",
        "\n",
        "    topic_freq = doc_topic_dists.mul(doc_lengths, axis=\"index\").sum()\n",
        "    # topic_freq       = np.dot(doc_topic_dists.T, doc_lengths)\n",
        "    if (sort_topics):\n",
        "        topic_proportion = (topic_freq / topic_freq.sum()).sort_values(ascending=False)\n",
        "    else:\n",
        "        topic_proportion = (topic_freq / topic_freq.sum())\n",
        "\n",
        "    topic_order = topic_proportion.index\n",
        "    # reorder all data based on new ordering of topics\n",
        "    topic_freq = topic_freq[topic_order]\n",
        "    topic_term_dists = topic_term_dists.iloc[topic_order]\n",
        "    # Unused: doc_topic_dists = doc_topic_dists[topic_order]\n",
        "\n",
        "    # token counts for each term-topic combination (widths of red bars)\n",
        "    term_topic_freq = (topic_term_dists.T * topic_freq).T\n",
        "    # Quick fix for red bar width bug.  We calculate the\n",
        "    # term frequencies internally, using the topic term distributions and the\n",
        "    # topic frequencies, rather than using the user-supplied term frequencies.\n",
        "    # For a detailed discussion, see: https://github.com/cpsievert/LDAvis/pull/41\n",
        "    term_frequency = np.sum(term_topic_freq, axis=0)\n",
        "\n",
        "    topic_info = _topic_info(topic_term_dists, topic_proportion,\n",
        "                             term_frequency, term_topic_freq, vocab, lambda_step, R,\n",
        "                             n_jobs, start_index)\n",
        "    token_table = _token_table(topic_info, term_topic_freq, vocab, term_frequency, start_index)\n",
        "    # print(topic_term_dists)\n",
        "    topic_coordinates = _topic_coordinates(mds, topic_term_dists, topic_proportion, start_index)\n",
        "    client_topic_order = [x + start_index for x in topic_order]\n",
        "    # print(client_topic_order)\n",
        "    return topic_coordinates\n",
        "class PreparedData(namedtuple('PreparedData', ['topic_coordinates', 'topic_info', 'token_table',\n",
        "                                               'R', 'lambda_step', 'plot_opts', 'topic_order'])):\n",
        "\n",
        "    def sorted_terms(self, topic=1, _lambda=1):\n",
        "        \"\"\"Returns a dataframe using _lambda to calculate term relevance of a given topic.\"\"\"\n",
        "        tdf = pd.DataFrame(self.topic_info[self.topic_info.Category == 'Topic' + str(topic)])\n",
        "        if _lambda < 0 or _lambda > 1:\n",
        "            _lambda = 1\n",
        "        stdf = tdf.assign(relevance=_lambda * tdf['logprob'] + (1 - _lambda) * tdf['loglift'])\n",
        "        return stdf.sort_values('relevance', ascending=False)\n",
        "\n",
        "    def to_dict(self):\n",
        "        return {'mdsDat': self.topic_coordinates.to_dict(orient='list'),\n",
        "                'tinfo': self.topic_info.to_dict(orient='list'),\n",
        "                'token.table': self.token_table.to_dict(orient='list'),\n",
        "                'R': self.R,\n",
        "                'lambda.step': self.lambda_step,\n",
        "                'plot.opts': self.plot_opts,\n",
        "                'topic.order': self.topic_order}\n",
        "\n",
        "    def to_json(self):\n",
        "        return json.dumps(self.to_dict(), cls=NumPyEncoder)"
      ],
      "metadata": {
        "id": "lC17sCk7AFu9"
      },
      "execution_count": null,
      "outputs": []
    },
    {
      "cell_type": "code",
      "source": [
        "\"\"\"\n",
        "pyLDAvis Gensim\n",
        "===============\n",
        "Helper functions to visualize LDA models trained by Gensim\n",
        "\"\"\"\n",
        "\n",
        "import funcy as fp\n",
        "import numpy as np\n",
        "from scipy.sparse import issparse\n",
        "import pyLDAvis._prepare\n",
        "\n",
        "\n",
        "def _extract_data(topic_model, corpus, dictionary, doc_topic_dists=None):\n",
        "    import gensim\n",
        "\n",
        "    if not gensim.matutils.ismatrix(corpus):\n",
        "        corpus_csc = gensim.matutils.corpus2csc(corpus, num_terms=len(dictionary))\n",
        "    else:\n",
        "        corpus_csc = corpus\n",
        "        # Need corpus to be a streaming gensim list corpus for len and inference functions below:\n",
        "        corpus = gensim.matutils.Sparse2Corpus(corpus_csc)\n",
        "\n",
        "    vocab = list(dictionary.token2id.keys())\n",
        "    # TODO: add the hyperparam to smooth it out? no beta in online LDA impl.. hmm..\n",
        "    # for now, I'll just make sure we don't ever get zeros...\n",
        "    beta = 0.01\n",
        "    fnames_argsort = np.asarray(list(dictionary.token2id.values()), dtype=np.int_)\n",
        "    term_freqs = corpus_csc.sum(axis=1).A.ravel()[fnames_argsort]\n",
        "    term_freqs[term_freqs == 0] = beta\n",
        "    doc_lengths = corpus_csc.sum(axis=0).A.ravel()\n",
        "\n",
        "    assert term_freqs.shape[0] == len(dictionary),\\\n",
        "        'Term frequencies and dictionary have different shape {} != {}'.format(\n",
        "        term_freqs.shape[0], len(dictionary))\n",
        "    assert doc_lengths.shape[0] == len(corpus),\\\n",
        "        'Document lengths and corpus have different sizes {} != {}'.format(\n",
        "        doc_lengths.shape[0], len(corpus))\n",
        "\n",
        "    if hasattr(topic_model, 'lda_alpha'):\n",
        "        num_topics = len(topic_model.lda_alpha)\n",
        "    else:\n",
        "        num_topics = topic_model.num_topics\n",
        "\n",
        "    if doc_topic_dists is None:\n",
        "        # If its an HDP model.\n",
        "        if hasattr(topic_model, 'lda_beta'):\n",
        "            gamma = topic_model.inference(corpus)\n",
        "        else:\n",
        "            gamma, _ = topic_model.inference(corpus)\n",
        "        doc_topic_dists = gamma / gamma.sum(axis=1)[:, None]\n",
        "    else:\n",
        "        if isinstance(doc_topic_dists, list):\n",
        "            doc_topic_dists = gensim.matutils.corpus2dense(doc_topic_dists, num_topics).T\n",
        "        elif issparse(doc_topic_dists):\n",
        "            doc_topic_dists = doc_topic_dists.T.todense()\n",
        "        doc_topic_dists = doc_topic_dists / doc_topic_dists.sum(axis=1)\n",
        "\n",
        "    assert doc_topic_dists.shape[1] == num_topics,\\\n",
        "        'Document topics and number of topics do not match {} != {}'.format(\n",
        "        doc_topic_dists.shape[1], num_topics)\n",
        "\n",
        "    # get the topic-term distribution straight from gensim without\n",
        "    # iterating over tuples\n",
        "    if hasattr(topic_model, 'lda_beta'):\n",
        "        topic = topic_model.lda_beta\n",
        "    else:\n",
        "        topic = topic_model.state.get_lambda()\n",
        "    topic = topic / topic.sum(axis=1)[:, None]\n",
        "    topic_term_dists = topic[:, fnames_argsort]\n",
        "\n",
        "    assert topic_term_dists.shape[0] == doc_topic_dists.shape[1]\n",
        "\n",
        "    return {'topic_term_dists': topic_term_dists, 'doc_topic_dists': doc_topic_dists,\n",
        "            'doc_lengths': doc_lengths, 'vocab': vocab, 'term_frequency': term_freqs}\n",
        "\n",
        "\n",
        "def prepare(topic_model, corpus, dictionary, doc_topic_dist=None, **kwargs):\n",
        "    \"\"\"Transforms the Gensim TopicModel and related corpus and dictionary into\n",
        "    the data structures needed for the visualization.\n",
        "\n",
        "    Parameters\n",
        "    ----------\n",
        "    topic_model : gensim.models.ldamodel.LdaModel\n",
        "        An already trained Gensim LdaModel. The other gensim model types are\n",
        "        not supported (PRs welcome).\n",
        "\n",
        "    corpus : array-like list of bag of word docs in tuple form or scipy CSC matrix\n",
        "        The corpus in bag of word form, the same docs used to train the model.\n",
        "        The corpus is transformed into a csc matrix internally, if you intend to\n",
        "        call prepare multiple times it is a good idea to first call\n",
        "        `gensim.matutils.corpus2csc(corpus)` and pass in the csc matrix instead.\n",
        "\n",
        "    For example: [(50, 3), (63, 5), ....]\n",
        "\n",
        "    dictionary: gensim.corpora.Dictionary\n",
        "        The dictionary object used to create the corpus. Needed to extract the\n",
        "        actual terms (not ids).\n",
        "\n",
        "    doc_topic_dist (optional): Document topic distribution from LDA (default=None)\n",
        "        The document topic distribution that is eventually visualised, if you will\n",
        "        be calling `prepare` multiple times it's a good idea to explicitly pass in\n",
        "        `doc_topic_dist` as inferring this for large corpora can be quite\n",
        "        expensive.\n",
        "\n",
        "    **kwargs :\n",
        "        additional keyword arguments are passed through to :func:`pyldavis.prepare`.\n",
        "\n",
        "    Returns\n",
        "    -------\n",
        "    prepared_data : PreparedData\n",
        "        the data structures used in the visualization\n",
        "\n",
        "    Example\n",
        "    --------\n",
        "    For example usage please see this notebook:\n",
        "    http://nbviewer.ipython.org/github/bmabey/pyLDAvis/blob/master/notebooks/Gensim%20Newsgroup.ipynb\n",
        "\n",
        "    See\n",
        "    ------\n",
        "    See `pyLDAvis.prepare` for **kwargs.\n",
        "    \"\"\"\n",
        "    opts = fp.merge(_extract_data(topic_model, corpus, dictionary, doc_topic_dist), kwargs)\n",
        "    # return _extract_data(topic_model, corpus, dictionary, doc_topic_dist)\n",
        "    # print(opts)\n",
        "    return prepare_data(**opts)\n"
      ],
      "metadata": {
        "id": "crmjkvSb-MDG"
      },
      "execution_count": null,
      "outputs": []
    },
    {
      "cell_type": "code",
      "source": [
        "# !pip install bertopic"
      ],
      "metadata": {
        "id": "yej3GHjlA-Ts"
      },
      "execution_count": null,
      "outputs": []
    },
    {
      "cell_type": "code",
      "source": [
        "# import umap\n",
        "# from umap import UMAP\n",
        "from typing import List\n",
        "from sklearn.preprocessing import MinMaxScaler\n",
        "\n",
        "import plotly.express as px\n",
        "import plotly.graph_objects as go\n",
        "\n",
        "def plotly_topic_visualization(df: pd.DataFrame, df_topic,\n",
        "                                topic_list: List[str],\n",
        "                                width: int,\n",
        "                                height: int):\n",
        "    \"\"\" Create plotly-based visualization of topics with a slider for topic selection \"\"\"\n",
        "\n",
        "    def get_color(topic_selected):\n",
        "        if topic_selected == -1:\n",
        "            marker_color = [\"#B0BEC5\" for _ in topic_list]\n",
        "        else:\n",
        "            marker_color = [\"red\" if topic == topic_selected else \"#B0BEC5\" for topic in topic_list]\n",
        "        return [{'marker.color': [marker_color]}]\n",
        "\n",
        "    # Prepare figure range\n",
        "    x_range = (df.x.min() - abs((df.x.min()) * .15), df.x.max() + abs((df.x.max()) * .15))\n",
        "    y_range = (df.y.min() - abs((df.y.min()) * .15), df.y.max() + abs((df.y.max()) * .15))\n",
        "\n",
        "    # Plot topics\n",
        "    fig = px.scatter(df, x=\"x\", y=\"y\", size=\"Size\",text = 'Label', size_max=40, template=\"simple_white\", labels={\"x\": \"\", \"y\": \"\"},\n",
        "                     hover_data={\"Topic\": True, \"Words\": True, \"Size\": True, \"x\": False, \"y\": False})\n",
        "    fig.update_traces(textposition = 'middle center')\n",
        "    fig.update_traces(marker=dict(color=\"#B0BEC5\", line=dict(width=2, color='DarkSlateGrey')))\n",
        "\n",
        "    # Plot arrows\n",
        "    arrow = []\n",
        "    a = 0\n",
        "    for i in range(len(df_topic)-1):\n",
        "      a = a+df_topic.iloc[i].Size\n",
        "      arrow.append(dict(\n",
        "                x= df_topic.iloc[i+1].x,\n",
        "                y= df_topic.iloc[i+1].y,\n",
        "                xref=\"x\", yref=\"y\",\n",
        "                text='',\n",
        "                showarrow=True,\n",
        "                axref = \"x\", ayref='y',\n",
        "                ax= df_topic.iloc[i].x,\n",
        "                ay= df_topic.iloc[i].y,\n",
        "                arrowhead = 3,\n",
        "                arrowwidth=1.5,\n",
        "                arrowcolor='#636363',\n",
        "                )\n",
        "            )\n",
        "    fig.update_layout(\n",
        "annotations= arrow,)\n",
        "    # Update hover order\n",
        "\n",
        "    fig.update_traces(hovertemplate=\"<br>\".join([\"<b>Topic %{customdata[0]}</b>\",\n",
        "                                                 \"Words: %{customdata[1]}\",\n",
        "                                                 \"Size: %{customdata[2]}\"]))\n",
        "\n",
        "    # Create a slider for topic selection\n",
        "    steps = [dict(label=f\"Topic {topic}\", method=\"update\", args=get_color(topic)) for topic in topic_list]\n",
        "    sliders = [dict(active=0, pad={\"t\": 50}, steps=steps)]\n",
        "\n",
        "    # Stylize layout\n",
        "    fig.update_layout(\n",
        "        title={\n",
        "            'text': \"<b>Topic evolution Map\",\n",
        "            'y': .95,\n",
        "            'x': 0.5,\n",
        "            'xanchor': 'center',\n",
        "            'yanchor': 'top',\n",
        "            'font': dict(\n",
        "                size=22,\n",
        "                color=\"Black\")\n",
        "        },\n",
        "        width=width,\n",
        "        height=height,\n",
        "        hoverlabel=dict(\n",
        "            bgcolor=\"white\",\n",
        "            font_size=16,\n",
        "            font_family=\"Rockwell\"\n",
        "        ),\n",
        "        xaxis={\"visible\": False},\n",
        "        yaxis={\"visible\": False},\n",
        "        sliders=sliders\n",
        "    )\n",
        "\n",
        "    # Update axes ranges\n",
        "    fig.update_xaxes(range=x_range)\n",
        "    fig.update_yaxes(range=y_range)\n",
        "\n",
        "    # Add grid in a 'plus' shape\n",
        "    fig.add_shape(type=\"line\",\n",
        "                  x0=sum(x_range) / 2, y0=y_range[0], x1=sum(x_range) / 2, y1=y_range[1],\n",
        "                  line=dict(color=\"#CFD8DC\", width=2))\n",
        "    fig.add_shape(type=\"line\",\n",
        "                  x0=x_range[0], y0=sum(y_range) / 2, x1=x_range[1], y1=sum(y_range) / 2,\n",
        "                  line=dict(color=\"#9E9E9E\", width=2))\n",
        "    fig.add_annotation(x=x_range[0], y=sum(y_range) / 2, text=\"D1\", showarrow=False, yshift=10)\n",
        "    fig.add_annotation(y=y_range[1], x=sum(x_range) / 2, text=\"D2\", showarrow=False, xshift=10)\n",
        "    fig.data = fig.data[::-1]\n",
        "\n",
        "    return fig"
      ],
      "metadata": {
        "id": "j8YU5H6kA4ub"
      },
      "execution_count": null,
      "outputs": []
    },
    {
      "cell_type": "markdown",
      "source": [
        "### Prepare data"
      ],
      "metadata": {
        "id": "Mo5CsUhJCAcM"
      }
    },
    {
      "cell_type": "code",
      "source": [
        "frame_topic = prepare(lda_model, corpus, id2word)"
      ],
      "metadata": {
        "id": "tXt7shHn-Vwi",
        "colab": {
          "base_uri": "https://localhost:8080/"
        },
        "outputId": "beae037e-74bf-459a-cb00-b297e4e3c79a"
      },
      "execution_count": null,
      "outputs": [
        {
          "output_type": "stream",
          "name": "stderr",
          "text": [
            "/usr/local/lib/python3.7/dist-packages/ipykernel_launcher.py:248: FutureWarning: In a future version of pandas all arguments of DataFrame.drop except for the argument 'labels' will be keyword-only\n"
          ]
        }
      ]
    },
    {
      "cell_type": "code",
      "source": [
        "words = []\n",
        "for j in list(frame_topic['topics']):\n",
        "  topic_word = []\n",
        "  for i in lda_model.get_topic_terms(j,10):\n",
        "    topic_word.append(id2word.id2token[i[0]])\n",
        "  words.append('|'.join(topic_word))\n",
        "frame_topic['Words'] = words"
      ],
      "metadata": {
        "id": "kuFR903bKa9U"
      },
      "execution_count": null,
      "outputs": []
    },
    {
      "cell_type": "code",
      "source": [
        "x = pd.DataFrame(list(map(int,topic_evolv)))\n",
        "frame = x.merge(frame_topic,how = 'left',left_on = 0,right_on = 'topics')\n",
        "frame.drop([0],axis = 1,inplace = True)"
      ],
      "metadata": {
        "id": "jWn1HeOQBfli"
      },
      "execution_count": null,
      "outputs": []
    },
    {
      "cell_type": "code",
      "source": [
        "frame['Size'] = [1]*len(frame)\n",
        "frame['id'] = [-1]*len(frame)\n",
        "i=0\n",
        "while i < len(frame):\n",
        "  j = i+1\n",
        "  while j < len(frame):\n",
        "    if frame.iloc[i]['topics'] == frame.iloc[j]['topics']:\n",
        "      j+=1\n",
        "      if j==len(frame):\n",
        "        frame.iloc[i:j]['Size'] = j-i-1\n",
        "        frame.iloc[i:j]['id'] = i\n",
        "    else:\n",
        "      frame.iloc[i:j]['Size'] = j-i\n",
        "      frame.iloc[i:j]['id'] = i\n",
        "      break\n",
        "  i = j\n"
      ],
      "metadata": {
        "id": "VFCOZqvsDWtx"
      },
      "execution_count": null,
      "outputs": []
    },
    {
      "cell_type": "code",
      "source": [
        "frame_topic = frame.drop_duplicates()"
      ],
      "metadata": {
        "id": "-6sD-UA1E9FS"
      },
      "execution_count": null,
      "outputs": []
    },
    {
      "cell_type": "code",
      "source": [
        "label = {}\n",
        "for i in range(7):\n",
        "  label[i] = ''"
      ],
      "metadata": {
        "id": "oY6jDA0MGq86"
      },
      "execution_count": null,
      "outputs": []
    },
    {
      "cell_type": "code",
      "source": [
        "frame_topic['Label'] = ['']*len(frame_topic)\n",
        "frame_topic['Size_cul'] = [1]*len(frame_topic)\n",
        "for i in range(len(frame_topic)):\n",
        "  if i==0:\n",
        "    frame_topic['Size_cul'].iloc[i] = frame_topic.iloc[i]['Size']\n",
        "    label[frame_topic['topics'].iloc[i]] = '0'+' - ' + str(frame_topic['Size'].iloc[i])+ '<br />'\n",
        "  else:\n",
        "    frame_topic['Size_cul'].iloc[i] = frame_topic['Size_cul'].iloc[i-1]+frame_topic.iloc[i]['Size']\n",
        "    label[frame_topic['topics'].iloc[i]] += str(frame_topic['Size_cul'].iloc[i-1]+1)+' - ' + str(frame_topic['Size_cul'].iloc[i])+ '<br />'"
      ],
      "metadata": {
        "id": "VIve4_aVDGzD"
      },
      "execution_count": null,
      "outputs": []
    },
    {
      "cell_type": "code",
      "source": [
        "for i in range(len(frame_topic)):\n",
        "  frame_topic['Label'].iloc[i] = label[frame_topic['topics'].iloc[i]]+'Topic '+str(topic_dic[frame_topic['topics'].iloc[i]])"
      ],
      "metadata": {
        "id": "k9NqyjUGHJY3"
      },
      "execution_count": null,
      "outputs": []
    },
    {
      "cell_type": "code",
      "source": [
        "frame = x.merge(frame_topic.drop_duplicates(['topics']),how = 'left',left_on = 0,right_on = 'topics')\n",
        "frame.drop([0,'cluster','Freq'],axis = 1,inplace = True)"
      ],
      "metadata": {
        "id": "JObkKYBDH85e"
      },
      "execution_count": null,
      "outputs": []
    },
    {
      "cell_type": "code",
      "source": [
        "frame = frame.rename(columns = {'topics':'Topic','size':'Size'})\n",
        "frame_topic = frame_topic.rename(columns = {'topics':'Topic','size':'Size'})"
      ],
      "metadata": {
        "id": "Celm8a_qIJpK"
      },
      "execution_count": null,
      "outputs": []
    },
    {
      "cell_type": "code",
      "source": [
        "size = [frequency[i] for i in topic_evolv]\n",
        "frame['Size'] = size"
      ],
      "metadata": {
        "id": "wygj1zHqN8P3"
      },
      "execution_count": null,
      "outputs": []
    },
    {
      "cell_type": "code",
      "source": [
        "# keep consistent to the result from LDA in R\n",
        "frame['Topic'] = frame['Topic'].map(lambda x:topic_dic[x])\n",
        "frame_topic['Topic'] = frame_topic['Topic'].map(lambda x:topic_dic[x])\n",
        "topic_evolv = [topic_dic[int(x)] for x in topic_evolv]"
      ],
      "metadata": {
        "id": "7SLfmYjGUUgX"
      },
      "execution_count": null,
      "outputs": []
    },
    {
      "cell_type": "markdown",
      "source": [
        "### Visualize"
      ],
      "metadata": {
        "id": "REJswO9HC2xk"
      }
    },
    {
      "cell_type": "code",
      "source": [
        "plotly_topic_visualization(frame, frame_topic, topic_evolv, 900, 660)"
      ],
      "metadata": {
        "colab": {
          "base_uri": "https://localhost:8080/",
          "height": 677
        },
        "id": "b9HkRK08_Vk2",
        "outputId": "54214074-a8f9-4829-e348-7e46bc59f480"
      },
      "execution_count": null,
      "outputs": [
        {
          "output_type": "display_data",
          "data": {
            "text/html": [
              "<html>\n",
              "<head><meta charset=\"utf-8\" /></head>\n",
              "<body>\n",
              "    <div>            <script src=\"https://cdnjs.cloudflare.com/ajax/libs/mathjax/2.7.5/MathJax.js?config=TeX-AMS-MML_SVG\"></script><script type=\"text/javascript\">if (window.MathJax) {MathJax.Hub.Config({SVG: {font: \"STIX-Web\"}});}</script>                <script type=\"text/javascript\">window.PlotlyConfig = {MathJaxConfig: 'local'};</script>\n",
              "        <script src=\"https://cdn.plot.ly/plotly-2.8.3.min.js\"></script>                <div id=\"3d0cae18-0028-4ca7-a625-06e84a7b4fd1\" class=\"plotly-graph-div\" style=\"height:660px; width:900px;\"></div>            <script type=\"text/javascript\">                                    window.PLOTLYENV=window.PLOTLYENV || {};                                    if (document.getElementById(\"3d0cae18-0028-4ca7-a625-06e84a7b4fd1\")) {                    Plotly.newPlot(                        \"3d0cae18-0028-4ca7-a625-06e84a7b4fd1\",                        [{\"customdata\":[[4,\"would|know|need|time|let|get|like|deal|meeting|call\",6],[4,\"would|know|need|time|let|get|like|deal|meeting|call\",6],[4,\"would|know|need|time|let|get|like|deal|meeting|call\",6],[2,\"urlmasker|way|one|going|new|year|free|make|still|imagemasker\",1],[4,\"would|know|need|time|let|get|like|deal|meeting|call\",6],[4,\"would|know|need|time|let|get|like|deal|meeting|call\",6],[3,\"please|said|enron|may|information|agreement|business|contract|attached|mail\",8],[3,\"please|said|enron|may|information|agreement|business|contract|attached|mail\",8],[3,\"please|said|enron|may|information|agreement|business|contract|attached|mail\",8],[3,\"please|said|enron|may|information|agreement|business|contract|attached|mail\",8],[3,\"please|said|enron|may|information|agreement|business|contract|attached|mail\",8],[3,\"please|said|enron|may|information|agreement|business|contract|attached|mail\",8],[4,\"would|know|need|time|let|get|like|deal|meeting|call\",6],[3,\"please|said|enron|may|information|agreement|business|contract|attached|mail\",8],[3,\"please|said|enron|may|information|agreement|business|contract|attached|mail\",8]],\"hovertemplate\":\"<b>Topic %{customdata[0]}</b><br>Words: %{customdata[1]}<br>Size: %{customdata[2]}\",\"legendgroup\":\"\",\"marker\":{\"color\":\"#B0BEC5\",\"size\":[6,6,6,1,6,6,8,8,8,8,8,8,6,8,8],\"sizemode\":\"area\",\"sizeref\":0.005,\"symbol\":\"circle\",\"line\":{\"color\":\"DarkSlateGrey\",\"width\":2}},\"mode\":\"markers+text\",\"name\":\"\",\"orientation\":\"v\",\"showlegend\":false,\"text\":[\"0 - 3<br />5 - 6<br />13 - 13<br />Topic 4\",\"0 - 3<br />5 - 6<br />13 - 13<br />Topic 4\",\"0 - 3<br />5 - 6<br />13 - 13<br />Topic 4\",\"4 - 4<br />Topic 2\",\"0 - 3<br />5 - 6<br />13 - 13<br />Topic 4\",\"0 - 3<br />5 - 6<br />13 - 13<br />Topic 4\",\"7 - 12<br />14 - 14<br />Topic 3\",\"7 - 12<br />14 - 14<br />Topic 3\",\"7 - 12<br />14 - 14<br />Topic 3\",\"7 - 12<br />14 - 14<br />Topic 3\",\"7 - 12<br />14 - 14<br />Topic 3\",\"7 - 12<br />14 - 14<br />Topic 3\",\"0 - 3<br />5 - 6<br />13 - 13<br />Topic 4\",\"7 - 12<br />14 - 14<br />Topic 3\",\"7 - 12<br />14 - 14<br />Topic 3\"],\"x\":[0.22286234282612324,0.22286234282612324,0.22286234282612324,0.07470463865507415,0.22286234282612324,0.22286234282612324,0.025053377636243063,0.025053377636243063,0.025053377636243063,0.025053377636243063,0.025053377636243063,0.025053377636243063,0.22286234282612324,0.025053377636243063,0.025053377636243063],\"xaxis\":\"x\",\"y\":[-0.20684458011492565,-0.20684458011492565,-0.20684458011492565,-0.12794505476196694,-0.20684458011492565,-0.20684458011492565,0.2036332641273016,0.2036332641273016,0.2036332641273016,0.2036332641273016,0.2036332641273016,0.2036332641273016,-0.20684458011492565,0.2036332641273016,0.2036332641273016],\"yaxis\":\"y\",\"type\":\"scatter\",\"textposition\":\"middle center\"}],                        {\"template\":{\"data\":{\"barpolar\":[{\"marker\":{\"line\":{\"color\":\"white\",\"width\":0.5},\"pattern\":{\"fillmode\":\"overlay\",\"size\":10,\"solidity\":0.2}},\"type\":\"barpolar\"}],\"bar\":[{\"error_x\":{\"color\":\"rgb(36,36,36)\"},\"error_y\":{\"color\":\"rgb(36,36,36)\"},\"marker\":{\"line\":{\"color\":\"white\",\"width\":0.5},\"pattern\":{\"fillmode\":\"overlay\",\"size\":10,\"solidity\":0.2}},\"type\":\"bar\"}],\"carpet\":[{\"aaxis\":{\"endlinecolor\":\"rgb(36,36,36)\",\"gridcolor\":\"white\",\"linecolor\":\"white\",\"minorgridcolor\":\"white\",\"startlinecolor\":\"rgb(36,36,36)\"},\"baxis\":{\"endlinecolor\":\"rgb(36,36,36)\",\"gridcolor\":\"white\",\"linecolor\":\"white\",\"minorgridcolor\":\"white\",\"startlinecolor\":\"rgb(36,36,36)\"},\"type\":\"carpet\"}],\"choropleth\":[{\"colorbar\":{\"outlinewidth\":1,\"tickcolor\":\"rgb(36,36,36)\",\"ticks\":\"outside\"},\"type\":\"choropleth\"}],\"contourcarpet\":[{\"colorbar\":{\"outlinewidth\":1,\"tickcolor\":\"rgb(36,36,36)\",\"ticks\":\"outside\"},\"type\":\"contourcarpet\"}],\"contour\":[{\"colorbar\":{\"outlinewidth\":1,\"tickcolor\":\"rgb(36,36,36)\",\"ticks\":\"outside\"},\"colorscale\":[[0.0,\"#440154\"],[0.1111111111111111,\"#482878\"],[0.2222222222222222,\"#3e4989\"],[0.3333333333333333,\"#31688e\"],[0.4444444444444444,\"#26828e\"],[0.5555555555555556,\"#1f9e89\"],[0.6666666666666666,\"#35b779\"],[0.7777777777777778,\"#6ece58\"],[0.8888888888888888,\"#b5de2b\"],[1.0,\"#fde725\"]],\"type\":\"contour\"}],\"heatmapgl\":[{\"colorbar\":{\"outlinewidth\":1,\"tickcolor\":\"rgb(36,36,36)\",\"ticks\":\"outside\"},\"colorscale\":[[0.0,\"#440154\"],[0.1111111111111111,\"#482878\"],[0.2222222222222222,\"#3e4989\"],[0.3333333333333333,\"#31688e\"],[0.4444444444444444,\"#26828e\"],[0.5555555555555556,\"#1f9e89\"],[0.6666666666666666,\"#35b779\"],[0.7777777777777778,\"#6ece58\"],[0.8888888888888888,\"#b5de2b\"],[1.0,\"#fde725\"]],\"type\":\"heatmapgl\"}],\"heatmap\":[{\"colorbar\":{\"outlinewidth\":1,\"tickcolor\":\"rgb(36,36,36)\",\"ticks\":\"outside\"},\"colorscale\":[[0.0,\"#440154\"],[0.1111111111111111,\"#482878\"],[0.2222222222222222,\"#3e4989\"],[0.3333333333333333,\"#31688e\"],[0.4444444444444444,\"#26828e\"],[0.5555555555555556,\"#1f9e89\"],[0.6666666666666666,\"#35b779\"],[0.7777777777777778,\"#6ece58\"],[0.8888888888888888,\"#b5de2b\"],[1.0,\"#fde725\"]],\"type\":\"heatmap\"}],\"histogram2dcontour\":[{\"colorbar\":{\"outlinewidth\":1,\"tickcolor\":\"rgb(36,36,36)\",\"ticks\":\"outside\"},\"colorscale\":[[0.0,\"#440154\"],[0.1111111111111111,\"#482878\"],[0.2222222222222222,\"#3e4989\"],[0.3333333333333333,\"#31688e\"],[0.4444444444444444,\"#26828e\"],[0.5555555555555556,\"#1f9e89\"],[0.6666666666666666,\"#35b779\"],[0.7777777777777778,\"#6ece58\"],[0.8888888888888888,\"#b5de2b\"],[1.0,\"#fde725\"]],\"type\":\"histogram2dcontour\"}],\"histogram2d\":[{\"colorbar\":{\"outlinewidth\":1,\"tickcolor\":\"rgb(36,36,36)\",\"ticks\":\"outside\"},\"colorscale\":[[0.0,\"#440154\"],[0.1111111111111111,\"#482878\"],[0.2222222222222222,\"#3e4989\"],[0.3333333333333333,\"#31688e\"],[0.4444444444444444,\"#26828e\"],[0.5555555555555556,\"#1f9e89\"],[0.6666666666666666,\"#35b779\"],[0.7777777777777778,\"#6ece58\"],[0.8888888888888888,\"#b5de2b\"],[1.0,\"#fde725\"]],\"type\":\"histogram2d\"}],\"histogram\":[{\"marker\":{\"line\":{\"color\":\"white\",\"width\":0.6}},\"type\":\"histogram\"}],\"mesh3d\":[{\"colorbar\":{\"outlinewidth\":1,\"tickcolor\":\"rgb(36,36,36)\",\"ticks\":\"outside\"},\"type\":\"mesh3d\"}],\"parcoords\":[{\"line\":{\"colorbar\":{\"outlinewidth\":1,\"tickcolor\":\"rgb(36,36,36)\",\"ticks\":\"outside\"}},\"type\":\"parcoords\"}],\"pie\":[{\"automargin\":true,\"type\":\"pie\"}],\"scatter3d\":[{\"line\":{\"colorbar\":{\"outlinewidth\":1,\"tickcolor\":\"rgb(36,36,36)\",\"ticks\":\"outside\"}},\"marker\":{\"colorbar\":{\"outlinewidth\":1,\"tickcolor\":\"rgb(36,36,36)\",\"ticks\":\"outside\"}},\"type\":\"scatter3d\"}],\"scattercarpet\":[{\"marker\":{\"colorbar\":{\"outlinewidth\":1,\"tickcolor\":\"rgb(36,36,36)\",\"ticks\":\"outside\"}},\"type\":\"scattercarpet\"}],\"scattergeo\":[{\"marker\":{\"colorbar\":{\"outlinewidth\":1,\"tickcolor\":\"rgb(36,36,36)\",\"ticks\":\"outside\"}},\"type\":\"scattergeo\"}],\"scattergl\":[{\"marker\":{\"colorbar\":{\"outlinewidth\":1,\"tickcolor\":\"rgb(36,36,36)\",\"ticks\":\"outside\"}},\"type\":\"scattergl\"}],\"scattermapbox\":[{\"marker\":{\"colorbar\":{\"outlinewidth\":1,\"tickcolor\":\"rgb(36,36,36)\",\"ticks\":\"outside\"}},\"type\":\"scattermapbox\"}],\"scatterpolargl\":[{\"marker\":{\"colorbar\":{\"outlinewidth\":1,\"tickcolor\":\"rgb(36,36,36)\",\"ticks\":\"outside\"}},\"type\":\"scatterpolargl\"}],\"scatterpolar\":[{\"marker\":{\"colorbar\":{\"outlinewidth\":1,\"tickcolor\":\"rgb(36,36,36)\",\"ticks\":\"outside\"}},\"type\":\"scatterpolar\"}],\"scatter\":[{\"marker\":{\"colorbar\":{\"outlinewidth\":1,\"tickcolor\":\"rgb(36,36,36)\",\"ticks\":\"outside\"}},\"type\":\"scatter\"}],\"scatterternary\":[{\"marker\":{\"colorbar\":{\"outlinewidth\":1,\"tickcolor\":\"rgb(36,36,36)\",\"ticks\":\"outside\"}},\"type\":\"scatterternary\"}],\"surface\":[{\"colorbar\":{\"outlinewidth\":1,\"tickcolor\":\"rgb(36,36,36)\",\"ticks\":\"outside\"},\"colorscale\":[[0.0,\"#440154\"],[0.1111111111111111,\"#482878\"],[0.2222222222222222,\"#3e4989\"],[0.3333333333333333,\"#31688e\"],[0.4444444444444444,\"#26828e\"],[0.5555555555555556,\"#1f9e89\"],[0.6666666666666666,\"#35b779\"],[0.7777777777777778,\"#6ece58\"],[0.8888888888888888,\"#b5de2b\"],[1.0,\"#fde725\"]],\"type\":\"surface\"}],\"table\":[{\"cells\":{\"fill\":{\"color\":\"rgb(237,237,237)\"},\"line\":{\"color\":\"white\"}},\"header\":{\"fill\":{\"color\":\"rgb(217,217,217)\"},\"line\":{\"color\":\"white\"}},\"type\":\"table\"}]},\"layout\":{\"annotationdefaults\":{\"arrowhead\":0,\"arrowwidth\":1},\"autotypenumbers\":\"strict\",\"coloraxis\":{\"colorbar\":{\"outlinewidth\":1,\"tickcolor\":\"rgb(36,36,36)\",\"ticks\":\"outside\"}},\"colorscale\":{\"diverging\":[[0.0,\"rgb(103,0,31)\"],[0.1,\"rgb(178,24,43)\"],[0.2,\"rgb(214,96,77)\"],[0.3,\"rgb(244,165,130)\"],[0.4,\"rgb(253,219,199)\"],[0.5,\"rgb(247,247,247)\"],[0.6,\"rgb(209,229,240)\"],[0.7,\"rgb(146,197,222)\"],[0.8,\"rgb(67,147,195)\"],[0.9,\"rgb(33,102,172)\"],[1.0,\"rgb(5,48,97)\"]],\"sequential\":[[0.0,\"#440154\"],[0.1111111111111111,\"#482878\"],[0.2222222222222222,\"#3e4989\"],[0.3333333333333333,\"#31688e\"],[0.4444444444444444,\"#26828e\"],[0.5555555555555556,\"#1f9e89\"],[0.6666666666666666,\"#35b779\"],[0.7777777777777778,\"#6ece58\"],[0.8888888888888888,\"#b5de2b\"],[1.0,\"#fde725\"]],\"sequentialminus\":[[0.0,\"#440154\"],[0.1111111111111111,\"#482878\"],[0.2222222222222222,\"#3e4989\"],[0.3333333333333333,\"#31688e\"],[0.4444444444444444,\"#26828e\"],[0.5555555555555556,\"#1f9e89\"],[0.6666666666666666,\"#35b779\"],[0.7777777777777778,\"#6ece58\"],[0.8888888888888888,\"#b5de2b\"],[1.0,\"#fde725\"]]},\"colorway\":[\"#1F77B4\",\"#FF7F0E\",\"#2CA02C\",\"#D62728\",\"#9467BD\",\"#8C564B\",\"#E377C2\",\"#7F7F7F\",\"#BCBD22\",\"#17BECF\"],\"font\":{\"color\":\"rgb(36,36,36)\"},\"geo\":{\"bgcolor\":\"white\",\"lakecolor\":\"white\",\"landcolor\":\"white\",\"showlakes\":true,\"showland\":true,\"subunitcolor\":\"white\"},\"hoverlabel\":{\"align\":\"left\"},\"hovermode\":\"closest\",\"mapbox\":{\"style\":\"light\"},\"paper_bgcolor\":\"white\",\"plot_bgcolor\":\"white\",\"polar\":{\"angularaxis\":{\"gridcolor\":\"rgb(232,232,232)\",\"linecolor\":\"rgb(36,36,36)\",\"showgrid\":false,\"showline\":true,\"ticks\":\"outside\"},\"bgcolor\":\"white\",\"radialaxis\":{\"gridcolor\":\"rgb(232,232,232)\",\"linecolor\":\"rgb(36,36,36)\",\"showgrid\":false,\"showline\":true,\"ticks\":\"outside\"}},\"scene\":{\"xaxis\":{\"backgroundcolor\":\"white\",\"gridcolor\":\"rgb(232,232,232)\",\"gridwidth\":2,\"linecolor\":\"rgb(36,36,36)\",\"showbackground\":true,\"showgrid\":false,\"showline\":true,\"ticks\":\"outside\",\"zeroline\":false,\"zerolinecolor\":\"rgb(36,36,36)\"},\"yaxis\":{\"backgroundcolor\":\"white\",\"gridcolor\":\"rgb(232,232,232)\",\"gridwidth\":2,\"linecolor\":\"rgb(36,36,36)\",\"showbackground\":true,\"showgrid\":false,\"showline\":true,\"ticks\":\"outside\",\"zeroline\":false,\"zerolinecolor\":\"rgb(36,36,36)\"},\"zaxis\":{\"backgroundcolor\":\"white\",\"gridcolor\":\"rgb(232,232,232)\",\"gridwidth\":2,\"linecolor\":\"rgb(36,36,36)\",\"showbackground\":true,\"showgrid\":false,\"showline\":true,\"ticks\":\"outside\",\"zeroline\":false,\"zerolinecolor\":\"rgb(36,36,36)\"}},\"shapedefaults\":{\"fillcolor\":\"black\",\"line\":{\"width\":0},\"opacity\":0.3},\"ternary\":{\"aaxis\":{\"gridcolor\":\"rgb(232,232,232)\",\"linecolor\":\"rgb(36,36,36)\",\"showgrid\":false,\"showline\":true,\"ticks\":\"outside\"},\"baxis\":{\"gridcolor\":\"rgb(232,232,232)\",\"linecolor\":\"rgb(36,36,36)\",\"showgrid\":false,\"showline\":true,\"ticks\":\"outside\"},\"bgcolor\":\"white\",\"caxis\":{\"gridcolor\":\"rgb(232,232,232)\",\"linecolor\":\"rgb(36,36,36)\",\"showgrid\":false,\"showline\":true,\"ticks\":\"outside\"}},\"title\":{\"x\":0.05},\"xaxis\":{\"automargin\":true,\"gridcolor\":\"rgb(232,232,232)\",\"linecolor\":\"rgb(36,36,36)\",\"showgrid\":false,\"showline\":true,\"ticks\":\"outside\",\"title\":{\"standoff\":15},\"zeroline\":false,\"zerolinecolor\":\"rgb(36,36,36)\"},\"yaxis\":{\"automargin\":true,\"gridcolor\":\"rgb(232,232,232)\",\"linecolor\":\"rgb(36,36,36)\",\"showgrid\":false,\"showline\":true,\"ticks\":\"outside\",\"title\":{\"standoff\":15},\"zeroline\":false,\"zerolinecolor\":\"rgb(36,36,36)\"}}},\"xaxis\":{\"anchor\":\"y\",\"domain\":[0.0,1.0],\"title\":{\"text\":\"\"},\"visible\":false,\"range\":[0.021295370990806604,0.2562916942500417]},\"yaxis\":{\"anchor\":\"x\",\"domain\":[0.0,1.0],\"title\":{\"text\":\"\"},\"visible\":false,\"range\":[-0.2378712671321645,0.23417825374639684]},\"legend\":{\"tracegroupgap\":0,\"itemsizing\":\"constant\"},\"margin\":{\"t\":60},\"annotations\":[{\"arrowcolor\":\"#636363\",\"arrowhead\":3,\"arrowwidth\":1.5,\"ax\":0.22286234282612324,\"axref\":\"x\",\"ay\":-0.20684458011492565,\"ayref\":\"y\",\"showarrow\":true,\"text\":\"\",\"x\":0.07470463865507415,\"xref\":\"x\",\"y\":-0.12794505476196694,\"yref\":\"y\"},{\"arrowcolor\":\"#636363\",\"arrowhead\":3,\"arrowwidth\":1.5,\"ax\":0.07470463865507415,\"axref\":\"x\",\"ay\":-0.12794505476196694,\"ayref\":\"y\",\"showarrow\":true,\"text\":\"\",\"x\":0.22286234282612324,\"xref\":\"x\",\"y\":-0.20684458011492565,\"yref\":\"y\"},{\"arrowcolor\":\"#636363\",\"arrowhead\":3,\"arrowwidth\":1.5,\"ax\":0.22286234282612324,\"axref\":\"x\",\"ay\":-0.20684458011492565,\"ayref\":\"y\",\"showarrow\":true,\"text\":\"\",\"x\":0.025053377636243063,\"xref\":\"x\",\"y\":0.2036332641273016,\"yref\":\"y\"},{\"arrowcolor\":\"#636363\",\"arrowhead\":3,\"arrowwidth\":1.5,\"ax\":0.025053377636243063,\"axref\":\"x\",\"ay\":0.2036332641273016,\"ayref\":\"y\",\"showarrow\":true,\"text\":\"\",\"x\":0.22286234282612324,\"xref\":\"x\",\"y\":-0.20684458011492565,\"yref\":\"y\"},{\"arrowcolor\":\"#636363\",\"arrowhead\":3,\"arrowwidth\":1.5,\"ax\":0.22286234282612324,\"axref\":\"x\",\"ay\":-0.20684458011492565,\"ayref\":\"y\",\"showarrow\":true,\"text\":\"\",\"x\":0.025053377636243063,\"xref\":\"x\",\"y\":0.2036332641273016,\"yref\":\"y\"},{\"showarrow\":false,\"text\":\"D1\",\"x\":0.021295370990806604,\"y\":-0.0018465066928838314,\"yshift\":10},{\"showarrow\":false,\"text\":\"D2\",\"x\":0.13879353262042415,\"xshift\":10,\"y\":0.23417825374639684}],\"title\":{\"font\":{\"size\":22,\"color\":\"Black\"},\"text\":\"<b>Topic evolution Map\",\"y\":0.95,\"x\":0.5,\"xanchor\":\"center\",\"yanchor\":\"top\"},\"hoverlabel\":{\"font\":{\"size\":16,\"family\":\"Rockwell\"},\"bgcolor\":\"white\"},\"width\":900,\"height\":660,\"sliders\":[{\"active\":0,\"pad\":{\"t\":50},\"steps\":[{\"args\":[{\"marker.color\":[[\"red\",\"red\",\"red\",\"#B0BEC5\",\"red\",\"red\",\"#B0BEC5\",\"#B0BEC5\",\"#B0BEC5\",\"#B0BEC5\",\"#B0BEC5\",\"#B0BEC5\",\"red\",\"#B0BEC5\",\"#B0BEC5\"]]}],\"label\":\"Topic 4\",\"method\":\"update\"},{\"args\":[{\"marker.color\":[[\"red\",\"red\",\"red\",\"#B0BEC5\",\"red\",\"red\",\"#B0BEC5\",\"#B0BEC5\",\"#B0BEC5\",\"#B0BEC5\",\"#B0BEC5\",\"#B0BEC5\",\"red\",\"#B0BEC5\",\"#B0BEC5\"]]}],\"label\":\"Topic 4\",\"method\":\"update\"},{\"args\":[{\"marker.color\":[[\"red\",\"red\",\"red\",\"#B0BEC5\",\"red\",\"red\",\"#B0BEC5\",\"#B0BEC5\",\"#B0BEC5\",\"#B0BEC5\",\"#B0BEC5\",\"#B0BEC5\",\"red\",\"#B0BEC5\",\"#B0BEC5\"]]}],\"label\":\"Topic 4\",\"method\":\"update\"},{\"args\":[{\"marker.color\":[[\"#B0BEC5\",\"#B0BEC5\",\"#B0BEC5\",\"red\",\"#B0BEC5\",\"#B0BEC5\",\"#B0BEC5\",\"#B0BEC5\",\"#B0BEC5\",\"#B0BEC5\",\"#B0BEC5\",\"#B0BEC5\",\"#B0BEC5\",\"#B0BEC5\",\"#B0BEC5\"]]}],\"label\":\"Topic 2\",\"method\":\"update\"},{\"args\":[{\"marker.color\":[[\"red\",\"red\",\"red\",\"#B0BEC5\",\"red\",\"red\",\"#B0BEC5\",\"#B0BEC5\",\"#B0BEC5\",\"#B0BEC5\",\"#B0BEC5\",\"#B0BEC5\",\"red\",\"#B0BEC5\",\"#B0BEC5\"]]}],\"label\":\"Topic 4\",\"method\":\"update\"},{\"args\":[{\"marker.color\":[[\"red\",\"red\",\"red\",\"#B0BEC5\",\"red\",\"red\",\"#B0BEC5\",\"#B0BEC5\",\"#B0BEC5\",\"#B0BEC5\",\"#B0BEC5\",\"#B0BEC5\",\"red\",\"#B0BEC5\",\"#B0BEC5\"]]}],\"label\":\"Topic 4\",\"method\":\"update\"},{\"args\":[{\"marker.color\":[[\"#B0BEC5\",\"#B0BEC5\",\"#B0BEC5\",\"#B0BEC5\",\"#B0BEC5\",\"#B0BEC5\",\"red\",\"red\",\"red\",\"red\",\"red\",\"red\",\"#B0BEC5\",\"red\",\"red\"]]}],\"label\":\"Topic 3\",\"method\":\"update\"},{\"args\":[{\"marker.color\":[[\"#B0BEC5\",\"#B0BEC5\",\"#B0BEC5\",\"#B0BEC5\",\"#B0BEC5\",\"#B0BEC5\",\"red\",\"red\",\"red\",\"red\",\"red\",\"red\",\"#B0BEC5\",\"red\",\"red\"]]}],\"label\":\"Topic 3\",\"method\":\"update\"},{\"args\":[{\"marker.color\":[[\"#B0BEC5\",\"#B0BEC5\",\"#B0BEC5\",\"#B0BEC5\",\"#B0BEC5\",\"#B0BEC5\",\"red\",\"red\",\"red\",\"red\",\"red\",\"red\",\"#B0BEC5\",\"red\",\"red\"]]}],\"label\":\"Topic 3\",\"method\":\"update\"},{\"args\":[{\"marker.color\":[[\"#B0BEC5\",\"#B0BEC5\",\"#B0BEC5\",\"#B0BEC5\",\"#B0BEC5\",\"#B0BEC5\",\"red\",\"red\",\"red\",\"red\",\"red\",\"red\",\"#B0BEC5\",\"red\",\"red\"]]}],\"label\":\"Topic 3\",\"method\":\"update\"},{\"args\":[{\"marker.color\":[[\"#B0BEC5\",\"#B0BEC5\",\"#B0BEC5\",\"#B0BEC5\",\"#B0BEC5\",\"#B0BEC5\",\"red\",\"red\",\"red\",\"red\",\"red\",\"red\",\"#B0BEC5\",\"red\",\"red\"]]}],\"label\":\"Topic 3\",\"method\":\"update\"},{\"args\":[{\"marker.color\":[[\"#B0BEC5\",\"#B0BEC5\",\"#B0BEC5\",\"#B0BEC5\",\"#B0BEC5\",\"#B0BEC5\",\"red\",\"red\",\"red\",\"red\",\"red\",\"red\",\"#B0BEC5\",\"red\",\"red\"]]}],\"label\":\"Topic 3\",\"method\":\"update\"},{\"args\":[{\"marker.color\":[[\"red\",\"red\",\"red\",\"#B0BEC5\",\"red\",\"red\",\"#B0BEC5\",\"#B0BEC5\",\"#B0BEC5\",\"#B0BEC5\",\"#B0BEC5\",\"#B0BEC5\",\"red\",\"#B0BEC5\",\"#B0BEC5\"]]}],\"label\":\"Topic 4\",\"method\":\"update\"},{\"args\":[{\"marker.color\":[[\"#B0BEC5\",\"#B0BEC5\",\"#B0BEC5\",\"#B0BEC5\",\"#B0BEC5\",\"#B0BEC5\",\"red\",\"red\",\"red\",\"red\",\"red\",\"red\",\"#B0BEC5\",\"red\",\"red\"]]}],\"label\":\"Topic 3\",\"method\":\"update\"},{\"args\":[{\"marker.color\":[[\"#B0BEC5\",\"#B0BEC5\",\"#B0BEC5\",\"#B0BEC5\",\"#B0BEC5\",\"#B0BEC5\",\"red\",\"red\",\"red\",\"red\",\"red\",\"red\",\"#B0BEC5\",\"red\",\"red\"]]}],\"label\":\"Topic 3\",\"method\":\"update\"}]}],\"shapes\":[{\"line\":{\"color\":\"#CFD8DC\",\"width\":2},\"type\":\"line\",\"x0\":0.13879353262042415,\"x1\":0.13879353262042415,\"y0\":-0.2378712671321645,\"y1\":0.23417825374639684},{\"line\":{\"color\":\"#9E9E9E\",\"width\":2},\"type\":\"line\",\"x0\":0.021295370990806604,\"x1\":0.2562916942500417,\"y0\":-0.0018465066928838314,\"y1\":-0.0018465066928838314}]},                        {\"responsive\": true}                    ).then(function(){\n",
              "                            \n",
              "var gd = document.getElementById('3d0cae18-0028-4ca7-a625-06e84a7b4fd1');\n",
              "var x = new MutationObserver(function (mutations, observer) {{\n",
              "        var display = window.getComputedStyle(gd).display;\n",
              "        if (!display || display === 'none') {{\n",
              "            console.log([gd, 'removed!']);\n",
              "            Plotly.purge(gd);\n",
              "            observer.disconnect();\n",
              "        }}\n",
              "}});\n",
              "\n",
              "// Listen for the removal of the full notebook cells\n",
              "var notebookContainer = gd.closest('#notebook-container');\n",
              "if (notebookContainer) {{\n",
              "    x.observe(notebookContainer, {childList: true});\n",
              "}}\n",
              "\n",
              "// Listen for the clearing of the current output cell\n",
              "var outputEl = gd.closest('.output');\n",
              "if (outputEl) {{\n",
              "    x.observe(outputEl, {childList: true});\n",
              "}}\n",
              "\n",
              "                        })                };                            </script>        </div>\n",
              "</body>\n",
              "</html>"
            ]
          },
          "metadata": {}
        }
      ]
    },
    {
      "cell_type": "markdown",
      "source": [
        "# Hierarchical figure"
      ],
      "metadata": {
        "id": "BX8IA6ucaFEH"
      }
    },
    {
      "cell_type": "markdown",
      "source": [
        "### Visualize code change"
      ],
      "metadata": {
        "id": "QEG-95gauLKB"
      }
    },
    {
      "cell_type": "code",
      "source": [
        "from scipy.sparse import csr_matrix\n",
        "from scipy.cluster import hierarchy as sch\n",
        "from sklearn.metrics.pairwise import cosine_similarity\n",
        "from typing import Callable, List\n",
        "import plotly.graph_objects as go\n",
        "import plotly.figure_factory as ff\n",
        "def visualize_hierarchy(topic_model,\n",
        "                        orientation: str = \"left\",\n",
        "                        topics: List[int] = None,\n",
        "                        top_n_topics: int = None,\n",
        "                        custom_labels: bool = False,\n",
        "                        width: int = 1000,\n",
        "                        height: int = 600,\n",
        "                        hierarchical_topics: pd.DataFrame = None,\n",
        "                        linkage_function: Callable[[csr_matrix], np.ndarray] = None,\n",
        "                        distance_function: Callable[[csr_matrix], csr_matrix] = None,\n",
        "                        color_threshold: int = 1) -> go.Figure:\n",
        "    \"\"\" Visualize a hierarchical structure of the topics\n",
        "    A ward linkage function is used to perform the\n",
        "    hierarchical clustering based on the cosine distance\n",
        "    matrix between topic embeddings.\n",
        "    Arguments:\n",
        "        topic_model: A fitted BERTopic instance.\n",
        "        orientation: The orientation of the figure.\n",
        "                     Either 'left' or 'bottom'\n",
        "        topics: A selection of topics to visualize\n",
        "        top_n_topics: Only select the top n most frequent topics\n",
        "        custom_labels: Whether to use custom topic labels that were defined using\n",
        "                       `topic_model.set_topic_labels`.\n",
        "                       NOTE: Custom labels are only generated for the original\n",
        "                       un-merged topics.\n",
        "        width: The width of the figure. Only works if orientation is set to 'left'\n",
        "        height: The height of the figure. Only works if orientation is set to 'bottom'\n",
        "        hierarchical_topics: A dataframe that contains a hierarchy of topics\n",
        "                             represented by their parents and their children.\n",
        "                             NOTE: The hierarchical topic names are only visualized\n",
        "                             if both `topics` and `top_n_topics` are not set.\n",
        "        linkage_function: The linkage function to use. Default is:\n",
        "                          `lambda x: sch.linkage(x, 'ward', optimal_ordering=True)`\n",
        "                          NOTE: Make sure to use the same `linkage_function` as used\n",
        "                          in `topic_model.hierarchical_topics`.\n",
        "        distance_function: The distance function to use on the c-TF-IDF matrix. Default is:\n",
        "                           `lambda x: 1 - cosine_similarity(x)`\n",
        "                           NOTE: Make sure to use the same `distance_function` as used\n",
        "                           in `topic_model.hierarchical_topics`.\n",
        "        color_threshold: Value at which the separation of clusters will be made which\n",
        "                         will result in different colors for different clusters.\n",
        "                         A higher value will typically lead in less colored clusters.\n",
        "    Returns:\n",
        "        fig: A plotly figure\n",
        "    Examples:\n",
        "    To visualize the hierarchical structure of\n",
        "    topics simply run:\n",
        "    ```python\n",
        "    topic_model.visualize_hierarchy()\n",
        "    ```\n",
        "    If you also want the labels visualized of hierarchical topics,\n",
        "    run the following:\n",
        "    ```python\n",
        "    # Extract hierarchical topics and their representations\n",
        "    hierarchical_topics = topic_model.hierarchical_topics(docs)\n",
        "    # Visualize these representations\n",
        "    topic_model.visualize_hierarchy(hierarchical_topics=hierarchical_topics)\n",
        "    ```\n",
        "    If you want to save the resulting figure:\n",
        "    ```python\n",
        "    fig = topic_model.visualize_hierarchy()\n",
        "    fig.write_html(\"path/to/file.html\")\n",
        "    ```\n",
        "    <iframe src=\"../../getting_started/visualization/hierarchy.html\"\n",
        "    style=\"width:1000px; height: 680px; border: 0px;\"\"></iframe>\n",
        "    \"\"\"\n",
        "    if distance_function is None:\n",
        "        distance_function = lambda x: 1 - cosine_similarity(x)\n",
        "\n",
        "    if linkage_function is None:\n",
        "        linkage_function = lambda x: sch.linkage(x, 'ward', optimal_ordering=True)\n",
        "\n",
        "    # Select topics based on top_n and topics args\n",
        "    freq_df = prepare(topic_model, corpus, id2word)\n",
        "    # freq_df = freq_df.loc[freq_df.Topic != -1, :]\n",
        "    if topics is not None:\n",
        "        topics = list(topics)\n",
        "    elif top_n_topics is not None:\n",
        "        topics = sorted(freq_df.topics.to_list()[:top_n_topics])\n",
        "    else:\n",
        "        topics = sorted(freq_df.topics.to_list())\n",
        "\n",
        "    # Select embeddings\n",
        "    all_topics = sorted(list(freq_df.topics))\n",
        "    indices = np.array([all_topics.index(topic) for topic in topics])\n",
        "    embeddings = _extract_data(lda_model, corpus, id2word)['topic_term_dists'][indices]\n",
        "\n",
        "    # Annotations\n",
        "    if hierarchical_topics is not None and len(topics) == len(freq_df.topics.to_list()):\n",
        "        annotations = _get_annotations(topic_model=topic_model,\n",
        "                                       hierarchical_topics=hierarchical_topics,\n",
        "                                       embeddings=embeddings,\n",
        "                                       distance_function=distance_function,\n",
        "                                       linkage_function=linkage_function,\n",
        "                                       orientation=orientation,\n",
        "                                       custom_labels=custom_labels)\n",
        "    else:\n",
        "        annotations = None\n",
        "\n",
        "    # Create dendogram\n",
        "    fig = ff.create_dendrogram(embeddings,\n",
        "                               orientation=orientation,\n",
        "                               distfun=distance_function,\n",
        "                               linkagefun=linkage_function,\n",
        "                               hovertext=annotations,\n",
        "                               color_threshold=color_threshold)\n",
        "\n",
        "    # Create nicer labels\n",
        "    axis = \"yaxis\" if orientation == \"left\" else \"xaxis\"\n",
        "    # if topic_model.custom_labels_ is not None and custom_labels:\n",
        "    #     new_labels = [topic_model.custom_labels_[topics[int(x)] + topic_model._outliers] for x in fig.layout[axis][\"ticktext\"]]\n",
        "    # else:\n",
        "    new_labels = []\n",
        "    for x in fig.layout[axis][\"ticktext\"]:\n",
        "      topic_word = []\n",
        "      for i in topic_model.get_topic_terms(topics[int(x)],10):\n",
        "        topic_word.append(id2word.id2token[i[0]])\n",
        "      new_labels.append([str(topics[int(x)])] + topic_word)\n",
        "    # new_labels = [[[str(topics[int(x)]), None]] + topic_model.get_topic_terms(topics[int(x)])\n",
        "    #               for x in fig.layout[axis][\"ticktext\"]]\n",
        "    new_labels = [\"_\".join([label for label in labels[:5]]) for labels in new_labels]\n",
        "    new_labels = [label if len(label) < 30 else label[:27] + \"...\" for label in new_labels]\n",
        "\n",
        "    # Stylize layout\n",
        "    fig.update_layout(\n",
        "        plot_bgcolor='#ECEFF1',\n",
        "        template=\"plotly_white\",\n",
        "        title={\n",
        "            'text': \"<b>Hierarchical Clustering\",\n",
        "            'x': 0.5,\n",
        "            'xanchor': 'center',\n",
        "            'yanchor': 'top',\n",
        "            'font': dict(\n",
        "                size=22,\n",
        "                color=\"Black\")\n",
        "        },\n",
        "        hoverlabel=dict(\n",
        "            bgcolor=\"white\",\n",
        "            font_size=16,\n",
        "            font_family=\"Rockwell\"\n",
        "        ),\n",
        "    )\n",
        "\n",
        "    # Stylize orientation\n",
        "    if orientation == \"left\":\n",
        "        fig.update_layout(height=200 + (15 * len(topics)),\n",
        "                          width=width,\n",
        "                          yaxis=dict(tickmode=\"array\",\n",
        "                                     ticktext=new_labels))\n",
        "\n",
        "        # Fix empty space on the bottom of the graph\n",
        "        y_max = max([trace['y'].max() + 5 for trace in fig['data']])\n",
        "        y_min = min([trace['y'].min() - 5 for trace in fig['data']])\n",
        "        fig.update_layout(yaxis=dict(range=[y_min, y_max]))\n",
        "\n",
        "    else:\n",
        "        fig.update_layout(width=200 + (15 * len(topics)),\n",
        "                          height=height,\n",
        "                          xaxis=dict(tickmode=\"array\",\n",
        "                                     ticktext=new_labels))\n",
        "\n",
        "    if hierarchical_topics is not None:\n",
        "        for index in [0, 3]:\n",
        "            axis = \"x\" if orientation == \"left\" else \"y\"\n",
        "            xs = [data[\"x\"][index] for data in fig.data if (data[\"text\"] and data[axis][index] > 0)]\n",
        "            ys = [data[\"y\"][index] for data in fig.data if (data[\"text\"] and data[axis][index] > 0)]\n",
        "            hovertext = [data[\"text\"][index] for data in fig.data if (data[\"text\"] and data[axis][index] > 0)]\n",
        "\n",
        "            fig.add_trace(go.Scatter(x=xs, y=ys, marker_color='black',\n",
        "                                     hovertext=hovertext, hoverinfo=\"text\",\n",
        "                                     mode='markers', showlegend=False))\n",
        "    return fig"
      ],
      "metadata": {
        "id": "vwp4IYrFaHmS"
      },
      "execution_count": null,
      "outputs": []
    },
    {
      "cell_type": "markdown",
      "source": [
        "### Result"
      ],
      "metadata": {
        "id": "-z6UBcvBuQ6p"
      }
    },
    {
      "cell_type": "code",
      "source": [
        "visualize_hierarchy(lda_model)"
      ],
      "metadata": {
        "colab": {
          "base_uri": "https://localhost:8080/",
          "height": 704
        },
        "id": "2ofj1p6vlzwm",
        "outputId": "0f689afd-2bf6-422d-cfcf-4c3552a84ed9"
      },
      "execution_count": null,
      "outputs": [
        {
          "output_type": "stream",
          "name": "stderr",
          "text": [
            "/usr/local/lib/python3.7/dist-packages/ipykernel_launcher.py:248: FutureWarning:\n",
            "\n",
            "In a future version of pandas all arguments of DataFrame.drop except for the argument 'labels' will be keyword-only\n",
            "\n",
            "/usr/local/lib/python3.7/dist-packages/plotly/figure_factory/_dendrogram.py:350: DeprecationWarning:\n",
            "\n",
            "scipy.array is deprecated and will be removed in SciPy 2.0.0, use numpy.array instead\n",
            "\n",
            "/usr/local/lib/python3.7/dist-packages/plotly/figure_factory/_dendrogram.py:351: DeprecationWarning:\n",
            "\n",
            "scipy.array is deprecated and will be removed in SciPy 2.0.0, use numpy.array instead\n",
            "\n",
            "/usr/local/lib/python3.7/dist-packages/plotly/figure_factory/_dendrogram.py:352: DeprecationWarning:\n",
            "\n",
            "scipy.array is deprecated and will be removed in SciPy 2.0.0, use numpy.array instead\n",
            "\n",
            "/usr/local/lib/python3.7/dist-packages/plotly/figure_factory/_dendrogram.py:353: DeprecationWarning:\n",
            "\n",
            "scipy.array is deprecated and will be removed in SciPy 2.0.0, use numpy.array instead\n",
            "\n"
          ]
        },
        {
          "output_type": "display_data",
          "data": {
            "text/html": [
              "<html>\n",
              "<head><meta charset=\"utf-8\" /></head>\n",
              "<body>\n",
              "    <div>            <script src=\"https://cdnjs.cloudflare.com/ajax/libs/mathjax/2.7.5/MathJax.js?config=TeX-AMS-MML_SVG\"></script><script type=\"text/javascript\">if (window.MathJax) {MathJax.Hub.Config({SVG: {font: \"STIX-Web\"}});}</script>                <script type=\"text/javascript\">window.PlotlyConfig = {MathJaxConfig: 'local'};</script>\n",
              "        <script src=\"https://cdn.plot.ly/plotly-2.8.3.min.js\"></script>                <div id=\"558e33fc-a004-4f07-8cb6-548f57c6f71b\" class=\"plotly-graph-div\" style=\"height:305px; width:1000px;\"></div>            <script type=\"text/javascript\">                                    window.PLOTLYENV=window.PLOTLYENV || {};                                    if (document.getElementById(\"558e33fc-a004-4f07-8cb6-548f57c6f71b\")) {                    Plotly.newPlot(                        \"558e33fc-a004-4f07-8cb6-548f57c6f71b\",                        [{\"hoverinfo\":\"text\",\"marker\":{\"color\":\"rgb(0,116,217)\"},\"mode\":\"lines\",\"x\":[0.0,1.1600101508544745,1.1600101508544745,0.0],\"xaxis\":\"x\",\"y\":[-5.0,-5.0,-15.0,-15.0],\"yaxis\":\"y\",\"type\":\"scatter\"},{\"hoverinfo\":\"text\",\"marker\":{\"color\":\"rgb(0,116,217)\"},\"mode\":\"lines\",\"x\":[1.1600101508544745,1.2021149483586975,1.2021149483586975,0.0],\"xaxis\":\"x\",\"y\":[-10.0,-10.0,-25.0,-25.0],\"yaxis\":\"y\",\"type\":\"scatter\"},{\"hoverinfo\":\"text\",\"marker\":{\"color\":\"rgb(0,116,217)\"},\"mode\":\"lines\",\"x\":[0.0,1.2405487170542175,1.2405487170542175,0.0],\"xaxis\":\"x\",\"y\":[-35.0,-35.0,-45.0,-45.0],\"yaxis\":\"y\",\"type\":\"scatter\"},{\"hoverinfo\":\"text\",\"marker\":{\"color\":\"rgb(0,116,217)\"},\"mode\":\"lines\",\"x\":[1.2405487170542175,1.2855312818829285,1.2855312818829285,0.0],\"xaxis\":\"x\",\"y\":[-40.0,-40.0,-55.0,-55.0],\"yaxis\":\"y\",\"type\":\"scatter\"},{\"hoverinfo\":\"text\",\"marker\":{\"color\":\"rgb(0,116,217)\"},\"mode\":\"lines\",\"x\":[1.2855312818829285,1.453707588290175,1.453707588290175,0.0],\"xaxis\":\"x\",\"y\":[-47.5,-47.5,-65.0,-65.0],\"yaxis\":\"y\",\"type\":\"scatter\"},{\"hoverinfo\":\"text\",\"marker\":{\"color\":\"rgb(0,116,217)\"},\"mode\":\"lines\",\"x\":[1.2021149483586975,1.53831434038926,1.53831434038926,1.453707588290175],\"xaxis\":\"x\",\"y\":[-17.5,-17.5,-56.25,-56.25],\"yaxis\":\"y\",\"type\":\"scatter\"}],                        {\"autosize\":false,\"height\":305,\"hovermode\":\"closest\",\"showlegend\":false,\"width\":1000,\"xaxis\":{\"mirror\":\"allticks\",\"rangemode\":\"tozero\",\"showgrid\":false,\"showline\":true,\"showticklabels\":true,\"ticks\":\"outside\",\"type\":\"linear\",\"zeroline\":false},\"yaxis\":{\"mirror\":\"allticks\",\"rangemode\":\"tozero\",\"showgrid\":false,\"showline\":true,\"showticklabels\":true,\"tickmode\":\"array\",\"ticks\":\"outside\",\"ticktext\":[\"1_please_said_enron_may\",\"2_enron_com_houston_employee\",\"0_company_enron_new_energy\",\"5_urlmasker_way_one_going\",\"4_would_know_need_time\",\"6_power_state_market_price\",\"3_san_understand_travel_vac...\"],\"tickvals\":[-5.0,-15.0,-25.0,-35.0,-45.0,-55.0,-65.0],\"type\":\"linear\",\"zeroline\":false,\"range\":[-70.0,0.0]},\"template\":{\"data\":{\"barpolar\":[{\"marker\":{\"line\":{\"color\":\"white\",\"width\":0.5},\"pattern\":{\"fillmode\":\"overlay\",\"size\":10,\"solidity\":0.2}},\"type\":\"barpolar\"}],\"bar\":[{\"error_x\":{\"color\":\"#2a3f5f\"},\"error_y\":{\"color\":\"#2a3f5f\"},\"marker\":{\"line\":{\"color\":\"white\",\"width\":0.5},\"pattern\":{\"fillmode\":\"overlay\",\"size\":10,\"solidity\":0.2}},\"type\":\"bar\"}],\"carpet\":[{\"aaxis\":{\"endlinecolor\":\"#2a3f5f\",\"gridcolor\":\"#C8D4E3\",\"linecolor\":\"#C8D4E3\",\"minorgridcolor\":\"#C8D4E3\",\"startlinecolor\":\"#2a3f5f\"},\"baxis\":{\"endlinecolor\":\"#2a3f5f\",\"gridcolor\":\"#C8D4E3\",\"linecolor\":\"#C8D4E3\",\"minorgridcolor\":\"#C8D4E3\",\"startlinecolor\":\"#2a3f5f\"},\"type\":\"carpet\"}],\"choropleth\":[{\"colorbar\":{\"outlinewidth\":0,\"ticks\":\"\"},\"type\":\"choropleth\"}],\"contourcarpet\":[{\"colorbar\":{\"outlinewidth\":0,\"ticks\":\"\"},\"type\":\"contourcarpet\"}],\"contour\":[{\"colorbar\":{\"outlinewidth\":0,\"ticks\":\"\"},\"colorscale\":[[0.0,\"#0d0887\"],[0.1111111111111111,\"#46039f\"],[0.2222222222222222,\"#7201a8\"],[0.3333333333333333,\"#9c179e\"],[0.4444444444444444,\"#bd3786\"],[0.5555555555555556,\"#d8576b\"],[0.6666666666666666,\"#ed7953\"],[0.7777777777777778,\"#fb9f3a\"],[0.8888888888888888,\"#fdca26\"],[1.0,\"#f0f921\"]],\"type\":\"contour\"}],\"heatmapgl\":[{\"colorbar\":{\"outlinewidth\":0,\"ticks\":\"\"},\"colorscale\":[[0.0,\"#0d0887\"],[0.1111111111111111,\"#46039f\"],[0.2222222222222222,\"#7201a8\"],[0.3333333333333333,\"#9c179e\"],[0.4444444444444444,\"#bd3786\"],[0.5555555555555556,\"#d8576b\"],[0.6666666666666666,\"#ed7953\"],[0.7777777777777778,\"#fb9f3a\"],[0.8888888888888888,\"#fdca26\"],[1.0,\"#f0f921\"]],\"type\":\"heatmapgl\"}],\"heatmap\":[{\"colorbar\":{\"outlinewidth\":0,\"ticks\":\"\"},\"colorscale\":[[0.0,\"#0d0887\"],[0.1111111111111111,\"#46039f\"],[0.2222222222222222,\"#7201a8\"],[0.3333333333333333,\"#9c179e\"],[0.4444444444444444,\"#bd3786\"],[0.5555555555555556,\"#d8576b\"],[0.6666666666666666,\"#ed7953\"],[0.7777777777777778,\"#fb9f3a\"],[0.8888888888888888,\"#fdca26\"],[1.0,\"#f0f921\"]],\"type\":\"heatmap\"}],\"histogram2dcontour\":[{\"colorbar\":{\"outlinewidth\":0,\"ticks\":\"\"},\"colorscale\":[[0.0,\"#0d0887\"],[0.1111111111111111,\"#46039f\"],[0.2222222222222222,\"#7201a8\"],[0.3333333333333333,\"#9c179e\"],[0.4444444444444444,\"#bd3786\"],[0.5555555555555556,\"#d8576b\"],[0.6666666666666666,\"#ed7953\"],[0.7777777777777778,\"#fb9f3a\"],[0.8888888888888888,\"#fdca26\"],[1.0,\"#f0f921\"]],\"type\":\"histogram2dcontour\"}],\"histogram2d\":[{\"colorbar\":{\"outlinewidth\":0,\"ticks\":\"\"},\"colorscale\":[[0.0,\"#0d0887\"],[0.1111111111111111,\"#46039f\"],[0.2222222222222222,\"#7201a8\"],[0.3333333333333333,\"#9c179e\"],[0.4444444444444444,\"#bd3786\"],[0.5555555555555556,\"#d8576b\"],[0.6666666666666666,\"#ed7953\"],[0.7777777777777778,\"#fb9f3a\"],[0.8888888888888888,\"#fdca26\"],[1.0,\"#f0f921\"]],\"type\":\"histogram2d\"}],\"histogram\":[{\"marker\":{\"pattern\":{\"fillmode\":\"overlay\",\"size\":10,\"solidity\":0.2}},\"type\":\"histogram\"}],\"mesh3d\":[{\"colorbar\":{\"outlinewidth\":0,\"ticks\":\"\"},\"type\":\"mesh3d\"}],\"parcoords\":[{\"line\":{\"colorbar\":{\"outlinewidth\":0,\"ticks\":\"\"}},\"type\":\"parcoords\"}],\"pie\":[{\"automargin\":true,\"type\":\"pie\"}],\"scatter3d\":[{\"line\":{\"colorbar\":{\"outlinewidth\":0,\"ticks\":\"\"}},\"marker\":{\"colorbar\":{\"outlinewidth\":0,\"ticks\":\"\"}},\"type\":\"scatter3d\"}],\"scattercarpet\":[{\"marker\":{\"colorbar\":{\"outlinewidth\":0,\"ticks\":\"\"}},\"type\":\"scattercarpet\"}],\"scattergeo\":[{\"marker\":{\"colorbar\":{\"outlinewidth\":0,\"ticks\":\"\"}},\"type\":\"scattergeo\"}],\"scattergl\":[{\"marker\":{\"colorbar\":{\"outlinewidth\":0,\"ticks\":\"\"}},\"type\":\"scattergl\"}],\"scattermapbox\":[{\"marker\":{\"colorbar\":{\"outlinewidth\":0,\"ticks\":\"\"}},\"type\":\"scattermapbox\"}],\"scatterpolargl\":[{\"marker\":{\"colorbar\":{\"outlinewidth\":0,\"ticks\":\"\"}},\"type\":\"scatterpolargl\"}],\"scatterpolar\":[{\"marker\":{\"colorbar\":{\"outlinewidth\":0,\"ticks\":\"\"}},\"type\":\"scatterpolar\"}],\"scatter\":[{\"marker\":{\"colorbar\":{\"outlinewidth\":0,\"ticks\":\"\"}},\"type\":\"scatter\"}],\"scatterternary\":[{\"marker\":{\"colorbar\":{\"outlinewidth\":0,\"ticks\":\"\"}},\"type\":\"scatterternary\"}],\"surface\":[{\"colorbar\":{\"outlinewidth\":0,\"ticks\":\"\"},\"colorscale\":[[0.0,\"#0d0887\"],[0.1111111111111111,\"#46039f\"],[0.2222222222222222,\"#7201a8\"],[0.3333333333333333,\"#9c179e\"],[0.4444444444444444,\"#bd3786\"],[0.5555555555555556,\"#d8576b\"],[0.6666666666666666,\"#ed7953\"],[0.7777777777777778,\"#fb9f3a\"],[0.8888888888888888,\"#fdca26\"],[1.0,\"#f0f921\"]],\"type\":\"surface\"}],\"table\":[{\"cells\":{\"fill\":{\"color\":\"#EBF0F8\"},\"line\":{\"color\":\"white\"}},\"header\":{\"fill\":{\"color\":\"#C8D4E3\"},\"line\":{\"color\":\"white\"}},\"type\":\"table\"}]},\"layout\":{\"annotationdefaults\":{\"arrowcolor\":\"#2a3f5f\",\"arrowhead\":0,\"arrowwidth\":1},\"autotypenumbers\":\"strict\",\"coloraxis\":{\"colorbar\":{\"outlinewidth\":0,\"ticks\":\"\"}},\"colorscale\":{\"diverging\":[[0,\"#8e0152\"],[0.1,\"#c51b7d\"],[0.2,\"#de77ae\"],[0.3,\"#f1b6da\"],[0.4,\"#fde0ef\"],[0.5,\"#f7f7f7\"],[0.6,\"#e6f5d0\"],[0.7,\"#b8e186\"],[0.8,\"#7fbc41\"],[0.9,\"#4d9221\"],[1,\"#276419\"]],\"sequential\":[[0.0,\"#0d0887\"],[0.1111111111111111,\"#46039f\"],[0.2222222222222222,\"#7201a8\"],[0.3333333333333333,\"#9c179e\"],[0.4444444444444444,\"#bd3786\"],[0.5555555555555556,\"#d8576b\"],[0.6666666666666666,\"#ed7953\"],[0.7777777777777778,\"#fb9f3a\"],[0.8888888888888888,\"#fdca26\"],[1.0,\"#f0f921\"]],\"sequentialminus\":[[0.0,\"#0d0887\"],[0.1111111111111111,\"#46039f\"],[0.2222222222222222,\"#7201a8\"],[0.3333333333333333,\"#9c179e\"],[0.4444444444444444,\"#bd3786\"],[0.5555555555555556,\"#d8576b\"],[0.6666666666666666,\"#ed7953\"],[0.7777777777777778,\"#fb9f3a\"],[0.8888888888888888,\"#fdca26\"],[1.0,\"#f0f921\"]]},\"colorway\":[\"#636efa\",\"#EF553B\",\"#00cc96\",\"#ab63fa\",\"#FFA15A\",\"#19d3f3\",\"#FF6692\",\"#B6E880\",\"#FF97FF\",\"#FECB52\"],\"font\":{\"color\":\"#2a3f5f\"},\"geo\":{\"bgcolor\":\"white\",\"lakecolor\":\"white\",\"landcolor\":\"white\",\"showlakes\":true,\"showland\":true,\"subunitcolor\":\"#C8D4E3\"},\"hoverlabel\":{\"align\":\"left\"},\"hovermode\":\"closest\",\"mapbox\":{\"style\":\"light\"},\"paper_bgcolor\":\"white\",\"plot_bgcolor\":\"white\",\"polar\":{\"angularaxis\":{\"gridcolor\":\"#EBF0F8\",\"linecolor\":\"#EBF0F8\",\"ticks\":\"\"},\"bgcolor\":\"white\",\"radialaxis\":{\"gridcolor\":\"#EBF0F8\",\"linecolor\":\"#EBF0F8\",\"ticks\":\"\"}},\"scene\":{\"xaxis\":{\"backgroundcolor\":\"white\",\"gridcolor\":\"#DFE8F3\",\"gridwidth\":2,\"linecolor\":\"#EBF0F8\",\"showbackground\":true,\"ticks\":\"\",\"zerolinecolor\":\"#EBF0F8\"},\"yaxis\":{\"backgroundcolor\":\"white\",\"gridcolor\":\"#DFE8F3\",\"gridwidth\":2,\"linecolor\":\"#EBF0F8\",\"showbackground\":true,\"ticks\":\"\",\"zerolinecolor\":\"#EBF0F8\"},\"zaxis\":{\"backgroundcolor\":\"white\",\"gridcolor\":\"#DFE8F3\",\"gridwidth\":2,\"linecolor\":\"#EBF0F8\",\"showbackground\":true,\"ticks\":\"\",\"zerolinecolor\":\"#EBF0F8\"}},\"shapedefaults\":{\"line\":{\"color\":\"#2a3f5f\"}},\"ternary\":{\"aaxis\":{\"gridcolor\":\"#DFE8F3\",\"linecolor\":\"#A2B1C6\",\"ticks\":\"\"},\"baxis\":{\"gridcolor\":\"#DFE8F3\",\"linecolor\":\"#A2B1C6\",\"ticks\":\"\"},\"bgcolor\":\"white\",\"caxis\":{\"gridcolor\":\"#DFE8F3\",\"linecolor\":\"#A2B1C6\",\"ticks\":\"\"}},\"title\":{\"x\":0.05},\"xaxis\":{\"automargin\":true,\"gridcolor\":\"#EBF0F8\",\"linecolor\":\"#EBF0F8\",\"ticks\":\"\",\"title\":{\"standoff\":15},\"zerolinecolor\":\"#EBF0F8\",\"zerolinewidth\":2},\"yaxis\":{\"automargin\":true,\"gridcolor\":\"#EBF0F8\",\"linecolor\":\"#EBF0F8\",\"ticks\":\"\",\"title\":{\"standoff\":15},\"zerolinecolor\":\"#EBF0F8\",\"zerolinewidth\":2}}},\"title\":{\"font\":{\"size\":22,\"color\":\"Black\"},\"text\":\"<b>Hierarchical Clustering\",\"x\":0.5,\"xanchor\":\"center\",\"yanchor\":\"top\"},\"hoverlabel\":{\"font\":{\"size\":16,\"family\":\"Rockwell\"},\"bgcolor\":\"white\"},\"plot_bgcolor\":\"#ECEFF1\"},                        {\"responsive\": true}                    ).then(function(){\n",
              "                            \n",
              "var gd = document.getElementById('558e33fc-a004-4f07-8cb6-548f57c6f71b');\n",
              "var x = new MutationObserver(function (mutations, observer) {{\n",
              "        var display = window.getComputedStyle(gd).display;\n",
              "        if (!display || display === 'none') {{\n",
              "            console.log([gd, 'removed!']);\n",
              "            Plotly.purge(gd);\n",
              "            observer.disconnect();\n",
              "        }}\n",
              "}});\n",
              "\n",
              "// Listen for the removal of the full notebook cells\n",
              "var notebookContainer = gd.closest('#notebook-container');\n",
              "if (notebookContainer) {{\n",
              "    x.observe(notebookContainer, {childList: true});\n",
              "}}\n",
              "\n",
              "// Listen for the clearing of the current output cell\n",
              "var outputEl = gd.closest('.output');\n",
              "if (outputEl) {{\n",
              "    x.observe(outputEl, {childList: true});\n",
              "}}\n",
              "\n",
              "                        })                };                            </script>        </div>\n",
              "</body>\n",
              "</html>"
            ]
          },
          "metadata": {}
        }
      ]
    }
  ]
}